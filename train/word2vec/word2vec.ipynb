{
 "cells": [
  {
   "cell_type": "markdown",
   "metadata": {},
   "source": [
    "# Word2vec + Logic Regression"
   ]
  },
  {
   "cell_type": "code",
   "execution_count": 1,
   "metadata": {},
   "outputs": [],
   "source": [
    "import pandas as pd\n",
    "import warnings\n",
    "warnings.filterwarnings(\"ignore\")\n",
    "import os\n",
    "import datetime\n",
    "import sys\n",
    "import numpy as np\n",
    "\n",
    "sys.path.append('../')\n",
    "from TrainSettings import TrainSettings\n",
    "from tqdm import tqdm\n",
    "import swifter\n",
    "\n",
    "import torch\n",
    "import torch.nn as nn\n",
    "import torch.optim as optim\n",
    "\n",
    "import json"
   ]
  },
  {
   "cell_type": "code",
   "execution_count": 2,
   "metadata": {},
   "outputs": [],
   "source": [
    "settings = TrainSettings()\n",
    "datasets_path = \"../../datasets/\"\n",
    "\n",
    "tqdm.pandas()"
   ]
  },
  {
   "cell_type": "markdown",
   "metadata": {},
   "source": [
    "## Подготовка данных"
   ]
  },
  {
   "cell_type": "code",
   "execution_count": 3,
   "metadata": {},
   "outputs": [],
   "source": [
    "train_file = datasets_path + settings.settings['all']['DATASET_NAME'] + \"/\" + settings.settings['all']['LANG'] + \"/prep/\" + 'train' + \"_\" + settings.settings['all']['LANG'] + \".csv\"\n",
    "test_file = datasets_path + settings.settings['all']['DATASET_NAME'] + \"/\" + settings.settings['all']['LANG'] + \"/prep/\" + 'test' + \"_\" + settings.settings['all']['LANG'] + \".csv\"\n",
    "\n",
    "df_train = pd.read_csv(train_file, sep='\\t', on_bad_lines='warn')\n",
    "df_test = pd.read_csv(test_file, sep='\\t', on_bad_lines='warn')"
   ]
  },
  {
   "cell_type": "markdown",
   "metadata": {},
   "source": [
    "### Объеденяем поля с текстом"
   ]
  },
  {
   "cell_type": "code",
   "execution_count": 4,
   "metadata": {},
   "outputs": [],
   "source": [
    "df_train['text'] = (df_train['title'] if settings.settings['all']['DATASET_USE_TITLE'] else '') \\\n",
    "                 + df_train['body'] \\\n",
    "                 + (df_train['keywords'] if settings.settings['all']['DATASET_USE_KEYWORDS'] else '')\n",
    "\n",
    "df_test['text'] = (df_test['title'] + ' ' if settings.settings['all']['DATASET_USE_TITLE'] else '') \\\n",
    "                + df_test['body'] \\\n",
    "                + (' ' + df_test['keywords'] if settings.settings['all']['DATASET_USE_KEYWORDS'] else '')"
   ]
  },
  {
   "cell_type": "markdown",
   "metadata": {},
   "source": [
    "### Удаляем невалидные данные"
   ]
  },
  {
   "cell_type": "code",
   "execution_count": 5,
   "metadata": {},
   "outputs": [],
   "source": [
    "df_train = df_train[df_train['correct'] == '###']\n",
    "\n",
    "df_test = df_test[df_test['correct'] == '###']"
   ]
  },
  {
   "cell_type": "markdown",
   "metadata": {},
   "source": [
    "### Удаляем лишние столбцы"
   ]
  },
  {
   "cell_type": "code",
   "execution_count": 6,
   "metadata": {},
   "outputs": [],
   "source": [
    "df_train = df_train.drop(\"title\", axis=1)\n",
    "df_train = df_train.drop(\"body\", axis=1)\n",
    "df_train = df_train.drop(\"keywords\", axis=1)\n",
    "df_train = df_train.drop(\"correct\", axis=1)\n",
    "\n",
    "df_test = df_test.drop(\"title\", axis=1)\n",
    "df_test = df_test.drop(\"body\", axis=1)\n",
    "df_test = df_test.drop(\"keywords\", axis=1)\n",
    "df_test = df_test.drop(\"correct\", axis=1)\n",
    "\n",
    "df_train['RGNTI'] = df_train[settings.settings['all']['LEVEL']].str.split('\\\\', n=1, expand=True)[0]\n",
    "df_test['RGNTI'] = df_test[settings.settings['all']['LEVEL']].str.split('\\\\', n=1, expand=True)[0]\n",
    "\n",
    "df_train = df_train.drop(\"RGNTI1\", axis=1)\n",
    "df_train = df_train.drop(\"RGNTI2\", axis=1)\n",
    "df_train = df_train.drop(\"RGNTI3\", axis=1)\n",
    "df_train = df_train.dropna().drop_duplicates()\n",
    "\n",
    "df_test = df_test.drop(\"RGNTI1\", axis=1)\n",
    "df_test = df_test.drop(\"RGNTI2\", axis=1)\n",
    "df_test = df_test.drop(\"RGNTI3\", axis=1)\n",
    "df_test = df_test.dropna().drop_duplicates()"
   ]
  },
  {
   "cell_type": "markdown",
   "metadata": {},
   "source": [
    "### Статистика"
   ]
  },
  {
   "cell_type": "code",
   "execution_count": 7,
   "metadata": {},
   "outputs": [
    {
     "name": "stdout",
     "output_type": "stream",
     "text": [
      "RGNTI\n",
      "00       50\n",
      "06     7817\n",
      "12      196\n",
      "15     2318\n",
      "19      358\n",
      "20     2672\n",
      "27     5931\n",
      "28     4174\n",
      "29    34415\n",
      "30     6562\n",
      "31    26132\n",
      "34    43257\n",
      "36     2185\n",
      "37     4114\n",
      "38    10195\n",
      "39     4657\n",
      "41     5639\n",
      "44    11323\n",
      "45     4403\n",
      "47     8058\n",
      "49     3702\n",
      "50     5213\n",
      "52     7695\n",
      "53    10104\n",
      "55    16009\n",
      "58        4\n",
      "59        5\n",
      "60     1251\n",
      "61    18935\n",
      "62      379\n",
      "64     1203\n",
      "65     2477\n",
      "66      493\n",
      "67      357\n",
      "68     3091\n",
      "69      144\n",
      "70     3312\n",
      "73     9182\n",
      "75      306\n",
      "76     4033\n",
      "81     5597\n",
      "82     2189\n",
      "86       27\n",
      "87     6463\n",
      "89     1727\n",
      "90     1897\n",
      "dtype: int64\n"
     ]
    },
    {
     "data": {
      "text/plain": [
       "<Axes: xlabel='RGNTI'>"
      ]
     },
     "execution_count": 7,
     "metadata": {},
     "output_type": "execute_result"
    },
    {
     "data": {
      "image/png": "[encoded data removed]",
      "text/plain": [
       "<Figure size 640x480 with 1 Axes>"
      ]
     },
     "metadata": {},
     "output_type": "display_data"
    }
   ],
   "source": [
    "print(df_train.groupby('RGNTI').size())\n",
    " \n",
    "# Plotting the bar chart\n",
    "%matplotlib inline\n",
    "df_train.groupby('RGNTI').size().plot(kind='bar')"
   ]
  },
  {
   "cell_type": "markdown",
   "metadata": {},
   "source": [
    "### Удаляем лишиние тексты, чтобы избежать переобучения"
   ]
  },
  {
   "cell_type": "code",
   "execution_count": 8,
   "metadata": {},
   "outputs": [
    {
     "name": "stdout",
     "output_type": "stream",
     "text": [
      "{'00': 50, '06': 7817, '12': 196, '15': 2318, '19': 358, '20': 2672, '27': 5931, '28': 4174, '29': 34415, '30': 6562, '31': 26132, '34': 43257, '36': 2185, '37': 4114, '38': 10195, '39': 4657, '41': 5639, '44': 11323, '45': 4403, '47': 8058, '49': 3702, '50': 5213, '52': 7695, '53': 10104, '55': 16009, '58': 4, '59': 5, '60': 1251, '61': 18935, '62': 379, '64': 1203, '65': 2477, '66': 493, '67': 357, '68': 3091, '69': 144, '70': 3312, '73': 9182, '75': 306, '76': 4033, '81': 5597, '82': 2189, '86': 27, '87': 6463, '89': 1727, '90': 1897}\n",
      "['29', '31', '34', '55', '61']\n"
     ]
    }
   ],
   "source": [
    "a = df_train.groupby('RGNTI').size().to_dict()\n",
    "print(a)\n",
    "t = []\n",
    "for i in a:\n",
    "  if a[i] > 15000:\n",
    "    t.append(i)\n",
    "print(t)"
   ]
  },
  {
   "cell_type": "code",
   "execution_count": 9,
   "metadata": {},
   "outputs": [
    {
     "name": "stdout",
     "output_type": "stream",
     "text": [
      "(290251, 3)\n",
      "(270836, 3)\n",
      "(270836, 3)\n",
      "(259704, 3)\n",
      "(259704, 3)\n",
      "(231447, 3)\n",
      "(231447, 3)\n",
      "(230438, 3)\n",
      "(230438, 3)\n",
      "(226503, 3)\n"
     ]
    }
   ],
   "source": [
    "for i in t:\n",
    "  print(df_train.shape)\n",
    "  ids = df_train.index[df_train['RGNTI'] == i].tolist()\n",
    "  ids = ids[15000:]\n",
    "  df_train = df_train.drop(ids)\n",
    "  print(df_train.shape)"
   ]
  },
  {
   "cell_type": "markdown",
   "metadata": {},
   "source": [
    "### Убираем тексты, в которых меньше текстов, чем задано в настройках"
   ]
  },
  {
   "cell_type": "code",
   "execution_count": 10,
   "metadata": {},
   "outputs": [],
   "source": [
    "df_train = df_train.groupby('RGNTI').filter(lambda x: len(x) > settings.settings['all']['MIN_TEXTS']['RGNTI1'])"
   ]
  },
  {
   "cell_type": "markdown",
   "metadata": {},
   "source": [
    "### Проведем токенезацию, лемматизацию и удалим стоп слова"
   ]
  },
  {
   "cell_type": "code",
   "execution_count": 11,
   "metadata": {},
   "outputs": [
    {
     "name": "stderr",
     "output_type": "stream",
     "text": [
      "bar description: 100%|██████████| 174779/174779 [00:01<00:00, 149621.38it/s]\n"
     ]
    }
   ],
   "source": [
    "df_train['text'] = df_train['text'].astype(str).swifter.progress_bar(enable=True, desc='bar description').apply(lambda x: x.split())"
   ]
  },
  {
   "cell_type": "code",
   "execution_count": 12,
   "metadata": {},
   "outputs": [
    {
     "data": {
      "text/html": [
       "<div>\n",
       "<style scoped>\n",
       "    .dataframe tbody tr th:only-of-type {\n",
       "        vertical-align: middle;\n",
       "    }\n",
       "\n",
       "    .dataframe tbody tr th {\n",
       "        vertical-align: top;\n",
       "    }\n",
       "\n",
       "    .dataframe thead th {\n",
       "        text-align: right;\n",
       "    }\n",
       "</style>\n",
       "<table border=\"1\" class=\"dataframe\">\n",
       "  <thead>\n",
       "    <tr style=\"text-align: right;\">\n",
       "      <th></th>\n",
       "      <th>id</th>\n",
       "      <th>text</th>\n",
       "      <th>RGNTI</th>\n",
       "    </tr>\n",
       "  </thead>\n",
       "  <tbody>\n",
       "    <tr>\n",
       "      <th>0</th>\n",
       "      <td>19.06-73.269</td>\n",
       "      <td>[некоторый, аспект, изменение, степной, ландша...</td>\n",
       "      <td>87</td>\n",
       "    </tr>\n",
       "    <tr>\n",
       "      <th>1</th>\n",
       "      <td>19.01-24А.85</td>\n",
       "      <td>[подход, повышение, точность, определение, хар...</td>\n",
       "      <td>47</td>\n",
       "    </tr>\n",
       "    <tr>\n",
       "      <th>2</th>\n",
       "      <td>19.06-66.105</td>\n",
       "      <td>[микроскопический, моделирование, фазовый, пол...</td>\n",
       "      <td>53</td>\n",
       "    </tr>\n",
       "    <tr>\n",
       "      <th>3</th>\n",
       "      <td>19.06-14Б.10</td>\n",
       "      <td>[модель, и, методика, автоматизация, процедура...</td>\n",
       "      <td>55</td>\n",
       "    </tr>\n",
       "    <tr>\n",
       "      <th>4</th>\n",
       "      <td>19.10-19Ж.456</td>\n",
       "      <td>[трехкомпонентный, реакция, кастагноли-кушмана...</td>\n",
       "      <td>31</td>\n",
       "    </tr>\n",
       "  </tbody>\n",
       "</table>\n",
       "</div>"
      ],
      "text/plain": [
       "              id                                               text RGNTI\n",
       "0   19.06-73.269  [некоторый, аспект, изменение, степной, ландша...    87\n",
       "1   19.01-24А.85  [подход, повышение, точность, определение, хар...    47\n",
       "2   19.06-66.105  [микроскопический, моделирование, фазовый, пол...    53\n",
       "3   19.06-14Б.10  [модель, и, методика, автоматизация, процедура...    55\n",
       "4  19.10-19Ж.456  [трехкомпонентный, реакция, кастагноли-кушмана...    31"
      ]
     },
     "execution_count": 12,
     "metadata": {},
     "output_type": "execute_result"
    }
   ],
   "source": [
    "df_train.head()"
   ]
  },
  {
   "cell_type": "markdown",
   "metadata": {},
   "source": [
    "### Подготовим конвертацию класса в число и обратно."
   ]
  },
  {
   "cell_type": "code",
   "execution_count": 13,
   "metadata": {},
   "outputs": [],
   "source": [
    "compYtoRGNTI_ = set(df_train['RGNTI'].to_list())\n",
    "compYtoRGNTI = {}\n",
    "n = 0\n",
    "for i in compYtoRGNTI_:\n",
    "  compYtoRGNTI[n] = i\n",
    "  n += 1\n",
    "\n",
    "compRGNTItoY = dict((v,k) for k,v in compYtoRGNTI.items())"
   ]
  },
  {
   "cell_type": "markdown",
   "metadata": {},
   "source": [
    "## Word2Vec"
   ]
  },
  {
   "cell_type": "markdown",
   "metadata": {},
   "source": [
    "### Векторизация"
   ]
  },
  {
   "cell_type": "code",
   "execution_count": 13,
   "metadata": {},
   "outputs": [],
   "source": [
    "from gensim.models import Word2Vec\n",
    "\n",
    "w2v_model = Word2Vec(\n",
    "    min_count=10,\n",
    "    window=2,\n",
    "    vector_size=300,\n",
    "    negative=10,\n",
    "    alpha=0.03,\n",
    "    min_alpha=0.0007,\n",
    "    sample=6e-5,\n",
    "    sg=1,\n",
    "    workers=16)"
   ]
  },
  {
   "cell_type": "code",
   "execution_count": 14,
   "metadata": {},
   "outputs": [],
   "source": [
    "w2v_model.build_vocab(df_train['text'])"
   ]
  },
  {
   "cell_type": "code",
   "execution_count": 15,
   "metadata": {},
   "outputs": [
    {
     "name": "stdout",
     "output_type": "stream",
     "text": [
      "не удалось открыть файл\n"
     ]
    }
   ],
   "source": [
    "try:\n",
    "  w2v_model = Word2Vec.load('test.model')\n",
    "except IOError as e:\n",
    "  print(u'не удалось открыть файл')\n",
    "  w2v_model.train(df_train['text'].to_list(), total_examples=w2v_model.corpus_count, epochs=30, report_delay=1)\n",
    "  w2v_model.save('test.model')"
   ]
  },
  {
   "cell_type": "code",
   "execution_count": 16,
   "metadata": {},
   "outputs": [
    {
     "name": "stderr",
     "output_type": "stream",
     "text": [
      "100%|██████████| 168928/168928 [00:12<00:00, 13370.65it/s]\n"
     ]
    }
   ],
   "source": [
    "def vectorize(words):\n",
    "    words_vecs = [w2v_model.wv[word] for word in words if word in w2v_model.wv]\n",
    "    if len(words_vecs) == 0:\n",
    "        return np.zeros(100)\n",
    "    words_vecs = np.array(words_vecs)\n",
    "    return words_vecs.mean(axis=0)\n",
    "\n",
    "X_train = np.array([vectorize(sentence) for sentence in tqdm(df_train['text'])])"
   ]
  },
  {
   "cell_type": "code",
   "execution_count": 17,
   "metadata": {},
   "outputs": [
    {
     "name": "stderr",
     "output_type": "stream",
     "text": [
      "100%|██████████| 122024/122024 [01:09<00:00, 1750.77it/s]\n"
     ]
    }
   ],
   "source": [
    "compYtoRGNTI_ = set(df_train['RGNTI'].to_list())\n",
    "compYtoRGNTI = {}\n",
    "n = 0\n",
    "for i in compYtoRGNTI_:\n",
    "  compYtoRGNTI[n] = i\n",
    "  n += 1\n",
    "\n",
    "compRGNTItoY = dict((v,k) for k,v in compYtoRGNTI.items())\n",
    "df_test = df_test[df_test['RGNTI'].isin(compYtoRGNTI_)]\n",
    "\n",
    "X_test = np.array([vectorize(sentence) for sentence in tqdm(df_test['text'])])\n",
    "y_train = df_train['RGNTI'].apply(lambda x: compRGNTItoY[x])\n",
    "y_test = df_test['RGNTI'].apply(lambda x: compRGNTItoY[x])"
   ]
  },
  {
   "cell_type": "markdown",
   "metadata": {},
   "source": [
    "### LogisticRegression"
   ]
  },
  {
   "cell_type": "code",
   "execution_count": 29,
   "metadata": {},
   "outputs": [],
   "source": [
    "from sklearn.linear_model import LogisticRegression\n",
    "from sklearn.metrics import classification_report\n",
    "\n",
    "model = LogisticRegression()\n",
    "model.fit(X_train, y_train)\n",
    "\n",
    "y_pred = model.predict(X_train)\n",
    "report = classification_report(y_train, y_pred, output_dict=True)\n",
    "with open(\"LR\", \"w\") as outfile:\n",
    "  s = json.dumps(report, indent=2, sort_keys=False)\n",
    "  outfile.write(s)"
   ]
  },
  {
   "cell_type": "code",
   "execution_count": 19,
   "metadata": {},
   "outputs": [
    {
     "name": "stdout",
     "output_type": "stream",
     "text": [
      "              precision    recall  f1-score   support\n",
      "\n",
      "           0       1.00      0.01      0.01      3363\n",
      "           1       0.00      0.00      0.00      3223\n",
      "           2       0.00      0.00      0.00      4525\n",
      "           3       0.00      0.00      0.00      5601\n",
      "           4       0.20      1.00      0.34     24612\n",
      "           5       0.00      0.00      0.00      2981\n",
      "           6       0.00      0.00      0.00      8985\n",
      "           7       0.00      0.00      0.00      9777\n",
      "           8       0.00      0.00      0.00      4400\n",
      "           9       0.00      0.00      0.00     14814\n",
      "          10       0.00      0.00      0.00      6502\n",
      "          11       0.00      0.00      0.00      4252\n",
      "          12       0.00      0.00      0.00      3532\n",
      "          13       0.00      0.00      0.00     10741\n",
      "          14       0.00      0.00      0.00      5820\n",
      "          15       0.00      0.00      0.00      3725\n",
      "          16       0.00      0.00      0.00      5171\n",
      "\n",
      "    accuracy                           0.20    122024\n",
      "   macro avg       0.07      0.06      0.02    122024\n",
      "weighted avg       0.07      0.20      0.07    122024\n",
      "\n"
     ]
    }
   ],
   "source": [
    "y_pred = model.predict(X_test)\n",
    "print(classification_report(y_test, y_pred))"
   ]
  },
  {
   "cell_type": "markdown",
   "metadata": {},
   "source": [
    "## make_classification"
   ]
  },
  {
   "cell_type": "code",
   "execution_count": 20,
   "metadata": {},
   "outputs": [],
   "source": [
    "from sklearn.datasets import make_classification"
   ]
  },
  {
   "cell_type": "code",
   "execution_count": 21,
   "metadata": {},
   "outputs": [
    {
     "name": "stdout",
     "output_type": "stream",
     "text": [
      "RGNTI\n",
      "06     7815\n",
      "27     5930\n",
      "29    15000\n",
      "30     6563\n",
      "31    15000\n",
      "34    15000\n",
      "38    10192\n",
      "44    11292\n",
      "47     8044\n",
      "50     5177\n",
      "52     7647\n",
      "53    10082\n",
      "55    15000\n",
      "61    15000\n",
      "73     9136\n",
      "81     5593\n",
      "87     6457\n",
      "dtype: int64\n"
     ]
    },
    {
     "data": {
      "text/plain": [
       "<Axes: xlabel='RGNTI'>"
      ]
     },
     "execution_count": 21,
     "metadata": {},
     "output_type": "execute_result"
    },
    {
     "data": {
      "image/png": "[encoded data removed]",
      "text/plain": [
       "<Figure size 640x480 with 1 Axes>"
      ]
     },
     "metadata": {},
     "output_type": "display_data"
    }
   ],
   "source": [
    "print(df_train.groupby('RGNTI').size())\n",
    " \n",
    "# Plotting the bar chart\n",
    "%matplotlib inline\n",
    "df_train.groupby('RGNTI').size().plot(kind='bar')"
   ]
  },
  {
   "cell_type": "code",
   "execution_count": 34,
   "metadata": {},
   "outputs": [
    {
     "data": {
      "text/plain": [
       "array([-0.3562949 , -0.35792848,  0.13880935,  0.79563594,  0.99232435,\n",
       "        0.0448926 ,  0.01920044,  0.7500043 , -0.61313814,  0.11589482,\n",
       "       -0.05742182,  0.19985412,  0.05389038,  0.25011584, -0.16964814,\n",
       "       -0.21106064,  0.39442548, -0.59551316, -0.4343899 ,  0.20625256,\n",
       "       -0.9382189 , -0.82432055, -0.00989888, -0.23810421,  0.95218146,\n",
       "        0.8681721 , -0.02898183, -0.2644287 , -0.4448449 , -0.6834768 ,\n",
       "        0.40666142, -0.15208934, -0.46611878,  0.11680568,  0.2921717 ,\n",
       "       -0.03274706,  0.3853908 , -0.75870204,  0.02614522, -0.10673977,\n",
       "       -0.18806624, -0.25950885,  0.21803173, -0.27091077,  0.05465139,\n",
       "       -0.09172762, -0.36046147,  0.3676333 ,  0.01768082,  0.23939651,\n",
       "       -0.22204673, -0.26993912, -0.14429098,  0.44650477,  0.7198802 ,\n",
       "        0.10967705,  0.01734681, -0.05369901, -0.11511034, -0.24470901,\n",
       "        0.15967582, -0.09406238, -0.20866245, -0.3059815 , -0.00327304,\n",
       "        0.14416584,  0.06395297, -0.59018755, -0.42451182, -0.25753713,\n",
       "        0.17332976, -0.00857681, -0.14581174, -0.09182514,  0.231278  ,\n",
       "       -0.47316295, -0.05662597, -0.09856284, -0.24789554, -0.02088363,\n",
       "        0.42166758,  0.03189735,  0.03399887,  0.3956381 ,  0.37800664,\n",
       "       -0.7625526 , -0.1978967 ,  0.38946494, -0.40069127, -0.18805745,\n",
       "       -0.4914005 , -0.21700299, -0.02265125,  0.10110111,  0.38807714,\n",
       "       -0.5562206 , -0.03905183, -0.5028176 , -0.4069139 ,  0.83271956,\n",
       "       -0.15429513, -0.8537818 , -0.18993561, -0.45420438, -0.50091034,\n",
       "       -0.32237077, -0.20231323,  0.32208583, -0.2399755 , -1.0221387 ,\n",
       "       -0.32793164,  0.15142642,  0.48434308,  0.7033632 , -0.7362589 ,\n",
       "       -0.40257686, -0.36482587, -0.13214877, -0.37119904, -0.17453858,\n",
       "        0.19303516, -0.2435307 , -0.7212559 , -0.06530225,  0.699856  ,\n",
       "        0.11432462, -0.17505491, -0.42335668, -0.11639851, -0.7465519 ,\n",
       "       -0.2534286 ,  0.75793004,  0.26068985,  0.01883826, -0.2556863 ,\n",
       "       -0.08721711,  0.14225647, -0.36555627,  0.05370968,  0.50794595,\n",
       "       -0.35502023,  0.7986123 ,  0.32657075,  0.45585996,  0.67954606,\n",
       "        0.47326532, -0.2612682 , -0.10047608,  0.5263199 ,  0.01763389,\n",
       "        0.05081015,  0.05892572, -0.3095376 , -0.5552035 ,  0.17574656,\n",
       "        0.06454991, -0.57844234, -0.07465517, -0.00992323,  0.15542564,\n",
       "       -0.66668576,  0.16814299, -0.04935819,  0.2504625 , -0.24168308,\n",
       "       -0.11137148,  0.00225144,  0.42424217,  0.4927479 ,  0.09030015,\n",
       "       -0.11620662, -0.05889742, -0.45845982, -0.08618106, -0.4040538 ,\n",
       "        0.1562455 ,  0.27435932, -0.53964055,  0.26879454,  0.53155077,\n",
       "        0.04224773,  0.18393643, -0.5416415 , -0.1126406 ,  0.04824728,\n",
       "       -0.08493007,  0.29656273, -0.1762841 ,  0.12013398, -0.2706405 ,\n",
       "       -0.38136852, -0.25426796,  0.4574861 , -0.00865944, -0.06768317,\n",
       "       -0.09832315,  0.10837156, -0.10331718, -0.05301016, -0.18536548,\n",
       "        0.12243332,  0.3584835 ,  0.2598475 , -0.8768473 , -0.22526424,\n",
       "       -0.03784014, -0.06500943,  0.2811145 , -0.45299488,  0.05640943,\n",
       "       -0.28216434,  0.32403755,  0.1231908 , -0.15215158,  0.23827454,\n",
       "       -0.17870912,  0.5636368 , -0.06243969,  0.30245003,  0.19820364,\n",
       "        0.3611511 ,  0.6116095 ,  0.59111184,  0.10099187, -0.33926928,\n",
       "       -0.24263588, -0.02404132,  0.14793615, -0.03423993,  0.36215216,\n",
       "        0.5637981 ,  0.4437608 , -0.01714058,  0.07316796, -0.1786755 ,\n",
       "       -0.40015694, -0.26603854,  0.3225778 , -0.06347538, -0.32007182,\n",
       "       -0.42147034, -0.09370842,  0.20423417, -0.53709   , -0.2202057 ,\n",
       "       -0.23411614, -0.0062104 , -0.6750438 , -0.03877122,  0.61308384,\n",
       "       -0.1233177 ,  0.47372258, -0.72998524,  0.26710418,  0.8077434 ,\n",
       "       -0.11816376, -0.21856044,  0.46500975, -0.47236747, -0.06935607,\n",
       "       -0.26964906,  0.3406824 , -0.30779338,  0.03466992, -0.4617859 ,\n",
       "        0.03817332,  0.03665733, -0.03099669,  0.590705  , -0.6165977 ,\n",
       "       -0.32000527, -0.2145176 , -0.0078948 , -0.23709337,  0.34558633,\n",
       "        0.16329472,  0.08535625,  0.50636846,  0.31068146, -0.26118547,\n",
       "       -0.3064946 ,  0.62524736, -0.5692539 ,  0.36164713,  0.07212475,\n",
       "        0.34083012,  0.02248982,  0.57269484, -0.08226828,  0.3933122 ,\n",
       "       -0.24270707,  0.5077497 ,  0.5495052 ,  0.35805827, -0.11624371,\n",
       "        0.11941784,  0.0329845 ,  0.15987165,  0.65343094,  0.31991   ],\n",
       "      dtype=float32)"
      ]
     },
     "execution_count": 34,
     "metadata": {},
     "output_type": "execute_result"
    }
   ],
   "source": [
    "w2v_model.wv[\"нитро\"]"
   ]
  },
  {
   "cell_type": "code",
   "execution_count": null,
   "metadata": {},
   "outputs": [],
   "source": []
  },
  {
   "cell_type": "code",
   "execution_count": null,
   "metadata": {},
   "outputs": [],
   "source": []
  },
  {
   "cell_type": "code",
   "execution_count": 14,
   "metadata": {},
   "outputs": [],
   "source": [
    "import sys\n",
    "sys.path.append('../')\n",
    "from TrainSettings import TrainSettings\n",
    "from VectorizeWord2Vec import VectorizeWord2Vec\n"
   ]
  },
  {
   "cell_type": "code",
   "execution_count": 15,
   "metadata": {},
   "outputs": [],
   "source": [
    "sett = TrainSettings('test/')\n",
    "a = VectorizeWord2Vec(sett.settings['word2vec'], 'test/')"
   ]
  },
  {
   "cell_type": "code",
   "execution_count": 16,
   "metadata": {},
   "outputs": [],
   "source": [
    "a.build_vocab(df_train['text'])"
   ]
  },
  {
   "cell_type": "code",
   "execution_count": 17,
   "metadata": {},
   "outputs": [],
   "source": [
    "a.train(df_train['text'])"
   ]
  },
  {
   "cell_type": "code",
   "execution_count": 18,
   "metadata": {},
   "outputs": [
    {
     "name": "stderr",
     "output_type": "stream",
     "text": [
      "100%|██████████| 174779/174779 [00:15<00:00, 11355.27it/s]\n"
     ]
    }
   ],
   "source": [
    "b = a.vectorizeAll(df_train['text'])"
   ]
  },
  {
   "cell_type": "code",
   "execution_count": 19,
   "metadata": {},
   "outputs": [
    {
     "name": "stdout",
     "output_type": "stream",
     "text": [
      "[[ 0.1198934   0.15063566 -0.06735732 ...  0.22716272 -0.01946696\n",
      "   0.237634  ]\n",
      " [ 0.22418377  0.05161492 -0.07512373 ...  0.25202987  0.06953149\n",
      "   0.21904346]\n",
      " [ 0.18090962  0.01606935 -0.08545087 ...  0.21947992  0.0216587\n",
      "   0.2057931 ]\n",
      " ...\n",
      " [ 0.25288987  0.08418306 -0.10722949 ...  0.34370646  0.03911312\n",
      "   0.22883682]\n",
      " [ 0.13488577  0.12061148 -0.21230961 ...  0.28470534  0.00131655\n",
      "   0.25394276]\n",
      " [ 0.25106606  0.10882937 -0.1195773  ...  0.34808996  0.06359631\n",
      "   0.26807913]]\n"
     ]
    }
   ],
   "source": [
    "print(b)"
   ]
  },
  {
   "cell_type": "code",
   "execution_count": null,
   "metadata": {},
   "outputs": [],
   "source": []
  }
 ],
 "metadata": {
  "kernelspec": {
   "display_name": "Python 3",
   "language": "python",
   "name": "python3"
  },
  "language_info": {
   "codemirror_mode": {
    "name": "ipython",
    "version": 3
   },
   "file_extension": ".py",
   "mimetype": "text/x-python",
   "name": "python",
   "nbconvert_exporter": "python",
   "pygments_lexer": "ipython3",
   "version": "3.8.10"
  }
 },
 "nbformat": 4,
 "nbformat_minor": 2
}

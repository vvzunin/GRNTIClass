{
 "cells": [
  {
   "cell_type": "code",
   "execution_count": null,
   "metadata": {},
   "outputs": [],
   "source": [
    "from train import get_grnti1_2_BERT_dataframes, get_grnti1_BERT_dataframes, prepair_datasets,\\\n",
    "prepair_model, prepair_compute_metrics, save_parameters, CustomTrainer, test_predictons,\\\n",
    "prepair_test_dataset, get_grnti1_BERT_dataframes\n",
    "from peft import PeftConfig, PeftModel\n",
    "\n",
    "from prediction import prepair_data_level2\n",
    "from prediction import prepair_model as prepair_model_test\n",
    "from prediction import prepair_dataset, make_predictions\n",
    "from transformers import TrainingArguments\n",
    "import os\n",
    "import random\n",
    "import numpy as np\n",
    "import torch\n",
    "import re"
   ]
  },
  {
   "cell_type": "code",
   "execution_count": null,
   "metadata": {},
   "outputs": [],
   "source": [
    "path_to_dataset = \"../datasets/base/ru/raw\"\n",
    "\n",
    "SEED = 12345"
   ]
  },
  {
   "cell_type": "code",
   "execution_count": null,
   "metadata": {},
   "outputs": [],
   "source": [
    "max_number_tokens = 512\n",
    "pre_trained_model_name ='DeepPavlov/rubert-base-cased'\n",
    "# r = 16\n",
    "# lora_alpha = 16\n",
    "# lora_dropout = 0.05"
   ]
  },
  {
   "cell_type": "code",
   "execution_count": null,
   "metadata": {},
   "outputs": [],
   "source": [
    "base_name = \"results_7_no_lora/\"\n",
    "number_of_delteted_values = 15\n",
    "minimal_number_of_elements_RGNTI2 = 1\n",
    "minimal_number_of_words = 10\n",
    "\n",
    "path_info_before_save = base_name + f\"data_info_from_bert_level1/\""
   ]
  },
  {
   "cell_type": "code",
   "execution_count": null,
   "metadata": {},
   "outputs": [],
   "source": [
    "epoch= 16\n",
    "batch_size=8\n",
    "weight_decay = 1e-6\n",
    "warmup_steps = 10\n",
    "fp16 = True\n",
    "optim = \"adamw_bnb_8bit\"\n",
    "dir_name = base_name + f\"model bert lora level 1/\""
   ]
  },
  {
   "cell_type": "markdown",
   "metadata": {},
   "source": [
    "### Train level 1 correct"
   ]
  },
  {
   "cell_type": "code",
   "execution_count": null,
   "metadata": {},
   "outputs": [],
   "source": [
    "def clear_text(text):\n",
    "    # Удалить формулы внутри $$...$$\n",
    "    text = re.sub(r'\\$\\$.*?\\$\\$', '', text, flags=re.DOTALL)\n",
    "    # Удалить формулы внутри $...$\n",
    "    text = re.sub(r'\\$.*?\\$', '', text, flags=re.DOTALL)\n",
    "    # Удалить формулы внутри \\[...\\] или \\(...\\)\n",
    "    text = re.sub(r'\\\\\\[.*?\\\\\\]', '', text, flags=re.DOTALL)\n",
    "    # Удалить окружения формул (\\begin{...}...\\end{...})\n",
    "    text = re.sub(r'\\\\begin\\{.*?\\}.*?\\\\end\\{.*?\\}', '', text, flags=re.DOTALL)\n",
    "    # Ссылки\n",
    "    text = re.sub('https?://\\S+|www\\.\\S+', '', text)\n",
    "    # Удаляем элементы в скобках <>\n",
    "    text = re.sub('<.*?>+', '', text)\n",
    "    # Перенос строки\n",
    "    text = re.sub('\\n', '', text)\n",
    "    # Число посреди слова\n",
    "    text = re.sub('\\w*\\d\\w*', '', text)\n",
    "    return text"
   ]
  },
  {
   "cell_type": "code",
   "execution_count": null,
   "metadata": {},
   "outputs": [
    {
     "name": "stdout",
     "output_type": "stream",
     "text": [
      "Удаление элементов второго уровня, количство которых меньше 1\n",
      "         id_publ                                              title  \\\n",
      "0   19.06-73.269  Некоторые аспекты изменения степных ландшафтов...   \n",
      "1   19.01-24А.85  Подходы к повышению точности определения харак...   \n",
      "2   19.06-66.105  Микроскопическое моделирование фазового поля п...   \n",
      "3   19.06-14Б.10  МОДЕЛИ И МЕТОДИКИ АВТОМАТИЗАЦИИ ПРОЦЕДУР РАЗРА...   \n",
      "4  19.10-19Ж.456  Трехкомпонентная реакция Кастагноли-Кушмана 3-...   \n",
      "\n",
      "                                             ref_txt  \\\n",
      "0  Предлагается результат анализа динамики некото...   \n",
      "1  В статье представлены подходы к повышению точн...   \n",
      "2  Процесс выделения сплава Ni[75]Al[15]Ti[10] мо...   \n",
      "3  Объектом исследования является проектирование ...   \n",
      "4  Попытки использования 3-арилглутаконовых кисло...   \n",
      "\n",
      "                                             kw_list   SUBJ     IPV  \\\n",
      "0  Урало-Заволжье\\анализ динамики\\ландшафты\\нефте...  f3\\e2   72\\73   \n",
      "1  метровый диапазон\\обнаружение сигналов\\подвижн...     e1     24А   \n",
      "2  Ni[75]Al[15]Ti[10], моделирование выделения, к...  f1\\f7  15И\\66   \n",
      "3  автоматизированное проектирование\\обработка ме...     e9     14Б   \n",
      "4  3-арил-\\4,6-диарил-1,6-дигидро-\\Кастаньоли_-Ку...     f7     19Ж   \n",
      "\n",
      "                        RGNTI  eor    target        target_2  \n",
      "0  87.29.29\\89.57.45\\89.57.45  ###  [89, 87]  [89.57, 87.29]  \n",
      "1                    47.05.11  ###      [47]         [47.05]  \n",
      "2           53.49.05\\81.33.07  ###  [81, 53]  [53.49, 81.33]  \n",
      "3                    55.13.15  ###      [55]         [55.13]  \n",
      "4                    31.21.27  ###      [31]         [31.21]  \n"
     ]
    },
    {
     "name": "stderr",
     "output_type": "stream",
     "text": [
      "100%|██████████| 32/32 [00:19<00:00,  1.64it/s]\n"
     ]
    },
    {
     "name": "stdout",
     "output_type": "stream",
     "text": [
      "Доля оставшихся элементов в тренировочном датасете:  0.9715610583770008\n"
     ]
    },
    {
     "data": {
      "image/png": "[encoded data removed]",
      "text/plain": [
       "<Figure size 640x480 with 1 Axes>"
      ]
     },
     "metadata": {},
     "output_type": "display_data"
    }
   ],
   "source": [
    "if not os.path.exists(path_info_before_save):\n",
    "    os.makedirs(path_info_before_save)\n",
    "df, df_test, n_classes, n_classes2 = get_grnti1_BERT_dataframes(path_to_dataset, \n",
    "                                            number_of_delteted_values=number_of_delteted_values, \n",
    "                                minimal_number_of_elements_RGNTI2=minimal_number_of_elements_RGNTI2,\n",
    "                                minimal_number_of_words=minimal_number_of_words,\n",
    "                                dir_name=path_info_before_save, grnti_folder=\"grnti_dicts_level1_v2/\",\n",
    "                                change_codes=False)"
   ]
  },
  {
   "cell_type": "code",
   "execution_count": null,
   "metadata": {},
   "outputs": [
    {
     "data": {
      "text/plain": [
       "(285159, 13)"
      ]
     },
     "metadata": {},
     "output_type": "display_data"
    }
   ],
   "source": [
    "df.shape"
   ]
  },
  {
   "cell_type": "code",
   "execution_count": null,
   "metadata": {},
   "outputs": [
    {
     "data": {
      "text/plain": [
       "32"
      ]
     },
     "metadata": {},
     "output_type": "display_data"
    }
   ],
   "source": [
    "n_classes"
   ]
  },
  {
   "cell_type": "code",
   "execution_count": null,
   "metadata": {},
   "outputs": [],
   "source": [
    "# import pandas as pd"
   ]
  },
  {
   "cell_type": "code",
   "execution_count": null,
   "metadata": {},
   "outputs": [],
   "source": [
    "# target_count = pd.Series((np.concatenate(df['target'].values))).value_counts()"
   ]
  },
  {
   "cell_type": "code",
   "execution_count": null,
   "metadata": {},
   "outputs": [],
   "source": [
    "# target_count.values/ sum(target_count.values).sum()"
   ]
  },
  {
   "cell_type": "code",
   "execution_count": null,
   "metadata": {},
   "outputs": [
    {
     "data": {
      "application/vnd.jupyter.widget-view+json": {
       "model_id": "d5f57a915cc744768ba52a9c3b5f065f",
       "version_major": 2,
       "version_minor": 0
      },
      "text/plain": [
       "  0%|          | 0/285159 [00:00<?, ?it/s]"
      ]
     },
     "metadata": {},
     "output_type": "display_data"
    }
   ],
   "source": [
    "df['text'] = df['text'].progress_apply(clear_text)"
   ]
  },
  {
   "cell_type": "code",
   "execution_count": null,
   "metadata": {},
   "outputs": [
    {
     "data": {
      "application/vnd.jupyter.widget-view+json": {
       "model_id": "d2d900f82c26491cb7e8100eab9a8228",
       "version_major": 2,
       "version_minor": 0
      },
      "text/plain": [
       "  0%|          | 0/166183 [00:00<?, ?it/s]"
      ]
     },
     "metadata": {},
     "output_type": "display_data"
    }
   ],
   "source": [
    "df_test['text'] = df_test['text'].progress_apply(clear_text)"
   ]
  },
  {
   "cell_type": "code",
   "execution_count": null,
   "metadata": {},
   "outputs": [
    {
     "name": "stdout",
     "output_type": "stream",
     "text": [
      "Веса для кажого класса:  tensor([1.3164, 1.2443, 1.5663, 0.6472, 3.6027, 0.2040, 3.0185, 1.4897, 3.1646,\n",
      "        0.8802, 1.2860, 2.2852, 0.4165, 0.3968, 1.1249, 0.3536, 1.9390, 0.7354,\n",
      "        1.8193, 0.3115, 0.8897, 0.2691, 0.6810, 0.6133, 0.6533, 0.7356, 2.0284,\n",
      "        0.7524, 1.9058, 3.0932, 1.1319, 3.0083], dtype=torch.float64)\n",
      "Подготовка тренировочных данных:\n"
     ]
    },
    {
     "data": {
      "application/vnd.jupyter.widget-view+json": {
       "model_id": "130c166b0ac94ad38baa43728b6bc135",
       "version_major": 2,
       "version_minor": 0
      },
      "text/plain": [
       "Map:   0%|          | 0/228152 [00:00<?, ? examples/s]"
      ]
     },
     "metadata": {},
     "output_type": "display_data"
    },
    {
     "name": "stdout",
     "output_type": "stream",
     "text": [
      "Подготовка валидационных данных:\n"
     ]
    },
    {
     "data": {
      "application/vnd.jupyter.widget-view+json": {
       "model_id": "447a08432ac748398c05ef7d229d5c57",
       "version_major": 2,
       "version_minor": 0
      },
      "text/plain": [
       "Map:   0%|          | 0/57007 [00:00<?, ? examples/s]"
      ]
     },
     "metadata": {},
     "output_type": "display_data"
    },
    {
     "name": "stdout",
     "output_type": "stream",
     "text": [
      "Подготовка тестовых данных:\n"
     ]
    },
    {
     "data": {
      "application/vnd.jupyter.widget-view+json": {
       "model_id": "6cc96cac2ea945669e53d5a3e38cf9c9",
       "version_major": 2,
       "version_minor": 0
      },
      "text/plain": [
       "Map:   0%|          | 0/166183 [00:00<?, ? examples/s]"
      ]
     },
     "metadata": {},
     "output_type": "display_data"
    }
   ],
   "source": [
    "train_dataset, validation_dataset, test_dataset,\\\n",
    "tokenizer, collate_fn, class_weights = prepair_datasets(df, df_test,\n",
    "                                                        n_classes, \n",
    "                                                        level = '',\n",
    "                                                        max_number_tokens=max_number_tokens, \n",
    "                                                        pre_trained_model_name=pre_trained_model_name)"
   ]
  },
  {
   "cell_type": "code",
   "execution_count": null,
   "metadata": {},
   "outputs": [
    {
     "data": {
      "text/plain": [
       "32"
      ]
     },
     "metadata": {},
     "output_type": "display_data"
    }
   ],
   "source": [
    "n_classes"
   ]
  },
  {
   "cell_type": "code",
   "execution_count": null,
   "metadata": {},
   "outputs": [
    {
     "name": "stderr",
     "output_type": "stream",
     "text": [
      "Some weights of BertForSequenceClassification were not initialized from the model checkpoint at DeepPavlov/rubert-base-cased and are newly initialized: ['classifier.bias', 'classifier.weight']\n",
      "You should probably TRAIN this model on a down-stream task to be able to use it for predictions and inference.\n"
     ]
    },
    {
     "name": "stdout",
     "output_type": "stream",
     "text": [
      "BertForSequenceClassification(\n",
      "  (bert): BertModel(\n",
      "    (embeddings): BertEmbeddings(\n",
      "      (word_embeddings): Embedding(119547, 768, padding_idx=0)\n",
      "      (position_embeddings): Embedding(512, 768)\n",
      "      (token_type_embeddings): Embedding(2, 768)\n",
      "      (LayerNorm): LayerNorm((768,), eps=1e-12, elementwise_affine=True)\n",
      "      (dropout): Dropout(p=0.1, inplace=False)\n",
      "    )\n",
      "    (encoder): BertEncoder(\n",
      "      (layer): ModuleList(\n",
      "        (0-11): 12 x BertLayer(\n",
      "          (attention): BertAttention(\n",
      "            (self): BertSdpaSelfAttention(\n",
      "              (query): Linear(in_features=768, out_features=768, bias=True)\n",
      "              (key): Linear(in_features=768, out_features=768, bias=True)\n",
      "              (value): Linear(in_features=768, out_features=768, bias=True)\n",
      "              (dropout): Dropout(p=0.1, inplace=False)\n",
      "            )\n",
      "            (output): BertSelfOutput(\n",
      "              (dense): Linear(in_features=768, out_features=768, bias=True)\n",
      "              (LayerNorm): LayerNorm((768,), eps=1e-12, elementwise_affine=True)\n",
      "              (dropout): Dropout(p=0.1, inplace=False)\n",
      "            )\n",
      "          )\n",
      "          (intermediate): BertIntermediate(\n",
      "            (dense): Linear(in_features=768, out_features=3072, bias=True)\n",
      "            (intermediate_act_fn): GELUActivation()\n",
      "          )\n",
      "          (output): BertOutput(\n",
      "            (dense): Linear(in_features=3072, out_features=768, bias=True)\n",
      "            (LayerNorm): LayerNorm((768,), eps=1e-12, elementwise_affine=True)\n",
      "            (dropout): Dropout(p=0.1, inplace=False)\n",
      "          )\n",
      "        )\n",
      "      )\n",
      "    )\n",
      "    (pooler): BertPooler(\n",
      "      (dense): Linear(in_features=768, out_features=768, bias=True)\n",
      "      (activation): Tanh()\n",
      "    )\n",
      "  )\n",
      "  (dropout): Dropout(p=0.1, inplace=False)\n",
      "  (classifier): Linear(in_features=768, out_features=32, bias=True)\n",
      ")\n"
     ]
    }
   ],
   "source": [
    "model = prepair_model(n_classes=n_classes, \n",
    "                      pre_trained_model_name=pre_trained_model_name,\n",
    "                        r=r, lora_alpha=lora_alpha, \n",
    "                        lora_dropout=lora_dropout)"
   ]
  },
  {
   "cell_type": "code",
   "execution_count": null,
   "metadata": {},
   "outputs": [],
   "source": [
    "model.to(\"cuda\");"
   ]
  },
  {
   "cell_type": "code",
   "execution_count": null,
   "metadata": {},
   "outputs": [],
   "source": [
    "save_parameters(dir_name= dir_name, \n",
    "                number_of_delteted_values = number_of_delteted_values, \n",
    "                minimal_number_of_elements_RGNTI2= minimal_number_of_elements_RGNTI2,\n",
    "                minimal_number_of_words = minimal_number_of_words, \n",
    "                max_number_tokens= max_number_tokens, \n",
    "                pre_trained_model_name= pre_trained_model_name,\n",
    "                r=r, \n",
    "                lora_alpha= lora_alpha, lora_dropout = lora_dropout,\n",
    "                epoch= epoch, \n",
    "                batch_size= batch_size,\n",
    "                weight_decay= weight_decay,\n",
    "                warmup_steps= warmup_steps,\n",
    "                fp16=fp16, \n",
    "                optim= optim)"
   ]
  },
  {
   "cell_type": "code",
   "execution_count": null,
   "metadata": {},
   "outputs": [],
   "source": [
    "compute_metrics = prepair_compute_metrics(n_classes=n_classes)\n"
   ]
  },
  {
   "cell_type": "code",
   "execution_count": null,
   "metadata": {},
   "outputs": [],
   "source": [
    "training_args = TrainingArguments(\n",
    "    output_dir=dir_name,          \n",
    "    num_train_epochs=epoch,\n",
    "    warmup_steps=warmup_steps,\n",
    "    logging_dir=dir_name,\n",
    "    weight_decay=weight_decay,\n",
    "    eval_strategy='epoch',\n",
    "    save_strategy= \"epoch\",\n",
    "    logging_strategy=\"steps\",\n",
    "    logging_steps = 100,\n",
    "    load_best_model_at_end=True,\n",
    "    save_total_limit=2,\n",
    "    report_to='tensorboard',\n",
    "    overwrite_output_dir = False,\n",
    "    save_safetensors = False,\n",
    "    fp16=fp16,\n",
    "    optim = optim,\n",
    "    per_device_train_batch_size= batch_size,\n",
    "    per_device_eval_batch_size= batch_size,\n",
    "    group_by_length=True,\n",
    "    dataloader_num_workers = 4,\n",
    "    metric_for_best_model=\"eval_f1_weighted_0.5\",\n",
    "    )"
   ]
  },
  {
   "cell_type": "code",
   "execution_count": null,
   "metadata": {},
   "outputs": [],
   "source": [
    "train_dataset = train_dataset.remove_columns(\"text\")\n",
    "validation_dataset = validation_dataset.remove_columns([\"text\", \"__index_level_0__\"])"
   ]
  },
  {
   "cell_type": "code",
   "execution_count": null,
   "metadata": {},
   "outputs": [],
   "source": [
    "# train_dataset = train_dataset.remove_columns(\"text\")\n",
    "# validation_dataset = train_dataset.remove_columns([\"text\"])"
   ]
  },
  {
   "cell_type": "code",
   "execution_count": null,
   "metadata": {},
   "outputs": [],
   "source": [
    "trainer = CustomTrainer(\n",
    "    model=model,\n",
    "    args=training_args,\n",
    "    train_dataset=train_dataset,\n",
    "    eval_dataset=validation_dataset,\n",
    "    data_collator = collate_fn,\n",
    "    tokenizer = tokenizer,\n",
    "    compute_metrics=compute_metrics,\n",
    "    class_weights=class_weights,\n",
    ")"
   ]
  },
  {
   "cell_type": "code",
   "execution_count": null,
   "metadata": {},
   "outputs": [
    {
     "data": {
      "text/plain": [
       "(Dataset({\n",
       "     features: ['label', 'input_ids', 'token_type_ids', 'attention_mask'],\n",
       "     num_rows: 228152\n",
       " }),\n",
       " Dataset({\n",
       "     features: ['label', 'input_ids', 'token_type_ids', 'attention_mask'],\n",
       "     num_rows: 57007\n",
       " }))"
      ]
     },
     "metadata": {},
     "output_type": "display_data"
    }
   ],
   "source": [
    "train_dataset, validation_dataset"
   ]
  },
  {
   "cell_type": "code",
   "execution_count": null,
   "metadata": {},
   "outputs": [
    {
     "data": {
      "text/plain": [
       "tensor([1.3164, 1.2443, 1.5663, 0.6472, 3.6027, 0.2040, 3.0185, 1.4897, 3.1646,\n",
       "        0.8802, 1.2860, 2.2852, 0.4165, 0.3968, 1.1249, 0.3536, 1.9390, 0.7354,\n",
       "        1.8193, 0.3115, 0.8897, 0.2691, 0.6810, 0.6133, 0.6533, 0.7356, 2.0284,\n",
       "        0.7524, 1.9058, 3.0932, 1.1319, 3.0083], dtype=torch.float64)"
      ]
     },
     "metadata": {},
     "output_type": "display_data"
    }
   ],
   "source": [
    "class_weights"
   ]
  },
  {
   "cell_type": "code",
   "execution_count": null,
   "metadata": {},
   "outputs": [
    {
     "data": {
      "application/vnd.jupyter.widget-view+json": {
       "model_id": "5967fbae087c4276acc22918e8138eab",
       "version_major": 2,
       "version_minor": 0
      },
      "text/plain": [
       "  0%|          | 0/456304 [00:00<?, ?it/s]"
      ]
     },
     "metadata": {},
     "output_type": "display_data"
    },
    {
     "name": "stderr",
     "output_type": "stream",
     "text": [
      "c:\\Users\\victo\\git_Work_VINITI_2024\\my_venv_cuda\\lib\\site-packages\\transformers\\models\\bert\\modeling_bert.py:439: UserWarning: 1Torch was not compiled with flash attention. (Triggered internally at C:\\actions-runner\\_work\\pytorch\\pytorch\\builder\\windows\\pytorch\\aten\\src\\ATen\\native\\transformers\\cuda\\sdp_utils.cpp:455.)\n",
      "  attn_output = torch.nn.functional.scaled_dot_product_attention(\n"
     ]
    },
    {
     "name": "stdout",
     "output_type": "stream",
     "text": [
      "{'loss': 0.3068, 'grad_norm': 0.20824149250984192, 'learning_rate': 4.999013793738248e-05, 'epoch': 0.0}\n",
      "{'loss': 0.1372, 'grad_norm': 0.2998579442501068, 'learning_rate': 4.997918009002968e-05, 'epoch': 0.01}\n",
      "{'loss': 0.1442, 'grad_norm': 0.3274669647216797, 'learning_rate': 4.996822224267687e-05, 'epoch': 0.01}\n",
      "{'loss': 0.1421, 'grad_norm': 0.43005266785621643, 'learning_rate': 4.995726439532407e-05, 'epoch': 0.01}\n",
      "{'loss': 0.1437, 'grad_norm': 0.2345583140850067, 'learning_rate': 4.9946306547971265e-05, 'epoch': 0.02}\n",
      "{'loss': 0.1384, 'grad_norm': 0.48987090587615967, 'learning_rate': 4.9935348700618465e-05, 'epoch': 0.02}\n",
      "{'loss': 0.1362, 'grad_norm': 0.22708456218242645, 'learning_rate': 4.9924390853265665e-05, 'epoch': 0.02}\n",
      "{'loss': 0.1411, 'grad_norm': 0.33843299746513367, 'learning_rate': 4.991343300591286e-05, 'epoch': 0.03}\n",
      "{'loss': 0.1401, 'grad_norm': 0.3988945484161377, 'learning_rate': 4.990247515856005e-05, 'epoch': 0.03}\n",
      "{'loss': 0.1533, 'grad_norm': 0.35992690920829773, 'learning_rate': 4.9891517311207245e-05, 'epoch': 0.04}\n",
      "{'loss': 0.1491, 'grad_norm': 0.5430982708930969, 'learning_rate': 4.9880559463854445e-05, 'epoch': 0.04}\n",
      "{'loss': 0.1417, 'grad_norm': 0.23481817543506622, 'learning_rate': 4.9869601616501645e-05, 'epoch': 0.04}\n",
      "{'loss': 0.145, 'grad_norm': 0.24959544837474823, 'learning_rate': 4.985864376914884e-05, 'epoch': 0.05}\n",
      "{'loss': 0.1448, 'grad_norm': 0.42085233330726624, 'learning_rate': 4.984768592179604e-05, 'epoch': 0.05}\n",
      "{'loss': 0.1431, 'grad_norm': 0.37311986088752747, 'learning_rate': 4.983672807444323e-05, 'epoch': 0.05}\n",
      "{'loss': 0.1461, 'grad_norm': 0.38239896297454834, 'learning_rate': 4.982577022709043e-05, 'epoch': 0.06}\n",
      "{'loss': 0.1462, 'grad_norm': 0.44762513041496277, 'learning_rate': 4.981481237973763e-05, 'epoch': 0.06}\n",
      "{'loss': 0.1413, 'grad_norm': 0.5336182713508606, 'learning_rate': 4.9803854532384826e-05, 'epoch': 0.06}\n",
      "{'loss': 0.1341, 'grad_norm': 0.4403776228427887, 'learning_rate': 4.979289668503202e-05, 'epoch': 0.07}\n",
      "{'loss': 0.1402, 'grad_norm': 0.49675437808036804, 'learning_rate': 4.978193883767922e-05, 'epoch': 0.07}\n",
      "{'loss': 0.1367, 'grad_norm': 0.38153862953186035, 'learning_rate': 4.977098099032641e-05, 'epoch': 0.07}\n",
      "{'loss': 0.1467, 'grad_norm': 0.47480425238609314, 'learning_rate': 4.976002314297361e-05, 'epoch': 0.08}\n",
      "{'loss': 0.1439, 'grad_norm': 0.5219434499740601, 'learning_rate': 4.9749065295620806e-05, 'epoch': 0.08}\n",
      "{'loss': 0.1457, 'grad_norm': 0.27784463763237, 'learning_rate': 4.9738107448268006e-05, 'epoch': 0.08}\n",
      "{'loss': 0.14, 'grad_norm': 0.24269066751003265, 'learning_rate': 4.97271496009152e-05, 'epoch': 0.09}\n",
      "{'loss': 0.1506, 'grad_norm': 0.37668755650520325, 'learning_rate': 4.97161917535624e-05, 'epoch': 0.09}\n"
     ]
    }
   ],
   "source": [
    "random.seed(SEED)\n",
    "np.random.seed(SEED)\n",
    "torch.manual_seed(SEED)\n",
    "torch.cuda.manual_seed(SEED)\n",
    "trainer.train()"
   ]
  },
  {
   "cell_type": "code",
   "execution_count": null,
   "metadata": {},
   "outputs": [],
   "source": [
    "trainer.model.save_pretrained(dir_name + \"bert_level1_no_lora\")"
   ]
  },
  {
   "cell_type": "code",
   "execution_count": null,
   "metadata": {},
   "outputs": [],
   "source": [
    "# trainer.save_model(\"bert_peft_level1_v2\")"
   ]
  },
  {
   "cell_type": "markdown",
   "metadata": {},
   "source": [
    "### Тest level 1"
   ]
  },
  {
   "cell_type": "code",
   "execution_count": null,
   "metadata": {},
   "outputs": [],
   "source": [
    "test_dataset = test_dataset.remove_columns([\"text\", \"__index_level_0__\"])"
   ]
  },
  {
   "cell_type": "code",
   "execution_count": null,
   "metadata": {},
   "outputs": [
    {
     "data": {
      "application/vnd.jupyter.widget-view+json": {
       "model_id": "c8106d1f2734498993e43968db46530c",
       "version_major": 2,
       "version_minor": 0
      },
      "text/plain": [
       "  0%|          | 0/20773 [00:00<?, ?it/s]"
      ]
     },
     "metadata": {},
     "output_type": "display_data"
    }
   ],
   "source": [
    "predict_res = trainer.predict(test_dataset=test_dataset).predictions\n"
   ]
  },
  {
   "cell_type": "code",
   "execution_count": null,
   "metadata": {},
   "outputs": [],
   "source": [
    "with open(dir_name + \"trainer_predictions_level1_no_lora.npy\", 'wb') as f:\n",
    "    np.save(f, predict_res)"
   ]
  },
  {
   "cell_type": "code",
   "execution_count": null,
   "metadata": {},
   "outputs": [],
   "source": [
    "\n",
    "\n",
    "\n",
    "    \n",
    "with open(dir_name + \"trainer_predictions_level1_no_lora.npy\", 'rb') as f:\n",
    "\n",
    "    prediction1_experiment = np.load(f)"
   ]
  },
  {
   "cell_type": "code",
   "execution_count": null,
   "metadata": {},
   "outputs": [],
   "source": [
    "def sigmoid_array(x):\n",
    "    return 1 / (1 + np.exp(-x))"
   ]
  },
  {
   "cell_type": "code",
   "execution_count": null,
   "metadata": {},
   "outputs": [],
   "source": [
    "label_test = np.vstack(df_test[\"target_coded\"])"
   ]
  },
  {
   "cell_type": "code",
   "execution_count": null,
   "metadata": {},
   "outputs": [
    {
     "name": "stderr",
     "output_type": "stream",
     "text": [
      "100%|██████████| 18/18 [00:30<00:00,  1.67s/it]\n"
     ]
    },
    {
     "name": "stdout",
     "output_type": "stream",
     "text": [
      "Cтатистика количества пркдсказываемых классов при заданном threshold:\n",
      "Среднее число предсказываемых классов для одной статьи, для которой получено предсказание tensor(1.3064)\n",
      "Минимальное число предсказываемых классов для одной статьи, для которой получено предсказание tensor(1)\n",
      "Максимальное число предсказываемых классов для одной статьи, для которой получено предсказание tensor(7)\n",
      "Доля статей c пустым ответом классификатора (Empty): 0.039763393367552635\n",
      "recall_micro_list threshold: [tensor(0.9242), tensor(0.9018), tensor(0.8821), tensor(0.8629), tensor(0.8449), tensor(0.8268), tensor(0.8088), tensor(0.7910), tensor(0.7728), tensor(0.7538), tensor(0.7335), tensor(0.7102), tensor(0.6843), tensor(0.6551), tensor(0.6200), tensor(0.5740), tensor(0.5092), tensor(0.3970)]\n",
      "recall_macro_list threshold: [tensor(0.9141), tensor(0.8916), tensor(0.8723), tensor(0.8540), tensor(0.8370), tensor(0.8199), tensor(0.8030), tensor(0.7862), tensor(0.7693), tensor(0.7516), tensor(0.7331), tensor(0.7112), tensor(0.6878), tensor(0.6609), tensor(0.6291), tensor(0.5872), tensor(0.5294), tensor(0.4337)]\n",
      "recall_wighted_list threshold: [tensor(0.9242), tensor(0.9018), tensor(0.8821), tensor(0.8629), tensor(0.8449), tensor(0.8268), tensor(0.8088), tensor(0.7910), tensor(0.7728), tensor(0.7538), tensor(0.7335), tensor(0.7102), tensor(0.6843), tensor(0.6551), tensor(0.6200), tensor(0.5740), tensor(0.5092), tensor(0.3970)]\n"
     ]
    },
    {
     "name": "stderr",
     "output_type": "stream",
     "text": [
      "100%|██████████| 18/18 [00:00<00:00, 91.03it/s]\n",
      "No artists with labels found to put in legend.  Note that artists whose label start with an underscore are ignored when legend() is called with no argument.\n",
      "100%|██████████| 3/3 [00:06<00:00,  2.23s/it]\n"
     ]
    },
    {
     "name": "stdout",
     "output_type": "stream",
     "text": [
      "Количество отказов от классификации (Reject) tensor(0)\n",
      "Доля отказов от классификации (Reject) tensor(0.)\n",
      "f1_top_k_macro [0.73 0.69 0.59]\n",
      "f1_top_k_maicro [0.76 0.68 0.56]\n",
      "f1_top_k_weighted [0.74 0.69 0.59]\n",
      "precision_top_k_macro [0.85 0.59 0.45]\n",
      "precision_top_k_maicro [0.87 0.56 0.4 ]\n",
      "precision_top_k_weighted [0.86 0.58 0.44]\n",
      "recall_top_k_macro: tensor([0.6724, 0.8581, 0.9210])\n",
      "recall_top_k_micro: tensor([0.6710, 0.8686, 0.9309])\n",
      "recall_top_k_weighted: tensor([0.6710, 0.8686, 0.9309])\n"
     ]
    },
    {
     "data": {
      "text/plain": [
       "<Figure size 640x480 with 0 Axes>"
      ]
     },
     "metadata": {},
     "output_type": "display_data"
    }
   ],
   "source": [
    "test_predictons(sigmoid_array(prediction1_experiment), label_test, path_info_before_save, n_classes, \n",
    "                level=1,\n",
    "                grnti_path=\"grnti_dicts_level1_v2/\")"
   ]
  }
 ],
 "metadata": {
  "language_info": {
   "name": "python"
  }
 },
 "nbformat": 4,
 "nbformat_minor": 2
}

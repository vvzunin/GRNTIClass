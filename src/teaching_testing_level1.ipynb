{
 "cells": [
  {
   "cell_type": "code",
   "execution_count": 1,
   "metadata": {},
   "outputs": [
    {
     "name": "stdout",
     "output_type": "stream",
     "text": [
      "INFO: Pandarallel will run on 8 workers.\n",
      "INFO: Pandarallel will use standard multiprocessing data transfer (pipe) to transfer data between the main process and workers.\n",
      "\n",
      "WARNING: You are on Windows. If you detect any issue with pandarallel, be sure you checked out the Troubleshooting page:\n",
      "https://nalepae.github.io/pandarallel/troubleshooting/\n"
     ]
    }
   ],
   "source": [
    "from train import get_grnti1_2_BERT_dataframes, get_grnti1_BERT_dataframes, prepair_datasets,\\\n",
    "prepair_model, prepair_compute_metrics, save_parameters, CustomTrainer, test_predictons,\\\n",
    "prepair_test_dataset, get_grnti1_BERT_dataframes\n",
    "from peft import PeftConfig, PeftModel\n",
    "\n",
    "from prediction import prepair_data_level2\n",
    "from prediction import prepair_model as prepair_model_test\n",
    "from prediction import prepair_dataset, make_predictions\n",
    "from transformers import TrainingArguments\n",
    "import os\n",
    "import random\n",
    "import numpy as np\n",
    "import torch\n",
    "import re\n",
    "import pandas as pd\n",
    "from tqdm.notebook import tqdm\n",
    "\n",
    "from pandarallel import pandarallel\n",
    "pandarallel.initialize(progress_bar=True)\n"
   ]
  },
  {
   "cell_type": "code",
   "execution_count": 2,
   "metadata": {},
   "outputs": [],
   "source": [
    "data_sokr = pd.read_csv('sokrlist.txt', encoding=\"cp1251\", sep=\"\\t\")"
   ]
  },
  {
   "cell_type": "code",
   "execution_count": 3,
   "metadata": {},
   "outputs": [],
   "source": [
    "data_sokr_dict  = dict(zip(data_sokr.short_str, data_sokr.full_str))"
   ]
  },
  {
   "cell_type": "code",
   "execution_count": 4,
   "metadata": {},
   "outputs": [],
   "source": [
    "# SEED = 12345\n",
    "# random.seed(SEED)\n",
    "# np.random.seed(SEED)\n",
    "# torch.manual_seed(SEED)\n",
    "# torch.cuda.manual_seed(SEED)"
   ]
  },
  {
   "cell_type": "markdown",
   "metadata": {},
   "source": [
    "### Train level 1 correct"
   ]
  },
  {
   "cell_type": "code",
   "execution_count": 5,
   "metadata": {},
   "outputs": [],
   "source": [
    "def clear_text(text):\n",
    "    # Удалить формулы внутри $$...$$\n",
    "    text = re.sub(r'\\$\\$.*?\\$\\$', '', text, flags=re.DOTALL)\n",
    "    # Удалить формулы внутри $...$\n",
    "    text = re.sub(r'\\$.*?\\$', '', text, flags=re.DOTALL)\n",
    "    # Удалить формулы внутри \\[...\\] или \\(...\\)\n",
    "    text = re.sub(r'\\\\\\[.*?\\\\\\]', '', text, flags=re.DOTALL)\n",
    "    # Удалить окружения формул (\\begin{...}...\\end{...})\n",
    "    text = re.sub(r'\\\\begin\\{.*?\\}.*?\\\\end\\{.*?\\}', '', text, flags=re.DOTALL)\n",
    "    # Ссылки\n",
    "    text = re.sub('https?://\\S+|www\\.\\S+', '', text)\n",
    "    # Удаляем элементы в скобках <>\n",
    "    text = re.sub('<.*?>+', '', text)\n",
    "    # Перенос строки\n",
    "    text = re.sub('\\n', '', text)\n",
    "    # Число посреди слова\n",
    "    text = re.sub('\\w*\\d\\w*', '', text)\n",
    "    return text"
   ]
  },
  {
   "cell_type": "code",
   "execution_count": 6,
   "metadata": {},
   "outputs": [],
   "source": [
    "max_number_tokens = 512\n",
    "pre_trained_model_name ='DeepPavlov/rubert-base-cased'\n",
    "r = 16\n",
    "lora_alpha = 16\n",
    "lora_dropout = 0.05"
   ]
  },
  {
   "cell_type": "code",
   "execution_count": 7,
   "metadata": {},
   "outputs": [],
   "source": [
    "base_name = \"results_8_lora_sokr_experiment/\"\n",
    "number_of_delteted_values = 15\n",
    "minimal_number_of_elements_RGNTI2 = 1\n",
    "minimal_number_of_words = 10\n",
    "\n",
    "path_info_before_save = base_name + f\"data_info_from_bert_level1/\""
   ]
  },
  {
   "cell_type": "code",
   "execution_count": 8,
   "metadata": {},
   "outputs": [],
   "source": [
    "epoch= 10\n",
    "batch_size=8\n",
    "weight_decay = 1e-6\n",
    "warmup_steps = 10\n",
    "fp16 = True\n",
    "optim = \"adamw_bnb_8bit\"\n"
   ]
  },
  {
   "cell_type": "code",
   "execution_count": 9,
   "metadata": {},
   "outputs": [
    {
     "name": "stdout",
     "output_type": "stream",
     "text": [
      "Удаление элементов второго уровня, количство которых меньше 1\n",
      "         id_publ                                              title  \\\n",
      "0   19.06-73.269  Некоторые аспекты изменения степных ландшафтов...   \n",
      "1   19.01-24А.85  Подходы к повышению точности определения харак...   \n",
      "2   19.06-66.105  Микроскопическое моделирование фазового поля п...   \n",
      "3   19.06-14Б.10  МОДЕЛИ И МЕТОДИКИ АВТОМАТИЗАЦИИ ПРОЦЕДУР РАЗРА...   \n",
      "4  19.10-19Ж.456  Трехкомпонентная реакция Кастагноли-Кушмана 3-...   \n",
      "\n",
      "                                             ref_txt  \\\n",
      "0  Предлагается результат анализа динамики некото...   \n",
      "1  В статье представлены подходы к повышению точн...   \n",
      "2  Процесс выделения сплава Ni[75]Al[15]Ti[10] мо...   \n",
      "3  Объектом исследования является проектирование ...   \n",
      "4  Попытки использования 3-арилглутаконовых кисло...   \n",
      "\n",
      "                                             kw_list   SUBJ     IPV  \\\n",
      "0  Урало-Заволжье\\анализ динамики\\ландшафты\\нефте...  f3\\e2   72\\73   \n",
      "1  метровый диапазон\\обнаружение сигналов\\подвижн...     e1     24А   \n",
      "2  Ni[75]Al[15]Ti[10], моделирование выделения, к...  f1\\f7  15И\\66   \n",
      "3  автоматизированное проектирование\\обработка ме...     e9     14Б   \n",
      "4  3-арил-\\4,6-диарил-1,6-дигидро-\\Кастаньоли_-Ку...     f7     19Ж   \n",
      "\n",
      "                        RGNTI  eor    target        target_2  \n",
      "0  87.29.29\\89.57.45\\89.57.45  ###  [87, 89]  [89.57, 87.29]  \n",
      "1                    47.05.11  ###      [47]         [47.05]  \n",
      "2           53.49.05\\81.33.07  ###  [53, 81]  [81.33, 53.49]  \n",
      "3                    55.13.15  ###      [55]         [55.13]  \n",
      "4                    31.21.27  ###      [31]         [31.21]  \n"
     ]
    },
    {
     "name": "stderr",
     "output_type": "stream",
     "text": [
      "100%|██████████| 32/32 [00:25<00:00,  1.25it/s]\n"
     ]
    },
    {
     "name": "stdout",
     "output_type": "stream",
     "text": [
      "Доля оставшихся элементов в тренировочном датасете:  0.9715610583770008\n"
     ]
    },
    {
     "data": {
      "image/png": "[encoded data removed]",
      "text/plain": [
       "<Figure size 640x480 with 1 Axes>"
      ]
     },
     "metadata": {},
     "output_type": "display_data"
    }
   ],
   "source": [
    "if not os.path.exists(path_info_before_save):\n",
    "    os.makedirs(path_info_before_save)\n",
    "df, df_test, n_classes, n_classes2 = get_grnti1_BERT_dataframes(\"../datasets/base/ru/raw\", \n",
    "                                            number_of_delteted_values=number_of_delteted_values, \n",
    "                                minimal_number_of_elements_RGNTI2=minimal_number_of_elements_RGNTI2,\n",
    "                                minimal_number_of_words=minimal_number_of_words,\n",
    "                                dir_name=path_info_before_save, grnti_folder=\"grnti_dicts_level1_v2/\",\n",
    "                                change_codes=False)"
   ]
  },
  {
   "cell_type": "code",
   "execution_count": 10,
   "metadata": {},
   "outputs": [
    {
     "data": {
      "text/plain": [
       "(285159, 13)"
      ]
     },
     "execution_count": 10,
     "metadata": {},
     "output_type": "execute_result"
    }
   ],
   "source": [
    "df.shape"
   ]
  },
  {
   "cell_type": "code",
   "execution_count": 11,
   "metadata": {},
   "outputs": [
    {
     "data": {
      "text/plain": [
       "32"
      ]
     },
     "execution_count": 11,
     "metadata": {},
     "output_type": "execute_result"
    }
   ],
   "source": [
    "n_classes"
   ]
  },
  {
   "cell_type": "code",
   "execution_count": 12,
   "metadata": {},
   "outputs": [
    {
     "data": {
      "application/vnd.jupyter.widget-view+json": {
       "model_id": "de077ad9a84f41f29bc24fb936951d9a",
       "version_major": 2,
       "version_minor": 0
      },
      "text/plain": [
       "  0%|          | 0/285159 [00:00<?, ?it/s]"
      ]
     },
     "metadata": {},
     "output_type": "display_data"
    }
   ],
   "source": [
    "df['text'] = df['text'].progress_apply(clear_text)"
   ]
  },
  {
   "cell_type": "code",
   "execution_count": 13,
   "metadata": {},
   "outputs": [
    {
     "data": {
      "application/vnd.jupyter.widget-view+json": {
       "model_id": "84a23a4d3ee446f388e99821b243eb18",
       "version_major": 2,
       "version_minor": 0
      },
      "text/plain": [
       "  0%|          | 0/166183 [00:00<?, ?it/s]"
      ]
     },
     "metadata": {},
     "output_type": "display_data"
    }
   ],
   "source": [
    "df_test['text'] = df_test['text'].progress_apply(clear_text)"
   ]
  },
  {
   "cell_type": "code",
   "execution_count": 14,
   "metadata": {},
   "outputs": [],
   "source": [
    "import string\n",
    "\n",
    "# Базовые символы из модуля string\n",
    "delimiters = set(string.punctuation)\n",
    "# whitespace_list = list(string.whitespace)\n",
    "# Дополнительные символы, которые могут быть разделителями\n",
    "additional_delimiters = {\"|\", \"/\", \"\\\\\", \"-\", \"_\", \".\", \"*\", \"+\", \"=\", \"&\", \"%\", \"$\", \"#\", \"@\", \"!\", \"?\", \"~\", \"^\", \"(\", \")\", \"[\", \"]\", \"{\", \"}\", \"<\", \">\", \"'\", '\"', \"`\"}\n",
    "\n",
    "# Объединяем все символы\n",
    "all_delimiters = delimiters.union(additional_delimiters)"
   ]
  },
  {
   "cell_type": "code",
   "execution_count": 15,
   "metadata": {},
   "outputs": [],
   "source": [
    "def get_word_parts(input_string, delimiters):\n",
    "    # \n",
    "    word_start = \"\"\n",
    "    word_finish = \"\"\n",
    "\n",
    "    # Проверяем, есть ли строка из сета слева\n",
    "    for delim in delimiters:\n",
    "        if input_string.startswith(delim):\n",
    "            word_start +=  delim\n",
    "            input_string = input_string[len(delim):]\n",
    "        \n",
    "    # Проверяем, есть ли строка из сета справа\n",
    "\n",
    "        if input_string.endswith(delim):\n",
    "            # Если найдено, возвращаем оставшуюся часть строки\n",
    "            input_string = input_string[:-len(delim)]\n",
    "            word_finish += delim\n",
    "        \n",
    "    return word_start, input_string, word_finish\n",
    "\n"
   ]
  },
  {
   "cell_type": "code",
   "execution_count": 16,
   "metadata": {},
   "outputs": [],
   "source": [
    "# !pip3 install pandas jupyter"
   ]
  },
  {
   "cell_type": "code",
   "execution_count": 17,
   "metadata": {},
   "outputs": [],
   "source": [
    "def aug_for_sokr(text, sokr_kind, data_sokr_dict, delimiters):\n",
    "    result_text_list = []\n",
    "    for input_string in text.split(): \n",
    "        word_start, input_string, word_finish = get_word_parts(input_string, delimiters)\n",
    "\n",
    "        # if input_string in data_sokr_dict:\n",
    "        result_text_list.append(data_sokr_dict[input_string] + \" \" +\n",
    "                                word_start + input_string + word_finish\n",
    "                                if input_string in data_sokr_dict and sokr_kind==\"append_sokr\"\n",
    "                                else word_start + data_sokr_dict[input_string] + word_finish\n",
    "                                if input_string in data_sokr_dict and sokr_kind==\"rename_sokr\"\n",
    "                                else word_start + input_string + word_finish\n",
    "                                )\n",
    "    return \" \".join(result_text_list)\n"
   ]
  },
  {
   "cell_type": "code",
   "execution_count": 18,
   "metadata": {},
   "outputs": [],
   "source": [
    "\n",
    "# df_processed = df[\"text\"].progress_apply(aug_for_sokr,\n",
    "#                           sokr_kind = \"append_sokr\",\n",
    "#                           data_sokr_dict = data_sokr_dict,\n",
    "#                           delimiters=delimiters,\n",
    "#                           )"
   ]
  },
  {
   "cell_type": "code",
   "execution_count": 19,
   "metadata": {},
   "outputs": [],
   "source": [
    "\n",
    "# df_processed_v2 = df[\"text\"].progress_apply(aug_for_sokr,\n",
    "#                           sokr_kind = \"rename_sokr\",\n",
    "#                           data_sokr_dict = data_sokr_dict,\n",
    "#                           delimiters=delimiters,\n",
    "#                           )"
   ]
  },
  {
   "cell_type": "code",
   "execution_count": 20,
   "metadata": {},
   "outputs": [
    {
     "data": {
      "text/plain": [
       "'вообще, .электрическая централизация, это очень важно'"
      ]
     },
     "execution_count": 20,
     "metadata": {},
     "output_type": "execute_result"
    }
   ],
   "source": [
    "aug_for_sokr(\"вообще, .ЭЦ, это очень важно\",\n",
    "                          sokr_kind = \"rename_sokr\",\n",
    "                          data_sokr_dict = data_sokr_dict,\n",
    "                          delimiters=delimiters)"
   ]
  },
  {
   "cell_type": "code",
   "execution_count": 21,
   "metadata": {},
   "outputs": [],
   "source": [
    "compute_metrics = prepair_compute_metrics(n_classes=n_classes)"
   ]
  },
  {
   "cell_type": "code",
   "execution_count": 22,
   "metadata": {},
   "outputs": [],
   "source": [
    "dir_name = base_name + \"model bert lora level 1/\"\n",
    "if not os.path.exists(dir_name):\n",
    "    os.makedirs(dir_name)"
   ]
  },
  {
   "cell_type": "code",
   "execution_count": 23,
   "metadata": {},
   "outputs": [],
   "source": [
    "save_parameters(dir_name = dir_name, \n",
    "                number_of_delteted_values = number_of_delteted_values, \n",
    "                minimal_number_of_elements_RGNTI2= minimal_number_of_elements_RGNTI2,\n",
    "                minimal_number_of_words = minimal_number_of_words, \n",
    "                max_number_tokens= max_number_tokens, \n",
    "                pre_trained_model_name= pre_trained_model_name,\n",
    "                r=r, \n",
    "                lora_alpha= lora_alpha, lora_dropout = lora_dropout,\n",
    "                epoch= epoch, \n",
    "                batch_size= batch_size,\n",
    "                weight_decay= weight_decay,\n",
    "                warmup_steps= warmup_steps,\n",
    "                fp16=fp16, \n",
    "                optim= optim)"
   ]
  },
  {
   "cell_type": "code",
   "execution_count": 24,
   "metadata": {},
   "outputs": [],
   "source": [
    "def sigmoid_array(x):\n",
    "    return 1 / (1 + np.exp(-x))"
   ]
  },
  {
   "cell_type": "code",
   "execution_count": null,
   "metadata": {},
   "outputs": [
    {
     "data": {
      "application/vnd.jupyter.widget-view+json": {
       "model_id": "9a7ed797898f42baa59cde6c8d91aef4",
       "version_major": 2,
       "version_minor": 0
      },
      "text/plain": [
       "sokr_kind:   0%|          | 0/1 [00:00<?, ?it/s]"
      ]
     },
     "metadata": {},
     "output_type": "display_data"
    },
    {
     "data": {
      "application/vnd.jupyter.widget-view+json": {
       "model_id": "f774fef4d2d54f6eb616d9eae0c3898f",
       "version_major": 2,
       "version_minor": 0
      },
      "text/plain": [
       "  0%|          | 0/285159 [00:00<?, ?it/s]"
      ]
     },
     "metadata": {},
     "output_type": "display_data"
    },
    {
     "data": {
      "application/vnd.jupyter.widget-view+json": {
       "model_id": "6e3347d755784d958ebf979b59920c6b",
       "version_major": 2,
       "version_minor": 0
      },
      "text/plain": [
       "  0%|          | 0/166183 [00:00<?, ?it/s]"
      ]
     },
     "metadata": {},
     "output_type": "display_data"
    },
    {
     "name": "stdout",
     "output_type": "stream",
     "text": [
      "Веса для кажого класса:  tensor([1.3164, 1.2443, 1.5663, 0.6472, 3.6027, 0.2040, 3.0185, 1.4897, 3.1646,\n",
      "        0.8802, 1.2860, 2.2852, 0.4165, 0.3968, 1.1249, 0.3536, 1.9390, 0.7354,\n",
      "        1.8193, 0.3115, 0.8897, 0.2691, 0.6810, 0.6133, 0.6533, 0.7356, 2.0284,\n",
      "        0.7524, 1.9058, 3.0932, 1.1319, 3.0083], dtype=torch.float64)\n",
      "Подготовка тренировочных данных:\n"
     ]
    },
    {
     "data": {
      "application/vnd.jupyter.widget-view+json": {
       "model_id": "c772fa8f389f4725bb7cb41056010a86",
       "version_major": 2,
       "version_minor": 0
      },
      "text/plain": [
       "Map:   0%|          | 0/228152 [00:00<?, ? examples/s]"
      ]
     },
     "metadata": {},
     "output_type": "display_data"
    },
    {
     "name": "stdout",
     "output_type": "stream",
     "text": [
      "Подготовка валидационных данных:\n"
     ]
    },
    {
     "data": {
      "application/vnd.jupyter.widget-view+json": {
       "model_id": "f6a84f5c47f94153b93c8f10e473fba0",
       "version_major": 2,
       "version_minor": 0
      },
      "text/plain": [
       "Map:   0%|          | 0/57007 [00:00<?, ? examples/s]"
      ]
     },
     "metadata": {},
     "output_type": "display_data"
    },
    {
     "name": "stdout",
     "output_type": "stream",
     "text": [
      "Подготовка тестовых данных:\n"
     ]
    },
    {
     "data": {
      "application/vnd.jupyter.widget-view+json": {
       "model_id": "6e0ba9bef49e4a6ca6a4c19739e27284",
       "version_major": 2,
       "version_minor": 0
      },
      "text/plain": [
       "Map:   0%|          | 0/166183 [00:00<?, ? examples/s]"
      ]
     },
     "metadata": {},
     "output_type": "display_data"
    },
    {
     "name": "stderr",
     "output_type": "stream",
     "text": [
      "Some weights of BertForSequenceClassification were not initialized from the model checkpoint at DeepPavlov/rubert-base-cased and are newly initialized: ['classifier.bias', 'classifier.weight']\n",
      "You should probably TRAIN this model on a down-stream task to be able to use it for predictions and inference.\n"
     ]
    },
    {
     "name": "stdout",
     "output_type": "stream",
     "text": [
      "BertForSequenceClassification(\n",
      "  (bert): BertModel(\n",
      "    (embeddings): BertEmbeddings(\n",
      "      (word_embeddings): Embedding(119547, 768, padding_idx=0)\n",
      "      (position_embeddings): Embedding(512, 768)\n",
      "      (token_type_embeddings): Embedding(2, 768)\n",
      "      (LayerNorm): LayerNorm((768,), eps=1e-12, elementwise_affine=True)\n",
      "      (dropout): Dropout(p=0.1, inplace=False)\n",
      "    )\n",
      "    (encoder): BertEncoder(\n",
      "      (layer): ModuleList(\n",
      "        (0-11): 12 x BertLayer(\n",
      "          (attention): BertAttention(\n",
      "            (self): BertSdpaSelfAttention(\n",
      "              (query): Linear(in_features=768, out_features=768, bias=True)\n",
      "              (key): Linear(in_features=768, out_features=768, bias=True)\n",
      "              (value): Linear(in_features=768, out_features=768, bias=True)\n",
      "              (dropout): Dropout(p=0.1, inplace=False)\n",
      "            )\n",
      "            (output): BertSelfOutput(\n",
      "              (dense): Linear(in_features=768, out_features=768, bias=True)\n",
      "              (LayerNorm): LayerNorm((768,), eps=1e-12, elementwise_affine=True)\n",
      "              (dropout): Dropout(p=0.1, inplace=False)\n",
      "            )\n",
      "          )\n",
      "          (intermediate): BertIntermediate(\n",
      "            (dense): Linear(in_features=768, out_features=3072, bias=True)\n",
      "            (intermediate_act_fn): GELUActivation()\n",
      "          )\n",
      "          (output): BertOutput(\n",
      "            (dense): Linear(in_features=3072, out_features=768, bias=True)\n",
      "            (LayerNorm): LayerNorm((768,), eps=1e-12, elementwise_affine=True)\n",
      "            (dropout): Dropout(p=0.1, inplace=False)\n",
      "          )\n",
      "        )\n",
      "      )\n",
      "    )\n",
      "    (pooler): BertPooler(\n",
      "      (dense): Linear(in_features=768, out_features=768, bias=True)\n",
      "      (activation): Tanh()\n",
      "    )\n",
      "  )\n",
      "  (dropout): Dropout(p=0.1, inplace=False)\n",
      "  (classifier): Linear(in_features=768, out_features=32, bias=True)\n",
      ")\n",
      "trainable params: 1,205,024 || all params: 179,083,072 || trainable%: 0.6729\n"
     ]
    },
    {
     "data": {
      "application/vnd.jupyter.widget-view+json": {
       "model_id": "9e8a0ac20c0741ad965293e1a407068b",
       "version_major": 2,
       "version_minor": 0
      },
      "text/plain": [
       "  0%|          | 0/285190 [00:00<?, ?it/s]"
      ]
     },
     "metadata": {},
     "output_type": "display_data"
    },
    {
     "name": "stderr",
     "output_type": "stream",
     "text": [
      "c:\\Users\\victo\\git_Work_VINITI_2024\\my_venv_cuda\\lib\\site-packages\\transformers\\models\\bert\\modeling_bert.py:439: UserWarning: 1Torch was not compiled with flash attention. (Triggered internally at C:\\actions-runner\\_work\\pytorch\\pytorch\\builder\\windows\\pytorch\\aten\\src\\ATen\\native\\transformers\\cuda\\sdp_utils.cpp:455.)\n",
      "  attn_output = torch.nn.functional.scaled_dot_product_attention(\n"
     ]
    },
    {
     "name": "stdout",
     "output_type": "stream",
     "text": [
      "{'loss': 0.4631, 'grad_norm': 0.3444170355796814, 'learning_rate': 4.9984220492320644e-05, 'epoch': 0.0}\n",
      "{'loss': 0.1458, 'grad_norm': 0.2715265154838562, 'learning_rate': 4.996668770601024e-05, 'epoch': 0.01}\n",
      "{'loss': 0.1415, 'grad_norm': 0.2934219539165497, 'learning_rate': 4.994915491969984e-05, 'epoch': 0.01}\n",
      "{'loss': 0.1354, 'grad_norm': 0.37751561403274536, 'learning_rate': 4.9931622133389436e-05, 'epoch': 0.01}\n",
      "{'loss': 0.1305, 'grad_norm': 0.20893947780132294, 'learning_rate': 4.991408934707904e-05, 'epoch': 0.02}\n",
      "{'loss': 0.1164, 'grad_norm': 0.40214645862579346, 'learning_rate': 4.989655656076864e-05, 'epoch': 0.02}\n",
      "{'loss': 0.1054, 'grad_norm': 0.17513519525527954, 'learning_rate': 4.987902377445824e-05, 'epoch': 0.02}\n",
      "{'loss': 0.1002, 'grad_norm': 0.28804829716682434, 'learning_rate': 4.986149098814784e-05, 'epoch': 0.03}\n",
      "{'loss': 0.0928, 'grad_norm': 0.32540595531463623, 'learning_rate': 4.984395820183744e-05, 'epoch': 0.03}\n",
      "{'loss': 0.0952, 'grad_norm': 0.2405790090560913, 'learning_rate': 4.982642541552704e-05, 'epoch': 0.04}\n",
      "{'loss': 0.088, 'grad_norm': 0.4036133289337158, 'learning_rate': 4.980889262921664e-05, 'epoch': 0.04}\n",
      "{'loss': 0.0788, 'grad_norm': 0.1870642453432083, 'learning_rate': 4.979135984290624e-05, 'epoch': 0.04}\n",
      "{'loss': 0.0807, 'grad_norm': 0.28667229413986206, 'learning_rate': 4.9773827056595836e-05, 'epoch': 0.05}\n",
      "{'loss': 0.0797, 'grad_norm': 0.29604706168174744, 'learning_rate': 4.9756294270285435e-05, 'epoch': 0.05}\n",
      "{'loss': 0.0746, 'grad_norm': 0.29366758465766907, 'learning_rate': 4.973876148397504e-05, 'epoch': 0.05}\n",
      "{'loss': 0.0728, 'grad_norm': 0.26569366455078125, 'learning_rate': 4.9721228697664634e-05, 'epoch': 0.06}\n",
      "{'loss': 0.0719, 'grad_norm': 0.198720782995224, 'learning_rate': 4.970369591135423e-05, 'epoch': 0.06}\n",
      "{'loss': 0.0724, 'grad_norm': 0.30503717064857483, 'learning_rate': 4.968616312504383e-05, 'epoch': 0.06}\n",
      "{'loss': 0.0647, 'grad_norm': 0.2499295026063919, 'learning_rate': 4.966863033873343e-05, 'epoch': 0.07}\n",
      "{'loss': 0.0677, 'grad_norm': 0.2949143648147583, 'learning_rate': 4.965109755242303e-05, 'epoch': 0.07}\n",
      "{'loss': 0.068, 'grad_norm': 0.2696465253829956, 'learning_rate': 4.963356476611263e-05, 'epoch': 0.07}\n",
      "{'loss': 0.0716, 'grad_norm': 0.36975064873695374, 'learning_rate': 4.961603197980223e-05, 'epoch': 0.08}\n",
      "{'loss': 0.067, 'grad_norm': 0.33246171474456787, 'learning_rate': 4.959849919349183e-05, 'epoch': 0.08}\n",
      "{'loss': 0.0648, 'grad_norm': 0.18251997232437134, 'learning_rate': 4.9580966407181435e-05, 'epoch': 0.08}\n",
      "{'loss': 0.0648, 'grad_norm': 0.2130141705274582, 'learning_rate': 4.956343362087103e-05, 'epoch': 0.09}\n",
      "{'loss': 0.0662, 'grad_norm': 0.28122612833976746, 'learning_rate': 4.9545900834560634e-05, 'epoch': 0.09}\n",
      "{'loss': 0.063, 'grad_norm': 0.2429036796092987, 'learning_rate': 4.9528368048250226e-05, 'epoch': 0.09}\n",
      "{'loss': 0.0629, 'grad_norm': 0.11238079518079758, 'learning_rate': 4.951083526193983e-05, 'epoch': 0.1}\n",
      "{'loss': 0.0655, 'grad_norm': 0.2963760495185852, 'learning_rate': 4.9493302475629425e-05, 'epoch': 0.1}\n",
      "{'loss': 0.0591, 'grad_norm': 0.1967357099056244, 'learning_rate': 4.947576968931903e-05, 'epoch': 0.11}\n",
      "{'loss': 0.0642, 'grad_norm': 0.3448294699192047, 'learning_rate': 4.945823690300863e-05, 'epoch': 0.11}\n",
      "{'loss': 0.068, 'grad_norm': 0.6310955286026001, 'learning_rate': 4.944070411669823e-05, 'epoch': 0.11}\n",
      "{'loss': 0.0661, 'grad_norm': 0.22766278684139252, 'learning_rate': 4.942317133038783e-05, 'epoch': 0.12}\n",
      "{'loss': 0.0595, 'grad_norm': 0.14845262467861176, 'learning_rate': 4.940563854407743e-05, 'epoch': 0.12}\n",
      "{'loss': 0.0587, 'grad_norm': 0.24664801359176636, 'learning_rate': 4.938810575776703e-05, 'epoch': 0.12}\n",
      "{'loss': 0.0604, 'grad_norm': 0.23044028878211975, 'learning_rate': 4.937057297145663e-05, 'epoch': 0.13}\n",
      "{'loss': 0.0609, 'grad_norm': 0.19504468142986298, 'learning_rate': 4.9353040185146226e-05, 'epoch': 0.13}\n",
      "{'loss': 0.0564, 'grad_norm': 0.2085326761007309, 'learning_rate': 4.9335507398835825e-05, 'epoch': 0.13}\n",
      "{'loss': 0.0612, 'grad_norm': 0.2118591070175171, 'learning_rate': 4.9317974612525425e-05, 'epoch': 0.14}\n",
      "{'loss': 0.0556, 'grad_norm': 0.2893468141555786, 'learning_rate': 4.9300441826215024e-05, 'epoch': 0.14}\n",
      "{'loss': 0.0639, 'grad_norm': 0.3021453320980072, 'learning_rate': 4.9282909039904623e-05, 'epoch': 0.14}\n",
      "{'loss': 0.0567, 'grad_norm': 0.24694940447807312, 'learning_rate': 4.926537625359422e-05, 'epoch': 0.15}\n",
      "{'loss': 0.0595, 'grad_norm': 0.20365524291992188, 'learning_rate': 4.924784346728382e-05, 'epoch': 0.15}\n",
      "{'loss': 0.0555, 'grad_norm': 0.13621370494365692, 'learning_rate': 4.923031068097342e-05, 'epoch': 0.15}\n",
      "{'loss': 0.0588, 'grad_norm': 0.5092460513114929, 'learning_rate': 4.921277789466302e-05, 'epoch': 0.16}\n",
      "{'loss': 0.0552, 'grad_norm': 0.24421247839927673, 'learning_rate': 4.919524510835262e-05, 'epoch': 0.16}\n",
      "{'loss': 0.0607, 'grad_norm': 0.15825052559375763, 'learning_rate': 4.917771232204222e-05, 'epoch': 0.16}\n",
      "{'loss': 0.0544, 'grad_norm': 0.41340160369873047, 'learning_rate': 4.916017953573182e-05, 'epoch': 0.17}\n",
      "{'loss': 0.0552, 'grad_norm': 0.20329053699970245, 'learning_rate': 4.9142646749421425e-05, 'epoch': 0.17}\n",
      "{'loss': 0.0538, 'grad_norm': 0.22675295174121857, 'learning_rate': 4.912511396311102e-05, 'epoch': 0.18}\n",
      "{'loss': 0.0565, 'grad_norm': 0.2914787232875824, 'learning_rate': 4.910758117680062e-05, 'epoch': 0.18}\n",
      "{'loss': 0.0569, 'grad_norm': 0.22990535199642181, 'learning_rate': 4.9090048390490216e-05, 'epoch': 0.18}\n",
      "{'loss': 0.0558, 'grad_norm': 0.30012795329093933, 'learning_rate': 4.907251560417982e-05, 'epoch': 0.19}\n",
      "{'loss': 0.0526, 'grad_norm': 0.30077844858169556, 'learning_rate': 4.9054982817869414e-05, 'epoch': 0.19}\n",
      "{'loss': 0.0548, 'grad_norm': 0.27022793889045715, 'learning_rate': 4.903745003155902e-05, 'epoch': 0.19}\n",
      "{'loss': 0.0519, 'grad_norm': 0.26101645827293396, 'learning_rate': 4.901991724524862e-05, 'epoch': 0.2}\n",
      "{'loss': 0.0543, 'grad_norm': 0.14620473980903625, 'learning_rate': 4.900238445893822e-05, 'epoch': 0.2}\n",
      "{'loss': 0.06, 'grad_norm': 0.36350709199905396, 'learning_rate': 4.898485167262782e-05, 'epoch': 0.2}\n",
      "{'loss': 0.0581, 'grad_norm': 0.4651702344417572, 'learning_rate': 4.896731888631742e-05, 'epoch': 0.21}\n",
      "{'loss': 0.0576, 'grad_norm': 0.2603716552257538, 'learning_rate': 4.894978610000702e-05, 'epoch': 0.21}\n",
      "{'loss': 0.0516, 'grad_norm': 0.223967045545578, 'learning_rate': 4.8932253313696616e-05, 'epoch': 0.21}\n",
      "{'loss': 0.053, 'grad_norm': 0.2647748589515686, 'learning_rate': 4.8914720527386216e-05, 'epoch': 0.22}\n",
      "{'loss': 0.0483, 'grad_norm': 0.24867933988571167, 'learning_rate': 4.8897187741075815e-05, 'epoch': 0.22}\n",
      "{'loss': 0.0556, 'grad_norm': 0.3492979109287262, 'learning_rate': 4.8879654954765414e-05, 'epoch': 0.22}\n",
      "{'loss': 0.0498, 'grad_norm': 0.25158894062042236, 'learning_rate': 4.8862122168455013e-05, 'epoch': 0.23}\n",
      "{'loss': 0.0525, 'grad_norm': 0.2924918532371521, 'learning_rate': 4.884458938214461e-05, 'epoch': 0.23}\n",
      "{'loss': 0.054, 'grad_norm': 0.3252563774585724, 'learning_rate': 4.882705659583421e-05, 'epoch': 0.23}\n",
      "{'loss': 0.0518, 'grad_norm': 0.3837044835090637, 'learning_rate': 4.880952380952381e-05, 'epoch': 0.24}\n",
      "{'loss': 0.0539, 'grad_norm': 0.3559604287147522, 'learning_rate': 4.879199102321341e-05, 'epoch': 0.24}\n",
      "{'loss': 0.0544, 'grad_norm': 0.09666115045547485, 'learning_rate': 4.877445823690301e-05, 'epoch': 0.25}\n",
      "{'loss': 0.0541, 'grad_norm': 0.21543391048908234, 'learning_rate': 4.875692545059261e-05, 'epoch': 0.25}\n",
      "{'loss': 0.0575, 'grad_norm': 0.3310967683792114, 'learning_rate': 4.873939266428221e-05, 'epoch': 0.25}\n",
      "{'loss': 0.0578, 'grad_norm': 0.32437649369239807, 'learning_rate': 4.872185987797181e-05, 'epoch': 0.26}\n",
      "{'loss': 0.0536, 'grad_norm': 0.35342535376548767, 'learning_rate': 4.8704327091661414e-05, 'epoch': 0.26}\n",
      "{'loss': 0.0515, 'grad_norm': 0.23940040171146393, 'learning_rate': 4.8686794305351007e-05, 'epoch': 0.26}\n",
      "{'loss': 0.0552, 'grad_norm': 0.2757118046283722, 'learning_rate': 4.866926151904061e-05, 'epoch': 0.27}\n",
      "{'loss': 0.0511, 'grad_norm': 0.4298675060272217, 'learning_rate': 4.8651728732730205e-05, 'epoch': 0.27}\n",
      "{'loss': 0.0543, 'grad_norm': 0.4362280070781708, 'learning_rate': 4.863419594641981e-05, 'epoch': 0.27}\n",
      "{'loss': 0.0548, 'grad_norm': 0.2571462094783783, 'learning_rate': 4.8616663160109404e-05, 'epoch': 0.28}\n",
      "{'loss': 0.0525, 'grad_norm': 0.2194473147392273, 'learning_rate': 4.859913037379901e-05, 'epoch': 0.28}\n",
      "{'loss': 0.0548, 'grad_norm': 0.34546059370040894, 'learning_rate': 4.858159758748861e-05, 'epoch': 0.28}\n",
      "{'loss': 0.052, 'grad_norm': 0.3837321698665619, 'learning_rate': 4.856406480117821e-05, 'epoch': 0.29}\n",
      "{'loss': 0.0553, 'grad_norm': 0.11317571997642517, 'learning_rate': 4.854653201486781e-05, 'epoch': 0.29}\n",
      "{'loss': 0.0504, 'grad_norm': 0.26894497871398926, 'learning_rate': 4.85289992285574e-05, 'epoch': 0.29}\n",
      "{'loss': 0.049, 'grad_norm': 0.3036298155784607, 'learning_rate': 4.8511466442247006e-05, 'epoch': 0.3}\n",
      "{'loss': 0.0514, 'grad_norm': 0.32223471999168396, 'learning_rate': 4.84939336559366e-05, 'epoch': 0.3}\n",
      "{'loss': 0.0548, 'grad_norm': 0.24432186782360077, 'learning_rate': 4.8476400869626205e-05, 'epoch': 0.31}\n",
      "{'loss': 0.0533, 'grad_norm': 0.2371116429567337, 'learning_rate': 4.84588680833158e-05, 'epoch': 0.31}\n",
      "{'loss': 0.0493, 'grad_norm': 0.35881125926971436, 'learning_rate': 4.8441335297005404e-05, 'epoch': 0.31}\n",
      "{'loss': 0.0516, 'grad_norm': 0.21217593550682068, 'learning_rate': 4.8423802510695e-05, 'epoch': 0.32}\n",
      "{'loss': 0.05, 'grad_norm': 0.1734193116426468, 'learning_rate': 4.84062697243846e-05, 'epoch': 0.32}\n",
      "{'loss': 0.0526, 'grad_norm': 0.4153386652469635, 'learning_rate': 4.83887369380742e-05, 'epoch': 0.32}\n",
      "{'loss': 0.0546, 'grad_norm': 0.3159065842628479, 'learning_rate': 4.83712041517638e-05, 'epoch': 0.33}\n",
      "{'loss': 0.0493, 'grad_norm': 0.18983866274356842, 'learning_rate': 4.83536713654534e-05, 'epoch': 0.33}\n",
      "{'loss': 0.0494, 'grad_norm': 0.36353665590286255, 'learning_rate': 4.8336138579143e-05, 'epoch': 0.33}\n",
      "{'loss': 0.0507, 'grad_norm': 0.16480883955955505, 'learning_rate': 4.83186057928326e-05, 'epoch': 0.34}\n",
      "{'loss': 0.0538, 'grad_norm': 0.2502649128437042, 'learning_rate': 4.83010730065222e-05, 'epoch': 0.34}\n",
      "{'loss': 0.0513, 'grad_norm': 0.5023326873779297, 'learning_rate': 4.82835402202118e-05, 'epoch': 0.34}\n",
      "{'loss': 0.0508, 'grad_norm': 0.199846088886261, 'learning_rate': 4.82660074339014e-05, 'epoch': 0.35}\n",
      "{'loss': 0.052, 'grad_norm': 0.1869484782218933, 'learning_rate': 4.8248474647590996e-05, 'epoch': 0.35}\n",
      "{'loss': 0.0509, 'grad_norm': 0.3089025914669037, 'learning_rate': 4.8230941861280595e-05, 'epoch': 0.35}\n",
      "{'loss': 0.0498, 'grad_norm': 0.38041549921035767, 'learning_rate': 4.8213409074970194e-05, 'epoch': 0.36}\n",
      "{'loss': 0.0478, 'grad_norm': 0.2942759692668915, 'learning_rate': 4.8195876288659794e-05, 'epoch': 0.36}\n",
      "{'loss': 0.0465, 'grad_norm': 0.38242876529693604, 'learning_rate': 4.817834350234939e-05, 'epoch': 0.36}\n",
      "{'loss': 0.053, 'grad_norm': 0.2814946174621582, 'learning_rate': 4.816081071603899e-05, 'epoch': 0.37}\n",
      "{'loss': 0.048, 'grad_norm': 0.4401184022426605, 'learning_rate': 4.81432779297286e-05, 'epoch': 0.37}\n",
      "{'loss': 0.0531, 'grad_norm': 0.34344345331192017, 'learning_rate': 4.812574514341819e-05, 'epoch': 0.38}\n",
      "{'loss': 0.0524, 'grad_norm': 0.1977786272764206, 'learning_rate': 4.81083876849709e-05, 'epoch': 0.38}\n",
      "{'loss': 0.0527, 'grad_norm': 0.3977944254875183, 'learning_rate': 4.80908548986605e-05, 'epoch': 0.38}\n",
      "{'loss': 0.0497, 'grad_norm': 0.23235753178596497, 'learning_rate': 4.80733221123501e-05, 'epoch': 0.39}\n",
      "{'loss': 0.0479, 'grad_norm': 0.3488887846469879, 'learning_rate': 4.8055789326039697e-05, 'epoch': 0.39}\n",
      "{'loss': 0.0475, 'grad_norm': 0.32568177580833435, 'learning_rate': 4.80384318675924e-05, 'epoch': 0.39}\n",
      "{'loss': 0.0494, 'grad_norm': 0.19154302775859833, 'learning_rate': 4.8020899081282004e-05, 'epoch': 0.4}\n",
      "{'loss': 0.0517, 'grad_norm': 0.15985579788684845, 'learning_rate': 4.8003366294971596e-05, 'epoch': 0.4}\n",
      "{'loss': 0.0505, 'grad_norm': 0.44916242361068726, 'learning_rate': 4.79858335086612e-05, 'epoch': 0.4}\n",
      "{'loss': 0.0445, 'grad_norm': 0.31695321202278137, 'learning_rate': 4.79683007223508e-05, 'epoch': 0.41}\n",
      "{'loss': 0.0472, 'grad_norm': 0.47714105248451233, 'learning_rate': 4.7950767936040394e-05, 'epoch': 0.41}\n",
      "{'loss': 0.0492, 'grad_norm': 0.2046157866716385, 'learning_rate': 4.793323514973e-05, 'epoch': 0.41}\n",
      "{'loss': 0.0485, 'grad_norm': 0.24306580424308777, 'learning_rate': 4.791570236341959e-05, 'epoch': 0.42}\n",
      "{'loss': 0.0493, 'grad_norm': 0.257158488035202, 'learning_rate': 4.78981695771092e-05, 'epoch': 0.42}\n",
      "{'loss': 0.0484, 'grad_norm': 0.2784765362739563, 'learning_rate': 4.788063679079879e-05, 'epoch': 0.42}\n",
      "{'loss': 0.0489, 'grad_norm': 0.33174583315849304, 'learning_rate': 4.78631040044884e-05, 'epoch': 0.43}\n",
      "{'loss': 0.0524, 'grad_norm': 0.48679840564727783, 'learning_rate': 4.784557121817799e-05, 'epoch': 0.43}\n",
      "{'loss': 0.0437, 'grad_norm': 0.25091642141342163, 'learning_rate': 4.7828038431867596e-05, 'epoch': 0.43}\n",
      "{'loss': 0.048, 'grad_norm': 0.15091733634471893, 'learning_rate': 4.7810505645557195e-05, 'epoch': 0.44}\n",
      "{'loss': 0.0493, 'grad_norm': 0.1688932478427887, 'learning_rate': 4.7792972859246794e-05, 'epoch': 0.44}\n",
      "{'loss': 0.0505, 'grad_norm': 0.2563292980194092, 'learning_rate': 4.7775440072936394e-05, 'epoch': 0.45}\n",
      "{'loss': 0.0485, 'grad_norm': 0.15582486987113953, 'learning_rate': 4.775790728662599e-05, 'epoch': 0.45}\n",
      "{'loss': 0.05, 'grad_norm': 0.23743900656700134, 'learning_rate': 4.774037450031559e-05, 'epoch': 0.45}\n",
      "{'loss': 0.0527, 'grad_norm': 0.17423400282859802, 'learning_rate': 4.772284171400519e-05, 'epoch': 0.46}\n",
      "{'loss': 0.047, 'grad_norm': 0.3764711916446686, 'learning_rate': 4.770530892769479e-05, 'epoch': 0.46}\n",
      "{'loss': 0.0465, 'grad_norm': 0.171979159116745, 'learning_rate': 4.76877761413844e-05, 'epoch': 0.46}\n",
      "{'loss': 0.0454, 'grad_norm': 0.37335923314094543, 'learning_rate': 4.767024335507399e-05, 'epoch': 0.47}\n",
      "{'loss': 0.0482, 'grad_norm': 0.3551098704338074, 'learning_rate': 4.765271056876359e-05, 'epoch': 0.47}\n",
      "{'loss': 0.0433, 'grad_norm': 0.3584306240081787, 'learning_rate': 4.763517778245319e-05, 'epoch': 0.47}\n",
      "{'loss': 0.047, 'grad_norm': 0.28368961811065674, 'learning_rate': 4.761764499614279e-05, 'epoch': 0.48}\n",
      "{'loss': 0.0449, 'grad_norm': 0.19010794162750244, 'learning_rate': 4.760011220983239e-05, 'epoch': 0.48}\n",
      "{'loss': 0.0463, 'grad_norm': 0.27890750765800476, 'learning_rate': 4.7582579423521986e-05, 'epoch': 0.48}\n",
      "{'loss': 0.0494, 'grad_norm': 0.15903589129447937, 'learning_rate': 4.7565046637211585e-05, 'epoch': 0.49}\n",
      "{'loss': 0.0518, 'grad_norm': 0.3217778205871582, 'learning_rate': 4.7547513850901185e-05, 'epoch': 0.49}\n",
      "{'loss': 0.0464, 'grad_norm': 0.18085747957229614, 'learning_rate': 4.752998106459079e-05, 'epoch': 0.49}\n",
      "{'loss': 0.046, 'grad_norm': 0.1574486941099167, 'learning_rate': 4.751244827828038e-05, 'epoch': 0.5}\n",
      "{'loss': 0.0456, 'grad_norm': 0.627079963684082, 'learning_rate': 4.749491549196999e-05, 'epoch': 0.5}\n",
      "{'loss': 0.0477, 'grad_norm': 0.20515461266040802, 'learning_rate': 4.747738270565958e-05, 'epoch': 0.5}\n",
      "{'loss': 0.0445, 'grad_norm': 0.2035910189151764, 'learning_rate': 4.745984991934919e-05, 'epoch': 0.51}\n",
      "{'loss': 0.0459, 'grad_norm': 0.16356639564037323, 'learning_rate': 4.744231713303878e-05, 'epoch': 0.51}\n",
      "{'loss': 0.0451, 'grad_norm': 0.3348078727722168, 'learning_rate': 4.7424784346728387e-05, 'epoch': 0.52}\n",
      "{'loss': 0.0466, 'grad_norm': 0.2702628970146179, 'learning_rate': 4.740725156041798e-05, 'epoch': 0.52}\n",
      "{'loss': 0.0503, 'grad_norm': 0.21860849857330322, 'learning_rate': 4.7389718774107585e-05, 'epoch': 0.52}\n",
      "{'loss': 0.0444, 'grad_norm': 0.3297460377216339, 'learning_rate': 4.7372185987797185e-05, 'epoch': 0.53}\n",
      "{'loss': 0.0467, 'grad_norm': 0.1480877548456192, 'learning_rate': 4.7354653201486784e-05, 'epoch': 0.53}\n",
      "{'loss': 0.0473, 'grad_norm': 0.31079813838005066, 'learning_rate': 4.733712041517638e-05, 'epoch': 0.53}\n",
      "{'loss': 0.0474, 'grad_norm': 0.3826802372932434, 'learning_rate': 4.731958762886598e-05, 'epoch': 0.54}\n",
      "{'loss': 0.0485, 'grad_norm': 0.15094023942947388, 'learning_rate': 4.730223017041869e-05, 'epoch': 0.54}\n",
      "{'loss': 0.0482, 'grad_norm': 0.46762025356292725, 'learning_rate': 4.728469738410828e-05, 'epoch': 0.54}\n",
      "{'loss': 0.0448, 'grad_norm': 0.0663115605711937, 'learning_rate': 4.726716459779789e-05, 'epoch': 0.55}\n",
      "{'loss': 0.047, 'grad_norm': 0.4095940589904785, 'learning_rate': 4.724963181148748e-05, 'epoch': 0.55}\n",
      "{'loss': 0.0464, 'grad_norm': 0.3053267300128937, 'learning_rate': 4.723209902517709e-05, 'epoch': 0.55}\n",
      "{'loss': 0.0448, 'grad_norm': 0.3558737635612488, 'learning_rate': 4.721456623886668e-05, 'epoch': 0.56}\n",
      "{'loss': 0.044, 'grad_norm': 0.30540886521339417, 'learning_rate': 4.7197033452556286e-05, 'epoch': 0.56}\n",
      "{'loss': 0.0468, 'grad_norm': 0.14193195104599, 'learning_rate': 4.717950066624588e-05, 'epoch': 0.56}\n",
      "{'loss': 0.0476, 'grad_norm': 0.07213617861270905, 'learning_rate': 4.7161967879935485e-05, 'epoch': 0.57}\n",
      "{'loss': 0.0459, 'grad_norm': 0.288528710603714, 'learning_rate': 4.7144435093625084e-05, 'epoch': 0.57}\n",
      "{'loss': 0.052, 'grad_norm': 0.3619089722633362, 'learning_rate': 4.712690230731468e-05, 'epoch': 0.58}\n",
      "{'loss': 0.0469, 'grad_norm': 0.4070676565170288, 'learning_rate': 4.710936952100428e-05, 'epoch': 0.58}\n",
      "{'loss': 0.0469, 'grad_norm': 0.1952316164970398, 'learning_rate': 4.7091836734693875e-05, 'epoch': 0.58}\n",
      "{'loss': 0.0478, 'grad_norm': 0.4358648359775543, 'learning_rate': 4.707430394838348e-05, 'epoch': 0.59}\n",
      "{'loss': 0.045, 'grad_norm': 0.3335423767566681, 'learning_rate': 4.7056771162073074e-05, 'epoch': 0.59}\n",
      "{'loss': 0.0443, 'grad_norm': 0.19985359907150269, 'learning_rate': 4.703923837576268e-05, 'epoch': 0.59}\n",
      "{'loss': 0.0471, 'grad_norm': 0.33634355664253235, 'learning_rate': 4.702170558945228e-05, 'epoch': 0.6}\n",
      "{'loss': 0.0468, 'grad_norm': 0.2509426176548004, 'learning_rate': 4.700417280314188e-05, 'epoch': 0.6}\n",
      "{'loss': 0.045, 'grad_norm': 0.2191685289144516, 'learning_rate': 4.698664001683148e-05, 'epoch': 0.6}\n",
      "{'loss': 0.0429, 'grad_norm': 0.29988935589790344, 'learning_rate': 4.696928255838418e-05, 'epoch': 0.61}\n",
      "{'loss': 0.043, 'grad_norm': 0.31311866641044617, 'learning_rate': 4.695174977207378e-05, 'epoch': 0.61}\n",
      "{'loss': 0.0467, 'grad_norm': 0.14865908026695251, 'learning_rate': 4.693421698576338e-05, 'epoch': 0.61}\n",
      "{'loss': 0.0446, 'grad_norm': 0.21359528601169586, 'learning_rate': 4.691668419945298e-05, 'epoch': 0.62}\n",
      "{'loss': 0.0474, 'grad_norm': 0.41664257645606995, 'learning_rate': 4.6899151413142576e-05, 'epoch': 0.62}\n",
      "{'loss': 0.0465, 'grad_norm': 0.21021661162376404, 'learning_rate': 4.688161862683218e-05, 'epoch': 0.62}\n",
      "{'loss': 0.0456, 'grad_norm': 0.2573367655277252, 'learning_rate': 4.6864085840521774e-05, 'epoch': 0.63}\n",
      "{'loss': 0.0498, 'grad_norm': 0.2513475716114044, 'learning_rate': 4.684655305421138e-05, 'epoch': 0.63}\n",
      "{'loss': 0.0473, 'grad_norm': 0.22270065546035767, 'learning_rate': 4.682902026790097e-05, 'epoch': 0.63}\n",
      "{'loss': 0.046, 'grad_norm': 0.5916334986686707, 'learning_rate': 4.681148748159058e-05, 'epoch': 0.64}\n",
      "{'loss': 0.0488, 'grad_norm': 0.2554849684238434, 'learning_rate': 4.679395469528018e-05, 'epoch': 0.64}\n",
      "{'loss': 0.0429, 'grad_norm': 0.5338041186332703, 'learning_rate': 4.677642190896978e-05, 'epoch': 0.65}\n",
      "{'loss': 0.0435, 'grad_norm': 0.24196161329746246, 'learning_rate': 4.675888912265938e-05, 'epoch': 0.65}\n",
      "{'loss': 0.0447, 'grad_norm': 0.18859010934829712, 'learning_rate': 4.6741356336348976e-05, 'epoch': 0.65}\n",
      "{'loss': 0.049, 'grad_norm': 0.4918978214263916, 'learning_rate': 4.6723823550038575e-05, 'epoch': 0.66}\n",
      "{'loss': 0.045, 'grad_norm': 0.177191361784935, 'learning_rate': 4.6706290763728175e-05, 'epoch': 0.66}\n",
      "{'loss': 0.0474, 'grad_norm': 0.1895628571510315, 'learning_rate': 4.6688757977417774e-05, 'epoch': 0.66}\n",
      "{'loss': 0.0472, 'grad_norm': 0.16297031939029694, 'learning_rate': 4.667122519110737e-05, 'epoch': 0.67}\n",
      "{'loss': 0.0473, 'grad_norm': 0.2883327901363373, 'learning_rate': 4.665369240479697e-05, 'epoch': 0.67}\n",
      "{'loss': 0.0394, 'grad_norm': 0.17435263097286224, 'learning_rate': 4.663615961848657e-05, 'epoch': 0.67}\n",
      "{'loss': 0.0452, 'grad_norm': 0.38961392641067505, 'learning_rate': 4.661880216003928e-05, 'epoch': 0.68}\n",
      "{'loss': 0.0476, 'grad_norm': 0.16035541892051697, 'learning_rate': 4.660126937372887e-05, 'epoch': 0.68}\n",
      "{'loss': 0.0451, 'grad_norm': 0.2746312916278839, 'learning_rate': 4.658373658741848e-05, 'epoch': 0.68}\n",
      "{'loss': 0.0457, 'grad_norm': 0.26140931248664856, 'learning_rate': 4.656620380110808e-05, 'epoch': 0.69}\n",
      "{'loss': 0.0445, 'grad_norm': 0.2820887565612793, 'learning_rate': 4.654867101479768e-05, 'epoch': 0.69}\n",
      "{'loss': 0.0423, 'grad_norm': 0.31879809498786926, 'learning_rate': 4.6531138228487276e-05, 'epoch': 0.69}\n",
      "{'loss': 0.0418, 'grad_norm': 0.2968479096889496, 'learning_rate': 4.651360544217687e-05, 'epoch': 0.7}\n",
      "{'loss': 0.0442, 'grad_norm': 0.17254918813705444, 'learning_rate': 4.6496072655866475e-05, 'epoch': 0.7}\n",
      "{'loss': 0.0428, 'grad_norm': 0.38516661524772644, 'learning_rate': 4.647853986955607e-05, 'epoch': 0.7}\n",
      "{'loss': 0.0468, 'grad_norm': 0.16174298524856567, 'learning_rate': 4.646100708324567e-05, 'epoch': 0.71}\n",
      "{'loss': 0.0429, 'grad_norm': 0.17641577124595642, 'learning_rate': 4.6443474296935266e-05, 'epoch': 0.71}\n",
      "{'loss': 0.0442, 'grad_norm': 0.40084755420684814, 'learning_rate': 4.642594151062487e-05, 'epoch': 0.72}\n",
      "{'loss': 0.0424, 'grad_norm': 0.23191463947296143, 'learning_rate': 4.640840872431447e-05, 'epoch': 0.72}\n",
      "{'loss': 0.0445, 'grad_norm': 0.2488444298505783, 'learning_rate': 4.639087593800407e-05, 'epoch': 0.72}\n",
      "{'loss': 0.0436, 'grad_norm': 0.3435264229774475, 'learning_rate': 4.637334315169367e-05, 'epoch': 0.73}\n",
      "{'loss': 0.0457, 'grad_norm': 0.3253331780433655, 'learning_rate': 4.635581036538327e-05, 'epoch': 0.73}\n",
      "{'loss': 0.0482, 'grad_norm': 0.19024904072284698, 'learning_rate': 4.633827757907287e-05, 'epoch': 0.73}\n",
      "{'loss': 0.0425, 'grad_norm': 0.36541685461997986, 'learning_rate': 4.632074479276247e-05, 'epoch': 0.74}\n",
      "{'loss': 0.0437, 'grad_norm': 0.35868731141090393, 'learning_rate': 4.630321200645207e-05, 'epoch': 0.74}\n",
      "{'loss': 0.0472, 'grad_norm': 0.488214373588562, 'learning_rate': 4.6285679220141666e-05, 'epoch': 0.74}\n",
      "{'loss': 0.0431, 'grad_norm': 0.2592887282371521, 'learning_rate': 4.6268146433831266e-05, 'epoch': 0.75}\n",
      "{'loss': 0.044, 'grad_norm': 0.2523246705532074, 'learning_rate': 4.625061364752087e-05, 'epoch': 0.75}\n",
      "{'loss': 0.0461, 'grad_norm': 0.3157596290111542, 'learning_rate': 4.6233080861210464e-05, 'epoch': 0.75}\n",
      "{'loss': 0.0463, 'grad_norm': 0.28041762113571167, 'learning_rate': 4.6215723402763165e-05, 'epoch': 0.76}\n",
      "{'loss': 0.0451, 'grad_norm': 0.24604465067386627, 'learning_rate': 4.619819061645277e-05, 'epoch': 0.76}\n",
      "{'loss': 0.0442, 'grad_norm': 0.18536745011806488, 'learning_rate': 4.618065783014237e-05, 'epoch': 0.76}\n",
      "{'loss': 0.0479, 'grad_norm': 0.23603194952011108, 'learning_rate': 4.616312504383197e-05, 'epoch': 0.77}\n",
      "{'loss': 0.0408, 'grad_norm': 0.06225895509123802, 'learning_rate': 4.614559225752157e-05, 'epoch': 0.77}\n",
      "{'loss': 0.0494, 'grad_norm': 0.0920070931315422, 'learning_rate': 4.612805947121117e-05, 'epoch': 0.77}\n",
      "{'loss': 0.042, 'grad_norm': 0.2333427518606186, 'learning_rate': 4.611052668490077e-05, 'epoch': 0.78}\n",
      "{'loss': 0.0433, 'grad_norm': 0.25258925557136536, 'learning_rate': 4.609299389859037e-05, 'epoch': 0.78}\n",
      "{'loss': 0.0408, 'grad_norm': 0.4194342792034149, 'learning_rate': 4.6075461112279966e-05, 'epoch': 0.79}\n",
      "{'loss': 0.0416, 'grad_norm': 0.1274728775024414, 'learning_rate': 4.6057928325969566e-05, 'epoch': 0.79}\n",
      "{'loss': 0.0471, 'grad_norm': 0.44660624861717224, 'learning_rate': 4.6040395539659165e-05, 'epoch': 0.79}\n",
      "{'loss': 0.0437, 'grad_norm': 0.15142163634300232, 'learning_rate': 4.6022862753348764e-05, 'epoch': 0.8}\n",
      "{'loss': 0.0419, 'grad_norm': 0.29171526432037354, 'learning_rate': 4.6005329967038364e-05, 'epoch': 0.8}\n",
      "{'loss': 0.0391, 'grad_norm': 0.3356781601905823, 'learning_rate': 4.598779718072796e-05, 'epoch': 0.8}\n",
      "{'loss': 0.045, 'grad_norm': 0.2587653696537018, 'learning_rate': 4.597026439441756e-05, 'epoch': 0.81}\n",
      "{'loss': 0.0474, 'grad_norm': 0.3329809606075287, 'learning_rate': 4.595273160810716e-05, 'epoch': 0.81}\n",
      "{'loss': 0.0416, 'grad_norm': 0.2138989269733429, 'learning_rate': 4.593519882179676e-05, 'epoch': 0.81}\n",
      "{'loss': 0.0409, 'grad_norm': 0.11190851032733917, 'learning_rate': 4.591766603548636e-05, 'epoch': 0.82}\n",
      "{'loss': 0.0406, 'grad_norm': 0.22182217240333557, 'learning_rate': 4.5900133249175966e-05, 'epoch': 0.82}\n",
      "{'loss': 0.0452, 'grad_norm': 0.25815483927726746, 'learning_rate': 4.588260046286556e-05, 'epoch': 0.82}\n",
      "{'loss': 0.0405, 'grad_norm': 0.45944589376449585, 'learning_rate': 4.5865067676555165e-05, 'epoch': 0.83}\n",
      "{'loss': 0.042, 'grad_norm': 0.2308211326599121, 'learning_rate': 4.584753489024476e-05, 'epoch': 0.83}\n",
      "{'loss': 0.0424, 'grad_norm': 0.15213079750537872, 'learning_rate': 4.5830002103934363e-05, 'epoch': 0.83}\n",
      "{'loss': 0.0463, 'grad_norm': 0.3680821657180786, 'learning_rate': 4.5812469317623956e-05, 'epoch': 0.84}\n",
      "{'loss': 0.0468, 'grad_norm': 0.3742905557155609, 'learning_rate': 4.579493653131356e-05, 'epoch': 0.84}\n",
      "{'loss': 0.0463, 'grad_norm': 0.20798085629940033, 'learning_rate': 4.5777403745003155e-05, 'epoch': 0.85}\n",
      "{'loss': 0.0452, 'grad_norm': 0.4279821813106537, 'learning_rate': 4.575987095869276e-05, 'epoch': 0.85}\n",
      "{'loss': 0.0429, 'grad_norm': 0.17636629939079285, 'learning_rate': 4.574233817238236e-05, 'epoch': 0.85}\n",
      "{'loss': 0.0451, 'grad_norm': 0.1808457225561142, 'learning_rate': 4.572480538607196e-05, 'epoch': 0.86}\n",
      "{'loss': 0.0435, 'grad_norm': 0.3265940546989441, 'learning_rate': 4.570727259976156e-05, 'epoch': 0.86}\n",
      "{'loss': 0.0436, 'grad_norm': 0.2804836630821228, 'learning_rate': 4.568973981345116e-05, 'epoch': 0.86}\n",
      "{'loss': 0.0438, 'grad_norm': 0.25282931327819824, 'learning_rate': 4.567220702714076e-05, 'epoch': 0.87}\n",
      "{'loss': 0.0413, 'grad_norm': 0.11341734975576401, 'learning_rate': 4.565467424083035e-05, 'epoch': 0.87}\n",
      "{'loss': 0.0459, 'grad_norm': 0.31857845187187195, 'learning_rate': 4.5637141454519956e-05, 'epoch': 0.87}\n",
      "{'loss': 0.0435, 'grad_norm': 0.5547888278961182, 'learning_rate': 4.561960866820955e-05, 'epoch': 0.88}\n",
      "{'loss': 0.0437, 'grad_norm': 0.28318050503730774, 'learning_rate': 4.5602075881899154e-05, 'epoch': 0.88}\n",
      "{'loss': 0.046, 'grad_norm': 0.2334897518157959, 'learning_rate': 4.5584543095588754e-05, 'epoch': 0.88}\n",
      "{'loss': 0.0443, 'grad_norm': 0.20893846452236176, 'learning_rate': 4.556701030927835e-05, 'epoch': 0.89}\n",
      "{'loss': 0.0424, 'grad_norm': 0.21799592673778534, 'learning_rate': 4.554947752296795e-05, 'epoch': 0.89}\n",
      "{'loss': 0.0448, 'grad_norm': 0.5404865741729736, 'learning_rate': 4.553194473665755e-05, 'epoch': 0.89}\n",
      "{'loss': 0.0423, 'grad_norm': 0.24323783814907074, 'learning_rate': 4.551441195034715e-05, 'epoch': 0.9}\n",
      "{'loss': 0.0402, 'grad_norm': 0.3218972086906433, 'learning_rate': 4.549687916403675e-05, 'epoch': 0.9}\n",
      "{'loss': 0.043, 'grad_norm': 0.250331312417984, 'learning_rate': 4.547952170558946e-05, 'epoch': 0.9}\n",
      "{'loss': 0.0397, 'grad_norm': 0.16862480342388153, 'learning_rate': 4.546198891927905e-05, 'epoch': 0.91}\n",
      "{'loss': 0.0408, 'grad_norm': 0.24776387214660645, 'learning_rate': 4.5444456132968656e-05, 'epoch': 0.91}\n",
      "{'loss': 0.0399, 'grad_norm': 0.21062062680721283, 'learning_rate': 4.542692334665825e-05, 'epoch': 0.92}\n",
      "{'loss': 0.0452, 'grad_norm': 0.18082045018672943, 'learning_rate': 4.5409390560347855e-05, 'epoch': 0.92}\n",
      "{'loss': 0.0439, 'grad_norm': 0.10898936539888382, 'learning_rate': 4.539185777403745e-05, 'epoch': 0.92}\n",
      "{'loss': 0.0443, 'grad_norm': 0.37189796566963196, 'learning_rate': 4.5374324987727054e-05, 'epoch': 0.93}\n",
      "{'loss': 0.0439, 'grad_norm': 0.21216288208961487, 'learning_rate': 4.5356967529279755e-05, 'epoch': 0.93}\n",
      "{'loss': 0.0405, 'grad_norm': 0.31428155303001404, 'learning_rate': 4.5339434742969354e-05, 'epoch': 0.93}\n",
      "{'loss': 0.0416, 'grad_norm': 0.33223867416381836, 'learning_rate': 4.532190195665895e-05, 'epoch': 0.94}\n",
      "{'loss': 0.0417, 'grad_norm': 0.13945786654949188, 'learning_rate': 4.530436917034855e-05, 'epoch': 0.94}\n",
      "{'loss': 0.0431, 'grad_norm': 0.21197070181369781, 'learning_rate': 4.528683638403816e-05, 'epoch': 0.94}\n",
      "{'loss': 0.0419, 'grad_norm': 0.4943220615386963, 'learning_rate': 4.526930359772775e-05, 'epoch': 0.95}\n",
      "{'loss': 0.0406, 'grad_norm': 0.2091076672077179, 'learning_rate': 4.525177081141736e-05, 'epoch': 0.95}\n",
      "{'loss': 0.0435, 'grad_norm': 0.24095942080020905, 'learning_rate': 4.523423802510695e-05, 'epoch': 0.95}\n",
      "{'loss': 0.0497, 'grad_norm': 0.1914122998714447, 'learning_rate': 4.5216705238796556e-05, 'epoch': 0.96}\n",
      "{'loss': 0.0411, 'grad_norm': 0.14342784881591797, 'learning_rate': 4.519917245248615e-05, 'epoch': 0.96}\n",
      "{'loss': 0.0412, 'grad_norm': 0.40393343567848206, 'learning_rate': 4.5181639666175754e-05, 'epoch': 0.96}\n",
      "{'loss': 0.0403, 'grad_norm': 0.44043853878974915, 'learning_rate': 4.516410687986535e-05, 'epoch': 0.97}\n",
      "{'loss': 0.0419, 'grad_norm': 0.4928714334964752, 'learning_rate': 4.514657409355495e-05, 'epoch': 0.97}\n",
      "{'loss': 0.0446, 'grad_norm': 0.32495614886283875, 'learning_rate': 4.512904130724455e-05, 'epoch': 0.97}\n",
      "{'loss': 0.0392, 'grad_norm': 0.22541898488998413, 'learning_rate': 4.5111508520934145e-05, 'epoch': 0.98}\n",
      "{'loss': 0.0433, 'grad_norm': 0.2400694191455841, 'learning_rate': 4.509397573462375e-05, 'epoch': 0.98}\n",
      "{'loss': 0.0463, 'grad_norm': 0.43707990646362305, 'learning_rate': 4.507644294831334e-05, 'epoch': 0.99}\n",
      "{'loss': 0.0428, 'grad_norm': 0.269165575504303, 'learning_rate': 4.505891016200295e-05, 'epoch': 0.99}\n",
      "{'loss': 0.0404, 'grad_norm': 0.17551298439502716, 'learning_rate': 4.504137737569254e-05, 'epoch': 0.99}\n",
      "{'loss': 0.0396, 'grad_norm': 0.2000642716884613, 'learning_rate': 4.502384458938215e-05, 'epoch': 1.0}\n",
      "{'loss': 0.0417, 'grad_norm': 0.21379990875720978, 'learning_rate': 4.500631180307175e-05, 'epoch': 1.0}\n"
     ]
    },
    {
     "data": {
      "application/vnd.jupyter.widget-view+json": {
       "model_id": "e184a3fd85314d77a8fea73a0ef1155a",
       "version_major": 2,
       "version_minor": 0
      },
      "text/plain": [
       "  0%|          | 0/7126 [00:00<?, ?it/s]"
      ]
     },
     "metadata": {},
     "output_type": "display_data"
    },
    {
     "name": "stdout",
     "output_type": "stream",
     "text": [
      "{'eval_loss': 0.03972908854484558, 'eval_accuracy_micro_0.5': 0.9827494025230408, 'eval_accuracy_macro_0.5': 0.982749342918396, 'eval_accuracy_weighted_0.5': 0.9745665192604065, 'eval_f1_micro_0.5': 0.7727525234222412, 'eval_f1_macro_0.5': 0.7371273040771484, 'eval_f1_weighted_0.5': 0.7655503749847412, 'eval_f1_micro_0.6': 0.7568511962890625, 'eval_f1_macro_0.6': 0.715980589389801, 'eval_f1_weighted_0.6': 0.7453075647354126, 'eval_f1_micro_0.7': 0.7257327437400818, 'eval_f1_macro_0.7': 0.6792643070220947, 'eval_f1_weighted_0.7': 0.7085013389587402, 'eval_f1_micro_0.8': 0.6711833477020264, 'eval_f1_macro_0.8': 0.48996055126190186, 'eval_f1_weighted_0.8': 0.5180400609970093, 'eval_f1_micro_0.9': 0.5549047589302063, 'eval_aucroc_micro': 0.9158798456192017, 'eval_aucroc_macro': 0.9036651849746704, 'eval_aucroc_weighted': 0.9133782982826233, 'eval_runtime': 2319.7816, 'eval_samples_per_second': 24.574, 'eval_steps_per_second': 3.072, 'epoch': 1.0}\n",
      "{'loss': 0.0378, 'grad_norm': 0.2716352343559265, 'learning_rate': 4.498877901676135e-05, 'epoch': 1.0}\n",
      "{'loss': 0.0411, 'grad_norm': 0.16066840291023254, 'learning_rate': 4.4971246230450946e-05, 'epoch': 1.01}\n",
      "{'loss': 0.0412, 'grad_norm': 0.1812536120414734, 'learning_rate': 4.4953713444140545e-05, 'epoch': 1.01}\n",
      "{'loss': 0.0383, 'grad_norm': 0.3779684901237488, 'learning_rate': 4.4936180657830145e-05, 'epoch': 1.01}\n",
      "{'loss': 0.0402, 'grad_norm': 0.20049306750297546, 'learning_rate': 4.4918647871519744e-05, 'epoch': 1.02}\n",
      "{'loss': 0.0397, 'grad_norm': 0.20261549949645996, 'learning_rate': 4.490111508520934e-05, 'epoch': 1.02}\n",
      "{'loss': 0.0388, 'grad_norm': 0.13482454419136047, 'learning_rate': 4.488358229889894e-05, 'epoch': 1.02}\n",
      "{'loss': 0.0397, 'grad_norm': 0.15470412373542786, 'learning_rate': 4.486604951258854e-05, 'epoch': 1.03}\n",
      "{'loss': 0.0429, 'grad_norm': 0.13613519072532654, 'learning_rate': 4.484851672627815e-05, 'epoch': 1.03}\n",
      "{'loss': 0.0411, 'grad_norm': 0.2034505307674408, 'learning_rate': 4.483098393996774e-05, 'epoch': 1.03}\n",
      "{'loss': 0.0398, 'grad_norm': 0.09341530501842499, 'learning_rate': 4.4813451153657346e-05, 'epoch': 1.04}\n",
      "{'loss': 0.0409, 'grad_norm': 0.5270370841026306, 'learning_rate': 4.479591836734694e-05, 'epoch': 1.04}\n",
      "{'loss': 0.0405, 'grad_norm': 0.09332144260406494, 'learning_rate': 4.477838558103654e-05, 'epoch': 1.04}\n",
      "{'loss': 0.0377, 'grad_norm': 0.17216536402702332, 'learning_rate': 4.476085279472614e-05, 'epoch': 1.05}\n",
      "{'loss': 0.0373, 'grad_norm': 0.09974093735218048, 'learning_rate': 4.474332000841574e-05, 'epoch': 1.05}\n",
      "{'loss': 0.041, 'grad_norm': 0.22608433663845062, 'learning_rate': 4.4725787222105336e-05, 'epoch': 1.06}\n",
      "{'loss': 0.0385, 'grad_norm': 0.16052259504795074, 'learning_rate': 4.4708254435794936e-05, 'epoch': 1.06}\n",
      "{'loss': 0.0374, 'grad_norm': 0.13440018892288208, 'learning_rate': 4.469072164948454e-05, 'epoch': 1.06}\n",
      "{'loss': 0.0401, 'grad_norm': 0.18265901505947113, 'learning_rate': 4.4673188863174134e-05, 'epoch': 1.07}\n",
      "{'loss': 0.0436, 'grad_norm': 0.29425936937332153, 'learning_rate': 4.465565607686374e-05, 'epoch': 1.07}\n",
      "{'loss': 0.0409, 'grad_norm': 0.16522131860256195, 'learning_rate': 4.463812329055333e-05, 'epoch': 1.07}\n",
      "{'loss': 0.0448, 'grad_norm': 0.30627697706222534, 'learning_rate': 4.462059050424294e-05, 'epoch': 1.08}\n",
      "{'loss': 0.0417, 'grad_norm': 0.30080100893974304, 'learning_rate': 4.460323304579564e-05, 'epoch': 1.08}\n",
      "{'loss': 0.0392, 'grad_norm': 0.216691792011261, 'learning_rate': 4.458570025948524e-05, 'epoch': 1.08}\n",
      "{'loss': 0.04, 'grad_norm': 0.21175538003444672, 'learning_rate': 4.456816747317484e-05, 'epoch': 1.09}\n",
      "{'loss': 0.0431, 'grad_norm': 0.17618399858474731, 'learning_rate': 4.455063468686444e-05, 'epoch': 1.09}\n",
      "{'loss': 0.0377, 'grad_norm': 0.24781754612922668, 'learning_rate': 4.453310190055404e-05, 'epoch': 1.09}\n",
      "{'loss': 0.0447, 'grad_norm': 0.13309717178344727, 'learning_rate': 4.4515569114243636e-05, 'epoch': 1.1}\n",
      "{'loss': 0.0397, 'grad_norm': 0.13069559633731842, 'learning_rate': 4.4498036327933236e-05, 'epoch': 1.1}\n",
      "{'loss': 0.0389, 'grad_norm': 0.17690061032772064, 'learning_rate': 4.4480503541622835e-05, 'epoch': 1.1}\n",
      "{'loss': 0.043, 'grad_norm': 0.267027348279953, 'learning_rate': 4.446297075531244e-05, 'epoch': 1.11}\n",
      "{'loss': 0.0384, 'grad_norm': 0.3067457675933838, 'learning_rate': 4.4445437969002033e-05, 'epoch': 1.11}\n",
      "{'loss': 0.0385, 'grad_norm': 0.07688725739717484, 'learning_rate': 4.442790518269164e-05, 'epoch': 1.12}\n",
      "{'loss': 0.0383, 'grad_norm': 0.3525243103504181, 'learning_rate': 4.441037239638123e-05, 'epoch': 1.12}\n",
      "{'loss': 0.0411, 'grad_norm': 0.25184667110443115, 'learning_rate': 4.439283961007084e-05, 'epoch': 1.12}\n",
      "{'loss': 0.0385, 'grad_norm': 0.1649748831987381, 'learning_rate': 4.437530682376043e-05, 'epoch': 1.13}\n",
      "{'loss': 0.041, 'grad_norm': 0.48263680934906006, 'learning_rate': 4.435777403745004e-05, 'epoch': 1.13}\n",
      "{'loss': 0.0419, 'grad_norm': 0.22175711393356323, 'learning_rate': 4.4340241251139636e-05, 'epoch': 1.13}\n",
      "{'loss': 0.0427, 'grad_norm': 0.14891137182712555, 'learning_rate': 4.4322708464829235e-05, 'epoch': 1.14}\n",
      "{'loss': 0.0365, 'grad_norm': 0.09572845697402954, 'learning_rate': 4.4305175678518835e-05, 'epoch': 1.14}\n",
      "{'loss': 0.045, 'grad_norm': 0.21962475776672363, 'learning_rate': 4.4287642892208434e-05, 'epoch': 1.14}\n",
      "{'loss': 0.0402, 'grad_norm': 0.15878324210643768, 'learning_rate': 4.4270285433761135e-05, 'epoch': 1.15}\n",
      "{'loss': 0.0403, 'grad_norm': 0.3738921582698822, 'learning_rate': 4.4252752647450734e-05, 'epoch': 1.15}\n",
      "{'loss': 0.0443, 'grad_norm': 0.22739636898040771, 'learning_rate': 4.4235219861140333e-05, 'epoch': 1.15}\n",
      "{'loss': 0.0401, 'grad_norm': 0.1456162929534912, 'learning_rate': 4.421768707482993e-05, 'epoch': 1.16}\n",
      "{'loss': 0.038, 'grad_norm': 0.1051890105009079, 'learning_rate': 4.420015428851953e-05, 'epoch': 1.16}\n",
      "{'loss': 0.0347, 'grad_norm': 0.19978782534599304, 'learning_rate': 4.418262150220913e-05, 'epoch': 1.16}\n",
      "{'loss': 0.0415, 'grad_norm': 0.26780202984809875, 'learning_rate': 4.416508871589873e-05, 'epoch': 1.17}\n",
      "{'loss': 0.0416, 'grad_norm': 0.2644229829311371, 'learning_rate': 4.414755592958833e-05, 'epoch': 1.17}\n",
      "{'loss': 0.0399, 'grad_norm': 0.26664793491363525, 'learning_rate': 4.413002314327793e-05, 'epoch': 1.17}\n",
      "{'loss': 0.0381, 'grad_norm': 0.14448080956935883, 'learning_rate': 4.4112490356967535e-05, 'epoch': 1.18}\n",
      "{'loss': 0.0395, 'grad_norm': 0.2626447081565857, 'learning_rate': 4.409495757065713e-05, 'epoch': 1.18}\n",
      "{'loss': 0.0412, 'grad_norm': 0.22438454627990723, 'learning_rate': 4.4077424784346734e-05, 'epoch': 1.19}\n",
      "{'loss': 0.0398, 'grad_norm': 0.12260542064905167, 'learning_rate': 4.4059891998036326e-05, 'epoch': 1.19}\n",
      "{'loss': 0.0381, 'grad_norm': 0.3910852372646332, 'learning_rate': 4.404235921172593e-05, 'epoch': 1.19}\n",
      "{'loss': 0.0381, 'grad_norm': 0.23858106136322021, 'learning_rate': 4.4024826425415525e-05, 'epoch': 1.2}\n",
      "{'loss': 0.0347, 'grad_norm': 0.17865867912769318, 'learning_rate': 4.400729363910513e-05, 'epoch': 1.2}\n",
      "{'loss': 0.0409, 'grad_norm': 0.2720670998096466, 'learning_rate': 4.3989760852794724e-05, 'epoch': 1.2}\n",
      "{'loss': 0.0374, 'grad_norm': 0.19697685539722443, 'learning_rate': 4.397222806648433e-05, 'epoch': 1.21}\n",
      "{'loss': 0.038, 'grad_norm': 0.21837182343006134, 'learning_rate': 4.395469528017393e-05, 'epoch': 1.21}\n",
      "{'loss': 0.0387, 'grad_norm': 0.08568955212831497, 'learning_rate': 4.393716249386353e-05, 'epoch': 1.21}\n",
      "{'loss': 0.0393, 'grad_norm': 0.2924397587776184, 'learning_rate': 4.391962970755313e-05, 'epoch': 1.22}\n",
      "{'loss': 0.0401, 'grad_norm': 0.2705877721309662, 'learning_rate': 4.390209692124273e-05, 'epoch': 1.22}\n",
      "{'loss': 0.0399, 'grad_norm': 0.2431909590959549, 'learning_rate': 4.3884564134932326e-05, 'epoch': 1.22}\n",
      "{'loss': 0.0425, 'grad_norm': 0.20078667998313904, 'learning_rate': 4.3867031348621926e-05, 'epoch': 1.23}\n",
      "{'loss': 0.0408, 'grad_norm': 0.37871113419532776, 'learning_rate': 4.3849498562311525e-05, 'epoch': 1.23}\n",
      "{'loss': 0.0408, 'grad_norm': 0.2182401716709137, 'learning_rate': 4.3831965776001124e-05, 'epoch': 1.23}\n",
      "{'loss': 0.0401, 'grad_norm': 0.2495591938495636, 'learning_rate': 4.3814432989690723e-05, 'epoch': 1.24}\n",
      "{'loss': 0.0382, 'grad_norm': 0.2462497055530548, 'learning_rate': 4.379690020338032e-05, 'epoch': 1.24}\n",
      "{'loss': 0.0394, 'grad_norm': 0.343872606754303, 'learning_rate': 4.377936741706992e-05, 'epoch': 1.24}\n",
      "{'loss': 0.0409, 'grad_norm': 0.09923475235700607, 'learning_rate': 4.376183463075952e-05, 'epoch': 1.25}\n",
      "{'loss': 0.0412, 'grad_norm': 0.12684249877929688, 'learning_rate': 4.374430184444912e-05, 'epoch': 1.25}\n",
      "{'loss': 0.0379, 'grad_norm': 0.11672548204660416, 'learning_rate': 4.372676905813872e-05, 'epoch': 1.26}\n",
      "{'loss': 0.0376, 'grad_norm': 0.23107077181339264, 'learning_rate': 4.370923627182832e-05, 'epoch': 1.26}\n",
      "{'loss': 0.0402, 'grad_norm': 0.1982203722000122, 'learning_rate': 4.369170348551792e-05, 'epoch': 1.26}\n",
      "{'loss': 0.0379, 'grad_norm': 0.32677313685417175, 'learning_rate': 4.3674170699207525e-05, 'epoch': 1.27}\n",
      "{'loss': 0.0386, 'grad_norm': 0.21533310413360596, 'learning_rate': 4.365663791289712e-05, 'epoch': 1.27}\n",
      "{'loss': 0.0403, 'grad_norm': 0.3667977750301361, 'learning_rate': 4.363910512658672e-05, 'epoch': 1.27}\n",
      "{'loss': 0.0425, 'grad_norm': 0.47324809432029724, 'learning_rate': 4.3621572340276316e-05, 'epoch': 1.28}\n",
      "{'loss': 0.0385, 'grad_norm': 0.38103970885276794, 'learning_rate': 4.360403955396592e-05, 'epoch': 1.28}\n",
      "{'loss': 0.0396, 'grad_norm': 0.20655277371406555, 'learning_rate': 4.3586506767655514e-05, 'epoch': 1.28}\n",
      "{'loss': 0.0427, 'grad_norm': 0.30078357458114624, 'learning_rate': 4.356897398134512e-05, 'epoch': 1.29}\n",
      "{'loss': 0.0373, 'grad_norm': 0.20417538285255432, 'learning_rate': 4.355161652289782e-05, 'epoch': 1.29}\n",
      "{'loss': 0.0438, 'grad_norm': 0.280850350856781, 'learning_rate': 4.353408373658742e-05, 'epoch': 1.29}\n",
      "{'loss': 0.0373, 'grad_norm': 0.31642958521842957, 'learning_rate': 4.351655095027702e-05, 'epoch': 1.3}\n",
      "{'loss': 0.0393, 'grad_norm': 0.1226576417684555, 'learning_rate': 4.349901816396662e-05, 'epoch': 1.3}\n",
      "{'loss': 0.041, 'grad_norm': 0.2914082705974579, 'learning_rate': 4.348148537765622e-05, 'epoch': 1.3}\n",
      "{'loss': 0.0397, 'grad_norm': 0.12932507693767548, 'learning_rate': 4.346395259134582e-05, 'epoch': 1.31}\n",
      "{'loss': 0.0407, 'grad_norm': 0.1709398478269577, 'learning_rate': 4.3446419805035424e-05, 'epoch': 1.31}\n",
      "{'loss': 0.0385, 'grad_norm': 0.2703936994075775, 'learning_rate': 4.3428887018725016e-05, 'epoch': 1.31}\n",
      "{'loss': 0.0406, 'grad_norm': 0.48076245188713074, 'learning_rate': 4.341135423241462e-05, 'epoch': 1.32}\n",
      "{'loss': 0.0397, 'grad_norm': 0.34447839856147766, 'learning_rate': 4.3393821446104215e-05, 'epoch': 1.32}\n",
      "{'loss': 0.0404, 'grad_norm': 0.21557141840457916, 'learning_rate': 4.337628865979382e-05, 'epoch': 1.33}\n",
      "{'loss': 0.0395, 'grad_norm': 0.21631720662117004, 'learning_rate': 4.3358755873483414e-05, 'epoch': 1.33}\n",
      "{'loss': 0.0367, 'grad_norm': 0.15862686932086945, 'learning_rate': 4.334122308717301e-05, 'epoch': 1.33}\n",
      "{'loss': 0.043, 'grad_norm': 0.1385997235774994, 'learning_rate': 4.332369030086261e-05, 'epoch': 1.34}\n",
      "{'loss': 0.0404, 'grad_norm': 0.2802988886833191, 'learning_rate': 4.330615751455221e-05, 'epoch': 1.34}\n",
      "{'loss': 0.0368, 'grad_norm': 0.17354798316955566, 'learning_rate': 4.328862472824182e-05, 'epoch': 1.34}\n",
      "{'loss': 0.0394, 'grad_norm': 0.12495438754558563, 'learning_rate': 4.327109194193141e-05, 'epoch': 1.35}\n",
      "{'loss': 0.0385, 'grad_norm': 0.18474215269088745, 'learning_rate': 4.3253559155621016e-05, 'epoch': 1.35}\n",
      "{'loss': 0.0388, 'grad_norm': 0.2117118239402771, 'learning_rate': 4.323602636931061e-05, 'epoch': 1.35}\n",
      "{'loss': 0.0393, 'grad_norm': 0.21331259608268738, 'learning_rate': 4.3218493583000215e-05, 'epoch': 1.36}\n",
      "{'loss': 0.0421, 'grad_norm': 0.39439356327056885, 'learning_rate': 4.320096079668981e-05, 'epoch': 1.36}\n",
      "{'loss': 0.0365, 'grad_norm': 0.14687992632389069, 'learning_rate': 4.3183603338242515e-05, 'epoch': 1.36}\n"
     ]
    }
   ],
   "source": [
    "df_old_text = df[\"text\"].copy()\n",
    "df_test_old_text = df_test[\"text\"].copy()\n",
    "\n",
    "for sokr_kind in tqdm([\"append_sokr\"],#\"rename_sokr\", \"no_sokr\"\n",
    "                      leave=True, desc=\"sokr_kind\", total=1):\n",
    "    \n",
    "\n",
    "    SEED = 12345\n",
    "    random.seed(SEED)\n",
    "    np.random.seed(SEED)\n",
    "    torch.manual_seed(SEED)\n",
    "    torch.cuda.manual_seed(SEED)\n",
    "    \n",
    "\n",
    "\n",
    "    df['text'] = df_old_text.progress_apply(aug_for_sokr,\n",
    "                          sokr_kind = sokr_kind,\n",
    "                          data_sokr_dict = data_sokr_dict,\n",
    "                          delimiters=delimiters,\n",
    "                          )\n",
    "    df_test['text'] = df_test_old_text.progress_apply(aug_for_sokr,\n",
    "                          sokr_kind = sokr_kind,\n",
    "                          data_sokr_dict = data_sokr_dict,\n",
    "                          delimiters=delimiters,\n",
    "                          )\n",
    "    \n",
    "    train_dataset, validation_dataset, test_dataset,\\\n",
    "    tokenizer, collate_fn, class_weights = prepair_datasets(df, df_test,\n",
    "                                                            n_classes, \n",
    "                                                            level = '',\n",
    "                                                            max_number_tokens=max_number_tokens, \n",
    "                                                            pre_trained_model_name=pre_trained_model_name)\n",
    "\n",
    "    model = prepair_model(n_classes=n_classes, \n",
    "                            pre_trained_model_name=pre_trained_model_name,\n",
    "                            r=r, lora_alpha=lora_alpha, \n",
    "                            lora_dropout=lora_dropout)\n",
    "\n",
    "    dir_name_new = dir_name + sokr_kind + \"/\"\n",
    "    if not os.path.exists(dir_name_new):\n",
    "        os.makedirs(dir_name_new)\n",
    "\n",
    "\n",
    "    training_args = TrainingArguments(\n",
    "        output_dir=dir_name_new,          \n",
    "        num_train_epochs=epoch,\n",
    "        warmup_steps=warmup_steps,\n",
    "        logging_dir=dir_name_new,\n",
    "        weight_decay=weight_decay,\n",
    "        eval_strategy='epoch',\n",
    "        save_strategy= \"epoch\",\n",
    "        logging_strategy=\"steps\",\n",
    "        logging_steps = 100,\n",
    "        load_best_model_at_end=True,\n",
    "        save_total_limit=1,\n",
    "        report_to='tensorboard',\n",
    "        overwrite_output_dir = False,\n",
    "        save_safetensors = False,\n",
    "        fp16=fp16,\n",
    "        optim = optim,\n",
    "        per_device_train_batch_size= batch_size,\n",
    "        per_device_eval_batch_size= batch_size,\n",
    "        group_by_length=True,\n",
    "        dataloader_num_workers = 4,\n",
    "        metric_for_best_model=\"eval_f1_weighted_0.5\",\n",
    "        )\n",
    "    train_dataset = train_dataset.remove_columns(\"text\")\n",
    "    validation_dataset = validation_dataset.remove_columns([\"text\", \"__index_level_0__\"])\n",
    "\n",
    "    trainer = CustomTrainer(\n",
    "        model=model,\n",
    "        args=training_args,\n",
    "        train_dataset=train_dataset,\n",
    "        eval_dataset=validation_dataset,\n",
    "        data_collator = collate_fn,\n",
    "        tokenizer = tokenizer,\n",
    "        compute_metrics=compute_metrics,\n",
    "        class_weights=class_weights,\n",
    "    )\n",
    "\n",
    "    trainer.train()\n",
    "    trainer.model.save_pretrained(dir_name_new + \"bert_peft_level1_lora\")\n",
    "\n",
    "    #______________________________________________________________________\n",
    "    test_dataset = test_dataset.remove_columns([\"text\", \"__index_level_0__\"])\n",
    "\n",
    "    predict_res = trainer.predict(test_dataset=test_dataset).predictions\n",
    "\n",
    "    with open(dir_name_new + \"trainer_predictions_level1_lora.npy\", 'wb') as f:\n",
    "        np.save(f, predict_res)\n",
    "\n",
    "    with open(dir_name_new + \"trainer_predictions_level1_lora.npy\", 'rb') as f:\n",
    "\n",
    "        prediction1_experiment = np.load(f)\n",
    "\n",
    "    label_test = np.vstack(df_test[\"target_coded\"])\n",
    "\n",
    "\n",
    "    if not os.path.exists(path_info_before_save + sokr_kind + \"/\"):\n",
    "        os.makedirs(path_info_before_save + sokr_kind + \"/\")\n",
    "\n",
    "    test_predictons(sigmoid_array(prediction1_experiment),\n",
    "                    label_test,\n",
    "                    path_info_before_save + sokr_kind + \"/\",\n",
    "                    n_classes,  \n",
    "                    level=1,\n",
    "                    grnti_path=\"grnti_dicts_level1_v2/\")\n",
    "\n"
   ]
  },
  {
   "cell_type": "code",
   "execution_count": null,
   "metadata": {},
   "outputs": [],
   "source": [
    "# trainer.get_num_trainable_parameters() #615200 без lora"
   ]
  },
  {
   "cell_type": "code",
   "execution_count": null,
   "metadata": {},
   "outputs": [],
   "source": []
  }
 ],
 "metadata": {
  "kernelspec": {
   "display_name": "my_venv_cuda",
   "language": "python",
   "name": "python3"
  },
  "language_info": {
   "codemirror_mode": {
    "name": "ipython",
    "version": 3
   },
   "file_extension": ".py",
   "mimetype": "text/x-python",
   "name": "python",
   "nbconvert_exporter": "python",
   "pygments_lexer": "ipython3",
   "version": "3.8.10"
  }
 },
 "nbformat": 4,
 "nbformat_minor": 2
}

{
 "cells": [
  {
   "cell_type": "code",
   "execution_count": 1,
   "metadata": {},
   "outputs": [],
   "source": [
    "import os\n",
    "from prepare_datasets_BERT import get_grnti1_2_BERT_dataframes, prepair_datasets, prepair_model,\\\n",
    "    prepair_compute_metrics\n",
    "\n",
    "from train_test_BERT import train_save_bert, test_save_results\n",
    "from TrainSettings import TrainSettings\n",
    "from transformers import TrainingArguments, Trainer\n",
    "import torch\n",
    "\n",
    "n = 0 \n",
    "base_name = \"results_4//\""
   ]
  },
  {
   "cell_type": "code",
   "execution_count": 2,
   "metadata": {},
   "outputs": [],
   "source": [
    "import numpy as np"
   ]
  },
  {
   "cell_type": "code",
   "execution_count": 3,
   "metadata": {},
   "outputs": [
    {
     "name": "stdout",
     "output_type": "stream",
     "text": [
      "Удаление элементов второго уровня, количство которых меньше 1\n",
      "         id_publ                                              title  \\\n",
      "0   19.06-73.269  Некоторые аспекты изменения степных ландшафтов...   \n",
      "1   19.01-24А.85  Подходы к повышению точности определения харак...   \n",
      "2   19.06-66.105  Микроскопическое моделирование фазового поля п...   \n",
      "3   19.06-14Б.10  МОДЕЛИ И МЕТОДИКИ АВТОМАТИЗАЦИИ ПРОЦЕДУР РАЗРА...   \n",
      "4  19.10-19Ж.456  Трехкомпонентная реакция Кастагноли-Кушмана 3-...   \n",
      "\n",
      "                                             ref_txt  \\\n",
      "0  Предлагается результат анализа динамики некото...   \n",
      "1  В статье представлены подходы к повышению точн...   \n",
      "2  Процесс выделения сплава Ni[75]Al[15]Ti[10] мо...   \n",
      "3  Объектом исследования является проектирование ...   \n",
      "4  Попытки использования 3-арилглутаконовых кисло...   \n",
      "\n",
      "                                             kw_list   SUBJ     IPV  \\\n",
      "0  Урало-Заволжье\\анализ динамики\\ландшафты\\нефте...  f3\\e2   72\\73   \n",
      "1  метровый диапазон\\обнаружение сигналов\\подвижн...     e1     24А   \n",
      "2  Ni[75]Al[15]Ti[10], моделирование выделения, к...  f1\\f7  15И\\66   \n",
      "3  автоматизированное проектирование\\обработка ме...     e9     14Б   \n",
      "4  3-арил-\\4,6-диарил-1,6-дигидро-\\Кастаньоли_-Ку...     f7     19Ж   \n",
      "\n",
      "                        RGNTI  eor    target        target_2  \n",
      "0  87.29.29\\89.57.45\\89.57.45  ###  [89, 87]  [87.29, 89.57]  \n",
      "1                    47.05.11  ###      [47]         [47.05]  \n",
      "2           53.49.05\\81.33.07  ###  [81, 53]  [81.33, 53.49]  \n",
      "3                    55.13.15  ###      [55]         [55.13]  \n",
      "4                    31.21.27  ###      [31]         [31.21]  \n"
     ]
    },
    {
     "name": "stderr",
     "output_type": "stream",
     "text": [
      "100%|██████████| 31/31 [00:18<00:00,  1.64it/s]\n"
     ]
    },
    {
     "name": "stdout",
     "output_type": "stream",
     "text": [
      "Доля оставшихся элементов в тренировочном датасете:  0.9640790988940601\n"
     ]
    },
    {
     "data": {
      "image/png": "[encoded data removed]",
      "text/plain": [
       "<Figure size 640x480 with 1 Axes>"
      ]
     },
     "metadata": {},
     "output_type": "display_data"
    }
   ],
   "source": [
    "number_of_delteted_values = 16\n",
    "minimal_number_of_elements_RGNTI2 = 1\n",
    "minimal_number_of_words = 10\n",
    "path_info_before_save = base_name + f\"data_info_from_bert_level1\\\\\"\n",
    "if not os.path.exists(path_info_before_save):\n",
    "    os.makedirs(path_info_before_save)\n",
    "df, df_test, n_classes, n_classes2 = get_grnti1_2_BERT_dataframes(\"..\\\\datasets\\\\base\\\\ru\\\\raw\", \n",
    "                                            number_of_delteted_values=number_of_delteted_values, \n",
    "                                minimal_number_of_elements_RGNTI2=minimal_number_of_elements_RGNTI2,\n",
    "                                minimal_number_of_words=minimal_number_of_words,\n",
    "                                dir_name=path_info_before_save)"
   ]
  },
  {
   "cell_type": "code",
   "execution_count": 4,
   "metadata": {},
   "outputs": [
    {
     "data": {
      "text/html": [
       "<div>\n",
       "<style scoped>\n",
       "    .dataframe tbody tr th:only-of-type {\n",
       "        vertical-align: middle;\n",
       "    }\n",
       "\n",
       "    .dataframe tbody tr th {\n",
       "        vertical-align: top;\n",
       "    }\n",
       "\n",
       "    .dataframe thead th {\n",
       "        text-align: right;\n",
       "    }\n",
       "</style>\n",
       "<table border=\"1\" class=\"dataframe\">\n",
       "  <thead>\n",
       "    <tr style=\"text-align: right;\">\n",
       "      <th></th>\n",
       "      <th>id_publ</th>\n",
       "      <th>title</th>\n",
       "      <th>ref_txt</th>\n",
       "      <th>kw_list</th>\n",
       "      <th>SUBJ</th>\n",
       "      <th>IPV</th>\n",
       "      <th>RGNTI</th>\n",
       "      <th>eor</th>\n",
       "      <th>target</th>\n",
       "      <th>target_2</th>\n",
       "      <th>target_coded</th>\n",
       "      <th>target_coded2</th>\n",
       "      <th>text</th>\n",
       "    </tr>\n",
       "  </thead>\n",
       "  <tbody>\n",
       "    <tr>\n",
       "      <th>0</th>\n",
       "      <td>19.06-73.269</td>\n",
       "      <td>Некоторые аспекты изменения степных ландшафтов...</td>\n",
       "      <td>Предлагается результат анализа динамики некото...</td>\n",
       "      <td>Урало-Заволжье\\анализ динамики\\ландшафты\\нефте...</td>\n",
       "      <td>f3\\e2</td>\n",
       "      <td>72\\73</td>\n",
       "      <td>87.29.29\\89.57.45\\89.57.45</td>\n",
       "      <td>###</td>\n",
       "      <td>[89, 87]</td>\n",
       "      <td>[89.57, 87.29]</td>\n",
       "      <td>[0, 0, 0, 1, 0, 0, 0, 0, 0, 0, 0, 0, 1, 0, 0, ...</td>\n",
       "      <td>[1, 0, 0, 0, 0, 0, 0, 0, 0, 0, 0, 0, 0, 0, 0, ...</td>\n",
       "      <td>Некоторые аспекты изменения степных ландшафтов...</td>\n",
       "    </tr>\n",
       "    <tr>\n",
       "      <th>1</th>\n",
       "      <td>19.01-24А.85</td>\n",
       "      <td>Подходы к повышению точности определения харак...</td>\n",
       "      <td>В статье представлены подходы к повышению точн...</td>\n",
       "      <td>метровый диапазон\\обнаружение сигналов\\подвижн...</td>\n",
       "      <td>e1</td>\n",
       "      <td>24А</td>\n",
       "      <td>47.05.11</td>\n",
       "      <td>###</td>\n",
       "      <td>[47]</td>\n",
       "      <td>[47.05]</td>\n",
       "      <td>[0, 0, 0, 0, 0, 0, 0, 0, 0, 0, 0, 0, 0, 0, 0, ...</td>\n",
       "      <td>[0, 0, 0, 0, 0, 0, 0, 0, 0, 0, 0, 0, 0, 0, 0, ...</td>\n",
       "      <td>Подходы к повышению точности определения харак...</td>\n",
       "    </tr>\n",
       "    <tr>\n",
       "      <th>2</th>\n",
       "      <td>19.06-66.105</td>\n",
       "      <td>Микроскопическое моделирование фазового поля п...</td>\n",
       "      <td>Процесс выделения сплава Ni[75]Al[15]Ti[10] мо...</td>\n",
       "      <td>Ni[75]Al[15]Ti[10], моделирование выделения, к...</td>\n",
       "      <td>f1\\f7</td>\n",
       "      <td>15И\\66</td>\n",
       "      <td>53.49.05\\81.33.07</td>\n",
       "      <td>###</td>\n",
       "      <td>[53, 81]</td>\n",
       "      <td>[53.49, 81.33]</td>\n",
       "      <td>[0, 0, 0, 0, 0, 0, 0, 1, 0, 1, 0, 0, 0, 0, 0, ...</td>\n",
       "      <td>[0, 0, 0, 0, 0, 0, 0, 0, 0, 0, 0, 0, 0, 0, 0, ...</td>\n",
       "      <td>Микроскопическое моделирование фазового поля п...</td>\n",
       "    </tr>\n",
       "    <tr>\n",
       "      <th>3</th>\n",
       "      <td>19.06-14Б.10</td>\n",
       "      <td>МОДЕЛИ И МЕТОДИКИ АВТОМАТИЗАЦИИ ПРОЦЕДУР РАЗРА...</td>\n",
       "      <td>Объектом исследования является проектирование ...</td>\n",
       "      <td>автоматизированное проектирование\\обработка ме...</td>\n",
       "      <td>e9</td>\n",
       "      <td>14Б</td>\n",
       "      <td>55.13.15</td>\n",
       "      <td>###</td>\n",
       "      <td>[55]</td>\n",
       "      <td>[55.13]</td>\n",
       "      <td>[0, 0, 0, 0, 0, 0, 0, 0, 0, 0, 0, 0, 0, 0, 0, ...</td>\n",
       "      <td>[0, 0, 0, 0, 0, 0, 0, 0, 0, 0, 0, 0, 0, 0, 0, ...</td>\n",
       "      <td>МОДЕЛИ И МЕТОДИКИ АВТОМАТИЗАЦИИ ПРОЦЕДУР РАЗРА...</td>\n",
       "    </tr>\n",
       "    <tr>\n",
       "      <th>4</th>\n",
       "      <td>19.10-19Ж.456</td>\n",
       "      <td>Трехкомпонентная реакция Кастагноли-Кушмана 3-...</td>\n",
       "      <td>Попытки использования 3-арилглутаконовых кисло...</td>\n",
       "      <td>3-арил-\\4,6-диарил-1,6-дигидро-\\Кастаньоли_-Ку...</td>\n",
       "      <td>f7</td>\n",
       "      <td>19Ж</td>\n",
       "      <td>31.21.27</td>\n",
       "      <td>###</td>\n",
       "      <td>[31]</td>\n",
       "      <td>[31.21]</td>\n",
       "      <td>[0, 0, 0, 0, 0, 0, 0, 0, 0, 0, 0, 0, 0, 0, 0, ...</td>\n",
       "      <td>[0, 0, 0, 0, 0, 0, 0, 0, 0, 0, 0, 0, 0, 0, 0, ...</td>\n",
       "      <td>Трехкомпонентная реакция Кастагноли-Кушмана 3-...</td>\n",
       "    </tr>\n",
       "  </tbody>\n",
       "</table>\n",
       "</div>"
      ],
      "text/plain": [
       "         id_publ                                              title  \\\n",
       "0   19.06-73.269  Некоторые аспекты изменения степных ландшафтов...   \n",
       "1   19.01-24А.85  Подходы к повышению точности определения харак...   \n",
       "2   19.06-66.105  Микроскопическое моделирование фазового поля п...   \n",
       "3   19.06-14Б.10  МОДЕЛИ И МЕТОДИКИ АВТОМАТИЗАЦИИ ПРОЦЕДУР РАЗРА...   \n",
       "4  19.10-19Ж.456  Трехкомпонентная реакция Кастагноли-Кушмана 3-...   \n",
       "\n",
       "                                             ref_txt  \\\n",
       "0  Предлагается результат анализа динамики некото...   \n",
       "1  В статье представлены подходы к повышению точн...   \n",
       "2  Процесс выделения сплава Ni[75]Al[15]Ti[10] мо...   \n",
       "3  Объектом исследования является проектирование ...   \n",
       "4  Попытки использования 3-арилглутаконовых кисло...   \n",
       "\n",
       "                                             kw_list   SUBJ     IPV  \\\n",
       "0  Урало-Заволжье\\анализ динамики\\ландшафты\\нефте...  f3\\e2   72\\73   \n",
       "1  метровый диапазон\\обнаружение сигналов\\подвижн...     e1     24А   \n",
       "2  Ni[75]Al[15]Ti[10], моделирование выделения, к...  f1\\f7  15И\\66   \n",
       "3  автоматизированное проектирование\\обработка ме...     e9     14Б   \n",
       "4  3-арил-\\4,6-диарил-1,6-дигидро-\\Кастаньоли_-Ку...     f7     19Ж   \n",
       "\n",
       "                        RGNTI  eor    target        target_2  \\\n",
       "0  87.29.29\\89.57.45\\89.57.45  ###  [89, 87]  [89.57, 87.29]   \n",
       "1                    47.05.11  ###      [47]         [47.05]   \n",
       "2           53.49.05\\81.33.07  ###  [53, 81]  [53.49, 81.33]   \n",
       "3                    55.13.15  ###      [55]         [55.13]   \n",
       "4                    31.21.27  ###      [31]         [31.21]   \n",
       "\n",
       "                                        target_coded  \\\n",
       "0  [0, 0, 0, 1, 0, 0, 0, 0, 0, 0, 0, 0, 1, 0, 0, ...   \n",
       "1  [0, 0, 0, 0, 0, 0, 0, 0, 0, 0, 0, 0, 0, 0, 0, ...   \n",
       "2  [0, 0, 0, 0, 0, 0, 0, 1, 0, 1, 0, 0, 0, 0, 0, ...   \n",
       "3  [0, 0, 0, 0, 0, 0, 0, 0, 0, 0, 0, 0, 0, 0, 0, ...   \n",
       "4  [0, 0, 0, 0, 0, 0, 0, 0, 0, 0, 0, 0, 0, 0, 0, ...   \n",
       "\n",
       "                                       target_coded2  \\\n",
       "0  [1, 0, 0, 0, 0, 0, 0, 0, 0, 0, 0, 0, 0, 0, 0, ...   \n",
       "1  [0, 0, 0, 0, 0, 0, 0, 0, 0, 0, 0, 0, 0, 0, 0, ...   \n",
       "2  [0, 0, 0, 0, 0, 0, 0, 0, 0, 0, 0, 0, 0, 0, 0, ...   \n",
       "3  [0, 0, 0, 0, 0, 0, 0, 0, 0, 0, 0, 0, 0, 0, 0, ...   \n",
       "4  [0, 0, 0, 0, 0, 0, 0, 0, 0, 0, 0, 0, 0, 0, 0, ...   \n",
       "\n",
       "                                                text  \n",
       "0  Некоторые аспекты изменения степных ландшафтов...  \n",
       "1  Подходы к повышению точности определения харак...  \n",
       "2  Микроскопическое моделирование фазового поля п...  \n",
       "3  МОДЕЛИ И МЕТОДИКИ АВТОМАТИЗАЦИИ ПРОЦЕДУР РАЗРА...  \n",
       "4  Трехкомпонентная реакция Кастагноли-Кушмана 3-...  "
      ]
     },
     "execution_count": 4,
     "metadata": {},
     "output_type": "execute_result"
    }
   ],
   "source": [
    "df.head()"
   ]
  },
  {
   "cell_type": "code",
   "execution_count": 32,
   "metadata": {},
   "outputs": [],
   "source": [
    "max_number_tokens = 512\n",
    "pre_trained_model_name ='DeepPavlov/rubert-base-cased'\n",
    "r = 16\n",
    "lora_alpha = 16\n",
    "lora_dropout = 0.05"
   ]
  },
  {
   "cell_type": "code",
   "execution_count": 33,
   "metadata": {},
   "outputs": [
    {
     "name": "stdout",
     "output_type": "stream",
     "text": [
      "Веса для кажого класса:  [1.95268242 2.07531465 1.31752341 0.69765306 1.15226132 0.2089506\n",
      " 0.91105692 2.34146594 3.16971886 0.42650425 1.98613877 3.24003206\n",
      " 0.66306812 0.66920483 0.7710127  3.0905765  1.1593955  1.34841807\n",
      " 1.52527825 1.27408099 0.36223562 3.08014857 0.31907691 1.60435682\n",
      " 0.75351138 0.27570056 0.75296755 0.62810977 0.40646921 1.86396944\n",
      " 0.9018316 ]\n",
      "Подготовка тренировочных данных:\n"
     ]
    },
    {
     "name": "stderr",
     "output_type": "stream",
     "text": [
      "100%|██████████| 226394/226394 [03:12<00:00, 1174.99it/s]\n"
     ]
    },
    {
     "name": "stdout",
     "output_type": "stream",
     "text": [
      "Подготовка валидационных данных:\n"
     ]
    },
    {
     "name": "stderr",
     "output_type": "stream",
     "text": [
      "100%|██████████| 56569/56569 [00:51<00:00, 1101.21it/s]\n"
     ]
    },
    {
     "name": "stdout",
     "output_type": "stream",
     "text": [
      "Подготовка тестовых данных:\n"
     ]
    },
    {
     "name": "stderr",
     "output_type": "stream",
     "text": [
      "100%|██████████| 166183/166183 [02:28<00:00, 1120.85it/s]\n"
     ]
    }
   ],
   "source": [
    "train_dataset, validation_dataset, test_dataset,\\\n",
    "                                loss_fuction = prepair_datasets(df, df_test, n_classes,\n",
    "                                                        max_number_tokens=max_number_tokens, \n",
    "                                                        pre_trained_model_name=pre_trained_model_name)"
   ]
  },
  {
   "cell_type": "code",
   "execution_count": 6,
   "metadata": {},
   "outputs": [],
   "source": [
    "epoch= 8\n",
    "batch_size=8\n",
    "weight_decay = 1e-6\n",
    "warmup_steps = 10\n",
    "fp16 = True\n",
    "optim = \"adamw_bnb_8bit\"\n",
    "dir_name = base_name + f\"model bert lora level 1\\\\\"\n"
   ]
  },
  {
   "cell_type": "code",
   "execution_count": 8,
   "metadata": {},
   "outputs": [
    {
     "name": "stderr",
     "output_type": "stream",
     "text": [
      "Some weights of BertForSequenceClassification were not initialized from the model checkpoint at DeepPavlov/rubert-base-cased and are newly initialized: ['classifier.bias', 'classifier.weight']\n",
      "You should probably TRAIN this model on a down-stream task to be able to use it for predictions and inference.\n"
     ]
    }
   ],
   "source": [
    "model = prepair_model(n_classes=n_classes, \n",
    "                      pre_trained_model_name=pre_trained_model_name,\n",
    "                        r=r, lora_alpha=lora_alpha, \n",
    "                        lora_dropout=lora_dropout)"
   ]
  },
  {
   "cell_type": "code",
   "execution_count": 17,
   "metadata": {},
   "outputs": [],
   "source": [
    "torch.cuda.empty_cache()"
   ]
  },
  {
   "cell_type": "code",
   "execution_count": 18,
   "metadata": {
    "scrolled": true
   },
   "outputs": [],
   "source": [
    "model.to(\"cuda\");"
   ]
  },
  {
   "cell_type": "code",
   "execution_count": 11,
   "metadata": {},
   "outputs": [],
   "source": [
    "sett = TrainSettings()\n",
    "sett.settings[\"number_of_delteted_values\"] = number_of_delteted_values\n",
    "sett.settings[\"minimal_number_of_elements_RGNTI2\"] = minimal_number_of_elements_RGNTI2\n",
    "sett.settings[\"minimal_number_of_words\"] = minimal_number_of_words\n",
    "sett.settings[\"max_number_tokens\"] = max_number_tokens\n",
    "sett.settings[\"pre_trained_model_name\"] = pre_trained_model_name\n",
    "sett.settings[\"r\"] = r\n",
    "sett.settings[\"lora_alpha\"] = lora_alpha\n",
    "sett.settings[\"lora_dropout\"] = lora_dropout\n",
    "sett.settings[\"epoch\"] = epoch\n",
    "sett.settings[\"batch_size\"] = batch_size\n",
    "sett.settings[\"weight_decay\"] = weight_decay\n",
    "sett.settings[\"warmup_steps\"] = warmup_steps\n",
    "sett.settings[\"fp16\"] = fp16\n",
    "sett.settings[\"optim\"] = optim\n",
    "sett.save(path = dir_name)"
   ]
  },
  {
   "cell_type": "code",
   "execution_count": 9,
   "metadata": {},
   "outputs": [],
   "source": []
  },
  {
   "cell_type": "code",
   "execution_count": 12,
   "metadata": {},
   "outputs": [],
   "source": [
    "loss_fuction_for_multiclass_classification = loss_fuction\n",
    "compute_metrics = prepair_compute_metrics(n_classes=n_classes)\n",
    "\n",
    "class CustomTrainer(Trainer):\n",
    "    def compute_loss(self, model, inputs, return_outputs=False):\n",
    "        labels = inputs.pop(\"labels\")\n",
    "        outputs = model(**inputs)\n",
    "        logits = outputs.logits\n",
    "        loss = loss_fuction_for_multiclass_classification(logits, labels)\n",
    "\n",
    "        return (loss, outputs) if return_outputs else loss\n",
    "training_args = TrainingArguments(\n",
    "    output_dir=dir_name,          \n",
    "    num_train_epochs=epoch,\n",
    "    warmup_steps=warmup_steps,\n",
    "    logging_dir=dir_name,\n",
    "    weight_decay=weight_decay,\n",
    "    eval_strategy='epoch',\n",
    "    save_strategy= \"epoch\",\n",
    "    logging_strategy=\"steps\",\n",
    "    logging_steps = 100,\n",
    "    load_best_model_at_end=True,\n",
    "    save_total_limit=2,\n",
    "    report_to='tensorboard',\n",
    "    overwrite_output_dir = False,\n",
    "    save_safetensors = False,\n",
    "    fp16=fp16,\n",
    "    optim = optim,\n",
    "    per_device_train_batch_size= 16,    # gradient_accumulation_steps=4\n",
    "    per_device_eval_batch_size= 16\n",
    "    )\n",
    "\n",
    "# Создание trainer\n",
    "trainer = CustomTrainer(\n",
    "    model=model,\n",
    "    args=training_args,\n",
    "    train_dataset=train_dataset,\n",
    "    eval_dataset=validation_dataset,\n",
    "    compute_metrics=compute_metrics\n",
    ")\n"
   ]
  },
  {
   "cell_type": "code",
   "execution_count": 18,
   "metadata": {},
   "outputs": [
    {
     "data": {
      "text/plain": [
       "device(type='cuda', index=0)"
      ]
     },
     "execution_count": 18,
     "metadata": {},
     "output_type": "execute_result"
    }
   ],
   "source": [
    "trainer.model.device"
   ]
  },
  {
   "cell_type": "code",
   "execution_count": 19,
   "metadata": {},
   "outputs": [
    {
     "name": "stderr",
     "output_type": "stream",
     "text": [
      "C:\\Users\\victo\\git_Work_VINITI_2024\\my_venv_cuda\\lib\\site-packages\\transformers\\models\\bert\\modeling_bert.py:439: UserWarning: 1Torch was not compiled with flash attention. (Triggered internally at C:\\actions-runner\\_work\\pytorch\\pytorch\\builder\\windows\\pytorch\\aten\\src\\ATen\\native\\transformers\\cuda\\sdp_utils.cpp:455.)\n",
      "  attn_output = torch.nn.functional.scaled_dot_product_attention(\n"
     ]
    },
    {
     "data": {
      "text/html": [
       "\n",
       "    <div>\n",
       "      \n",
       "      <progress value='113200' max='113200' style='width:300px; height:20px; vertical-align: middle;'></progress>\n",
       "      [113200/113200 13:59:10, Epoch 8/8]\n",
       "    </div>\n",
       "    <table border=\"1\" class=\"dataframe\">\n",
       "  <thead>\n",
       " <tr style=\"text-align: left;\">\n",
       "      <th>Epoch</th>\n",
       "      <th>Training Loss</th>\n",
       "      <th>Validation Loss</th>\n",
       "      <th>Accuracy Micro 0.5</th>\n",
       "      <th>Accuracy Macro 0.5</th>\n",
       "      <th>Accuracy Weighted 0.5</th>\n",
       "      <th>F1 Micro 0.5</th>\n",
       "      <th>F1 Macro 0.5</th>\n",
       "      <th>F1 Weighted 0.5</th>\n",
       "      <th>F1 Micro 0.6</th>\n",
       "      <th>F1 Macro 0.6</th>\n",
       "      <th>F1 Weighted 0.6</th>\n",
       "      <th>F1 Micro 0.7</th>\n",
       "      <th>F1 Macro 0.7</th>\n",
       "      <th>F1 Weighted 0.7</th>\n",
       "      <th>F1 Micro 0.8</th>\n",
       "      <th>F1 Macro 0.8</th>\n",
       "      <th>F1 Weighted 0.8</th>\n",
       "      <th>F1 Micro 0.9</th>\n",
       "      <th>Aucroc Micro</th>\n",
       "      <th>Aucroc Macro</th>\n",
       "      <th>Aucroc Weighted</th>\n",
       "    </tr>\n",
       "  </thead>\n",
       "  <tbody>\n",
       "    <tr>\n",
       "      <td>1</td>\n",
       "      <td>0.066400</td>\n",
       "      <td>0.063622</td>\n",
       "      <td>0.973427</td>\n",
       "      <td>0.973427</td>\n",
       "      <td>0.961239</td>\n",
       "      <td>0.620767</td>\n",
       "      <td>0.520381</td>\n",
       "      <td>0.584143</td>\n",
       "      <td>0.556059</td>\n",
       "      <td>0.431546</td>\n",
       "      <td>0.497551</td>\n",
       "      <td>0.461087</td>\n",
       "      <td>0.332229</td>\n",
       "      <td>0.398425</td>\n",
       "      <td>0.295164</td>\n",
       "      <td>0.042529</td>\n",
       "      <td>0.053174</td>\n",
       "      <td>0.057950</td>\n",
       "      <td>0.867927</td>\n",
       "      <td>0.836140</td>\n",
       "      <td>0.861140</td>\n",
       "    </tr>\n",
       "    <tr>\n",
       "      <td>2</td>\n",
       "      <td>0.055200</td>\n",
       "      <td>0.052812</td>\n",
       "      <td>0.977682</td>\n",
       "      <td>0.977682</td>\n",
       "      <td>0.967329</td>\n",
       "      <td>0.702092</td>\n",
       "      <td>0.649455</td>\n",
       "      <td>0.685996</td>\n",
       "      <td>0.664989</td>\n",
       "      <td>0.592870</td>\n",
       "      <td>0.633636</td>\n",
       "      <td>0.602417</td>\n",
       "      <td>0.513494</td>\n",
       "      <td>0.554319</td>\n",
       "      <td>0.500233</td>\n",
       "      <td>0.225663</td>\n",
       "      <td>0.244499</td>\n",
       "      <td>0.283714</td>\n",
       "      <td>0.891969</td>\n",
       "      <td>0.876468</td>\n",
       "      <td>0.887262</td>\n",
       "    </tr>\n",
       "    <tr>\n",
       "      <td>3</td>\n",
       "      <td>0.048100</td>\n",
       "      <td>0.046861</td>\n",
       "      <td>0.979857</td>\n",
       "      <td>0.979857</td>\n",
       "      <td>0.970265</td>\n",
       "      <td>0.738563</td>\n",
       "      <td>0.698473</td>\n",
       "      <td>0.725433</td>\n",
       "      <td>0.713609</td>\n",
       "      <td>0.659417</td>\n",
       "      <td>0.689755</td>\n",
       "      <td>0.669735</td>\n",
       "      <td>0.603052</td>\n",
       "      <td>0.633597</td>\n",
       "      <td>0.595689</td>\n",
       "      <td>0.352581</td>\n",
       "      <td>0.377842</td>\n",
       "      <td>0.419887</td>\n",
       "      <td>0.905879</td>\n",
       "      <td>0.894328</td>\n",
       "      <td>0.902119</td>\n",
       "    </tr>\n",
       "    <tr>\n",
       "      <td>4</td>\n",
       "      <td>0.047800</td>\n",
       "      <td>0.043900</td>\n",
       "      <td>0.981073</td>\n",
       "      <td>0.981073</td>\n",
       "      <td>0.972036</td>\n",
       "      <td>0.762196</td>\n",
       "      <td>0.735467</td>\n",
       "      <td>0.756645</td>\n",
       "      <td>0.746099</td>\n",
       "      <td>0.712769</td>\n",
       "      <td>0.734481</td>\n",
       "      <td>0.710016</td>\n",
       "      <td>0.664547</td>\n",
       "      <td>0.688841</td>\n",
       "      <td>0.641369</td>\n",
       "      <td>0.443280</td>\n",
       "      <td>0.445572</td>\n",
       "      <td>0.489530</td>\n",
       "      <td>0.918554</td>\n",
       "      <td>0.909805</td>\n",
       "      <td>0.915189</td>\n",
       "    </tr>\n",
       "    <tr>\n",
       "      <td>5</td>\n",
       "      <td>0.044000</td>\n",
       "      <td>0.041094</td>\n",
       "      <td>0.982169</td>\n",
       "      <td>0.982169</td>\n",
       "      <td>0.973637</td>\n",
       "      <td>0.773651</td>\n",
       "      <td>0.749604</td>\n",
       "      <td>0.765481</td>\n",
       "      <td>0.756282</td>\n",
       "      <td>0.725064</td>\n",
       "      <td>0.741421</td>\n",
       "      <td>0.721527</td>\n",
       "      <td>0.675614</td>\n",
       "      <td>0.696234</td>\n",
       "      <td>0.660924</td>\n",
       "      <td>0.475103</td>\n",
       "      <td>0.485663</td>\n",
       "      <td>0.530514</td>\n",
       "      <td>0.917694</td>\n",
       "      <td>0.909215</td>\n",
       "      <td>0.914915</td>\n",
       "    </tr>\n",
       "    <tr>\n",
       "      <td>6</td>\n",
       "      <td>0.041000</td>\n",
       "      <td>0.040035</td>\n",
       "      <td>0.982702</td>\n",
       "      <td>0.982702</td>\n",
       "      <td>0.974495</td>\n",
       "      <td>0.781871</td>\n",
       "      <td>0.759535</td>\n",
       "      <td>0.776033</td>\n",
       "      <td>0.766041</td>\n",
       "      <td>0.737210</td>\n",
       "      <td>0.754722</td>\n",
       "      <td>0.735829</td>\n",
       "      <td>0.695330</td>\n",
       "      <td>0.715835</td>\n",
       "      <td>0.680374</td>\n",
       "      <td>0.498909</td>\n",
       "      <td>0.508147</td>\n",
       "      <td>0.553034</td>\n",
       "      <td>0.921336</td>\n",
       "      <td>0.912956</td>\n",
       "      <td>0.918599</td>\n",
       "    </tr>\n",
       "    <tr>\n",
       "      <td>7</td>\n",
       "      <td>0.041700</td>\n",
       "      <td>0.039399</td>\n",
       "      <td>0.982890</td>\n",
       "      <td>0.982890</td>\n",
       "      <td>0.974864</td>\n",
       "      <td>0.786275</td>\n",
       "      <td>0.764801</td>\n",
       "      <td>0.781687</td>\n",
       "      <td>0.773583</td>\n",
       "      <td>0.749084</td>\n",
       "      <td>0.764505</td>\n",
       "      <td>0.744902</td>\n",
       "      <td>0.710870</td>\n",
       "      <td>0.728176</td>\n",
       "      <td>0.690358</td>\n",
       "      <td>0.526216</td>\n",
       "      <td>0.529773</td>\n",
       "      <td>0.570421</td>\n",
       "      <td>0.924892</td>\n",
       "      <td>0.916781</td>\n",
       "      <td>0.922216</td>\n",
       "    </tr>\n",
       "    <tr>\n",
       "      <td>8</td>\n",
       "      <td>0.038500</td>\n",
       "      <td>0.038827</td>\n",
       "      <td>0.983166</td>\n",
       "      <td>0.983166</td>\n",
       "      <td>0.975269</td>\n",
       "      <td>0.788296</td>\n",
       "      <td>0.767489</td>\n",
       "      <td>0.783386</td>\n",
       "      <td>0.773994</td>\n",
       "      <td>0.749565</td>\n",
       "      <td>0.764469</td>\n",
       "      <td>0.742935</td>\n",
       "      <td>0.707733</td>\n",
       "      <td>0.725688</td>\n",
       "      <td>0.688246</td>\n",
       "      <td>0.516873</td>\n",
       "      <td>0.522886</td>\n",
       "      <td>0.565813</td>\n",
       "      <td>0.923633</td>\n",
       "      <td>0.915747</td>\n",
       "      <td>0.921018</td>\n",
       "    </tr>\n",
       "  </tbody>\n",
       "</table><p>"
      ],
      "text/plain": [
       "<IPython.core.display.HTML object>"
      ]
     },
     "metadata": {},
     "output_type": "display_data"
    },
    {
     "data": {
      "text/plain": [
       "TrainOutput(global_step=113200, training_loss=0.052747169094877616, metrics={'train_runtime': 50351.3272, 'train_samples_per_second': 35.97, 'train_steps_per_second': 2.248, 'total_flos': 4.8007252812683674e+17, 'train_loss': 0.052747169094877616, 'epoch': 8.0})"
      ]
     },
     "execution_count": 19,
     "metadata": {},
     "output_type": "execute_result"
    }
   ],
   "source": [
    "#Обучение\n",
    "trainer.train()"
   ]
  },
  {
   "cell_type": "markdown",
   "metadata": {},
   "source": [
    "Тестирования результаты, если до это было обучение"
   ]
  },
  {
   "cell_type": "code",
   "execution_count": 20,
   "metadata": {},
   "outputs": [
    {
     "data": {
      "text/html": [],
      "text/plain": [
       "<IPython.core.display.HTML object>"
      ]
     },
     "metadata": {},
     "output_type": "display_data"
    }
   ],
   "source": [
    "evaluation_result_level1 = trainer.predict(test_dataset=test_dataset)"
   ]
  },
  {
   "cell_type": "code",
   "execution_count": 21,
   "metadata": {},
   "outputs": [
    {
     "data": {
      "text/plain": [
       "PredictionOutput(predictions=array([[ -6.4453125,  -5.96875  ,  -6.2578125, ..., -11.0078125,\n",
       "         -7.5117188, -12.7421875],\n",
       "       [ -6.8515625,  -6.3828125,  -5.328125 , ...,  -8.828125 ,\n",
       "         -7.4453125, -12.890625 ],\n",
       "       [ -4.046875 ,  -6.2734375,  -4.6953125, ...,  -8.7890625,\n",
       "         -7.1679688, -13.328125 ],\n",
       "       ...,\n",
       "       [ -3.6035156, -10.5      ,   3.2285156, ...,  -8.546875 ,\n",
       "         -5.7382812,  -9.3515625],\n",
       "       [ -3.0449219,  -5.9921875,  -6.2421875, ...,  -5.3085938,\n",
       "         -6.6875   , -11.3046875],\n",
       "       [ -6.203125 ,  -1.5058594,  -8.671875 , ...,  -9.3671875,\n",
       "         -8.28125  , -14.0625   ]], dtype=float32), label_ids=array([[0., 0., 0., ..., 0., 0., 0.],\n",
       "       [0., 0., 0., ..., 0., 0., 0.],\n",
       "       [0., 0., 0., ..., 0., 0., 0.],\n",
       "       ...,\n",
       "       [0., 0., 1., ..., 0., 0., 0.],\n",
       "       [0., 0., 0., ..., 0., 0., 0.],\n",
       "       [0., 0., 0., ..., 0., 0., 0.]], dtype=float32), metrics={'test_loss': 0.04061049222946167, 'test_accuracy_micro_0.5': 0.9826978445053101, 'test_accuracy_macro_0.5': 0.9826979041099548, 'test_accuracy_weighted_0.5': 0.9745819568634033, 'test_f1_micro_0.5': 0.7767925262451172, 'test_f1_macro_0.5': 0.7494336366653442, 'test_f1_weighted_0.5': 0.7716715931892395, 'test_f1_micro_0.6': 0.7647618651390076, 'test_f1_macro_0.6': 0.7338886260986328, 'test_f1_weighted_0.6': 0.7549136877059937, 'test_f1_micro_0.7': 0.7372573018074036, 'test_f1_macro_0.7': 0.6975521445274353, 'test_f1_weighted_0.7': 0.7196743488311768, 'test_f1_micro_0.8': 0.6821543574333191, 'test_f1_macro_0.8': 0.5109712481498718, 'test_f1_weighted_0.8': 0.5183889865875244, 'test_f1_micro_0.9': 0.56101393699646, 'test_aucroc_micro': 0.9215918183326721, 'test_aucroc_macro': 0.9128028154373169, 'test_aucroc_weighted': 0.9188166260719299, 'test_runtime': 1355.3687, 'test_samples_per_second': 122.611, 'test_steps_per_second': 7.664})"
      ]
     },
     "execution_count": 21,
     "metadata": {},
     "output_type": "execute_result"
    }
   ],
   "source": [
    "evaluation_result_level1"
   ]
  },
  {
   "cell_type": "code",
   "execution_count": 22,
   "metadata": {},
   "outputs": [],
   "source": [
    "test_predictions_level1 = evaluation_result_level1.predictions"
   ]
  },
  {
   "cell_type": "code",
   "execution_count": 60,
   "metadata": {},
   "outputs": [],
   "source": [
    "trainer.save_model(\"expriment_save_model\")"
   ]
  },
  {
   "cell_type": "markdown",
   "metadata": {},
   "source": [
    "Установка обученной модели"
   ]
  },
  {
   "cell_type": "code",
   "execution_count": 7,
   "metadata": {},
   "outputs": [],
   "source": [
    "from peft import TaskType, LoraConfig, get_peft_model\n",
    "from transformers import AutoTokenizer\n",
    "from transformers import AutoModelForSequenceClassification\n",
    "from peft import PeftConfig, PeftModel\n"
   ]
  },
  {
   "cell_type": "code",
   "execution_count": 62,
   "metadata": {},
   "outputs": [],
   "source": [
    "# transformers.__version__s"
   ]
  },
  {
   "cell_type": "code",
   "execution_count": 8,
   "metadata": {},
   "outputs": [
    {
     "name": "stderr",
     "output_type": "stream",
     "text": [
      "Some weights of BertForSequenceClassification were not initialized from the model checkpoint at DeepPavlov/rubert-base-cased and are newly initialized: ['classifier.bias', 'classifier.weight']\n",
      "You should probably TRAIN this model on a down-stream task to be able to use it for predictions and inference.\n"
     ]
    }
   ],
   "source": [
    "model = AutoModelForSequenceClassification.from_pretrained(pre_trained_model_name,\n",
    "                                                        problem_type=\"multi_label_classification\",\n",
    "                                                        num_labels=n_classes,\n",
    "                                                        torch_dtype=torch.float16)\n",
    "\n",
    "for param in model.parameters():\n",
    "    param.requires_grad = False"
   ]
  },
  {
   "cell_type": "code",
   "execution_count": 9,
   "metadata": {},
   "outputs": [],
   "source": [
    "config = PeftConfig.from_pretrained('expriment_save_model')"
   ]
  },
  {
   "cell_type": "code",
   "execution_count": 10,
   "metadata": {},
   "outputs": [],
   "source": [
    "model = PeftModel.from_pretrained(model, 'expriment_save_model', \n",
    "                                  torch_dtype=torch.float16)"
   ]
  },
  {
   "cell_type": "code",
   "execution_count": null,
   "metadata": {},
   "outputs": [
    {
     "data": {
      "text/plain": [
       "[TunerLayerStatus(name='model.bert.encoder.layer.0.attention.self.query', module_type='lora.Linear', enabled=True, active_adapters=['default'], merged_adapters=[], requires_grad={'default': False}, available_adapters=['default'], devices={'default': ['cpu']}),\n",
       " TunerLayerStatus(name='model.bert.encoder.layer.0.attention.self.value', module_type='lora.Linear', enabled=True, active_adapters=['default'], merged_adapters=[], requires_grad={'default': False}, available_adapters=['default'], devices={'default': ['cpu']}),\n",
       " TunerLayerStatus(name='model.bert.encoder.layer.1.attention.self.query', module_type='lora.Linear', enabled=True, active_adapters=['default'], merged_adapters=[], requires_grad={'default': False}, available_adapters=['default'], devices={'default': ['cpu']}),\n",
       " TunerLayerStatus(name='model.bert.encoder.layer.1.attention.self.value', module_type='lora.Linear', enabled=True, active_adapters=['default'], merged_adapters=[], requires_grad={'default': False}, available_adapters=['default'], devices={'default': ['cpu']}),\n",
       " TunerLayerStatus(name='model.bert.encoder.layer.2.attention.self.query', module_type='lora.Linear', enabled=True, active_adapters=['default'], merged_adapters=[], requires_grad={'default': False}, available_adapters=['default'], devices={'default': ['cpu']}),\n",
       " TunerLayerStatus(name='model.bert.encoder.layer.2.attention.self.value', module_type='lora.Linear', enabled=True, active_adapters=['default'], merged_adapters=[], requires_grad={'default': False}, available_adapters=['default'], devices={'default': ['cpu']}),\n",
       " TunerLayerStatus(name='model.bert.encoder.layer.3.attention.self.query', module_type='lora.Linear', enabled=True, active_adapters=['default'], merged_adapters=[], requires_grad={'default': False}, available_adapters=['default'], devices={'default': ['cpu']}),\n",
       " TunerLayerStatus(name='model.bert.encoder.layer.3.attention.self.value', module_type='lora.Linear', enabled=True, active_adapters=['default'], merged_adapters=[], requires_grad={'default': False}, available_adapters=['default'], devices={'default': ['cpu']}),\n",
       " TunerLayerStatus(name='model.bert.encoder.layer.4.attention.self.query', module_type='lora.Linear', enabled=True, active_adapters=['default'], merged_adapters=[], requires_grad={'default': False}, available_adapters=['default'], devices={'default': ['cpu']}),\n",
       " TunerLayerStatus(name='model.bert.encoder.layer.4.attention.self.value', module_type='lora.Linear', enabled=True, active_adapters=['default'], merged_adapters=[], requires_grad={'default': False}, available_adapters=['default'], devices={'default': ['cpu']}),\n",
       " TunerLayerStatus(name='model.bert.encoder.layer.5.attention.self.query', module_type='lora.Linear', enabled=True, active_adapters=['default'], merged_adapters=[], requires_grad={'default': False}, available_adapters=['default'], devices={'default': ['cpu']}),\n",
       " TunerLayerStatus(name='model.bert.encoder.layer.5.attention.self.value', module_type='lora.Linear', enabled=True, active_adapters=['default'], merged_adapters=[], requires_grad={'default': False}, available_adapters=['default'], devices={'default': ['cpu']}),\n",
       " TunerLayerStatus(name='model.bert.encoder.layer.6.attention.self.query', module_type='lora.Linear', enabled=True, active_adapters=['default'], merged_adapters=[], requires_grad={'default': False}, available_adapters=['default'], devices={'default': ['cpu']}),\n",
       " TunerLayerStatus(name='model.bert.encoder.layer.6.attention.self.value', module_type='lora.Linear', enabled=True, active_adapters=['default'], merged_adapters=[], requires_grad={'default': False}, available_adapters=['default'], devices={'default': ['cpu']}),\n",
       " TunerLayerStatus(name='model.bert.encoder.layer.7.attention.self.query', module_type='lora.Linear', enabled=True, active_adapters=['default'], merged_adapters=[], requires_grad={'default': False}, available_adapters=['default'], devices={'default': ['cpu']}),\n",
       " TunerLayerStatus(name='model.bert.encoder.layer.7.attention.self.value', module_type='lora.Linear', enabled=True, active_adapters=['default'], merged_adapters=[], requires_grad={'default': False}, available_adapters=['default'], devices={'default': ['cpu']}),\n",
       " TunerLayerStatus(name='model.bert.encoder.layer.8.attention.self.query', module_type='lora.Linear', enabled=True, active_adapters=['default'], merged_adapters=[], requires_grad={'default': False}, available_adapters=['default'], devices={'default': ['cpu']}),\n",
       " TunerLayerStatus(name='model.bert.encoder.layer.8.attention.self.value', module_type='lora.Linear', enabled=True, active_adapters=['default'], merged_adapters=[], requires_grad={'default': False}, available_adapters=['default'], devices={'default': ['cpu']}),\n",
       " TunerLayerStatus(name='model.bert.encoder.layer.9.attention.self.query', module_type='lora.Linear', enabled=True, active_adapters=['default'], merged_adapters=[], requires_grad={'default': False}, available_adapters=['default'], devices={'default': ['cpu']}),\n",
       " TunerLayerStatus(name='model.bert.encoder.layer.9.attention.self.value', module_type='lora.Linear', enabled=True, active_adapters=['default'], merged_adapters=[], requires_grad={'default': False}, available_adapters=['default'], devices={'default': ['cpu']}),\n",
       " TunerLayerStatus(name='model.bert.encoder.layer.10.attention.self.query', module_type='lora.Linear', enabled=True, active_adapters=['default'], merged_adapters=[], requires_grad={'default': False}, available_adapters=['default'], devices={'default': ['cpu']}),\n",
       " TunerLayerStatus(name='model.bert.encoder.layer.10.attention.self.value', module_type='lora.Linear', enabled=True, active_adapters=['default'], merged_adapters=[], requires_grad={'default': False}, available_adapters=['default'], devices={'default': ['cpu']}),\n",
       " TunerLayerStatus(name='model.bert.encoder.layer.11.attention.self.query', module_type='lora.Linear', enabled=True, active_adapters=['default'], merged_adapters=[], requires_grad={'default': False}, available_adapters=['default'], devices={'default': ['cpu']}),\n",
       " TunerLayerStatus(name='model.bert.encoder.layer.11.attention.self.value', module_type='lora.Linear', enabled=True, active_adapters=['default'], merged_adapters=[], requires_grad={'default': False}, available_adapters=['default'], devices={'default': ['cpu']})]"
      ]
     },
     "execution_count": 100,
     "metadata": {},
     "output_type": "execute_result"
    }
   ],
   "source": [
    "# model.get_layer_status()"
   ]
  },
  {
   "cell_type": "code",
   "execution_count": 101,
   "metadata": {},
   "outputs": [
    {
     "data": {
      "text/plain": [
       "TunerModelStatus(base_model_type='BertForSequenceClassification', adapter_model_type='LoraModel', peft_types={'default': 'LORA'}, trainable_params=23839, total_params=178490942, num_adapter_layers=24, enabled=True, active_adapters=['default'], merged_adapters=[], requires_grad={'default': False}, available_adapters=['default'], devices={'default': ['cpu']})"
      ]
     },
     "execution_count": 101,
     "metadata": {},
     "output_type": "execute_result"
    }
   ],
   "source": [
    "model.get_model_status()"
   ]
  },
  {
   "cell_type": "markdown",
   "metadata": {},
   "source": [
    "Тестирования результаты c помощью trainer"
   ]
  },
  {
   "cell_type": "code",
   "execution_count": 13,
   "metadata": {},
   "outputs": [],
   "source": [
    "test_trainer = CustomTrainer(model)"
   ]
  },
  {
   "cell_type": "code",
   "execution_count": 14,
   "metadata": {},
   "outputs": [
    {
     "name": "stderr",
     "output_type": "stream",
     "text": [
      "c:\\Users\\victo\\git_Work_VINITI_2024\\my_venv_cuda\\lib\\site-packages\\transformers\\models\\bert\\modeling_bert.py:439: UserWarning: 1Torch was not compiled with flash attention. (Triggered internally at C:\\actions-runner\\_work\\pytorch\\pytorch\\builder\\windows\\pytorch\\aten\\src\\ATen\\native\\transformers\\cuda\\sdp_utils.cpp:455.)\n",
      "  attn_output = torch.nn.functional.scaled_dot_product_attention(\n"
     ]
    },
    {
     "data": {
      "application/vnd.jupyter.widget-view+json": {
       "model_id": "4f5b82bbf9064b478bf449ef02208438",
       "version_major": 2,
       "version_minor": 0
      },
      "text/plain": [
       "  0%|          | 0/20773 [00:00<?, ?it/s]"
      ]
     },
     "metadata": {},
     "output_type": "display_data"
    }
   ],
   "source": [
    "test_result_level1_v2 = test_trainer.predict(test_dataset=test_dataset)"
   ]
  },
  {
   "cell_type": "code",
   "execution_count": 104,
   "metadata": {},
   "outputs": [],
   "source": [
    "import numpy as np"
   ]
  },
  {
   "cell_type": "code",
   "execution_count": 15,
   "metadata": {},
   "outputs": [],
   "source": [
    "test_predictions_level1_v2 = test_result_level1_v2.predictions"
   ]
  },
  {
   "cell_type": "code",
   "execution_count": 5,
   "metadata": {},
   "outputs": [],
   "source": [
    "from tqdm import tqdm\n"
   ]
  },
  {
   "cell_type": "code",
   "execution_count": null,
   "metadata": {},
   "outputs": [],
   "source": []
  },
  {
   "cell_type": "code",
   "execution_count": 117,
   "metadata": {},
   "outputs": [
    {
     "data": {
      "text/plain": [
       "numpy.ndarray"
      ]
     },
     "execution_count": 117,
     "metadata": {},
     "output_type": "execute_result"
    }
   ],
   "source": [
    "type(test_result_level1_v2.predictions)"
   ]
  },
  {
   "cell_type": "code",
   "execution_count": 118,
   "metadata": {},
   "outputs": [],
   "source": [
    "from torch.utils.data import DataLoader\n"
   ]
  },
  {
   "cell_type": "code",
   "execution_count": 5,
   "metadata": {},
   "outputs": [],
   "source": [
    "def collate_fn(batch):\n",
    "    # print(type(batch), len(batch), type(batch[0]), batch[0])\n",
    "    result = {}\n",
    "    for el in batch:\n",
    "        for key in el.keys():\n",
    "            result.setdefault(key, []).append(el[key])\n",
    "    for key in result.keys():\n",
    "        result[key] = torch.tensor(result[key])\n",
    "    return result\n",
    "    # tensors, targets = zip(*batch)\n",
    "    # features = pad_sequence(tensors, batch_first=True)\n",
    "    # targets = torch.stack(targets)\n",
    "    # return features, targets\n"
   ]
  },
  {
   "cell_type": "code",
   "execution_count": 120,
   "metadata": {},
   "outputs": [],
   "source": [
    "test_dataloader = DataLoader(test_dataset, batch_size=8, collate_fn=collate_fn)\n"
   ]
  },
  {
   "cell_type": "code",
   "execution_count": 121,
   "metadata": {},
   "outputs": [],
   "source": [
    "# for el in test_dataloader:\n",
    "#     # print(el)\n",
    "#     print(el[\"attention_mask\"].shape)\n",
    "\n",
    "#     # print(len(el[\"attention_mask\"]))\n",
    "#     # print(torch.stack(el['input_ids'], dim=1))\n",
    "#     # print(torch.stack(el['attention_mask'], dim=1))\n",
    "#     # print(torch.stack(el['labels'], dim=1))\n",
    "#     break"
   ]
  },
  {
   "cell_type": "code",
   "execution_count": 8,
   "metadata": {},
   "outputs": [],
   "source": [
    "def make_predictions(model, dataset_test, device):\n",
    "    model.eval()\n",
    "    y_pred_list = []\n",
    "    for batch in tqdm(dataset_test):\n",
    "        # print(batch['input_ids'])\n",
    "        # batch = tuple(t.to(device) for t in batch)\n",
    "        # inputs = \n",
    "        # print(torch.stack(batch['input_ids'], dim=1).shape)\n",
    "        # print(torch.stack(batch['attention_mask'], dim=1).shape)\n",
    "        # print(torch.stack(batch['labels'], dim=1).shape)\n",
    "\n",
    "\n",
    "        inputs = batch['input_ids'].to(device)\n",
    "        mask = batch['attention_mask'].to(device)\n",
    "        # y_test = batch['labels'].to(device)\n",
    "        # batch = \n",
    "        with torch.no_grad():\n",
    "            output = model(inputs, attention_mask = mask)#, labels= y_test)\n",
    "        \n",
    "            # Move logits and labels to CPU\n",
    "            logits = output.logits.detach().cpu()#.numpy()\n",
    "\n",
    "\n",
    "            # logits_flatten = torch.sigmoid(logits)#.numpy()#.flatten()\n",
    "\n",
    "            y_pred_list.extend(logits)#logits_flatten)\n",
    "\n",
    "    return y_pred_list"
   ]
  },
  {
   "cell_type": "code",
   "execution_count": 123,
   "metadata": {},
   "outputs": [],
   "source": [
    "# model = model.merge_and_unload()"
   ]
  },
  {
   "cell_type": "code",
   "execution_count": 124,
   "metadata": {},
   "outputs": [],
   "source": [
    "# model.half()"
   ]
  },
  {
   "cell_type": "code",
   "execution_count": 125,
   "metadata": {},
   "outputs": [
    {
     "data": {
      "text/plain": [
       "PeftModelForSequenceClassification(\n",
       "  (base_model): LoraModel(\n",
       "    (model): BertForSequenceClassification(\n",
       "      (bert): BertModel(\n",
       "        (embeddings): BertEmbeddings(\n",
       "          (word_embeddings): Embedding(119547, 768, padding_idx=0)\n",
       "          (position_embeddings): Embedding(512, 768)\n",
       "          (token_type_embeddings): Embedding(2, 768)\n",
       "          (LayerNorm): LayerNorm((768,), eps=1e-12, elementwise_affine=True)\n",
       "          (dropout): Dropout(p=0.1, inplace=False)\n",
       "        )\n",
       "        (encoder): BertEncoder(\n",
       "          (layer): ModuleList(\n",
       "            (0-11): 12 x BertLayer(\n",
       "              (attention): BertAttention(\n",
       "                (self): BertSdpaSelfAttention(\n",
       "                  (query): lora.Linear(\n",
       "                    (base_layer): Linear(in_features=768, out_features=768, bias=True)\n",
       "                    (lora_dropout): ModuleDict(\n",
       "                      (default): Dropout(p=0.05, inplace=False)\n",
       "                    )\n",
       "                    (lora_A): ModuleDict(\n",
       "                      (default): Linear(in_features=768, out_features=16, bias=False)\n",
       "                    )\n",
       "                    (lora_B): ModuleDict(\n",
       "                      (default): Linear(in_features=16, out_features=768, bias=False)\n",
       "                    )\n",
       "                    (lora_embedding_A): ParameterDict()\n",
       "                    (lora_embedding_B): ParameterDict()\n",
       "                    (lora_magnitude_vector): ModuleDict()\n",
       "                  )\n",
       "                  (key): Linear(in_features=768, out_features=768, bias=True)\n",
       "                  (value): lora.Linear(\n",
       "                    (base_layer): Linear(in_features=768, out_features=768, bias=True)\n",
       "                    (lora_dropout): ModuleDict(\n",
       "                      (default): Dropout(p=0.05, inplace=False)\n",
       "                    )\n",
       "                    (lora_A): ModuleDict(\n",
       "                      (default): Linear(in_features=768, out_features=16, bias=False)\n",
       "                    )\n",
       "                    (lora_B): ModuleDict(\n",
       "                      (default): Linear(in_features=16, out_features=768, bias=False)\n",
       "                    )\n",
       "                    (lora_embedding_A): ParameterDict()\n",
       "                    (lora_embedding_B): ParameterDict()\n",
       "                    (lora_magnitude_vector): ModuleDict()\n",
       "                  )\n",
       "                  (dropout): Dropout(p=0.1, inplace=False)\n",
       "                )\n",
       "                (output): BertSelfOutput(\n",
       "                  (dense): Linear(in_features=768, out_features=768, bias=True)\n",
       "                  (LayerNorm): LayerNorm((768,), eps=1e-12, elementwise_affine=True)\n",
       "                  (dropout): Dropout(p=0.1, inplace=False)\n",
       "                )\n",
       "              )\n",
       "              (intermediate): BertIntermediate(\n",
       "                (dense): Linear(in_features=768, out_features=3072, bias=True)\n",
       "                (intermediate_act_fn): GELUActivation()\n",
       "              )\n",
       "              (output): BertOutput(\n",
       "                (dense): Linear(in_features=3072, out_features=768, bias=True)\n",
       "                (LayerNorm): LayerNorm((768,), eps=1e-12, elementwise_affine=True)\n",
       "                (dropout): Dropout(p=0.1, inplace=False)\n",
       "              )\n",
       "            )\n",
       "          )\n",
       "        )\n",
       "        (pooler): BertPooler(\n",
       "          (dense): Linear(in_features=768, out_features=768, bias=True)\n",
       "          (activation): Tanh()\n",
       "        )\n",
       "      )\n",
       "      (dropout): Dropout(p=0.1, inplace=False)\n",
       "      (classifier): ModulesToSaveWrapper(\n",
       "        (original_module): Linear(in_features=768, out_features=31, bias=True)\n",
       "        (modules_to_save): ModuleDict(\n",
       "          (default): Linear(in_features=768, out_features=31, bias=True)\n",
       "        )\n",
       "      )\n",
       "    )\n",
       "  )\n",
       ")"
      ]
     },
     "execution_count": 125,
     "metadata": {},
     "output_type": "execute_result"
    }
   ],
   "source": [
    "model"
   ]
  },
  {
   "cell_type": "code",
   "execution_count": 49,
   "metadata": {},
   "outputs": [],
   "source": [
    "torch.cuda.empty_cache()"
   ]
  },
  {
   "cell_type": "code",
   "execution_count": 50,
   "metadata": {},
   "outputs": [],
   "source": [
    "model.to(\"cuda\");"
   ]
  },
  {
   "cell_type": "code",
   "execution_count": 25,
   "metadata": {},
   "outputs": [
    {
     "name": "stderr",
     "output_type": "stream",
     "text": [
      "  0%|          | 0/20773 [00:00<?, ?it/s]c:\\Users\\victo\\git_Work_VINITI_2024\\my_venv_cuda\\lib\\site-packages\\transformers\\models\\bert\\modeling_bert.py:439: UserWarning: 1Torch was not compiled with flash attention. (Triggered internally at C:\\actions-runner\\_work\\pytorch\\pytorch\\builder\\windows\\pytorch\\aten\\src\\ATen\\native\\transformers\\cuda\\sdp_utils.cpp:455.)\n",
      "  attn_output = torch.nn.functional.scaled_dot_product_attention(\n",
      "100%|██████████| 20773/20773 [1:19:54<00:00,  4.33it/s]\n"
     ]
    }
   ],
   "source": [
    "test_predictions_level1 = make_predictions(model, test_dataloader, \"cuda\")"
   ]
  },
  {
   "cell_type": "code",
   "execution_count": 4,
   "metadata": {},
   "outputs": [],
   "source": [
    "import re\n",
    "import pandas as pd\n",
    "import matplotlib.pyplot as plt\n",
    "import numpy as np\n",
    "from tqdm import tqdm\n",
    "from tqdm.notebook import tqdm as tqdm2\n",
    "import json\n",
    "import torch\n",
    "from peft import TaskType, LoraConfig, get_peft_model\n",
    "from transformers import AutoTokenizer\n",
    "from transformers import AutoModelForSequenceClassification\n",
    "from collections import Counter\n",
    "from sklearn.model_selection import train_test_split\n",
    "from torchmetrics.classification import MultilabelF1Score, MultilabelAccuracy, MultilabelAUROC\n",
    "from datasets import Dataset\n",
    "\n",
    "from ignite.metrics import ClassificationReport\n",
    "from ignite.engine.engine import Engine\n",
    "\n",
    "from ignite.metrics.precision import Precision\n",
    "from ignite.metrics.recall import Recall\n",
    "from ignite.metrics.metrics_lambda import MetricsLambda\n",
    "tqdm2.pandas()\n"
   ]
  },
  {
   "cell_type": "code",
   "execution_count": 127,
   "metadata": {},
   "outputs": [
    {
     "data": {
      "text/plain": [
       "31"
      ]
     },
     "execution_count": 127,
     "metadata": {},
     "output_type": "execute_result"
    }
   ],
   "source": [
    "n_classes"
   ]
  },
  {
   "cell_type": "code",
   "execution_count": 128,
   "metadata": {},
   "outputs": [
    {
     "data": {
      "text/plain": [
       "166183"
      ]
     },
     "execution_count": 128,
     "metadata": {},
     "output_type": "execute_result"
    }
   ],
   "source": [
    "len(test_predictions_level1)"
   ]
  },
  {
   "cell_type": "code",
   "execution_count": 129,
   "metadata": {},
   "outputs": [
    {
     "data": {
      "text/plain": [
       "(166183, 4)"
      ]
     },
     "execution_count": 129,
     "metadata": {},
     "output_type": "execute_result"
    }
   ],
   "source": [
    "test_dataset.shape"
   ]
  },
  {
   "cell_type": "code",
   "execution_count": 16,
   "metadata": {},
   "outputs": [],
   "source": [
    "test_predictions_level1_2 = torch.tensor(test_predictions_level1_v2)"
   ]
  },
  {
   "cell_type": "code",
   "execution_count": 132,
   "metadata": {},
   "outputs": [
    {
     "data": {
      "text/plain": [
       "torch.Size([166183, 31])"
      ]
     },
     "execution_count": 132,
     "metadata": {},
     "output_type": "execute_result"
    }
   ],
   "source": [
    "test_predictions_level1_2.shape"
   ]
  },
  {
   "cell_type": "code",
   "execution_count": 133,
   "metadata": {},
   "outputs": [
    {
     "data": {
      "text/plain": [
       "31"
      ]
     },
     "execution_count": 133,
     "metadata": {},
     "output_type": "execute_result"
    }
   ],
   "source": [
    "len(test_dataset['labels'][0])"
   ]
  },
  {
   "cell_type": "code",
   "execution_count": 25,
   "metadata": {
    "scrolled": true
   },
   "outputs": [
    {
     "data": {
      "text/plain": [
       "tensor([[ -6.4453,  -5.9688,  -6.2578,  ..., -11.0078,  -7.5117, -12.7422],\n",
       "        [ -6.8516,  -6.3828,  -5.3242,  ...,  -8.8359,  -7.4414, -12.8906],\n",
       "        [ -4.0430,  -6.2734,  -4.6914,  ...,  -8.7891,  -7.1719, -13.3281],\n",
       "        ...,\n",
       "        [ -3.6055, -10.5000,   3.2246,  ...,  -8.5469,  -5.7422,  -9.3516],\n",
       "        [ -3.0449,  -5.9922,  -6.2422,  ...,  -5.3125,  -6.6914, -11.3125],\n",
       "        [ -6.2031,  -1.5059,  -8.6719,  ...,  -9.3672,  -8.2812, -14.0547]])"
      ]
     },
     "execution_count": 25,
     "metadata": {},
     "output_type": "execute_result"
    }
   ],
   "source": [
    "test_predictions_level1_2"
   ]
  },
  {
   "cell_type": "code",
   "execution_count": 20,
   "metadata": {},
   "outputs": [
    {
     "name": "stderr",
     "output_type": "stream",
     "text": [
      "100%|██████████| 12/12 [02:28<00:00, 12.40s/it]\n"
     ]
    }
   ],
   "source": [
    "treshold_list = [0.4 + 0.025 * x for x in range(0, 24, 2)]\n",
    "f1_score_macro_list = []\n",
    "f1_score_micro_list = []\n",
    "f1_score_weighted_list = []\n",
    "\n",
    "for treshold in tqdm(treshold_list):\n",
    "    multilabel_f1_score_macro = MultilabelF1Score(num_labels=n_classes, average='macro', threshold=treshold)\n",
    "\n",
    "    f1_score_macro_list.append(multilabel_f1_score_macro(test_predictions_level1_2, #torch.tensor(test_predictions_level1_2)\n",
    "                                                        torch.tensor(test_dataset['labels'])))\n",
    "\n",
    "    multilabel_f1_score_micro = MultilabelF1Score(num_labels=n_classes, average='micro', threshold=treshold)\n",
    "\n",
    "    f1_score_micro_list.append(multilabel_f1_score_micro(test_predictions_level1_2, #torch.tensor(test_predictions_level1_2)\n",
    "                                                        torch.tensor(test_dataset['labels'])))\n",
    "\n",
    "    multilabel_f1_score_weighted = MultilabelF1Score(num_labels=n_classes, average='weighted',\n",
    "                                                      threshold=treshold)\n",
    "\n",
    "    f1_score_weighted_list.append(multilabel_f1_score_weighted(test_predictions_level1_2,#torch.tensor(test_predictions_level1_2), \n",
    "                                                        torch.tensor(test_dataset['labels'])))"
   ]
  },
  {
   "cell_type": "code",
   "execution_count": 21,
   "metadata": {},
   "outputs": [
    {
     "data": {
      "image/png": "[encoded data removed]",
      "text/plain": [
       "<Figure size 640x480 with 1 Axes>"
      ]
     },
     "metadata": {},
     "output_type": "display_data"
    }
   ],
   "source": [
    "\n",
    "    \n",
    "\n",
    "plt.plot(treshold_list, f1_score_macro_list, label = \"macro\")\n",
    "plt.plot(treshold_list, f1_score_micro_list, label = \"micro\")\n",
    "plt.plot(treshold_list, f1_score_weighted_list, label = \"weighted\")\n",
    "plt.xticks(treshold_list, rotation=70)\n",
    "plt.title(\"Зависимость f1_score от threshold\")\n",
    "plt.xlabel(\"threshold\")\n",
    "plt.ylabel(\"f1_score\")\n",
    "plt.legend()\n",
    "plt.grid()\n",
    "# plt.savefig(dir_name + \"Зависимость f1_score от threshold.png\",\n",
    "#                 bbox_inches='tight')\n",
    "\n",
    "def eval_step(engine, batch):\n",
    "    return batch\n",
    "\n",
    "default_evaluator = Engine(eval_step)\n",
    "metric = ClassificationReport(output_dict=True, is_multilabel=True)\n",
    "weighted_metric_precision = Precision(average='weighted', is_multilabel=True)\n",
    "weighted_metric_recall= Recall(average='weighted', is_multilabel=True)\n",
    "\n",
    "preds = (test_predictions_level1_2 > 0.5).int() # torch.tensor(\n",
    "input = torch.tensor(test_dataset['labels']).int()\n",
    "\n",
    "precision = Precision(average=False, is_multilabel=True)\n",
    "recall = Recall(average=False, is_multilabel=True)\n",
    "F1 = precision * recall * 2 / (precision + recall + 1e-20)\n",
    "freq = torch.tensor([sum(input[:, i]) for i in range(input.shape[1])])#.tolist()\n",
    "# weights_per_class = input.shape[0] / (torch.tensor([el if el > 0 else 1 for el in freq])* input.shape[1])\n",
    "F1_wieghted = MetricsLambda(lambda t: torch.sum(t * freq).item() / input.shape[0], F1) # \n",
    "\n",
    "metric.attach(default_evaluator, \"cr\")\n",
    "weighted_metric_precision.attach(default_evaluator, \"weighted precision\")\n",
    "weighted_metric_recall.attach(default_evaluator, \"weighted recall\")\n",
    "F1_wieghted.attach(default_evaluator, \"weighted F1\")\n",
    "\n",
    "\n",
    "\n",
    "state = default_evaluator.run([[preds, input]])\n",
    "result = state.metrics['cr']\n",
    "result['weighted precision'] = state.metrics['weighted precision']\n",
    "\n",
    "result['weighted recall'] = state.metrics['weighted recall']\n",
    "result['weighted F1'] = state.metrics['weighted F1']\n",
    "\n",
    "# with open(dir_name + \"test_results_level1.json\", \"w\") as outfile:\n",
    "#     json.dump(result, outfile)\n"
   ]
  },
  {
   "cell_type": "code",
   "execution_count": 26,
   "metadata": {},
   "outputs": [],
   "source": [
    "torch.save(test_predictions_level1_2, \"predictions_first_level.pt\")"
   ]
  },
  {
   "cell_type": "code",
   "execution_count": 29,
   "metadata": {},
   "outputs": [
    {
     "data": {
      "text/plain": [
       "(166183, 31)"
      ]
     },
     "execution_count": 29,
     "metadata": {},
     "output_type": "execute_result"
    }
   ],
   "source": [
    "len(test_dataset['labels']), len(test_dataset['labels'][0])"
   ]
  },
  {
   "cell_type": "markdown",
   "metadata": {},
   "source": [
    "### 1 most certain prediction"
   ]
  },
  {
   "cell_type": "code",
   "execution_count": 5,
   "metadata": {},
   "outputs": [],
   "source": [
    "from sklearn.metrics import f1_score\n"
   ]
  },
  {
   "cell_type": "code",
   "execution_count": 6,
   "metadata": {},
   "outputs": [],
   "source": [
    "test_predictions_level1_2 = torch.load(\"predictions_first_level.pt\")"
   ]
  },
  {
   "cell_type": "code",
   "execution_count": 17,
   "metadata": {},
   "outputs": [],
   "source": [
    "predictions_1_most_certain= np.zeros(shape = list(test_predictions_level1_2.shape))"
   ]
  },
  {
   "cell_type": "code",
   "execution_count": 18,
   "metadata": {},
   "outputs": [],
   "source": [
    "label_1_most_certain = np.zeros(shape = list(test_predictions_level1_2.shape))"
   ]
  },
  {
   "cell_type": "code",
   "execution_count": 19,
   "metadata": {},
   "outputs": [
    {
     "data": {
      "text/plain": [
       "31"
      ]
     },
     "execution_count": 19,
     "metadata": {},
     "output_type": "execute_result"
    }
   ],
   "source": [
    "len(df_test['target_coded'][0])"
   ]
  },
  {
   "cell_type": "code",
   "execution_count": 28,
   "metadata": {},
   "outputs": [],
   "source": [
    "equal_true = []"
   ]
  },
  {
   "cell_type": "code",
   "execution_count": 35,
   "metadata": {},
   "outputs": [],
   "source": [
    "# test_dataset"
   ]
  },
  {
   "cell_type": "code",
   "execution_count": 36,
   "metadata": {},
   "outputs": [],
   "source": [
    "test_labels = np.array(test_dataset[\"labels\"])"
   ]
  },
  {
   "cell_type": "code",
   "execution_count": null,
   "metadata": {},
   "outputs": [
    {
     "name": "stderr",
     "output_type": "stream",
     "text": [
      "166183it [00:01, 131714.14it/s]\n"
     ]
    }
   ],
   "source": [
    "for i, el in tqdm(enumerate(test_predictions_level1_2)):\n",
    "    # print(el)\n",
    "    index_number = torch.argmax(el).item()\n",
    "    # print(index_number)\n",
    "    predictions_1_most_certain[i][index_number] = 1\n",
    "    label_1_most_certain[i][index_number] = test_labels[i][index_number]\n",
    "\n",
    "    equal_true.append(test_labels[i][index_number] == 1)\n",
    "\n",
    "\n",
    "    "
   ]
  },
  {
   "cell_type": "code",
   "execution_count": 43,
   "metadata": {},
   "outputs": [
    {
     "data": {
      "text/plain": [
       "0.8044845069665505"
      ]
     },
     "execution_count": 43,
     "metadata": {},
     "output_type": "execute_result"
    }
   ],
   "source": [
    "f1_score(label_1_most_certain, predictions_1_most_certain, average='weighted')"
   ]
  },
  {
   "cell_type": "code",
   "execution_count": 44,
   "metadata": {},
   "outputs": [
    {
     "data": {
      "text/plain": [
       "0.16938753029301606"
      ]
     },
     "execution_count": 44,
     "metadata": {},
     "output_type": "execute_result"
    }
   ],
   "source": [
    "f1_score(label_1_most_certain, predictions_1_most_certain, average='micro')"
   ]
  },
  {
   "cell_type": "code",
   "execution_count": 47,
   "metadata": {},
   "outputs": [
    {
     "data": {
      "text/plain": [
       "0.0658129892949339"
      ]
     },
     "execution_count": 47,
     "metadata": {},
     "output_type": "execute_result"
    }
   ],
   "source": [
    "sum(equal_true)/ len(equal_true)"
   ]
  },
  {
   "cell_type": "markdown",
   "metadata": {},
   "source": [
    "#### Level 2"
   ]
  },
  {
   "cell_type": "code",
   "execution_count": 7,
   "metadata": {},
   "outputs": [],
   "source": [
    "def get_grnti1_2_BERT_dataframes_v2(file_path, number_of_delteted_values, \n",
    "                                 minimal_number_of_elements_RGNTI2,\n",
    "                                 minimal_number_of_words,\n",
    "                                 dir_name=None):\n",
    "    df = pd.read_csv(file_path + \"\\\\train_ru.csv\", sep='\\t', encoding='cp1251')\n",
    "    df = df.loc[df['RGNTI'].apply(lambda x: re.findall(\"\\d+\",x)!=[])] # Пропускаем строки без класса\n",
    "    df_test = pd.read_csv(file_path + \"\\\\test_ru.csv\", sep='\\t', encoding='cp1251',\n",
    "                        error_bad_lines=False)\n",
    "    df_test = df_test.loc[df_test['RGNTI'].apply(lambda x: re.findall(\"\\d+\",x)!=[])]\n",
    "    df['target'] = df['RGNTI'].apply(lambda x:\n",
    "                                    list(set([re.findall(\"\\d+\",el)[0]\n",
    "                                                for el in x.split('\\\\')]))) # Для каждой строки извлекаем значения ГРНТИ 1 уровня\n",
    "\n",
    "    df_test['target'] = df_test['RGNTI'].apply(lambda x:\n",
    "                                    list(set([re.findall(\"\\d+\",el)[0]\n",
    "                                                for el in x.split('\\\\')])))\n",
    "    df['target_2'] = df['RGNTI'].apply(lambda x:\n",
    "                                    list(set([re.findall(\"\\d+.\\d+\",el)[0]\n",
    "                                                for el in x.split('\\\\')])))\n",
    "    df_test['target_2'] = df_test['RGNTI'].apply(lambda x:\n",
    "                                    list(set([re.findall(\"\\d+.\\d+\",el)[0]\n",
    "                                                for el in x.split('\\\\')])))\n",
    "\n",
    "\n",
    "    df_trunc = df.copy()\n",
    "\n",
    "    df_test_trunc = df_test.copy()\n",
    "    if number_of_delteted_values > 0:\n",
    "\n",
    "        list_of_few_values = pd.value_counts(np.concatenate(\n",
    "            df['target'].values))[:-number_of_delteted_values].index.to_list() \n",
    "        df_trunc['target'] = df['target'].apply(lambda x: list(set(x) & set(list_of_few_values)))\n",
    "        df_trunc = df_trunc[df_trunc['target'].apply(lambda x: x != []) ]\n",
    "\n",
    "        df_test_trunc[\"target\"] = df_test['target'].apply(lambda x: list(set(x) & set(list_of_few_values)))\n",
    "\n",
    "        df_test_trunc[\"target\"] = df_test_trunc[\"target\"].apply(lambda x: x if x!=[] else [\"no class\"])\n",
    "\n",
    "\n",
    "    unique_vals = np.unique(np.concatenate(df_trunc['target'].values))\n",
    "\n",
    "    list_of_proper_values_target_2 = []\n",
    "    list_of_inproper_values_target_2 = []\n",
    "    print(f\"Удаление элементов второго уровня, количство которых меньше {minimal_number_of_elements_RGNTI2}\")\n",
    "    print(df_trunc.head())\n",
    "    for target_2_val in tqdm(unique_vals):\n",
    "        needed_taget2 = df_trunc['target_2'].apply(lambda x: [re.findall(f\"{target_2_val}.\\d+\",el)[0] for el \n",
    "                                                    in x if re.findall(f\"{target_2_val}.\\d+\",el)])\n",
    "        \n",
    "        concatenated_list_target2 = pd.value_counts(np.concatenate(np.array([el for el\n",
    "                                                    in needed_taget2.values.tolist() if el], dtype=\"object\")))\n",
    "        list_of_proper_values_target_2.extend(concatenated_list_target2[concatenated_list_target2 >= minimal_number_of_elements_RGNTI2].\\\n",
    "                                            index.to_list())\n",
    "        list_of_inproper_values_target_2.extend(concatenated_list_target2[concatenated_list_target2 < minimal_number_of_elements_RGNTI2].\\\n",
    "                                            index.to_list())\n",
    "        \n",
    "    # print(list_of_inproper_values_target_2)\n",
    "    set_of_proper_values_target_2 = set(list_of_proper_values_target_2)\n",
    "    # print(set_of_proper_values_target_2)\n",
    "    df_trunc2 = df_trunc.copy()\n",
    "    #Код для графика \n",
    "    # print(\"df_trunc['target_2']:\", df_trunc['target_2'])\n",
    "    df_trunc2_deleted = df_trunc['target_2'].apply(lambda x: list(set(x) -\n",
    "                                                    set_of_proper_values_target_2))\n",
    "    df_trunc2_deleted = pd.Series([el for el in df_trunc2_deleted if el != []])\n",
    "    # print(\"df_trunc2_deleted:\", df_trunc2_deleted)\n",
    "    #Конец кода для графика\n",
    "\n",
    "\n",
    "\n",
    "    df_trunc2['target_2'] = df_trunc['target_2'].apply(lambda x: list(set(x) &\n",
    "                                                        set_of_proper_values_target_2))\n",
    "    df_trunc2 = df_trunc2[df_trunc2['target_2'].apply(lambda x: x != []) ]\n",
    "\n",
    "    #код для графика 2\n",
    "    if minimal_number_of_elements_RGNTI2 > 1:\n",
    "        pd.value_counts(np.concatenate(df_trunc2_deleted.values)).plot.bar()\n",
    "        plt.xlabel(\"RGNTI 2\")\n",
    "        plt.ylabel(\"Количество элементов\")\n",
    "        plt.title(\"Количество удаляемых текстов из датасета для 2-ого уровня ГРНТИ\")\n",
    "        if dir_name:\n",
    "            plt.savefig(dir_name + \"Количество удаляемых текстов из датасета для 2-ого уровня ГРНТИ.png\",\n",
    "                        bbox_inches='tight')\n",
    "\n",
    "    else:\n",
    "        print(\"Элементы не удаляются из датасета по RGNTI 2\")\n",
    " \n",
    "    pd.value_counts(np.concatenate(df_trunc2['target_2'].values)).plot.bar()\n",
    "    plt.xlabel(\"RGNTI 2\")\n",
    "    plt.ylabel(\"Количество элементов\")\n",
    "    plt.title(\"Количество элементов, остающихся в датасете для 2-ого уровня ГРНТИ\")\n",
    "    # plt.show()\n",
    "    if dir_name:\n",
    "        plt.savefig(dir_name + \"Количество элементов, остающихся в датасете для 2-ого уровня ГРНТИ.png\",\n",
    "                    bbox_inches='tight')\n",
    "    #конец кода для графика 2\n",
    "\n",
    "    df_test_trunc2 = df_test_trunc\n",
    "\n",
    "    union_of_targets = set(unique_vals)\n",
    "    coding =  range(len(union_of_targets))\n",
    "    dict_Vinit_code_int = dict(zip(union_of_targets, coding))\n",
    "\n",
    "    with open(\"my_grnti1_int.json\", \"w\") as outfile:\n",
    "        json.dump(dict_Vinit_code_int, outfile)\n",
    "\n",
    "\n",
    "    with open('my_grnti1_int.json', \"r\") as code_file:\n",
    "        grnti_mapping_dict = json.load(code_file) # Загружаем файл с кодами \n",
    "    n_classes = len(grnti_mapping_dict)\n",
    "\n",
    "    #Уровень 2\n",
    "    unique_vals_level2 = np.unique(np.concatenate(df_trunc2['target_2'].values))\n",
    "    union_of_targets2 = set(unique_vals_level2)\n",
    "    coding2 =  range(len(union_of_targets2))\n",
    "    dict_Vinit_code_int2 = dict(zip(union_of_targets2, coding2))\n",
    "\n",
    "    with open(\"my_grnti2_int.json\", \"w\") as outfile:\n",
    "        json.dump(dict_Vinit_code_int2, outfile)\n",
    "\n",
    "\n",
    "    with open('my_grnti2_int.json', \"r\") as code_file:\n",
    "        grnti_mapping_dict2 = json.load(code_file) # Загружаем файл с кодами \n",
    "    n_classes2 = len(grnti_mapping_dict2)\n",
    "\n",
    "    #Кодируем классы тренировочного датасета\n",
    "    df_trunc_result_multiclass_targets = []\n",
    "    for list_el in df_trunc2['target']:\n",
    "        classes_zero = [0] * n_classes\n",
    "        for index in list_el:\n",
    "            if index in grnti_mapping_dict.keys():\n",
    "                classes_zero[grnti_mapping_dict[index]] = 1\n",
    "\n",
    "        df_trunc_result_multiclass_targets.append(classes_zero)\n",
    "\n",
    "    #Кодируем классы тестового датасета\n",
    "    df_test_trunc_result_multiclass_targets = []\n",
    "    for list_el in df_test_trunc2['target']:\n",
    "        classes_zero = [0] * n_classes\n",
    "        for index in list_el:\n",
    "            if index in grnti_mapping_dict.keys():\n",
    "                classes_zero[grnti_mapping_dict[index]] = 1\n",
    "\n",
    "        df_test_trunc_result_multiclass_targets.append(classes_zero)\n",
    "    df_trunc2['target_coded'] = df_trunc_result_multiclass_targets\n",
    "    df_test_trunc2['target_coded'] = df_test_trunc_result_multiclass_targets\n",
    "\n",
    "    #Кодируем классы тренировочного датасета level2\n",
    "    df_trunc_result_multiclass_targets2 = []\n",
    "    for list_el in df_trunc2['target_2']:\n",
    "        classes_zero = [0] * n_classes2\n",
    "        for index in list_el:\n",
    "            if index in grnti_mapping_dict2.keys():\n",
    "                classes_zero[grnti_mapping_dict2[index]] = 1\n",
    "\n",
    "        df_trunc_result_multiclass_targets2.append(classes_zero)\n",
    "\n",
    "   #Кодируем классы тестового датасета level2\n",
    "    df_test_trunc_result_multiclass_targets2 = []\n",
    "    for list_el in df_test_trunc2['target_2']:\n",
    "        classes_zero = [0] * n_classes2\n",
    "        for index in list_el:\n",
    "            if index in grnti_mapping_dict2.keys():\n",
    "                classes_zero[grnti_mapping_dict2[index]] = 1\n",
    "\n",
    "        df_test_trunc_result_multiclass_targets2.append(classes_zero)\n",
    "\n",
    "    df_trunc2['target_coded2'] = df_trunc_result_multiclass_targets2\n",
    "    df_test_trunc2['target_coded2'] = df_test_trunc_result_multiclass_targets2\n",
    "############################\n",
    "    df_trunc2['text'] = (df_trunc2['title'].apply(lambda x:x+' [SEP] ') \n",
    "                     + df_trunc2['ref_txt'])\n",
    "    df_test_trunc2['text'] = (df_test_trunc2['title'].apply(lambda x:x+' [SEP] ')\n",
    "                                                + df_test_trunc2['ref_txt'])\n",
    "    \n",
    "    df_trunc2['text'] = (df_trunc2['text'].apply(lambda x:str(x)+' [SEP] ' ) + df_trunc2['kw_list'])\n",
    "\n",
    "    df_test_trunc2['text'] = df_test_trunc2['text'].apply(lambda x:str(x)+\n",
    "                                                          ' [SEP] ') + df_test_trunc2['kw_list']\n",
    "    \n",
    "    df_trunc2 = df_trunc2.dropna(subset=['text'], axis=0)\n",
    "    df_test_trunc2 = df_test_trunc2.dropna(subset=['text'], axis=0)\n",
    "    df_trunc2 = df_trunc2[df_trunc2['text'].apply(lambda x: len(x.split()) > minimal_number_of_words)]\n",
    "\n",
    "    print(\"Доля оставшихся элементов в тренировочном датасете: \", df_trunc2.shape[0] / df.shape[0])\n",
    "\n",
    "    return df_trunc2, df_test_trunc2, n_classes, n_classes2"
   ]
  },
  {
   "cell_type": "code",
   "execution_count": 138,
   "metadata": {},
   "outputs": [
    {
     "name": "stderr",
     "output_type": "stream",
     "text": [
      "C:\\Users\\victo\\AppData\\Local\\Temp\\ipykernel_14512\\1775600855.py:8: FutureWarning: The error_bad_lines argument has been deprecated and will be removed in a future version.\n",
      "\n",
      "\n",
      "  df_v2, df_test_v2, n_classes_v2, n_classes2_v2 = get_grnti1_2_BERT_dataframes_v2(\"..\\\\datasets\\\\base\\\\ru\\\\raw\",\n",
      "b'Skipping line 23708: expected 8 fields, saw 9\\n'\n"
     ]
    },
    {
     "name": "stdout",
     "output_type": "stream",
     "text": [
      "Удаление элементов второго уровня, количство которых меньше 300\n",
      "         id_publ                                              title  \\\n",
      "0   19.06-73.269  Некоторые аспекты изменения степных ландшафтов...   \n",
      "1   19.01-24А.85  Подходы к повышению точности определения харак...   \n",
      "2   19.06-66.105  Микроскопическое моделирование фазового поля п...   \n",
      "3   19.06-14Б.10  МОДЕЛИ И МЕТОДИКИ АВТОМАТИЗАЦИИ ПРОЦЕДУР РАЗРА...   \n",
      "4  19.10-19Ж.456  Трехкомпонентная реакция Кастагноли-Кушмана 3-...   \n",
      "\n",
      "                                             ref_txt  \\\n",
      "0  Предлагается результат анализа динамики некото...   \n",
      "1  В статье представлены подходы к повышению точн...   \n",
      "2  Процесс выделения сплава Ni[75]Al[15]Ti[10] мо...   \n",
      "3  Объектом исследования является проектирование ...   \n",
      "4  Попытки использования 3-арилглутаконовых кисло...   \n",
      "\n",
      "                                             kw_list   SUBJ     IPV  \\\n",
      "0  Урало-Заволжье\\анализ динамики\\ландшафты\\нефте...  f3\\e2   72\\73   \n",
      "1  метровый диапазон\\обнаружение сигналов\\подвижн...     e1     24А   \n",
      "2  Ni[75]Al[15]Ti[10], моделирование выделения, к...  f1\\f7  15И\\66   \n",
      "3  автоматизированное проектирование\\обработка ме...     e9     14Б   \n",
      "4  3-арил-\\4,6-диарил-1,6-дигидро-\\Кастаньоли_-Ку...     f7     19Ж   \n",
      "\n",
      "                        RGNTI  eor    target        target_2  \n",
      "0  87.29.29\\89.57.45\\89.57.45  ###  [87, 89]  [87.29, 89.57]  \n",
      "1                    47.05.11  ###      [47]         [47.05]  \n",
      "2           53.49.05\\81.33.07  ###  [53, 81]  [81.33, 53.49]  \n",
      "3                    55.13.15  ###      [55]         [55.13]  \n",
      "4                    31.21.27  ###      [31]         [31.21]  \n"
     ]
    },
    {
     "name": "stderr",
     "output_type": "stream",
     "text": [
      "100%|██████████████████████████████████████████████████████████████████████████████████| 47/47 [00:33<00:00,  1.41it/s]\n"
     ]
    },
    {
     "name": "stdout",
     "output_type": "stream",
     "text": [
      "Доля оставшихся элементов в тренировочном датасете:  0.9528220888159016\n"
     ]
    },
    {
     "data": {
      "image/png": "[encoded data removed]",
      "text/plain": [
       "<Figure size 640x480 with 1 Axes>"
      ]
     },
     "metadata": {},
     "output_type": "display_data"
    }
   ],
   "source": [
    "number_of_delteted_values_v2 = 0\n",
    "minimal_number_of_elements_RGNTI2_v2 = 300\n",
    "minimal_number_of_words_v2 = 10\n",
    "path_info_before_save_v2 = base_name + f\"data_info_from_bert_level2\\\\\"\n",
    "\n",
    "if not os.path.exists(path_info_before_save_v2):\n",
    "    os.makedirs(path_info_before_save_v2)\n",
    "df_v2, df_test_v2, n_classes_v2, n_classes2_v2 = get_grnti1_2_BERT_dataframes_v2(\"..\\\\datasets\\\\base\\\\ru\\\\raw\", \n",
    "                                            number_of_delteted_values=number_of_delteted_values_v2, \n",
    "                                minimal_number_of_elements_RGNTI2=minimal_number_of_elements_RGNTI2_v2,\n",
    "                                minimal_number_of_words=minimal_number_of_words_v2,\n",
    "                                dir_name=path_info_before_save_v2)"
   ]
  },
  {
   "cell_type": "code",
   "execution_count": 139,
   "metadata": {},
   "outputs": [],
   "source": [
    "def get_input_ids_attention_masks_token_type_labels_v2(df, tokenizer, max_len):\n",
    "    # Токенизация \n",
    "    input_ids = []\n",
    "    attention_masks = []\n",
    "    token_type_ids =[]\n",
    "    # Для каждого тектса...\n",
    "    for sent in tqdm(df['text_with_GRNTI1_names']):\n",
    "        encoded_dict = tokenizer.encode_plus(\n",
    "                sent,\n",
    "                max_length = max_len,\n",
    "                return_tensors = 'pt',\n",
    "                truncation=True,\n",
    "                return_token_type_ids=True,\n",
    "                return_attention_mask = True,\n",
    "                padding = 'max_length')\n",
    "        # Добавляем закодированный текст в list.\n",
    "        input_ids.append(encoded_dict['input_ids'])\n",
    "        # Добавляем attention mask (Отделяем padding от non-padding токенов).\n",
    "        attention_masks.append(encoded_dict['attention_mask'])\n",
    "        #Добавляем token_type_ids, тк у нас есть [SEP] в тексах \n",
    "        token_type_ids.append(encoded_dict['token_type_ids'])\n",
    "\n",
    "    # Переводим листы в тензоры.\n",
    "    input_ids= torch.cat(input_ids, dim=0)\n",
    "    attention_masks= torch.cat(attention_masks, dim=0)\n",
    "    token_type_ids= torch.cat(token_type_ids, dim=0)\n",
    "    labels= torch.tensor(df['target_coded2'].to_list()).float()\n",
    "\n",
    "    return input_ids, attention_masks, token_type_ids, labels"
   ]
  },
  {
   "cell_type": "code",
   "execution_count": 140,
   "metadata": {},
   "outputs": [],
   "source": [
    "def prepair_datasets_v2(df, df_test, n_classes,\n",
    "                           max_number_tokens=512, \n",
    "                           pre_trained_model_name='DeepPavlov/rubert-base-cased'):\n",
    "    tokenizer = AutoTokenizer.from_pretrained(pre_trained_model_name, do_lower_case = True)\n",
    "\n",
    "    \n",
    "    # Ищем элемнты, c list из target_coded, который встречается только 1 раз\n",
    "    list_of_keys_less_than_two = []\n",
    "    for key, val in Counter(df['target_coded2'].apply(lambda x: str(x))).items():\n",
    "        if val < 2:\n",
    "            list_of_keys_less_than_two.append(key)\n",
    "    #Отделяем элементы датасета c list из target_coded, который встречается только 1 раз\n",
    "    df_trunc_single_example = df[df['target_coded2'].apply(lambda x: str(x) \n",
    "                                                                        in list_of_keys_less_than_two)]\n",
    "    df_trunc_no_less_than_two = df[df['target_coded2'].apply(lambda x: str(x) \n",
    "                                                                        not in list_of_keys_less_than_two)]\n",
    "    # Создаем стратифицированную выборку для обучения и валидации\n",
    "    train_df_0, valid_df= train_test_split(df_trunc_no_less_than_two, \n",
    "                                        stratify=df_trunc_no_less_than_two['target_coded2'].apply(lambda x: str(x)),\n",
    "                                            test_size=0.2)\n",
    "    # Добавляем в обучающую выборку элементы начального датасета c list из target_coded, который встречается только 1 раз\n",
    "    train_df = pd.concat([train_df_0, df_trunc_single_example], ignore_index=True)\n",
    "\n",
    "    number_of_rows = train_df['target_coded2'].shape[0]\n",
    "    number_per_class_1 = np.array([train_df['target_coded2'].apply(lambda x: x[index]).sum() \n",
    "                                for index in range(n_classes)])\n",
    "\n",
    "    # Cчитаем веса каждого классов\n",
    "    weights_per_class = number_of_rows / (number_per_class_1 * n_classes)\n",
    "    print(\"Веса для кажого класса: \", weights_per_class)\n",
    "    print(\"Подготовка тренировочных данных:\")\n",
    "    input_ids_train, attention_masks_train,\\\n",
    "    token_type_ids_train,\\\n",
    "    labels_train = get_input_ids_attention_masks_token_type_labels_v2(train_df[[\"target_coded2\",\n",
    "                                                                                \"text_with_GRNTI1_names\"]], \n",
    "                                                                                tokenizer=tokenizer,\n",
    "                                                                   max_len=max_number_tokens)\n",
    "    print(\"Подготовка валидационных данных:\")\n",
    "    input_ids_validation, attention_masks_validation,\\\n",
    "    token_type_ids_validation,\\\n",
    "    labels_validation = get_input_ids_attention_masks_token_type_labels_v2(valid_df[[\"target_coded2\",\n",
    "                                                                                \"text_with_GRNTI1_names\"]], \n",
    "                                                                                tokenizer=tokenizer,\n",
    "                                                                   max_len=max_number_tokens)\n",
    "    print(\"Подготовка тестовых данных:\")\n",
    "    input_ids_test, attention_masks_test,\\\n",
    "    token_type_ids_test,\\\n",
    "    labels_test = get_input_ids_attention_masks_token_type_labels_v2(df_test[[\"target_coded2\",\n",
    "                                                                                \"text_with_GRNTI1_names\"]], tokenizer=tokenizer,\n",
    "                                                                   max_len=max_number_tokens)\n",
    "    # Собираем датасеты и делаем shuffle для каждого\n",
    "    SEED = 1234\n",
    "    dataset_train_v2 = Dataset.from_dict({\"input_ids\":input_ids_train,  \n",
    "                                        \"attention_mask\":attention_masks_train,  \n",
    "                                        \"labels\":labels_train,\n",
    "                                        \"token_type_ids\":token_type_ids_train}).shuffle(SEED)\n",
    "\n",
    "    dataset_valid_v2 = Dataset.from_dict({\"input_ids\":input_ids_validation,  \n",
    "                                        \"attention_mask\":attention_masks_validation,  \n",
    "                                        \"labels\":labels_validation,\n",
    "                                        \"token_type_ids\":token_type_ids_validation}).shuffle(SEED)\n",
    "    dataset_test_v2 = Dataset.from_dict({\"input_ids\":input_ids_test,  \n",
    "                                      \"attention_mask\":attention_masks_test,  \n",
    "                                      \"labels\":labels_test,\n",
    "                                      \"token_type_ids\":token_type_ids_test}).shuffle(SEED)\n",
    "    \n",
    "\n",
    "\n",
    "    #Функция потерь с учетом весов для multilabel классификации\n",
    "    loss_fuction_for_multiclass_classification =\\\n",
    "        torch.nn.BCEWithLogitsLoss(weight = torch.tensor(weights_per_class).float()).to(\"cuda\")\n",
    "    #Чтобы использовать собственную функцию потерь создаем класс CustomTrainer\n",
    "\n",
    "    return dataset_train_v2, dataset_valid_v2, dataset_test_v2, loss_fuction_for_multiclass_classification "
   ]
  },
  {
   "cell_type": "code",
   "execution_count": 141,
   "metadata": {},
   "outputs": [],
   "source": [
    "with open('my_grnti1_int.json', \"r\") as code_file:\n",
    "    grnti_mapping_dict_true_numbers = json.load(code_file) # Загружаем файл с кодами "
   ]
  },
  {
   "cell_type": "code",
   "execution_count": 142,
   "metadata": {},
   "outputs": [],
   "source": [
    "with open('GRNTI_1_ru.json', \"r\", encoding='utf-8') as code_file:\n",
    "    grnti_mapping_dict_true_names = json.load(code_file) # Загружаем файл с кодами "
   ]
  },
  {
   "cell_type": "code",
   "execution_count": 143,
   "metadata": {},
   "outputs": [
    {
     "name": "stderr",
     "output_type": "stream",
     "text": [
      "100%|████████████████████████████████████████████████████████████████████████| 166183/166183 [00:32<00:00, 5036.12it/s]\n"
     ]
    }
   ],
   "source": [
    "list_GRNTI =[]\n",
    "for el in tqdm(preds):\n",
    "  list_elments = []\n",
    "\n",
    "  for index, propab in enumerate(el):\n",
    "    if propab==1:\n",
    "      list_elments.append(index) # + 1\n",
    "  list_GRNTI.append(list_elments)"
   ]
  },
  {
   "cell_type": "code",
   "execution_count": 144,
   "metadata": {},
   "outputs": [
    {
     "name": "stdout",
     "output_type": "stream",
     "text": [
      "Доля непрдсказанных классов GRNTI 1 для статей: 0.13134917530674017\n"
     ]
    }
   ],
   "source": [
    "print(\"Доля непрдсказанных классов GRNTI 1 для статей:\", \n",
    "      sum([not el for el in list_GRNTI])/len(list_GRNTI))"
   ]
  },
  {
   "cell_type": "code",
   "execution_count": 145,
   "metadata": {},
   "outputs": [],
   "source": [
    "grnti_mapping_dict_true_numbers_reverse = {y: x for x, y in grnti_mapping_dict_true_numbers.items()}\n"
   ]
  },
  {
   "cell_type": "code",
   "execution_count": 146,
   "metadata": {},
   "outputs": [],
   "source": [
    "# grnti_mapping_dict_true_numbers_reverse"
   ]
  },
  {
   "cell_type": "code",
   "execution_count": 147,
   "metadata": {},
   "outputs": [],
   "source": [
    "list_true_numbers_GRNTI = []\n",
    "for list_el in list_GRNTI:\n",
    "  list_numbers = []\n",
    "  for el in list_el:\n",
    "    list_numbers.append(grnti_mapping_dict_true_numbers_reverse[el])\n",
    "  list_true_numbers_GRNTI.append(list_numbers)"
   ]
  },
  {
   "cell_type": "code",
   "execution_count": 148,
   "metadata": {},
   "outputs": [],
   "source": [
    "list_thems = []\n",
    "for list_true in list_true_numbers_GRNTI:\n",
    "  sring_per_element = \"\"\n",
    "  for el in list_true:\n",
    "    sring_per_element += grnti_mapping_dict_true_names[el] + \"; \"\n",
    "  list_thems.append(sring_per_element)"
   ]
  },
  {
   "cell_type": "code",
   "execution_count": 149,
   "metadata": {},
   "outputs": [],
   "source": [
    "df_test['text_with_GRNTI1_names'] = list_thems + df_test['text']"
   ]
  },
  {
   "cell_type": "code",
   "execution_count": 150,
   "metadata": {},
   "outputs": [
    {
     "name": "stderr",
     "output_type": "stream",
     "text": [
      "100%|█████████████████████████████████████████████████████████████████████| 279659/279659 [00:00<00:00, 1210480.39it/s]\n"
     ]
    }
   ],
   "source": [
    "list_thems_train = []\n",
    "for list_true in tqdm(df_v2[\"target\"]):\n",
    "  sring_per_element = \"\"\n",
    "  for el in list_true:\n",
    "    sring_per_element += grnti_mapping_dict_true_names[el] + \"; \"\n",
    "  list_thems_train.append(sring_per_element)"
   ]
  },
  {
   "cell_type": "code",
   "execution_count": 151,
   "metadata": {},
   "outputs": [],
   "source": [
    "df_v2['text_with_GRNTI1_names'] = list_thems_train + df_v2['text']"
   ]
  },
  {
   "cell_type": "code",
   "execution_count": 152,
   "metadata": {},
   "outputs": [
    {
     "data": {
      "text/plain": [
       "246"
      ]
     },
     "execution_count": 152,
     "metadata": {},
     "output_type": "execute_result"
    }
   ],
   "source": [
    "n_classes2_v2"
   ]
  },
  {
   "cell_type": "code",
   "execution_count": 154,
   "metadata": {},
   "outputs": [],
   "source": [
    "del list_true_numbers_GRNTI, list_thems, list_thems_train"
   ]
  },
  {
   "cell_type": "code",
   "execution_count": 155,
   "metadata": {},
   "outputs": [
    {
     "name": "stdout",
     "output_type": "stream",
     "text": [
      "Веса для кажого класса:  [1.858296   3.59907131 1.79598627 0.29017369 0.99733301 1.75446058\n",
      " 0.34116337 3.41035596 2.15263603 1.31965948 0.31109158 3.19496505\n",
      " 0.43840397 0.96868621 3.65688771 1.79598627 0.8050973  0.47351276\n",
      " 1.13254358 0.54232581 3.02513303 2.73442955 1.91295177 3.70148391\n",
      " 2.18360921 2.62410675 2.7676749  0.4591856  1.11452269 1.76466093\n",
      " 0.89976783 0.31333966 0.22154867 2.2821179  0.69935871 0.65982974\n",
      " 0.23595881 0.65697333 0.35361749 1.66770154 2.51537304 1.53811662\n",
      " 2.67027871 0.25463228 1.2664326  0.36924779 3.46222449 0.99406664\n",
      " 1.8970105  1.1037152  2.10292157 0.74881993 3.19496505 0.35348022\n",
      " 0.77693263 0.67150814 0.27401897 2.6016144  1.11588853 2.06477333\n",
      " 0.30484267 0.8622775  1.99685316 2.21010932 0.9396956  0.87723029\n",
      " 1.75784757 0.45988133 1.14392593 1.62891778 2.50844364 1.97519532\n",
      " 0.11507204 1.20764594 2.11267991 1.94150328 1.01286434 1.17039208\n",
      " 1.99685316 2.42171553 0.28508611 0.64624914 0.34014383 2.7181046\n",
      " 2.65470857 2.6016144  2.2594666  2.23177706 1.37340127 1.62311059\n",
      " 1.42053828 0.93200107 0.33051363 0.24236493 1.01286434 1.44305078\n",
      " 2.82784174 1.75784757 0.66319377 1.07504727 1.49272957 0.6275431\n",
      " 0.84940769 2.5868325  0.28437384 0.60302321 0.85099537 0.12912153\n",
      " 0.23626493 1.63476668 1.42721793 0.92725564 1.14392593 0.65367196\n",
      " 0.57412676 0.33774668 0.08936746 2.72624264 2.6469914  1.1965375\n",
      " 1.44076747 1.56993973 1.03709002 0.41826598 0.83005017 2.31695939\n",
      " 0.46198125 1.97519532 2.35897679 1.41611981 1.05633995 0.28788019\n",
      " 0.31366347 1.30453444 1.26291961 1.09971623 0.60866647 2.29940667\n",
      " 2.42817344 1.9456518  1.63183699 2.01452443 0.54952628 2.57950436\n",
      " 0.39989681 0.3931628  0.8738628  0.53815901 0.51619333 0.81738334\n",
      " 1.21733294 1.16291832 0.69561882 0.38307322 0.34609086 2.33478216\n",
      " 0.94261391 2.48788262 0.33587792 1.51005811 2.75095178 0.93776008\n",
      " 1.55918671 0.10451848 0.87807622 3.2991487  1.22223495 1.3177497\n",
      " 0.92162454 3.42317684 1.90894139 3.33540308 1.07504727 1.1934011\n",
      " 0.49326384 3.65688771 0.65320304 0.98759766 1.1584797  1.6738328\n",
      " 1.53811662 1.97519532 0.62453021 3.46222449 2.01899122 3.11837343\n",
      " 1.02541108 0.7427121  1.03709002 1.74104214 1.83212282 2.759288\n",
      " 0.98015613 2.87244492 0.33244434 3.26367398 3.41035596 0.32931828\n",
      " 2.32287    0.35089212 0.44223654 2.11267991 1.3082831  0.25258392\n",
      " 1.47102591 0.94949431 3.46222449 2.09325297 3.59907131 2.57221763\n",
      " 2.52934734 3.07623325 3.04536803 3.65688771 3.34766559 0.74514324\n",
      " 1.20764594 1.77844735 1.49763987 1.75784757 1.09442914 3.05558738\n",
      " 0.52032288 1.12138552 0.34296235 2.01452443 0.16344732 2.97570275\n",
      " 0.86555612 2.44775549 2.35897679 0.55488424 0.54985812 3.3111456\n",
      " 0.36306421 0.70641198 0.63765059 0.77892647 2.47436152 2.90915348\n",
      " 2.35897679 0.13162258 0.27237961 1.41172875 3.716592   0.07972028]\n",
      "Подготовка тренировочных данных:\n"
     ]
    },
    {
     "name": "stderr",
     "output_type": "stream",
     "text": [
      "100%|████████████████████████████████████████████████████████████████████████| 223999/223999 [03:09<00:00, 1179.42it/s]\n"
     ]
    },
    {
     "name": "stdout",
     "output_type": "stream",
     "text": [
      "Подготовка валидационных данных:\n"
     ]
    },
    {
     "name": "stderr",
     "output_type": "stream",
     "text": [
      "100%|██████████████████████████████████████████████████████████████████████████| 55660/55660 [00:45<00:00, 1226.77it/s]\n"
     ]
    },
    {
     "name": "stdout",
     "output_type": "stream",
     "text": [
      "Подготовка тестовых данных:\n"
     ]
    },
    {
     "name": "stderr",
     "output_type": "stream",
     "text": [
      "100%|████████████████████████████████████████████████████████████████████████| 166183/166183 [02:12<00:00, 1251.25it/s]\n"
     ]
    }
   ],
   "source": [
    "train_dataset_v2, validation_dataset_v2, test_dataset_v2,\\\n",
    "                                loss_fuction_v2 = prepair_datasets_v2(df_v2, df_test,\n",
    "                                                                      n_classes2_v2,\n",
    "                                                        max_number_tokens=max_number_tokens, \n",
    "                                                        pre_trained_model_name=pre_trained_model_name)"
   ]
  },
  {
   "cell_type": "code",
   "execution_count": 156,
   "metadata": {},
   "outputs": [
    {
     "data": {
      "text/plain": [
       "'results_4//'"
      ]
     },
     "execution_count": 156,
     "metadata": {},
     "output_type": "execute_result"
    }
   ],
   "source": [
    "base_name"
   ]
  },
  {
   "cell_type": "code",
   "execution_count": 157,
   "metadata": {},
   "outputs": [],
   "source": [
    "del df, train_dataset, validation_dataset, loss_fuction, evaluation_result_level1"
   ]
  },
  {
   "cell_type": "code",
   "execution_count": 165,
   "metadata": {},
   "outputs": [
    {
     "name": "stderr",
     "output_type": "stream",
     "text": [
      "Some weights of BertForSequenceClassification were not initialized from the model checkpoint at DeepPavlov/rubert-base-cased and are newly initialized: ['classifier.bias', 'classifier.weight']\n",
      "You should probably TRAIN this model on a down-stream task to be able to use it for predictions and inference.\n"
     ]
    }
   ],
   "source": [
    "dir_name_v2 = base_name + f\"model bert lora level 2\\\\\"\n",
    "epoch_v2=8\n",
    "batch_size_v2=8\n",
    "weight_decay_v2 = 1e-6\n",
    "warmup_steps_v2 = 10\n",
    "fp16_v2 = True\n",
    "optim_v2 = \"adamw_bnb_8bit\"\n",
    "model_v2 = prepair_model(n_classes=n_classes2_v2, \n",
    "                      pre_trained_model_name=pre_trained_model_name,\n",
    "                        r=r, lora_alpha=lora_alpha, \n",
    "                        lora_dropout=lora_dropout)"
   ]
  },
  {
   "cell_type": "code",
   "execution_count": 159,
   "metadata": {},
   "outputs": [],
   "source": [
    "sett = TrainSettings()\n",
    "sett.settings[\"number_of_delteted_values\"] = number_of_delteted_values_v2\n",
    "sett.settings[\"minimal_number_of_elements_RGNTI2\"] = minimal_number_of_elements_RGNTI2_v2\n",
    "sett.settings[\"minimal_number_of_words\"] = minimal_number_of_words_v2\n",
    "sett.settings[\"max_number_tokens\"] = max_number_tokens\n",
    "sett.settings[\"pre_trained_model_name\"] = pre_trained_model_name\n",
    "sett.settings[\"r\"] = r\n",
    "sett.settings[\"lora_alpha\"] = lora_alpha\n",
    "sett.settings[\"lora_dropout\"] = lora_dropout\n",
    "sett.settings[\"epoch\"] = epoch_v2\n",
    "sett.settings[\"batch_size\"] = batch_size_v2\n",
    "sett.settings[\"weight_decay\"] = weight_decay_v2\n",
    "sett.settings[\"warmup_steps\"] = warmup_steps_v2\n",
    "sett.settings[\"fp16\"] = fp16_v2\n",
    "sett.settings[\"optim\"] = optim_v2\n",
    "sett.save(path = dir_name_v2)"
   ]
  },
  {
   "cell_type": "code",
   "execution_count": 166,
   "metadata": {},
   "outputs": [],
   "source": [
    "\n",
    "torch.cuda.empty_cache()"
   ]
  },
  {
   "cell_type": "code",
   "execution_count": 161,
   "metadata": {},
   "outputs": [],
   "source": [
    "1# model_v2.to(\"cuda\")"
   ]
  },
  {
   "cell_type": "code",
   "execution_count": 167,
   "metadata": {},
   "outputs": [],
   "source": [
    "loss_fuction_for_multiclass_classification_v2 = loss_fuction_v2\n",
    "compute_metrics_v2 = prepair_compute_metrics(n_classes=n_classes2_v2)\n",
    "\n",
    "class CustomTrainer(Trainer):\n",
    "    def compute_loss(self, model, inputs, return_outputs=False):\n",
    "        labels = inputs.pop(\"labels\")\n",
    "        outputs = model(**inputs)\n",
    "        logits = outputs.logits\n",
    "        loss = loss_fuction_for_multiclass_classification_v2(logits, labels)\n",
    "\n",
    "        return (loss, outputs) if return_outputs else loss\n",
    "training_args_v2 = TrainingArguments(\n",
    "    output_dir=dir_name_v2,          \n",
    "    num_train_epochs=16,#epoch_v2,\n",
    "    per_device_train_batch_size = 16,\n",
    "    per_device_eval_batch_size = 16,\n",
    "    warmup_steps=warmup_steps_v2,\n",
    "    logging_dir=dir_name_v2,\n",
    "    weight_decay=weight_decay_v2,\n",
    "    evaluation_strategy='epoch',\n",
    "    save_strategy= \"epoch\",\n",
    "    logging_strategy=\"steps\",\n",
    "    logging_steps = 100,\n",
    "    load_best_model_at_end=True,\n",
    "    save_total_limit=2,\n",
    "    report_to='tensorboard',\n",
    "    overwrite_output_dir = False,\n",
    "    save_safetensors = False,\n",
    "    fp16=fp16_v2,\n",
    "    optim = optim_v2)\n",
    "\n",
    "# Создание trainer\n",
    "trainer_v2 = CustomTrainer(\n",
    "    model=model_v2,\n",
    "    args=training_args_v2,\n",
    "    train_dataset=train_dataset_v2,\n",
    "    eval_dataset=validation_dataset_v2,\n",
    "    compute_metrics=compute_metrics_v2\n",
    ")\n"
   ]
  },
  {
   "cell_type": "code",
   "execution_count": 168,
   "metadata": {},
   "outputs": [
    {
     "data": {
      "text/html": [
       "\n",
       "    <div>\n",
       "      \n",
       "      <progress value='224000' max='224000' style='width:300px; height:20px; vertical-align: middle;'></progress>\n",
       "      [224000/224000 21:22:37, Epoch 16/16]\n",
       "    </div>\n",
       "    <table border=\"1\" class=\"dataframe\">\n",
       "  <thead>\n",
       " <tr style=\"text-align: left;\">\n",
       "      <th>Epoch</th>\n",
       "      <th>Training Loss</th>\n",
       "      <th>Validation Loss</th>\n",
       "      <th>Accuracy Micro 0.5</th>\n",
       "      <th>Accuracy Macro 0.5</th>\n",
       "      <th>Accuracy Weighted 0.5</th>\n",
       "      <th>F1 Micro 0.5</th>\n",
       "      <th>F1 Macro 0.5</th>\n",
       "      <th>F1 Weighted 0.5</th>\n",
       "      <th>F1 Micro 0.6</th>\n",
       "      <th>F1 Macro 0.6</th>\n",
       "      <th>F1 Weighted 0.6</th>\n",
       "      <th>F1 Micro 0.7</th>\n",
       "      <th>F1 Macro 0.7</th>\n",
       "      <th>F1 Weighted 0.7</th>\n",
       "      <th>F1 Micro 0.8</th>\n",
       "      <th>F1 Macro 0.8</th>\n",
       "      <th>F1 Weighted 0.8</th>\n",
       "      <th>F1 Micro 0.9</th>\n",
       "      <th>Aucroc Micro</th>\n",
       "      <th>Aucroc Macro</th>\n",
       "      <th>Aucroc Weighted</th>\n",
       "    </tr>\n",
       "  </thead>\n",
       "  <tbody>\n",
       "    <tr>\n",
       "      <td>1</td>\n",
       "      <td>0.018900</td>\n",
       "      <td>0.018184</td>\n",
       "      <td>0.994428</td>\n",
       "      <td>0.994428</td>\n",
       "      <td>0.986053</td>\n",
       "      <td>0.012758</td>\n",
       "      <td>0.001580</td>\n",
       "      <td>0.010081</td>\n",
       "      <td>0.001728</td>\n",
       "      <td>0.000243</td>\n",
       "      <td>0.001640</td>\n",
       "      <td>0.000000</td>\n",
       "      <td>0.000000</td>\n",
       "      <td>0.000000</td>\n",
       "      <td>0.000000</td>\n",
       "      <td>0.000000</td>\n",
       "      <td>0.000000</td>\n",
       "      <td>0.000000</td>\n",
       "      <td>0.532707</td>\n",
       "      <td>0.506601</td>\n",
       "      <td>0.531695</td>\n",
       "    </tr>\n",
       "    <tr>\n",
       "      <td>2</td>\n",
       "      <td>0.012800</td>\n",
       "      <td>0.011437</td>\n",
       "      <td>0.994921</td>\n",
       "      <td>0.994921</td>\n",
       "      <td>0.988016</td>\n",
       "      <td>0.255194</td>\n",
       "      <td>0.081930</td>\n",
       "      <td>0.183890</td>\n",
       "      <td>0.153083</td>\n",
       "      <td>0.048241</td>\n",
       "      <td>0.110190</td>\n",
       "      <td>0.069454</td>\n",
       "      <td>0.024485</td>\n",
       "      <td>0.050412</td>\n",
       "      <td>0.019904</td>\n",
       "      <td>0.000480</td>\n",
       "      <td>0.000466</td>\n",
       "      <td>0.000472</td>\n",
       "      <td>0.726871</td>\n",
       "      <td>0.622717</td>\n",
       "      <td>0.724136</td>\n",
       "    </tr>\n",
       "    <tr>\n",
       "      <td>3</td>\n",
       "      <td>0.010400</td>\n",
       "      <td>0.009206</td>\n",
       "      <td>0.995977</td>\n",
       "      <td>0.995977</td>\n",
       "      <td>0.991197</td>\n",
       "      <td>0.522549</td>\n",
       "      <td>0.272101</td>\n",
       "      <td>0.438941</td>\n",
       "      <td>0.421811</td>\n",
       "      <td>0.198809</td>\n",
       "      <td>0.346017</td>\n",
       "      <td>0.286929</td>\n",
       "      <td>0.130994</td>\n",
       "      <td>0.228111</td>\n",
       "      <td>0.145850</td>\n",
       "      <td>0.026273</td>\n",
       "      <td>0.033111</td>\n",
       "      <td>0.043851</td>\n",
       "      <td>0.830445</td>\n",
       "      <td>0.749119</td>\n",
       "      <td>0.828580</td>\n",
       "    </tr>\n",
       "    <tr>\n",
       "      <td>4</td>\n",
       "      <td>0.009100</td>\n",
       "      <td>0.007925</td>\n",
       "      <td>0.996630</td>\n",
       "      <td>0.996630</td>\n",
       "      <td>0.992716</td>\n",
       "      <td>0.638821</td>\n",
       "      <td>0.435254</td>\n",
       "      <td>0.574720</td>\n",
       "      <td>0.571570</td>\n",
       "      <td>0.351603</td>\n",
       "      <td>0.499655</td>\n",
       "      <td>0.459059</td>\n",
       "      <td>0.258343</td>\n",
       "      <td>0.386843</td>\n",
       "      <td>0.304834</td>\n",
       "      <td>0.073411</td>\n",
       "      <td>0.102022</td>\n",
       "      <td>0.130197</td>\n",
       "      <td>0.884249</td>\n",
       "      <td>0.829323</td>\n",
       "      <td>0.882768</td>\n",
       "    </tr>\n",
       "    <tr>\n",
       "      <td>5</td>\n",
       "      <td>0.008500</td>\n",
       "      <td>0.007133</td>\n",
       "      <td>0.996996</td>\n",
       "      <td>0.996996</td>\n",
       "      <td>0.993412</td>\n",
       "      <td>0.692664</td>\n",
       "      <td>0.536262</td>\n",
       "      <td>0.647963</td>\n",
       "      <td>0.640801</td>\n",
       "      <td>0.456593</td>\n",
       "      <td>0.582619</td>\n",
       "      <td>0.551142</td>\n",
       "      <td>0.362007</td>\n",
       "      <td>0.482668</td>\n",
       "      <td>0.415768</td>\n",
       "      <td>0.129247</td>\n",
       "      <td>0.164776</td>\n",
       "      <td>0.206377</td>\n",
       "      <td>0.907668</td>\n",
       "      <td>0.867615</td>\n",
       "      <td>0.906446</td>\n",
       "    </tr>\n",
       "    <tr>\n",
       "      <td>6</td>\n",
       "      <td>0.007600</td>\n",
       "      <td>0.006550</td>\n",
       "      <td>0.997207</td>\n",
       "      <td>0.997207</td>\n",
       "      <td>0.993889</td>\n",
       "      <td>0.720484</td>\n",
       "      <td>0.583350</td>\n",
       "      <td>0.682394</td>\n",
       "      <td>0.677584</td>\n",
       "      <td>0.508665</td>\n",
       "      <td>0.624973</td>\n",
       "      <td>0.607638</td>\n",
       "      <td>0.422809</td>\n",
       "      <td>0.543330</td>\n",
       "      <td>0.490744</td>\n",
       "      <td>0.179604</td>\n",
       "      <td>0.231126</td>\n",
       "      <td>0.281320</td>\n",
       "      <td>0.915124</td>\n",
       "      <td>0.880329</td>\n",
       "      <td>0.914041</td>\n",
       "    </tr>\n",
       "    <tr>\n",
       "      <td>7</td>\n",
       "      <td>0.006700</td>\n",
       "      <td>0.006087</td>\n",
       "      <td>0.997392</td>\n",
       "      <td>0.997392</td>\n",
       "      <td>0.994277</td>\n",
       "      <td>0.744393</td>\n",
       "      <td>0.621063</td>\n",
       "      <td>0.712672</td>\n",
       "      <td>0.711156</td>\n",
       "      <td>0.555313</td>\n",
       "      <td>0.665434</td>\n",
       "      <td>0.651057</td>\n",
       "      <td>0.473811</td>\n",
       "      <td>0.593689</td>\n",
       "      <td>0.542728</td>\n",
       "      <td>0.229012</td>\n",
       "      <td>0.287025</td>\n",
       "      <td>0.345398</td>\n",
       "      <td>0.923711</td>\n",
       "      <td>0.891395</td>\n",
       "      <td>0.922699</td>\n",
       "    </tr>\n",
       "    <tr>\n",
       "      <td>8</td>\n",
       "      <td>0.007100</td>\n",
       "      <td>0.005772</td>\n",
       "      <td>0.997532</td>\n",
       "      <td>0.997532</td>\n",
       "      <td>0.994619</td>\n",
       "      <td>0.756289</td>\n",
       "      <td>0.645176</td>\n",
       "      <td>0.727968</td>\n",
       "      <td>0.719775</td>\n",
       "      <td>0.581781</td>\n",
       "      <td>0.678619</td>\n",
       "      <td>0.657983</td>\n",
       "      <td>0.502369</td>\n",
       "      <td>0.604540</td>\n",
       "      <td>0.553087</td>\n",
       "      <td>0.246866</td>\n",
       "      <td>0.303284</td>\n",
       "      <td>0.361997</td>\n",
       "      <td>0.923280</td>\n",
       "      <td>0.893164</td>\n",
       "      <td>0.922392</td>\n",
       "    </tr>\n",
       "    <tr>\n",
       "      <td>9</td>\n",
       "      <td>0.006500</td>\n",
       "      <td>0.005655</td>\n",
       "      <td>0.997649</td>\n",
       "      <td>0.997649</td>\n",
       "      <td>0.994868</td>\n",
       "      <td>0.778792</td>\n",
       "      <td>0.700855</td>\n",
       "      <td>0.761187</td>\n",
       "      <td>0.757041</td>\n",
       "      <td>0.652626</td>\n",
       "      <td>0.727891</td>\n",
       "      <td>0.711408</td>\n",
       "      <td>0.582856</td>\n",
       "      <td>0.669053</td>\n",
       "      <td>0.628019</td>\n",
       "      <td>0.334160</td>\n",
       "      <td>0.396557</td>\n",
       "      <td>0.462632</td>\n",
       "      <td>0.938290</td>\n",
       "      <td>0.919167</td>\n",
       "      <td>0.937425</td>\n",
       "    </tr>\n",
       "    <tr>\n",
       "      <td>10</td>\n",
       "      <td>0.005900</td>\n",
       "      <td>0.005377</td>\n",
       "      <td>0.997718</td>\n",
       "      <td>0.997718</td>\n",
       "      <td>0.994956</td>\n",
       "      <td>0.782298</td>\n",
       "      <td>0.698280</td>\n",
       "      <td>0.762409</td>\n",
       "      <td>0.757767</td>\n",
       "      <td>0.650594</td>\n",
       "      <td>0.726908</td>\n",
       "      <td>0.710747</td>\n",
       "      <td>0.582411</td>\n",
       "      <td>0.666579</td>\n",
       "      <td>0.629258</td>\n",
       "      <td>0.336556</td>\n",
       "      <td>0.397206</td>\n",
       "      <td>0.463671</td>\n",
       "      <td>0.934938</td>\n",
       "      <td>0.913016</td>\n",
       "      <td>0.934107</td>\n",
       "    </tr>\n",
       "    <tr>\n",
       "      <td>11</td>\n",
       "      <td>0.006200</td>\n",
       "      <td>0.005190</td>\n",
       "      <td>0.997777</td>\n",
       "      <td>0.997777</td>\n",
       "      <td>0.995156</td>\n",
       "      <td>0.787016</td>\n",
       "      <td>0.699908</td>\n",
       "      <td>0.767709</td>\n",
       "      <td>0.762346</td>\n",
       "      <td>0.652815</td>\n",
       "      <td>0.732933</td>\n",
       "      <td>0.716328</td>\n",
       "      <td>0.584363</td>\n",
       "      <td>0.674255</td>\n",
       "      <td>0.632842</td>\n",
       "      <td>0.333993</td>\n",
       "      <td>0.407147</td>\n",
       "      <td>0.470206</td>\n",
       "      <td>0.934347</td>\n",
       "      <td>0.909842</td>\n",
       "      <td>0.933543</td>\n",
       "    </tr>\n",
       "    <tr>\n",
       "      <td>12</td>\n",
       "      <td>0.005800</td>\n",
       "      <td>0.005115</td>\n",
       "      <td>0.997832</td>\n",
       "      <td>0.997832</td>\n",
       "      <td>0.995249</td>\n",
       "      <td>0.796651</td>\n",
       "      <td>0.727455</td>\n",
       "      <td>0.782900</td>\n",
       "      <td>0.776319</td>\n",
       "      <td>0.683533</td>\n",
       "      <td>0.752310</td>\n",
       "      <td>0.738170</td>\n",
       "      <td>0.621007</td>\n",
       "      <td>0.702061</td>\n",
       "      <td>0.664285</td>\n",
       "      <td>0.374631</td>\n",
       "      <td>0.443970</td>\n",
       "      <td>0.508697</td>\n",
       "      <td>0.940869</td>\n",
       "      <td>0.921392</td>\n",
       "      <td>0.940081</td>\n",
       "    </tr>\n",
       "    <tr>\n",
       "      <td>13</td>\n",
       "      <td>0.005900</td>\n",
       "      <td>0.005029</td>\n",
       "      <td>0.997862</td>\n",
       "      <td>0.997862</td>\n",
       "      <td>0.995298</td>\n",
       "      <td>0.799193</td>\n",
       "      <td>0.730330</td>\n",
       "      <td>0.784966</td>\n",
       "      <td>0.780171</td>\n",
       "      <td>0.692002</td>\n",
       "      <td>0.756661</td>\n",
       "      <td>0.741815</td>\n",
       "      <td>0.630122</td>\n",
       "      <td>0.706084</td>\n",
       "      <td>0.669141</td>\n",
       "      <td>0.390108</td>\n",
       "      <td>0.455021</td>\n",
       "      <td>0.519771</td>\n",
       "      <td>0.940827</td>\n",
       "      <td>0.922678</td>\n",
       "      <td>0.940059</td>\n",
       "    </tr>\n",
       "    <tr>\n",
       "      <td>14</td>\n",
       "      <td>0.005600</td>\n",
       "      <td>0.004969</td>\n",
       "      <td>0.997887</td>\n",
       "      <td>0.997887</td>\n",
       "      <td>0.995370</td>\n",
       "      <td>0.802048</td>\n",
       "      <td>0.735586</td>\n",
       "      <td>0.788806</td>\n",
       "      <td>0.784157</td>\n",
       "      <td>0.696312</td>\n",
       "      <td>0.761904</td>\n",
       "      <td>0.748101</td>\n",
       "      <td>0.636426</td>\n",
       "      <td>0.714025</td>\n",
       "      <td>0.677441</td>\n",
       "      <td>0.396292</td>\n",
       "      <td>0.465577</td>\n",
       "      <td>0.529253</td>\n",
       "      <td>0.942440</td>\n",
       "      <td>0.924352</td>\n",
       "      <td>0.941679</td>\n",
       "    </tr>\n",
       "    <tr>\n",
       "      <td>15</td>\n",
       "      <td>0.005500</td>\n",
       "      <td>0.004937</td>\n",
       "      <td>0.997906</td>\n",
       "      <td>0.997906</td>\n",
       "      <td>0.995400</td>\n",
       "      <td>0.804764</td>\n",
       "      <td>0.742793</td>\n",
       "      <td>0.792778</td>\n",
       "      <td>0.787793</td>\n",
       "      <td>0.705695</td>\n",
       "      <td>0.766980</td>\n",
       "      <td>0.752575</td>\n",
       "      <td>0.647994</td>\n",
       "      <td>0.720274</td>\n",
       "      <td>0.684767</td>\n",
       "      <td>0.409897</td>\n",
       "      <td>0.474833</td>\n",
       "      <td>0.538082</td>\n",
       "      <td>0.943556</td>\n",
       "      <td>0.926399</td>\n",
       "      <td>0.942801</td>\n",
       "    </tr>\n",
       "    <tr>\n",
       "      <td>16</td>\n",
       "      <td>0.005800</td>\n",
       "      <td>0.004907</td>\n",
       "      <td>0.997911</td>\n",
       "      <td>0.997911</td>\n",
       "      <td>0.995419</td>\n",
       "      <td>0.804821</td>\n",
       "      <td>0.741933</td>\n",
       "      <td>0.792612</td>\n",
       "      <td>0.787679</td>\n",
       "      <td>0.704563</td>\n",
       "      <td>0.766853</td>\n",
       "      <td>0.752006</td>\n",
       "      <td>0.646844</td>\n",
       "      <td>0.719563</td>\n",
       "      <td>0.682911</td>\n",
       "      <td>0.409295</td>\n",
       "      <td>0.473544</td>\n",
       "      <td>0.536405</td>\n",
       "      <td>0.943293</td>\n",
       "      <td>0.926149</td>\n",
       "      <td>0.942545</td>\n",
       "    </tr>\n",
       "  </tbody>\n",
       "</table><p>"
      ],
      "text/plain": [
       "<IPython.core.display.HTML object>"
      ]
     },
     "metadata": {},
     "output_type": "display_data"
    },
    {
     "data": {
      "text/plain": [
       "TrainOutput(global_step=224000, training_loss=0.008871443251946142, metrics={'train_runtime': 76957.5648, 'train_samples_per_second': 46.571, 'train_steps_per_second': 2.911, 'total_flos': 9.536284518597919e+17, 'train_loss': 0.008871443251946142, 'epoch': 16.0})"
      ]
     },
     "execution_count": 168,
     "metadata": {},
     "output_type": "execute_result"
    }
   ],
   "source": [
    "trainer_v2.train()"
   ]
  },
  {
   "cell_type": "code",
   "execution_count": 169,
   "metadata": {},
   "outputs": [],
   "source": [
    "trainer_v2.save_model(\"expriment_save_model2\")"
   ]
  },
  {
   "cell_type": "code",
   "execution_count": 170,
   "metadata": {},
   "outputs": [],
   "source": [
    "del train_dataset_v2, validation_dataset_v2,"
   ]
  },
  {
   "cell_type": "code",
   "execution_count": 173,
   "metadata": {},
   "outputs": [
    {
     "data": {
      "text/plain": [
       "Dataset({\n",
       "    features: ['input_ids', 'attention_mask', 'labels', 'token_type_ids'],\n",
       "    num_rows: 166183\n",
       "})"
      ]
     },
     "execution_count": 173,
     "metadata": {},
     "output_type": "execute_result"
    }
   ],
   "source": [
    "test_dataset_v2"
   ]
  },
  {
   "cell_type": "code",
   "execution_count": 174,
   "metadata": {},
   "outputs": [
    {
     "data": {
      "text/plain": [
       "<__main__.CustomTrainer at 0x261e97c0640>"
      ]
     },
     "execution_count": 174,
     "metadata": {},
     "output_type": "execute_result"
    }
   ],
   "source": [
    "trainer_v2"
   ]
  },
  {
   "cell_type": "code",
   "execution_count": 171,
   "metadata": {},
   "outputs": [
    {
     "ename": "ValueError",
     "evalue": "Target size (torch.Size([16, 398])) must be the same as input size (torch.Size([16, 246]))",
     "output_type": "error",
     "traceback": [
      "\u001b[1;31m---------------------------------------------------------------------------\u001b[0m",
      "\u001b[1;31mValueError\u001b[0m                                Traceback (most recent call last)",
      "Cell \u001b[1;32mIn[171], line 1\u001b[0m\n\u001b[1;32m----> 1\u001b[0m evaluation_result_level2 \u001b[38;5;241m=\u001b[39m \u001b[43mtrainer_v2\u001b[49m\u001b[38;5;241;43m.\u001b[39;49m\u001b[43mpredict\u001b[49m\u001b[43m(\u001b[49m\u001b[43mtest_dataset_v2\u001b[49m\u001b[43m)\u001b[49m\n",
      "File \u001b[1;32m~\\git_Work_VINITI_2024\\my_venv_cuda\\lib\\site-packages\\transformers\\trainer.py:3717\u001b[0m, in \u001b[0;36mTrainer.predict\u001b[1;34m(self, test_dataset, ignore_keys, metric_key_prefix)\u001b[0m\n\u001b[0;32m   3714\u001b[0m start_time \u001b[38;5;241m=\u001b[39m time\u001b[38;5;241m.\u001b[39mtime()\n\u001b[0;32m   3716\u001b[0m eval_loop \u001b[38;5;241m=\u001b[39m \u001b[38;5;28mself\u001b[39m\u001b[38;5;241m.\u001b[39mprediction_loop \u001b[38;5;28;01mif\u001b[39;00m \u001b[38;5;28mself\u001b[39m\u001b[38;5;241m.\u001b[39margs\u001b[38;5;241m.\u001b[39muse_legacy_prediction_loop \u001b[38;5;28;01melse\u001b[39;00m \u001b[38;5;28mself\u001b[39m\u001b[38;5;241m.\u001b[39mevaluation_loop\n\u001b[1;32m-> 3717\u001b[0m output \u001b[38;5;241m=\u001b[39m \u001b[43meval_loop\u001b[49m\u001b[43m(\u001b[49m\n\u001b[0;32m   3718\u001b[0m \u001b[43m    \u001b[49m\u001b[43mtest_dataloader\u001b[49m\u001b[43m,\u001b[49m\u001b[43m \u001b[49m\u001b[43mdescription\u001b[49m\u001b[38;5;241;43m=\u001b[39;49m\u001b[38;5;124;43m\"\u001b[39;49m\u001b[38;5;124;43mPrediction\u001b[39;49m\u001b[38;5;124;43m\"\u001b[39;49m\u001b[43m,\u001b[49m\u001b[43m \u001b[49m\u001b[43mignore_keys\u001b[49m\u001b[38;5;241;43m=\u001b[39;49m\u001b[43mignore_keys\u001b[49m\u001b[43m,\u001b[49m\u001b[43m \u001b[49m\u001b[43mmetric_key_prefix\u001b[49m\u001b[38;5;241;43m=\u001b[39;49m\u001b[43mmetric_key_prefix\u001b[49m\n\u001b[0;32m   3719\u001b[0m \u001b[43m\u001b[49m\u001b[43m)\u001b[49m\n\u001b[0;32m   3720\u001b[0m total_batch_size \u001b[38;5;241m=\u001b[39m \u001b[38;5;28mself\u001b[39m\u001b[38;5;241m.\u001b[39margs\u001b[38;5;241m.\u001b[39meval_batch_size \u001b[38;5;241m*\u001b[39m \u001b[38;5;28mself\u001b[39m\u001b[38;5;241m.\u001b[39margs\u001b[38;5;241m.\u001b[39mworld_size\n\u001b[0;32m   3721\u001b[0m \u001b[38;5;28;01mif\u001b[39;00m \u001b[38;5;124mf\u001b[39m\u001b[38;5;124m\"\u001b[39m\u001b[38;5;132;01m{\u001b[39;00mmetric_key_prefix\u001b[38;5;132;01m}\u001b[39;00m\u001b[38;5;124m_jit_compilation_time\u001b[39m\u001b[38;5;124m\"\u001b[39m \u001b[38;5;129;01min\u001b[39;00m output\u001b[38;5;241m.\u001b[39mmetrics:\n",
      "File \u001b[1;32m~\\git_Work_VINITI_2024\\my_venv_cuda\\lib\\site-packages\\transformers\\trainer.py:3826\u001b[0m, in \u001b[0;36mTrainer.evaluation_loop\u001b[1;34m(self, dataloader, description, prediction_loss_only, ignore_keys, metric_key_prefix)\u001b[0m\n\u001b[0;32m   3823\u001b[0m         batch_size \u001b[38;5;241m=\u001b[39m observed_batch_size\n\u001b[0;32m   3825\u001b[0m \u001b[38;5;66;03m# Prediction step\u001b[39;00m\n\u001b[1;32m-> 3826\u001b[0m losses, logits, labels \u001b[38;5;241m=\u001b[39m \u001b[38;5;28;43mself\u001b[39;49m\u001b[38;5;241;43m.\u001b[39;49m\u001b[43mprediction_step\u001b[49m\u001b[43m(\u001b[49m\u001b[43mmodel\u001b[49m\u001b[43m,\u001b[49m\u001b[43m \u001b[49m\u001b[43minputs\u001b[49m\u001b[43m,\u001b[49m\u001b[43m \u001b[49m\u001b[43mprediction_loss_only\u001b[49m\u001b[43m,\u001b[49m\u001b[43m \u001b[49m\u001b[43mignore_keys\u001b[49m\u001b[38;5;241;43m=\u001b[39;49m\u001b[43mignore_keys\u001b[49m\u001b[43m)\u001b[49m\n\u001b[0;32m   3827\u001b[0m main_input_name \u001b[38;5;241m=\u001b[39m \u001b[38;5;28mgetattr\u001b[39m(\u001b[38;5;28mself\u001b[39m\u001b[38;5;241m.\u001b[39mmodel, \u001b[38;5;124m\"\u001b[39m\u001b[38;5;124mmain_input_name\u001b[39m\u001b[38;5;124m\"\u001b[39m, \u001b[38;5;124m\"\u001b[39m\u001b[38;5;124minput_ids\u001b[39m\u001b[38;5;124m\"\u001b[39m)\n\u001b[0;32m   3828\u001b[0m inputs_decode \u001b[38;5;241m=\u001b[39m \u001b[38;5;28mself\u001b[39m\u001b[38;5;241m.\u001b[39m_prepare_input(inputs[main_input_name]) \u001b[38;5;28;01mif\u001b[39;00m args\u001b[38;5;241m.\u001b[39minclude_inputs_for_metrics \u001b[38;5;28;01melse\u001b[39;00m \u001b[38;5;28;01mNone\u001b[39;00m\n",
      "File \u001b[1;32m~\\git_Work_VINITI_2024\\my_venv_cuda\\lib\\site-packages\\transformers\\trainer.py:4040\u001b[0m, in \u001b[0;36mTrainer.prediction_step\u001b[1;34m(self, model, inputs, prediction_loss_only, ignore_keys)\u001b[0m\n\u001b[0;32m   4038\u001b[0m \u001b[38;5;28;01mif\u001b[39;00m has_labels \u001b[38;5;129;01mor\u001b[39;00m loss_without_labels:\n\u001b[0;32m   4039\u001b[0m     \u001b[38;5;28;01mwith\u001b[39;00m \u001b[38;5;28mself\u001b[39m\u001b[38;5;241m.\u001b[39mcompute_loss_context_manager():\n\u001b[1;32m-> 4040\u001b[0m         loss, outputs \u001b[38;5;241m=\u001b[39m \u001b[38;5;28;43mself\u001b[39;49m\u001b[38;5;241;43m.\u001b[39;49m\u001b[43mcompute_loss\u001b[49m\u001b[43m(\u001b[49m\u001b[43mmodel\u001b[49m\u001b[43m,\u001b[49m\u001b[43m \u001b[49m\u001b[43minputs\u001b[49m\u001b[43m,\u001b[49m\u001b[43m \u001b[49m\u001b[43mreturn_outputs\u001b[49m\u001b[38;5;241;43m=\u001b[39;49m\u001b[38;5;28;43;01mTrue\u001b[39;49;00m\u001b[43m)\u001b[49m\n\u001b[0;32m   4041\u001b[0m     loss \u001b[38;5;241m=\u001b[39m loss\u001b[38;5;241m.\u001b[39mmean()\u001b[38;5;241m.\u001b[39mdetach()\n\u001b[0;32m   4043\u001b[0m     \u001b[38;5;28;01mif\u001b[39;00m \u001b[38;5;28misinstance\u001b[39m(outputs, \u001b[38;5;28mdict\u001b[39m):\n",
      "Cell \u001b[1;32mIn[167], line 9\u001b[0m, in \u001b[0;36mCustomTrainer.compute_loss\u001b[1;34m(self, model, inputs, return_outputs)\u001b[0m\n\u001b[0;32m      7\u001b[0m outputs \u001b[38;5;241m=\u001b[39m model(\u001b[38;5;241m*\u001b[39m\u001b[38;5;241m*\u001b[39minputs)\n\u001b[0;32m      8\u001b[0m logits \u001b[38;5;241m=\u001b[39m outputs\u001b[38;5;241m.\u001b[39mlogits\n\u001b[1;32m----> 9\u001b[0m loss \u001b[38;5;241m=\u001b[39m \u001b[43mloss_fuction_for_multiclass_classification_v2\u001b[49m\u001b[43m(\u001b[49m\u001b[43mlogits\u001b[49m\u001b[43m,\u001b[49m\u001b[43m \u001b[49m\u001b[43mlabels\u001b[49m\u001b[43m)\u001b[49m\n\u001b[0;32m     11\u001b[0m \u001b[38;5;28;01mreturn\u001b[39;00m (loss, outputs) \u001b[38;5;28;01mif\u001b[39;00m return_outputs \u001b[38;5;28;01melse\u001b[39;00m loss\n",
      "File \u001b[1;32m~\\git_Work_VINITI_2024\\my_venv_cuda\\lib\\site-packages\\torch\\nn\\modules\\module.py:1532\u001b[0m, in \u001b[0;36mModule._wrapped_call_impl\u001b[1;34m(self, *args, **kwargs)\u001b[0m\n\u001b[0;32m   1530\u001b[0m     \u001b[38;5;28;01mreturn\u001b[39;00m \u001b[38;5;28mself\u001b[39m\u001b[38;5;241m.\u001b[39m_compiled_call_impl(\u001b[38;5;241m*\u001b[39margs, \u001b[38;5;241m*\u001b[39m\u001b[38;5;241m*\u001b[39mkwargs)  \u001b[38;5;66;03m# type: ignore[misc]\u001b[39;00m\n\u001b[0;32m   1531\u001b[0m \u001b[38;5;28;01melse\u001b[39;00m:\n\u001b[1;32m-> 1532\u001b[0m     \u001b[38;5;28;01mreturn\u001b[39;00m \u001b[38;5;28;43mself\u001b[39;49m\u001b[38;5;241;43m.\u001b[39;49m\u001b[43m_call_impl\u001b[49m\u001b[43m(\u001b[49m\u001b[38;5;241;43m*\u001b[39;49m\u001b[43margs\u001b[49m\u001b[43m,\u001b[49m\u001b[43m \u001b[49m\u001b[38;5;241;43m*\u001b[39;49m\u001b[38;5;241;43m*\u001b[39;49m\u001b[43mkwargs\u001b[49m\u001b[43m)\u001b[49m\n",
      "File \u001b[1;32m~\\git_Work_VINITI_2024\\my_venv_cuda\\lib\\site-packages\\torch\\nn\\modules\\module.py:1541\u001b[0m, in \u001b[0;36mModule._call_impl\u001b[1;34m(self, *args, **kwargs)\u001b[0m\n\u001b[0;32m   1536\u001b[0m \u001b[38;5;66;03m# If we don't have any hooks, we want to skip the rest of the logic in\u001b[39;00m\n\u001b[0;32m   1537\u001b[0m \u001b[38;5;66;03m# this function, and just call forward.\u001b[39;00m\n\u001b[0;32m   1538\u001b[0m \u001b[38;5;28;01mif\u001b[39;00m \u001b[38;5;129;01mnot\u001b[39;00m (\u001b[38;5;28mself\u001b[39m\u001b[38;5;241m.\u001b[39m_backward_hooks \u001b[38;5;129;01mor\u001b[39;00m \u001b[38;5;28mself\u001b[39m\u001b[38;5;241m.\u001b[39m_backward_pre_hooks \u001b[38;5;129;01mor\u001b[39;00m \u001b[38;5;28mself\u001b[39m\u001b[38;5;241m.\u001b[39m_forward_hooks \u001b[38;5;129;01mor\u001b[39;00m \u001b[38;5;28mself\u001b[39m\u001b[38;5;241m.\u001b[39m_forward_pre_hooks\n\u001b[0;32m   1539\u001b[0m         \u001b[38;5;129;01mor\u001b[39;00m _global_backward_pre_hooks \u001b[38;5;129;01mor\u001b[39;00m _global_backward_hooks\n\u001b[0;32m   1540\u001b[0m         \u001b[38;5;129;01mor\u001b[39;00m _global_forward_hooks \u001b[38;5;129;01mor\u001b[39;00m _global_forward_pre_hooks):\n\u001b[1;32m-> 1541\u001b[0m     \u001b[38;5;28;01mreturn\u001b[39;00m \u001b[43mforward_call\u001b[49m\u001b[43m(\u001b[49m\u001b[38;5;241;43m*\u001b[39;49m\u001b[43margs\u001b[49m\u001b[43m,\u001b[49m\u001b[43m \u001b[49m\u001b[38;5;241;43m*\u001b[39;49m\u001b[38;5;241;43m*\u001b[39;49m\u001b[43mkwargs\u001b[49m\u001b[43m)\u001b[49m\n\u001b[0;32m   1543\u001b[0m \u001b[38;5;28;01mtry\u001b[39;00m:\n\u001b[0;32m   1544\u001b[0m     result \u001b[38;5;241m=\u001b[39m \u001b[38;5;28;01mNone\u001b[39;00m\n",
      "File \u001b[1;32m~\\git_Work_VINITI_2024\\my_venv_cuda\\lib\\site-packages\\torch\\nn\\modules\\loss.py:731\u001b[0m, in \u001b[0;36mBCEWithLogitsLoss.forward\u001b[1;34m(self, input, target)\u001b[0m\n\u001b[0;32m    730\u001b[0m \u001b[38;5;28;01mdef\u001b[39;00m \u001b[38;5;21mforward\u001b[39m(\u001b[38;5;28mself\u001b[39m, \u001b[38;5;28minput\u001b[39m: Tensor, target: Tensor) \u001b[38;5;241m-\u001b[39m\u001b[38;5;241m>\u001b[39m Tensor:\n\u001b[1;32m--> 731\u001b[0m     \u001b[38;5;28;01mreturn\u001b[39;00m \u001b[43mF\u001b[49m\u001b[38;5;241;43m.\u001b[39;49m\u001b[43mbinary_cross_entropy_with_logits\u001b[49m\u001b[43m(\u001b[49m\u001b[38;5;28;43minput\u001b[39;49m\u001b[43m,\u001b[49m\u001b[43m \u001b[49m\u001b[43mtarget\u001b[49m\u001b[43m,\u001b[49m\n\u001b[0;32m    732\u001b[0m \u001b[43m                                              \u001b[49m\u001b[38;5;28;43mself\u001b[39;49m\u001b[38;5;241;43m.\u001b[39;49m\u001b[43mweight\u001b[49m\u001b[43m,\u001b[49m\n\u001b[0;32m    733\u001b[0m \u001b[43m                                              \u001b[49m\u001b[43mpos_weight\u001b[49m\u001b[38;5;241;43m=\u001b[39;49m\u001b[38;5;28;43mself\u001b[39;49m\u001b[38;5;241;43m.\u001b[39;49m\u001b[43mpos_weight\u001b[49m\u001b[43m,\u001b[49m\n\u001b[0;32m    734\u001b[0m \u001b[43m                                              \u001b[49m\u001b[43mreduction\u001b[49m\u001b[38;5;241;43m=\u001b[39;49m\u001b[38;5;28;43mself\u001b[39;49m\u001b[38;5;241;43m.\u001b[39;49m\u001b[43mreduction\u001b[49m\u001b[43m)\u001b[49m\n",
      "File \u001b[1;32m~\\git_Work_VINITI_2024\\my_venv_cuda\\lib\\site-packages\\torch\\nn\\functional.py:3224\u001b[0m, in \u001b[0;36mbinary_cross_entropy_with_logits\u001b[1;34m(input, target, weight, size_average, reduce, reduction, pos_weight)\u001b[0m\n\u001b[0;32m   3221\u001b[0m     reduction_enum \u001b[38;5;241m=\u001b[39m _Reduction\u001b[38;5;241m.\u001b[39mget_enum(reduction)\n\u001b[0;32m   3223\u001b[0m \u001b[38;5;28;01mif\u001b[39;00m \u001b[38;5;129;01mnot\u001b[39;00m (target\u001b[38;5;241m.\u001b[39msize() \u001b[38;5;241m==\u001b[39m \u001b[38;5;28minput\u001b[39m\u001b[38;5;241m.\u001b[39msize()):\n\u001b[1;32m-> 3224\u001b[0m     \u001b[38;5;28;01mraise\u001b[39;00m \u001b[38;5;167;01mValueError\u001b[39;00m(\u001b[38;5;124mf\u001b[39m\u001b[38;5;124m\"\u001b[39m\u001b[38;5;124mTarget size (\u001b[39m\u001b[38;5;132;01m{\u001b[39;00mtarget\u001b[38;5;241m.\u001b[39msize()\u001b[38;5;132;01m}\u001b[39;00m\u001b[38;5;124m) must be the same as input size (\u001b[39m\u001b[38;5;132;01m{\u001b[39;00m\u001b[38;5;28minput\u001b[39m\u001b[38;5;241m.\u001b[39msize()\u001b[38;5;132;01m}\u001b[39;00m\u001b[38;5;124m)\u001b[39m\u001b[38;5;124m\"\u001b[39m)\n\u001b[0;32m   3226\u001b[0m \u001b[38;5;28;01mreturn\u001b[39;00m torch\u001b[38;5;241m.\u001b[39mbinary_cross_entropy_with_logits(\u001b[38;5;28minput\u001b[39m, target, weight, pos_weight, reduction_enum)\n",
      "\u001b[1;31mValueError\u001b[0m: Target size (torch.Size([16, 398])) must be the same as input size (torch.Size([16, 246]))"
     ]
    }
   ],
   "source": [
    "evaluation_result_level2 = trainer_v2.predict(test_dataset_v2)"
   ]
  },
  {
   "cell_type": "code",
   "execution_count": null,
   "metadata": {},
   "outputs": [],
   "source": [
    "test_predictions_level2 = evaluation_result_level2.predictions"
   ]
  },
  {
   "cell_type": "code",
   "execution_count": null,
   "metadata": {},
   "outputs": [],
   "source": [
    "treshold_list_v2 = [0.4 + 0.025 * x for x in range(0, 24, 2)]\n",
    "f1_score_macro_list_v2 = []\n",
    "f1_score_micro_list_v2 = []\n",
    "f1_score_weighted_list_v2 = []\n",
    "\n",
    "for treshold in tqdm(treshold_list_v2):\n",
    "    multilabel_f1_score_macro = MultilabelF1Score(num_labels=n_classes2_v2, average='macro', threshold=treshold)\n",
    "\n",
    "    f1_score_macro_list_v2.append(multilabel_f1_score_macro(torch.tensor(test_predictions_level2), \n",
    "                                                        torch.tensor(test_dataset['labels'])))\n",
    "\n",
    "    multilabel_f1_score_micro = MultilabelF1Score(num_labels=n_classes2_v2, average='micro', threshold=treshold)\n",
    "\n",
    "    f1_score_micro_list_v2.append(multilabel_f1_score_micro(torch.tensor(test_predictions_level2), \n",
    "                                                        torch.tensor(test_dataset['labels'])))\n",
    "\n",
    "    multilabel_f1_score_weighted = MultilabelF1Score(num_labels=n_classes2_v2, average='weighted',\n",
    "                                                      threshold=treshold)\n",
    "\n",
    "    f1_score_weighted_list_v2.append(multilabel_f1_score_weighted(torch.tensor(test_predictions_level2), \n",
    "                                                        torch.tensor(test_dataset['labels'])))"
   ]
  },
  {
   "cell_type": "code",
   "execution_count": 134,
   "metadata": {},
   "outputs": [
    {
     "data": {
      "text/plain": [
       "Dataset({\n",
       "    features: ['input_ids', 'attention_mask', 'labels', 'token_type_ids'],\n",
       "    num_rows: 166183\n",
       "})"
      ]
     },
     "execution_count": 134,
     "metadata": {},
     "output_type": "execute_result"
    }
   ],
   "source": [
    "test_dataset"
   ]
  },
  {
   "cell_type": "code",
   "execution_count": null,
   "metadata": {},
   "outputs": [],
   "source": [
    "plt.plot(treshold_list_v2, f1_score_macro_list_v2, label = \"macro\")\n",
    "plt.plot(treshold_list_v2, f1_score_micro_list_v2, label = \"micro\")\n",
    "plt.plot(treshold_list_v2, f1_score_weighted_list_v2, label = \"weighted\")\n",
    "plt.xticks(treshold_list_v2, rotation=70)\n",
    "plt.title(\"Зависимость f1_score от threshold дл GRNTI2\")\n",
    "plt.xlabel(\"threshold\")\n",
    "plt.ylabel(\"f1_score\")\n",
    "plt.legend()\n",
    "plt.grid()\n",
    "plt.savefig(dir_name_v2 + \"Зависимость f1_score от threshold дл GRNTI2.png\",\n",
    "                bbox_inches='tight')\n",
    "\n",
    "def eval_step(engine, batch):\n",
    "    return batch\n",
    "\n",
    "default_evaluator = Engine(eval_step)\n",
    "metric = ClassificationReport(output_dict=True, is_multilabel=True)\n",
    "weighted_metric_precision = Precision(average='weighted', is_multilabel=True)\n",
    "weighted_metric_recall= Recall(average='weighted', is_multilabel=True)\n",
    "\n",
    "preds = (torch.tensor(test_predictions_level2) > 0.5).int()\n",
    "input = torch.tensor(test_dataset['labels2']).int()\n",
    "\n",
    "precision = Precision(average=False, is_multilabel=True)\n",
    "recall = Recall(average=False, is_multilabel=True)\n",
    "F1 = precision * recall * 2 / (precision + recall + 1e-20)\n",
    "freq = torch.tensor([sum(input[:, i]) for i in range(input.shape[1])])#.tolist()\n",
    "# weights_per_class = input.shape[0] / (torch.tensor([el if el > 0 else 1 for el in freq])* input.shape[1])\n",
    "F1_wieghted = MetricsLambda(lambda t: torch.sum(t * freq).item() / input.shape[0], F1) # \n",
    "\n",
    "metric.attach(default_evaluator, \"cr\")\n",
    "weighted_metric_precision.attach(default_evaluator, \"weighted precision\")\n",
    "weighted_metric_recall.attach(default_evaluator, \"weighted recall\")\n",
    "F1_wieghted.attach(default_evaluator, \"weighted F1\")\n",
    "\n",
    "\n",
    "\n",
    "state = default_evaluator.run([[preds, input]])\n",
    "result = state.metrics['cr']\n",
    "result['weighted precision'] = state.metrics['weighted precision']\n",
    "\n",
    "result['weighted recall'] = state.metrics['weighted recall']\n",
    "result['weighted F1'] = state.metrics['weighted F1']\n",
    "\n",
    "with open(dir_name + \"test_results_level1.json\", \"w\") as outfile:\n",
    "    json.dump(result, outfile)\n"
   ]
  },
  {
   "cell_type": "code",
   "execution_count": null,
   "metadata": {},
   "outputs": [],
   "source": [
    "treshold_list = [0.4 + 0.025 * x for x in range(24)]\n",
    "f1_score_macro_list = []\n",
    "for treshold in tqdm(treshold_list):\n",
    "    multilabel_f1_score_macro = MultilabelF1Score(num_labels=n_classes2, average='macro', threshold=treshold)\n",
    "\n",
    "    f1_score_macro_list.append(multilabel_f1_score_macro(torch.tensor(evaluation_result_level2), \n",
    "                                                        torch.tensor(test_dataset_level2['labels'])))\n",
    "f1_score_micro_list = []\n",
    "for treshold in tqdm(treshold_list):\n",
    "    multilabel_f1_score_micro = MultilabelF1Score(num_labels=n_classes2, average='micro', threshold=treshold)\n",
    "\n",
    "    f1_score_micro_list.append(multilabel_f1_score_micro(torch.tensor(evaluation_result_level2), \n",
    "                                                        torch.tensor(test_dataset_level2['labels'])))\n",
    "    \n",
    "f1_score_weighted_list = []\n",
    "for treshold in tqdm(treshold_list):\n",
    "    multilabel_f1_score_weighted = MultilabelF1Score(num_labels=n_classes2, average='weighted', threshold=treshold)\n",
    "\n",
    "    f1_score_weighted_list.append(multilabel_f1_score_weighted(torch.tensor(evaluation_result_level2), \n",
    "                                                        torch.tensor(test_dataset_level2['labels'])))\n",
    "    \n",
    "\n",
    "plt.plot(treshold_list, f1_score_macro_list, label = \"macro\")\n",
    "plt.plot(treshold_list, f1_score_micro_list, label = \"micro\")\n",
    "plt.plot(treshold_list, f1_score_weighted_list, label = \"weighted\")\n",
    "plt.xticks(treshold_list, rotation=70)\n",
    "plt.title(\"Зависимость f1_score от threshold\")\n",
    "plt.xlabel(\"threshold\")\n",
    "plt.ylabel(\"f1_score\")\n",
    "plt.legend()\n",
    "plt.grid()\n",
    "plt.savefig(dir_name + \"Зависимость f1_score от threshold.png\",\n",
    "                bbox_inches='tight')\n",
    "\n",
    "def eval_step(engine, batch):\n",
    "    return batch\n",
    "\n",
    "default_evaluator = Engine(eval_step)\n",
    "metric = ClassificationReport(output_dict=True, is_multilabel=True)\n",
    "weighted_metric_precision = Precision(average='weighted', is_multilabel=True)\n",
    "weighted_metric_recall= Recall(average='weighted', is_multilabel=True)\n",
    "\n",
    "preds = (torch.tensor(pred_res) > 0.5).int()\n",
    "input = torch.tensor(daaset_test['labels']).int()\n",
    "\n",
    "precision = Precision(average=False, is_multilabel=True)\n",
    "recall = Recall(average=False, is_multilabel=True)\n",
    "F1 = precision * recall * 2 / (precision + recall + 1e-20)\n",
    "freq = torch.tensor([sum(input[:, i]) for i in range(input.shape[1])])#.tolist()\n",
    "# weights_per_class = input.shape[0] / (torch.tensor([el if el > 0 else 1 for el in freq])* input.shape[1])\n",
    "F1_wieghted = MetricsLambda(lambda t: torch.sum(t * freq).item() / input.shape[0], F1) # \n",
    "\n",
    "metric.attach(default_evaluator, \"cr\")\n",
    "weighted_metric_precision.attach(default_evaluator, \"weighted precision\")\n",
    "weighted_metric_recall.attach(default_evaluator, \"weighted recall\")\n",
    "F1_wieghted.attach(default_evaluator, \"weighted F1\")\n",
    "\n",
    "\n",
    "\n",
    "state = default_evaluator.run([[preds, input]])\n",
    "result = state.metrics['cr']\n",
    "result['weighted precision'] = state.metrics['weighted precision']\n",
    "\n",
    "result['weighted recall'] = state.metrics['weighted recall']\n",
    "result['weighted F1'] = state.metrics['weighted F1']\n",
    "\n",
    "with open(dir_name + \"test_results_level1.json\", \"w\") as outfile:\n",
    "    json.dump(result, outfile)"
   ]
  },
  {
   "cell_type": "markdown",
   "metadata": {},
   "source": [
    "#### Level 2 bert no label names in train "
   ]
  },
  {
   "cell_type": "code",
   "execution_count": 8,
   "metadata": {},
   "outputs": [],
   "source": [
    "def get_input_ids_attention_masks_token_type_labels_v3(df, tokenizer, max_len):\n",
    "    # Токенизация \n",
    "    input_ids = []\n",
    "    attention_masks = []\n",
    "    token_type_ids =[]\n",
    "    # Для каждого тектса...\n",
    "    for sent in tqdm(df['text']):\n",
    "        encoded_dict = tokenizer.encode_plus(\n",
    "                sent,\n",
    "                max_length = max_len,\n",
    "                return_tensors = 'pt',\n",
    "                truncation=True,\n",
    "                return_token_type_ids=True,\n",
    "                return_attention_mask = True,\n",
    "                padding = 'max_length')\n",
    "        # Добавляем закодированный текст в list.\n",
    "        input_ids.append(encoded_dict['input_ids'])\n",
    "        # Добавляем attention mask (Отделяем padding от non-padding токенов).\n",
    "        attention_masks.append(encoded_dict['attention_mask'])\n",
    "        #Добавляем token_type_ids, тк у нас есть [SEP] в тексах \n",
    "        token_type_ids.append(encoded_dict['token_type_ids'])\n",
    "\n",
    "    # Переводим листы в тензоры.\n",
    "    input_ids= torch.cat(input_ids, dim=0)\n",
    "    attention_masks= torch.cat(attention_masks, dim=0)\n",
    "    token_type_ids= torch.cat(token_type_ids, dim=0)\n",
    "    labels= torch.tensor(df['target_coded2'].to_list()).float()\n",
    "\n",
    "    return input_ids, attention_masks, token_type_ids, labels"
   ]
  },
  {
   "cell_type": "code",
   "execution_count": 9,
   "metadata": {},
   "outputs": [],
   "source": [
    "def prepair_datasets_v3(df, df_test, n_classes,\n",
    "                           max_number_tokens=512, \n",
    "                           pre_trained_model_name='DeepPavlov/rubert-base-cased'):\n",
    "    tokenizer = AutoTokenizer.from_pretrained(pre_trained_model_name, do_lower_case = True)\n",
    "\n",
    "    \n",
    "    # Ищем элемнты, c list из target_coded, который встречается только 1 раз\n",
    "    list_of_keys_less_than_two = []\n",
    "    for key, val in Counter(df['target_coded2'].apply(lambda x: str(x))).items():\n",
    "        if val < 2:\n",
    "            list_of_keys_less_than_two.append(key)\n",
    "    #Отделяем элементы датасета c list из target_coded, который встречается только 1 раз\n",
    "    df_trunc_single_example = df[df['target_coded2'].apply(lambda x: str(x) \n",
    "                                                                        in list_of_keys_less_than_two)]\n",
    "    df_trunc_no_less_than_two = df[df['target_coded2'].apply(lambda x: str(x) \n",
    "                                                                        not in list_of_keys_less_than_two)]\n",
    "    # Создаем стратифицированную выборку для обучения и валидации\n",
    "    train_df_0, valid_df= train_test_split(df_trunc_no_less_than_two, \n",
    "                                        stratify=df_trunc_no_less_than_two['target_coded2'].apply(lambda x: str(x)),\n",
    "                                            test_size=0.2)\n",
    "    # Добавляем в обучающую выборку элементы начального датасета c list из target_coded, который встречается только 1 раз\n",
    "    train_df = pd.concat([train_df_0, df_trunc_single_example], ignore_index=True)\n",
    "\n",
    "    number_of_rows = train_df['target_coded2'].shape[0]\n",
    "    number_per_class_1 = np.array([train_df['target_coded2'].apply(lambda x: x[index]).sum() \n",
    "                                for index in range(n_classes)])\n",
    "\n",
    "    # Cчитаем веса каждого классов\n",
    "    weights_per_class = number_of_rows / (number_per_class_1 * n_classes)\n",
    "    print(\"Веса для кажого класса: \", weights_per_class)\n",
    "    print(\"Подготовка тренировочных данных:\")\n",
    "    input_ids_train, attention_masks_train,\\\n",
    "    token_type_ids_train,\\\n",
    "    labels_train = get_input_ids_attention_masks_token_type_labels_v3(train_df[[\"target_coded2\",\n",
    "                                                                                \"text\"]], \n",
    "                                                                                tokenizer=tokenizer,\n",
    "                                                                   max_len=max_number_tokens)\n",
    "    print(\"Подготовка валидационных данных:\")\n",
    "    input_ids_validation, attention_masks_validation,\\\n",
    "    token_type_ids_validation,\\\n",
    "    labels_validation = get_input_ids_attention_masks_token_type_labels_v3(valid_df[[\"target_coded2\",\n",
    "                                                                                \"text\"]], \n",
    "                                                                                tokenizer=tokenizer,\n",
    "                                                                   max_len=max_number_tokens)\n",
    "    print(\"Подготовка тестовых данных:\")\n",
    "    input_ids_test, attention_masks_test,\\\n",
    "    token_type_ids_test,\\\n",
    "    labels_test = get_input_ids_attention_masks_token_type_labels_v3(df_test[[\"target_coded2\",\n",
    "                                                                                \"text\"]], tokenizer=tokenizer,\n",
    "                                                                   max_len=max_number_tokens)\n",
    "    # Собираем датасеты и делаем shuffle для каждого\n",
    "    SEED = 1234\n",
    "    dataset_train_v2 = Dataset.from_dict({\"input_ids\":input_ids_train,  \n",
    "                                        \"attention_mask\":attention_masks_train,  \n",
    "                                        \"labels\":labels_train,\n",
    "                                        \"token_type_ids\":token_type_ids_train}).shuffle(SEED)\n",
    "\n",
    "    dataset_valid_v2 = Dataset.from_dict({\"input_ids\":input_ids_validation,  \n",
    "                                        \"attention_mask\":attention_masks_validation,  \n",
    "                                        \"labels\":labels_validation,\n",
    "                                        \"token_type_ids\":token_type_ids_validation}).shuffle(SEED)\n",
    "    dataset_test_v2 = Dataset.from_dict({\"input_ids\":input_ids_test,  \n",
    "                                      \"attention_mask\":attention_masks_test,  \n",
    "                                      \"labels\":labels_test,\n",
    "                                      \"token_type_ids\":token_type_ids_test}).shuffle(SEED)\n",
    "    \n",
    "\n",
    "\n",
    "    #Функция потерь с учетом весов для multilabel классификации\n",
    "    loss_fuction_for_multiclass_classification =\\\n",
    "        torch.nn.BCEWithLogitsLoss(weight = torch.tensor(weights_per_class).float()).to(\"cuda\")\n",
    "    #Чтобы использовать собственную функцию потерь создаем класс CustomTrainer\n",
    "\n",
    "    return dataset_train_v2, dataset_valid_v2, dataset_test_v2, loss_fuction_for_multiclass_classification "
   ]
  },
  {
   "cell_type": "code",
   "execution_count": 10,
   "metadata": {},
   "outputs": [
    {
     "name": "stderr",
     "output_type": "stream",
     "text": [
      "C:\\Users\\victo\\AppData\\Local\\Temp\\ipykernel_29352\\437693950.py:8: FutureWarning: The error_bad_lines argument has been deprecated and will be removed in a future version.\n",
      "\n",
      "\n",
      "  df_v3, df_test_v3, n_classes_v3, n_classes2_v3 = get_grnti1_2_BERT_dataframes_v2(\"..\\\\datasets\\\\base\\\\ru\\\\raw\",\n",
      "b'Skipping line 23708: expected 8 fields, saw 9\\n'\n"
     ]
    },
    {
     "name": "stdout",
     "output_type": "stream",
     "text": [
      "Удаление элементов второго уровня, количство которых меньше 300\n",
      "         id_publ                                              title  \\\n",
      "0   19.06-73.269  Некоторые аспекты изменения степных ландшафтов...   \n",
      "1   19.01-24А.85  Подходы к повышению точности определения харак...   \n",
      "2   19.06-66.105  Микроскопическое моделирование фазового поля п...   \n",
      "3   19.06-14Б.10  МОДЕЛИ И МЕТОДИКИ АВТОМАТИЗАЦИИ ПРОЦЕДУР РАЗРА...   \n",
      "4  19.10-19Ж.456  Трехкомпонентная реакция Кастагноли-Кушмана 3-...   \n",
      "\n",
      "                                             ref_txt  \\\n",
      "0  Предлагается результат анализа динамики некото...   \n",
      "1  В статье представлены подходы к повышению точн...   \n",
      "2  Процесс выделения сплава Ni[75]Al[15]Ti[10] мо...   \n",
      "3  Объектом исследования является проектирование ...   \n",
      "4  Попытки использования 3-арилглутаконовых кисло...   \n",
      "\n",
      "                                             kw_list   SUBJ     IPV  \\\n",
      "0  Урало-Заволжье\\анализ динамики\\ландшафты\\нефте...  f3\\e2   72\\73   \n",
      "1  метровый диапазон\\обнаружение сигналов\\подвижн...     e1     24А   \n",
      "2  Ni[75]Al[15]Ti[10], моделирование выделения, к...  f1\\f7  15И\\66   \n",
      "3  автоматизированное проектирование\\обработка ме...     e9     14Б   \n",
      "4  3-арил-\\4,6-диарил-1,6-дигидро-\\Кастаньоли_-Ку...     f7     19Ж   \n",
      "\n",
      "                        RGNTI  eor    target        target_2  \n",
      "0  87.29.29\\89.57.45\\89.57.45  ###  [87, 89]  [89.57, 87.29]  \n",
      "1                    47.05.11  ###      [47]         [47.05]  \n",
      "2           53.49.05\\81.33.07  ###  [81, 53]  [53.49, 81.33]  \n",
      "3                    55.13.15  ###      [55]         [55.13]  \n",
      "4                    31.21.27  ###      [31]         [31.21]  \n"
     ]
    },
    {
     "name": "stderr",
     "output_type": "stream",
     "text": [
      "100%|██████████| 47/47 [00:27<00:00,  1.69it/s]\n"
     ]
    },
    {
     "name": "stdout",
     "output_type": "stream",
     "text": [
      "Доля оставшихся элементов в тренировочном датасете:  0.9528220888159016\n"
     ]
    },
    {
     "data": {
      "image/png": "[encoded data removed]",
      "text/plain": [
       "<Figure size 640x480 with 1 Axes>"
      ]
     },
     "metadata": {},
     "output_type": "display_data"
    }
   ],
   "source": [
    "number_of_delteted_values_v3 = 0\n",
    "minimal_number_of_elements_RGNTI2_v3 = 300\n",
    "minimal_number_of_words_v3 = 10\n",
    "path_info_before_save_v3 = base_name + f\"data_info_from_bert_level2_no_label_names\\\\\"\n",
    "\n",
    "if not os.path.exists(path_info_before_save_v3):\n",
    "    os.makedirs(path_info_before_save_v3)\n",
    "df_v3, df_test_v3, n_classes_v3, n_classes2_v3 = get_grnti1_2_BERT_dataframes_v2(\"..\\\\datasets\\\\base\\\\ru\\\\raw\", \n",
    "                                            number_of_delteted_values=number_of_delteted_values_v3, \n",
    "                                minimal_number_of_elements_RGNTI2=minimal_number_of_elements_RGNTI2_v3,\n",
    "                                minimal_number_of_words=minimal_number_of_words_v3,\n",
    "                                dir_name=path_info_before_save_v3)"
   ]
  },
  {
   "cell_type": "code",
   "execution_count": 11,
   "metadata": {},
   "outputs": [
    {
     "data": {
      "text/plain": [
       "246"
      ]
     },
     "execution_count": 11,
     "metadata": {},
     "output_type": "execute_result"
    }
   ],
   "source": [
    "n_classes2_v3"
   ]
  },
  {
   "cell_type": "code",
   "execution_count": 12,
   "metadata": {},
   "outputs": [],
   "source": [
    "# torch.cuda.is_available()"
   ]
  },
  {
   "cell_type": "code",
   "execution_count": 13,
   "metadata": {},
   "outputs": [
    {
     "name": "stdout",
     "output_type": "stream",
     "text": [
      "Веса для кажого класса:  [0.33051363 0.52032288 1.1037152  0.67150814 0.69935871 1.09442914\n",
      " 3.42317684 2.6469914  0.23644898 0.25463228 1.3177497  0.92162454\n",
      " 1.11725772 1.01399225 2.5868325  1.1584797  0.34116337 1.03709002\n",
      " 0.24230044 0.74881993 2.01452443 0.33244434 0.23583658 1.31965948\n",
      " 0.36291951 1.75784757 0.57376499 1.79598627 1.56723759 0.87470225\n",
      " 1.6738328  2.10292157 1.11452269 0.86555612 0.39299311 3.3600186\n",
      " 2.41529189 1.77844735 1.97519532 0.31377155 0.27393653 1.79598627\n",
      " 1.05633995 1.75446058 1.14392593 1.74104214 0.31109158 0.43882653\n",
      " 0.94850525 1.76466093 0.07972726 3.04536803 0.25251388 1.37340127\n",
      " 1.49518069 0.46174698 0.65935195 2.11267991 1.2664326  2.2821179\n",
      " 0.65649967 3.65688771 1.19496724 2.57950436 0.45895415 1.62311059\n",
      " 1.8970105  1.20764594 0.94163913 0.9396956  1.1965375  1.17340856\n",
      " 0.34595936 0.30474064 2.02347787 1.03591017 0.98652767 0.92725564\n",
      " 2.32287    2.65470857 0.87638599 1.20604641 0.81738334 3.19496505\n",
      " 2.50844364 3.41035596 1.90894139 2.06477333 0.16350602 1.97948922\n",
      " 3.02513303 3.46222449 0.34296235 0.22149478 2.63169087 2.09325297\n",
      " 0.7421068  2.42817344 0.65320304 3.70148391 3.65688771 0.27237961\n",
      " 1.62891778 0.54952628 0.28508611 1.97519532 1.14680736 1.02656713\n",
      " 0.28797123 0.41826598 3.42317684 1.53811662 1.94150328 1.50755801\n",
      " 0.54985812 1.41392087 1.44076747 0.6275431  0.84940769 0.1150575\n",
      " 3.59907131 0.31323187 0.35348022 0.53815901 2.2594666  1.30266816\n",
      " 2.98545915 0.34014383 0.29026619 1.07504727 3.11837343 3.07623325\n",
      " 1.21896257 0.99842658 2.51537304 1.22223495 0.47375913 0.60907361\n",
      " 0.35361749 0.69508782 0.77693263 0.55488424 0.62453021 0.51590087\n",
      " 0.87807622 3.33540308 3.59907131 0.70641198 1.63476668 2.31695939\n",
      " 1.99685316 0.32955666 2.47436152 0.89976783 2.52934734 2.759288\n",
      " 0.84861607 1.42053828 1.62891778 0.49273    0.35102739 1.49763987\n",
      " 0.44245143 0.96765679 1.53293778 0.63809744 0.83005017 1.13254358\n",
      " 1.07631801 0.39989681 2.7181046  0.38307322 2.44775549 0.10453048\n",
      " 2.33478216 2.72624264 0.089385   2.23177706 2.29940667 0.60262412\n",
      " 2.01452443 3.47543909 0.99406664 1.1200062  0.45964919 0.64624914\n",
      " 2.67027871 2.72624264 2.57221763 0.337872   2.15773706 1.55918671\n",
      " 3.05558738 0.8050973  0.98015613 0.33587792 0.12913984 1.46865329\n",
      " 1.161435   2.35897679 0.36909811 0.28428506 1.44076747 1.91295177\n",
      " 1.41172875 1.75784757 0.8622775  0.74392569 2.7676749  2.82784174\n",
      " 2.11267991 1.66770154 2.21010932 1.99685316 2.35897679 0.93009708\n",
      " 1.83212282 3.716592   1.3082831  2.35897679 1.01173893 0.66367714\n",
      " 3.2991487  2.90915348 3.26367398 0.77892647 2.6016144  3.65688771\n",
      " 1.09971623 0.93679531 2.75095178 0.65320304 2.6016144  1.75784757\n",
      " 3.19496505 2.18360921 2.48788262 3.46222449 1.26467367 2.87244492\n",
      " 1.42721793 0.13164161 0.54264901 1.858296   3.3111456  1.9456518 ]\n",
      "Подготовка тренировочных данных:\n"
     ]
    },
    {
     "name": "stderr",
     "output_type": "stream",
     "text": [
      "100%|██████████| 223999/223999 [02:56<00:00, 1270.52it/s]\n"
     ]
    },
    {
     "name": "stdout",
     "output_type": "stream",
     "text": [
      "Подготовка валидационных данных:\n"
     ]
    },
    {
     "name": "stderr",
     "output_type": "stream",
     "text": [
      "100%|██████████| 55660/55660 [00:43<00:00, 1271.67it/s]\n"
     ]
    },
    {
     "name": "stdout",
     "output_type": "stream",
     "text": [
      "Подготовка тестовых данных:\n"
     ]
    },
    {
     "name": "stderr",
     "output_type": "stream",
     "text": [
      "100%|██████████| 166183/166183 [02:11<00:00, 1268.22it/s]\n"
     ]
    }
   ],
   "source": [
    "train_dataset_v3, validation_dataset_v3, test_dataset_v3,\\\n",
    "                                loss_fuction_v3 = prepair_datasets_v3(df_v3, df_test_v3,\n",
    "                                                                      n_classes2_v3,\n",
    "                                                        max_number_tokens=max_number_tokens, \n",
    "                                                        pre_trained_model_name=pre_trained_model_name)"
   ]
  },
  {
   "cell_type": "code",
   "execution_count": 14,
   "metadata": {},
   "outputs": [],
   "source": [
    "del df_v3, df_test_v3"
   ]
  },
  {
   "cell_type": "code",
   "execution_count": 15,
   "metadata": {},
   "outputs": [
    {
     "name": "stderr",
     "output_type": "stream",
     "text": [
      "Some weights of BertForSequenceClassification were not initialized from the model checkpoint at DeepPavlov/rubert-base-cased and are newly initialized: ['classifier.bias', 'classifier.weight']\n",
      "You should probably TRAIN this model on a down-stream task to be able to use it for predictions and inference.\n"
     ]
    }
   ],
   "source": [
    "dir_name_v3 = base_name + f\"model bert lora level 2 no labels\\\\\"\n",
    "epoch_v3=16\n",
    "batch_size_v3=16\n",
    "weight_decay_v3 = 1e-6\n",
    "warmup_steps_v3 = 10\n",
    "fp16_v3 = True\n",
    "optim_v3 = \"adamw_bnb_8bit\"\n",
    "model_v3 = prepair_model(n_classes=n_classes2_v3, \n",
    "                      pre_trained_model_name=pre_trained_model_name,\n",
    "                        r=r, lora_alpha=lora_alpha, \n",
    "                        lora_dropout=lora_dropout)"
   ]
  },
  {
   "cell_type": "code",
   "execution_count": 16,
   "metadata": {},
   "outputs": [],
   "source": [
    "sett = TrainSettings()\n",
    "sett.settings[\"number_of_delteted_values\"] = number_of_delteted_values_v3\n",
    "sett.settings[\"minimal_number_of_elements_RGNTI2\"] = minimal_number_of_elements_RGNTI2_v3\n",
    "sett.settings[\"minimal_number_of_words\"] = minimal_number_of_words_v3\n",
    "sett.settings[\"max_number_tokens\"] = max_number_tokens\n",
    "sett.settings[\"pre_trained_model_name\"] = pre_trained_model_name\n",
    "sett.settings[\"r\"] = r\n",
    "sett.settings[\"lora_alpha\"] = lora_alpha\n",
    "sett.settings[\"lora_dropout\"] = lora_dropout\n",
    "sett.settings[\"epoch\"] = epoch_v3\n",
    "sett.settings[\"batch_size\"] = batch_size_v3\n",
    "sett.settings[\"weight_decay\"] = weight_decay_v3\n",
    "sett.settings[\"warmup_steps\"] = warmup_steps_v3\n",
    "sett.settings[\"fp16\"] = fp16_v3\n",
    "sett.settings[\"optim\"] = optim_v3\n",
    "sett.save(path = dir_name_v3)"
   ]
  },
  {
   "cell_type": "code",
   "execution_count": 17,
   "metadata": {},
   "outputs": [
    {
     "name": "stderr",
     "output_type": "stream",
     "text": [
      "c:\\Users\\victo\\git_Work_VINITI_2024\\my_venv_cuda\\lib\\site-packages\\transformers\\training_args.py:1494: FutureWarning: `evaluation_strategy` is deprecated and will be removed in version 4.46 of 🤗 Transformers. Use `eval_strategy` instead\n",
      "  warnings.warn(\n"
     ]
    }
   ],
   "source": [
    "loss_fuction_for_multiclass_classification_v3 = loss_fuction_v3\n",
    "compute_metrics_v3 = prepair_compute_metrics(n_classes=n_classes2_v3)\n",
    "\n",
    "class CustomTrainer(Trainer):\n",
    "    def compute_loss(self, model, inputs, return_outputs=False):\n",
    "        labels = inputs.pop(\"labels\")\n",
    "        outputs = model(**inputs)\n",
    "        logits = outputs.logits\n",
    "        loss = loss_fuction_for_multiclass_classification_v3(logits, labels)\n",
    "\n",
    "        return (loss, outputs) if return_outputs else loss\n",
    "training_args_v3 = TrainingArguments(\n",
    "    output_dir=dir_name_v3,          \n",
    "    num_train_epochs=16,#epoch_v2,\n",
    "    per_device_train_batch_size = 16,\n",
    "    per_device_eval_batch_size = 16,\n",
    "    warmup_steps=warmup_steps_v3,\n",
    "    logging_dir=dir_name_v3,\n",
    "    weight_decay=weight_decay_v3,\n",
    "    evaluation_strategy='epoch',\n",
    "    save_strategy= \"epoch\",\n",
    "    logging_strategy=\"steps\",\n",
    "    logging_steps = 100,\n",
    "    load_best_model_at_end=True,\n",
    "    save_total_limit=2,\n",
    "    report_to='tensorboard',\n",
    "    overwrite_output_dir = False,\n",
    "    save_safetensors = False,\n",
    "    fp16=fp16_v3,\n",
    "    optim = optim_v3)\n",
    "\n",
    "# Создание trainer\n",
    "trainer_v3 = CustomTrainer(\n",
    "    model=model_v3,\n",
    "    args=training_args_v3,\n",
    "    train_dataset=train_dataset_v3,\n",
    "    eval_dataset=validation_dataset_v3,\n",
    "    compute_metrics=compute_metrics_v3\n",
    ")\n"
   ]
  },
  {
   "cell_type": "code",
   "execution_count": 18,
   "metadata": {},
   "outputs": [
    {
     "data": {
      "application/vnd.jupyter.widget-view+json": {
       "model_id": "e6b8aaaba9de41fea11465b952319578",
       "version_major": 2,
       "version_minor": 0
      },
      "text/plain": [
       "  0%|          | 0/224000 [00:00<?, ?it/s]"
      ]
     },
     "metadata": {},
     "output_type": "display_data"
    },
    {
     "name": "stderr",
     "output_type": "stream",
     "text": [
      "c:\\Users\\victo\\git_Work_VINITI_2024\\my_venv_cuda\\lib\\site-packages\\transformers\\models\\bert\\modeling_bert.py:439: UserWarning: 1Torch was not compiled with flash attention. (Triggered internally at C:\\actions-runner\\_work\\pytorch\\pytorch\\builder\\windows\\pytorch\\aten\\src\\ATen\\native\\transformers\\cuda\\sdp_utils.cpp:455.)\n",
      "  attn_output = torch.nn.functional.scaled_dot_product_attention(\n"
     ]
    },
    {
     "name": "stdout",
     "output_type": "stream",
     "text": [
      "{'loss': 0.4892, 'grad_norm': 0.15199168026447296, 'learning_rate': 4.998013304165365e-05, 'epoch': 0.01}\n",
      "{'loss': 0.0556, 'grad_norm': 0.0583692267537117, 'learning_rate': 4.995781061654539e-05, 'epoch': 0.01}\n",
      "{'loss': 0.0359, 'grad_norm': 0.03982099890708923, 'learning_rate': 4.993548819143712e-05, 'epoch': 0.02}\n",
      "{'loss': 0.0314, 'grad_norm': 0.033564891666173935, 'learning_rate': 4.9913165766328854e-05, 'epoch': 0.03}\n",
      "{'loss': 0.0294, 'grad_norm': 0.034896694123744965, 'learning_rate': 4.989084334122059e-05, 'epoch': 0.04}\n",
      "{'loss': 0.028, 'grad_norm': 0.03527175262570381, 'learning_rate': 4.9868520916112326e-05, 'epoch': 0.04}\n",
      "{'loss': 0.0275, 'grad_norm': 0.026906544342637062, 'learning_rate': 4.9846198491004066e-05, 'epoch': 0.05}\n",
      "{'loss': 0.0263, 'grad_norm': 0.03518826887011528, 'learning_rate': 4.9823876065895806e-05, 'epoch': 0.06}\n",
      "{'loss': 0.0268, 'grad_norm': 0.03674136474728584, 'learning_rate': 4.980155364078753e-05, 'epoch': 0.06}\n",
      "{'loss': 0.0274, 'grad_norm': 0.03346698358654976, 'learning_rate': 4.977923121567927e-05, 'epoch': 0.07}\n",
      "{'loss': 0.0272, 'grad_norm': 0.03166608884930611, 'learning_rate': 4.975690879057101e-05, 'epoch': 0.08}\n",
      "{'loss': 0.0269, 'grad_norm': 0.030223997309803963, 'learning_rate': 4.973458636546275e-05, 'epoch': 0.09}\n",
      "{'loss': 0.0264, 'grad_norm': 0.04075738415122032, 'learning_rate': 4.9712263940354484e-05, 'epoch': 0.09}\n",
      "{'loss': 0.0284, 'grad_norm': 0.03378932550549507, 'learning_rate': 4.968994151524622e-05, 'epoch': 0.1}\n",
      "{'loss': 0.0272, 'grad_norm': 0.03696218505501747, 'learning_rate': 4.966761909013796e-05, 'epoch': 0.11}\n",
      "{'loss': 0.0274, 'grad_norm': 0.046445559710264206, 'learning_rate': 4.964529666502969e-05, 'epoch': 0.11}\n",
      "{'loss': 0.0266, 'grad_norm': 0.03304976597428322, 'learning_rate': 4.962297423992143e-05, 'epoch': 0.12}\n",
      "{'loss': 0.027, 'grad_norm': 0.036433763802051544, 'learning_rate': 4.960065181481316e-05, 'epoch': 0.13}\n",
      "{'loss': 0.0269, 'grad_norm': 0.04174581542611122, 'learning_rate': 4.9578329389704896e-05, 'epoch': 0.14}\n",
      "{'loss': 0.0272, 'grad_norm': 0.04099632799625397, 'learning_rate': 4.9556006964596635e-05, 'epoch': 0.14}\n",
      "{'loss': 0.0268, 'grad_norm': 0.032429568469524384, 'learning_rate': 4.9533684539488375e-05, 'epoch': 0.15}\n",
      "{'loss': 0.0274, 'grad_norm': 0.04140779376029968, 'learning_rate': 4.951136211438011e-05, 'epoch': 0.16}\n",
      "{'loss': 0.0257, 'grad_norm': 0.03490346297621727, 'learning_rate': 4.948903968927184e-05, 'epoch': 0.16}\n",
      "{'loss': 0.0275, 'grad_norm': 0.048748500645160675, 'learning_rate': 4.946671726416358e-05, 'epoch': 0.17}\n",
      "{'loss': 0.0278, 'grad_norm': 0.04264528676867485, 'learning_rate': 4.944439483905532e-05, 'epoch': 0.18}\n",
      "{'loss': 0.0271, 'grad_norm': 0.014955696649849415, 'learning_rate': 4.9422072413947054e-05, 'epoch': 0.19}\n",
      "{'loss': 0.0268, 'grad_norm': 0.03911612182855606, 'learning_rate': 4.9399749988838787e-05, 'epoch': 0.19}\n",
      "{'loss': 0.0261, 'grad_norm': 0.026224907487630844, 'learning_rate': 4.9377427563730526e-05, 'epoch': 0.2}\n",
      "{'loss': 0.028, 'grad_norm': 0.036763787269592285, 'learning_rate': 4.935510513862226e-05, 'epoch': 0.21}\n",
      "{'loss': 0.0261, 'grad_norm': 0.025534113869071007, 'learning_rate': 4.9332782713514e-05, 'epoch': 0.21}\n",
      "{'loss': 0.0261, 'grad_norm': 0.024360334500670433, 'learning_rate': 4.931046028840573e-05, 'epoch': 0.22}\n",
      "{'loss': 0.0267, 'grad_norm': 0.02924850583076477, 'learning_rate': 4.928813786329747e-05, 'epoch': 0.23}\n",
      "{'loss': 0.0275, 'grad_norm': 0.04532516747713089, 'learning_rate': 4.9265815438189205e-05, 'epoch': 0.24}\n",
      "{'loss': 0.0275, 'grad_norm': 0.023215720430016518, 'learning_rate': 4.9243493013080945e-05, 'epoch': 0.24}\n",
      "{'loss': 0.027, 'grad_norm': 0.039018213748931885, 'learning_rate': 4.9221170587972684e-05, 'epoch': 0.25}\n",
      "{'loss': 0.0273, 'grad_norm': 0.02429213747382164, 'learning_rate': 4.919884816286441e-05, 'epoch': 0.26}\n",
      "{'loss': 0.0265, 'grad_norm': 0.021776817739009857, 'learning_rate': 4.917652573775615e-05, 'epoch': 0.26}\n",
      "{'loss': 0.0282, 'grad_norm': 0.03422433137893677, 'learning_rate': 4.915420331264789e-05, 'epoch': 0.27}\n",
      "{'loss': 0.0271, 'grad_norm': 0.027375323697924614, 'learning_rate': 4.913188088753962e-05, 'epoch': 0.28}\n",
      "{'loss': 0.0263, 'grad_norm': 0.029885880649089813, 'learning_rate': 4.910955846243136e-05, 'epoch': 0.29}\n",
      "{'loss': 0.0271, 'grad_norm': 0.022046135738492012, 'learning_rate': 4.9087236037323096e-05, 'epoch': 0.29}\n",
      "{'loss': 0.0257, 'grad_norm': 0.04248017445206642, 'learning_rate': 4.9064913612214835e-05, 'epoch': 0.3}\n",
      "{'loss': 0.0267, 'grad_norm': 0.030520576983690262, 'learning_rate': 4.904259118710657e-05, 'epoch': 0.31}\n",
      "{'loss': 0.026, 'grad_norm': 0.01671900600194931, 'learning_rate': 4.902026876199831e-05, 'epoch': 0.31}\n",
      "{'loss': 0.0262, 'grad_norm': 0.03185344487428665, 'learning_rate': 4.899794633689004e-05, 'epoch': 0.32}\n",
      "{'loss': 0.0267, 'grad_norm': 0.02806304208934307, 'learning_rate': 4.8975623911781774e-05, 'epoch': 0.33}\n",
      "{'loss': 0.027, 'grad_norm': 0.02468813769519329, 'learning_rate': 4.8953301486673514e-05, 'epoch': 0.34}\n",
      "{'loss': 0.0276, 'grad_norm': 0.019910557195544243, 'learning_rate': 4.8930979061565254e-05, 'epoch': 0.34}\n",
      "{'loss': 0.0271, 'grad_norm': 0.03393545001745224, 'learning_rate': 4.890865663645699e-05, 'epoch': 0.35}\n",
      "{'loss': 0.0272, 'grad_norm': 0.025791320949792862, 'learning_rate': 4.888633421134872e-05, 'epoch': 0.36}\n",
      "{'loss': 0.0273, 'grad_norm': 0.046417396515607834, 'learning_rate': 4.886401178624046e-05, 'epoch': 0.36}\n",
      "{'loss': 0.0263, 'grad_norm': 0.0199428703635931, 'learning_rate': 4.88416893611322e-05, 'epoch': 0.37}\n",
      "{'loss': 0.0275, 'grad_norm': 0.030715035274624825, 'learning_rate': 4.881936693602393e-05, 'epoch': 0.38}\n",
      "{'loss': 0.0277, 'grad_norm': 0.03941163048148155, 'learning_rate': 4.8797044510915665e-05, 'epoch': 0.39}\n",
      "{'loss': 0.0262, 'grad_norm': 0.03457516059279442, 'learning_rate': 4.8774722085807405e-05, 'epoch': 0.39}\n",
      "{'loss': 0.0267, 'grad_norm': 0.034440524876117706, 'learning_rate': 4.875239966069914e-05, 'epoch': 0.4}\n",
      "{'loss': 0.0275, 'grad_norm': 0.045550305396318436, 'learning_rate': 4.873007723559088e-05, 'epoch': 0.41}\n",
      "{'loss': 0.0259, 'grad_norm': 0.02053368277847767, 'learning_rate': 4.870775481048262e-05, 'epoch': 0.41}\n",
      "{'loss': 0.0261, 'grad_norm': 0.030578045174479485, 'learning_rate': 4.868543238537435e-05, 'epoch': 0.42}\n",
      "{'loss': 0.0267, 'grad_norm': 0.02692996896803379, 'learning_rate': 4.866310996026608e-05, 'epoch': 0.43}\n",
      "{'loss': 0.0262, 'grad_norm': 0.03537961468100548, 'learning_rate': 4.864078753515782e-05, 'epoch': 0.44}\n",
      "{'loss': 0.0259, 'grad_norm': 0.029259657487273216, 'learning_rate': 4.861846511004956e-05, 'epoch': 0.44}\n",
      "{'loss': 0.0263, 'grad_norm': 0.030380791053175926, 'learning_rate': 4.8596142684941296e-05, 'epoch': 0.45}\n",
      "{'loss': 0.0265, 'grad_norm': 0.029865946620702744, 'learning_rate': 4.857382025983303e-05, 'epoch': 0.46}\n",
      "{'loss': 0.0261, 'grad_norm': 0.026855241507291794, 'learning_rate': 4.855149783472477e-05, 'epoch': 0.46}\n",
      "{'loss': 0.027, 'grad_norm': 0.024133436381816864, 'learning_rate': 4.85291754096165e-05, 'epoch': 0.47}\n",
      "{'loss': 0.0272, 'grad_norm': 0.027417995035648346, 'learning_rate': 4.850685298450824e-05, 'epoch': 0.48}\n",
      "{'loss': 0.0255, 'grad_norm': 0.04769037663936615, 'learning_rate': 4.8484530559399974e-05, 'epoch': 0.49}\n",
      "{'loss': 0.0259, 'grad_norm': 0.02604059688746929, 'learning_rate': 4.8462208134291714e-05, 'epoch': 0.49}\n",
      "{'loss': 0.0275, 'grad_norm': 0.03535323590040207, 'learning_rate': 4.843988570918345e-05, 'epoch': 0.5}\n",
      "{'loss': 0.0258, 'grad_norm': 0.024034256115555763, 'learning_rate': 4.841756328407519e-05, 'epoch': 0.51}\n",
      "{'loss': 0.0263, 'grad_norm': 0.03113151341676712, 'learning_rate': 4.839524085896692e-05, 'epoch': 0.51}\n",
      "{'loss': 0.0265, 'grad_norm': 0.025779880583286285, 'learning_rate': 4.837291843385865e-05, 'epoch': 0.52}\n",
      "{'loss': 0.0255, 'grad_norm': 0.029699454084038734, 'learning_rate': 4.835059600875039e-05, 'epoch': 0.53}\n",
      "{'loss': 0.026, 'grad_norm': 0.03049514815211296, 'learning_rate': 4.832827358364213e-05, 'epoch': 0.54}\n",
      "{'loss': 0.0252, 'grad_norm': 0.02266399748623371, 'learning_rate': 4.8305951158533865e-05, 'epoch': 0.54}\n",
      "{'loss': 0.027, 'grad_norm': 0.025223899632692337, 'learning_rate': 4.82836287334256e-05, 'epoch': 0.55}\n",
      "{'loss': 0.0273, 'grad_norm': 0.026240792125463486, 'learning_rate': 4.826130630831734e-05, 'epoch': 0.56}\n",
      "{'loss': 0.0252, 'grad_norm': 0.021189937368035316, 'learning_rate': 4.823898388320908e-05, 'epoch': 0.56}\n",
      "{'loss': 0.0254, 'grad_norm': 0.02670498937368393, 'learning_rate': 4.821666145810081e-05, 'epoch': 0.57}\n",
      "{'loss': 0.0251, 'grad_norm': 0.02346322312951088, 'learning_rate': 4.819433903299255e-05, 'epoch': 0.58}\n",
      "{'loss': 0.0254, 'grad_norm': 0.03315715864300728, 'learning_rate': 4.817201660788428e-05, 'epoch': 0.59}\n",
      "{'loss': 0.0242, 'grad_norm': 0.023113485425710678, 'learning_rate': 4.8149694182776016e-05, 'epoch': 0.59}\n",
      "{'loss': 0.025, 'grad_norm': 0.020689919590950012, 'learning_rate': 4.8127371757667756e-05, 'epoch': 0.6}\n",
      "{'loss': 0.0252, 'grad_norm': 0.021609976887702942, 'learning_rate': 4.8105049332559496e-05, 'epoch': 0.61}\n",
      "{'loss': 0.0251, 'grad_norm': 0.02833881601691246, 'learning_rate': 4.808272690745123e-05, 'epoch': 0.61}\n",
      "{'loss': 0.0235, 'grad_norm': 0.02369770221412182, 'learning_rate': 4.806040448234296e-05, 'epoch': 0.62}\n",
      "{'loss': 0.0242, 'grad_norm': 0.030201399698853493, 'learning_rate': 4.80380820572347e-05, 'epoch': 0.63}\n",
      "{'loss': 0.0251, 'grad_norm': 0.024456068873405457, 'learning_rate': 4.801575963212644e-05, 'epoch': 0.64}\n",
      "{'loss': 0.0252, 'grad_norm': 0.03695065155625343, 'learning_rate': 4.7993437207018174e-05, 'epoch': 0.64}\n",
      "{'loss': 0.0234, 'grad_norm': 0.03686503693461418, 'learning_rate': 4.797111478190991e-05, 'epoch': 0.65}\n",
      "{'loss': 0.0247, 'grad_norm': 0.02919684909284115, 'learning_rate': 4.794879235680165e-05, 'epoch': 0.66}\n",
      "{'loss': 0.0244, 'grad_norm': 0.026410188525915146, 'learning_rate': 4.792646993169338e-05, 'epoch': 0.66}\n",
      "{'loss': 0.0242, 'grad_norm': 0.03729778528213501, 'learning_rate': 4.790414750658512e-05, 'epoch': 0.67}\n",
      "{'loss': 0.0246, 'grad_norm': 0.032575663179159164, 'learning_rate': 4.788182508147685e-05, 'epoch': 0.68}\n",
      "{'loss': 0.0247, 'grad_norm': 0.027468835934996605, 'learning_rate': 4.7859502656368586e-05, 'epoch': 0.69}\n",
      "{'loss': 0.024, 'grad_norm': 0.025559501722455025, 'learning_rate': 4.7837180231260325e-05, 'epoch': 0.69}\n",
      "{'loss': 0.0239, 'grad_norm': 0.028737574815750122, 'learning_rate': 4.7814857806152065e-05, 'epoch': 0.7}\n",
      "{'loss': 0.0232, 'grad_norm': 0.0223369263112545, 'learning_rate': 4.77925353810438e-05, 'epoch': 0.71}\n",
      "{'loss': 0.0235, 'grad_norm': 0.032062094658613205, 'learning_rate': 4.777021295593553e-05, 'epoch': 0.71}\n",
      "{'loss': 0.0227, 'grad_norm': 0.022699201479554176, 'learning_rate': 4.774789053082727e-05, 'epoch': 0.72}\n",
      "{'loss': 0.0235, 'grad_norm': 0.029913149774074554, 'learning_rate': 4.772556810571901e-05, 'epoch': 0.73}\n",
      "{'loss': 0.0235, 'grad_norm': 0.013151191174983978, 'learning_rate': 4.7703245680610744e-05, 'epoch': 0.74}\n",
      "{'loss': 0.0235, 'grad_norm': 0.033980656415224075, 'learning_rate': 4.7680923255502477e-05, 'epoch': 0.74}\n",
      "{'loss': 0.0241, 'grad_norm': 0.027447111904621124, 'learning_rate': 4.7658600830394216e-05, 'epoch': 0.75}\n",
      "{'loss': 0.0232, 'grad_norm': 0.04109125956892967, 'learning_rate': 4.763627840528595e-05, 'epoch': 0.76}\n",
      "{'loss': 0.0228, 'grad_norm': 0.027050834149122238, 'learning_rate': 4.761395598017769e-05, 'epoch': 0.76}\n",
      "{'loss': 0.023, 'grad_norm': 0.033503998070955276, 'learning_rate': 4.759163355506943e-05, 'epoch': 0.77}\n",
      "{'loss': 0.0232, 'grad_norm': 0.024588171392679214, 'learning_rate': 4.756931112996116e-05, 'epoch': 0.78}\n",
      "{'loss': 0.023, 'grad_norm': 0.02390364743769169, 'learning_rate': 4.7546988704852895e-05, 'epoch': 0.79}\n",
      "{'loss': 0.0224, 'grad_norm': 0.024624589830636978, 'learning_rate': 4.7524666279744634e-05, 'epoch': 0.79}\n",
      "{'loss': 0.0226, 'grad_norm': 0.03175462782382965, 'learning_rate': 4.7502343854636374e-05, 'epoch': 0.8}\n",
      "{'loss': 0.023, 'grad_norm': 0.02599894441664219, 'learning_rate': 4.748002142952811e-05, 'epoch': 0.81}\n",
      "{'loss': 0.0231, 'grad_norm': 0.030405664816498756, 'learning_rate': 4.745769900441984e-05, 'epoch': 0.81}\n",
      "{'loss': 0.0219, 'grad_norm': 0.04581082984805107, 'learning_rate': 4.743537657931158e-05, 'epoch': 0.82}\n",
      "{'loss': 0.0227, 'grad_norm': 0.03682791441679001, 'learning_rate': 4.741305415420331e-05, 'epoch': 0.83}\n",
      "{'loss': 0.0217, 'grad_norm': 0.03219226747751236, 'learning_rate': 4.739073172909505e-05, 'epoch': 0.84}\n",
      "{'loss': 0.0225, 'grad_norm': 0.05898747965693474, 'learning_rate': 4.7368409303986786e-05, 'epoch': 0.84}\n",
      "{'loss': 0.0215, 'grad_norm': 0.032220423221588135, 'learning_rate': 4.7346086878878525e-05, 'epoch': 0.85}\n",
      "{'loss': 0.0223, 'grad_norm': 0.01696178689599037, 'learning_rate': 4.732376445377026e-05, 'epoch': 0.86}\n",
      "{'loss': 0.0222, 'grad_norm': 0.024806387722492218, 'learning_rate': 4.7301442028662e-05, 'epoch': 0.86}\n",
      "{'loss': 0.0212, 'grad_norm': 0.02119515836238861, 'learning_rate': 4.727911960355373e-05, 'epoch': 0.87}\n",
      "{'loss': 0.0216, 'grad_norm': 0.02375533990561962, 'learning_rate': 4.7256797178445464e-05, 'epoch': 0.88}\n",
      "{'loss': 0.0225, 'grad_norm': 0.028304068371653557, 'learning_rate': 4.7234474753337204e-05, 'epoch': 0.89}\n",
      "{'loss': 0.0235, 'grad_norm': 0.037375956773757935, 'learning_rate': 4.7212152328228944e-05, 'epoch': 0.89}\n",
      "{'loss': 0.0219, 'grad_norm': 0.04003993049263954, 'learning_rate': 4.7189829903120677e-05, 'epoch': 0.9}\n",
      "{'loss': 0.0216, 'grad_norm': 0.03175235539674759, 'learning_rate': 4.716750747801241e-05, 'epoch': 0.91}\n",
      "{'loss': 0.022, 'grad_norm': 0.02170923724770546, 'learning_rate': 4.714518505290415e-05, 'epoch': 0.91}\n",
      "{'loss': 0.0218, 'grad_norm': 0.04175201430916786, 'learning_rate': 4.712286262779589e-05, 'epoch': 0.92}\n",
      "{'loss': 0.0222, 'grad_norm': 0.031866129487752914, 'learning_rate': 4.710054020268762e-05, 'epoch': 0.93}\n",
      "{'loss': 0.0216, 'grad_norm': 0.032951001077890396, 'learning_rate': 4.707821777757936e-05, 'epoch': 0.94}\n",
      "{'loss': 0.0208, 'grad_norm': 0.028841795399785042, 'learning_rate': 4.7055895352471095e-05, 'epoch': 0.94}\n",
      "{'loss': 0.021, 'grad_norm': 0.027171505615115166, 'learning_rate': 4.703357292736283e-05, 'epoch': 0.95}\n",
      "{'loss': 0.0212, 'grad_norm': 0.04780816286802292, 'learning_rate': 4.701125050225457e-05, 'epoch': 0.96}\n",
      "{'loss': 0.0201, 'grad_norm': 0.030654707923531532, 'learning_rate': 4.698892807714631e-05, 'epoch': 0.96}\n",
      "{'loss': 0.0214, 'grad_norm': 0.03418657183647156, 'learning_rate': 4.696660565203804e-05, 'epoch': 0.97}\n",
      "{'loss': 0.0206, 'grad_norm': 0.027861231938004494, 'learning_rate': 4.694428322692977e-05, 'epoch': 0.98}\n",
      "{'loss': 0.0201, 'grad_norm': 0.022199207916855812, 'learning_rate': 4.692196080182151e-05, 'epoch': 0.99}\n",
      "{'loss': 0.021, 'grad_norm': 0.028981786221265793, 'learning_rate': 4.689963837671325e-05, 'epoch': 0.99}\n",
      "{'loss': 0.0213, 'grad_norm': 0.0289132259786129, 'learning_rate': 4.6877315951604986e-05, 'epoch': 1.0}\n"
     ]
    },
    {
     "data": {
      "application/vnd.jupyter.widget-view+json": {
       "model_id": "8cf04e6850a440b6b8668d876165917e",
       "version_major": 2,
       "version_minor": 0
      },
      "text/plain": [
       "  0%|          | 0/3479 [00:00<?, ?it/s]"
      ]
     },
     "metadata": {},
     "output_type": "display_data"
    },
    {
     "name": "stdout",
     "output_type": "stream",
     "text": [
      "{'eval_loss': 0.019793890416622162, 'eval_accuracy_micro_0.5': 0.994438886642456, 'eval_accuracy_macro_0.5': 0.994438886642456, 'eval_accuracy_weighted_0.5': 0.9861226081848145, 'eval_f1_micro_0.5': 0.0029331273399293423, 'eval_f1_macro_0.5': 0.0003950408427044749, 'eval_f1_weighted_0.5': 0.0027701621875166893, 'eval_f1_micro_0.6': 0.0, 'eval_f1_macro_0.6': 0.0, 'eval_f1_weighted_0.6': 0.0, 'eval_f1_micro_0.7': 0.0, 'eval_f1_macro_0.7': 0.0, 'eval_f1_weighted_0.7': 0.0, 'eval_f1_micro_0.8': 0.0, 'eval_f1_macro_0.8': 0.0, 'eval_f1_weighted_0.8': 0.0, 'eval_f1_micro_0.9': 0.0, 'eval_aucroc_micro': 0.5261768698692322, 'eval_aucroc_macro': 0.5047476887702942, 'eval_aucroc_weighted': 0.5247170925140381, 'eval_runtime': 1643.6013, 'eval_samples_per_second': 33.865, 'eval_steps_per_second': 2.117, 'epoch': 1.0}\n",
      "{'loss': 0.0207, 'grad_norm': 0.04136098921298981, 'learning_rate': 4.685499352649672e-05, 'epoch': 1.01}\n",
      "{'loss': 0.0202, 'grad_norm': 0.02903877943754196, 'learning_rate': 4.683267110138846e-05, 'epoch': 1.01}\n",
      "{'loss': 0.0206, 'grad_norm': 0.029950272291898727, 'learning_rate': 4.681034867628019e-05, 'epoch': 1.02}\n",
      "{'loss': 0.0203, 'grad_norm': 0.028095684945583344, 'learning_rate': 4.678802625117193e-05, 'epoch': 1.03}\n",
      "{'loss': 0.0207, 'grad_norm': 0.031708139926195145, 'learning_rate': 4.6765703826063664e-05, 'epoch': 1.04}\n",
      "{'loss': 0.0202, 'grad_norm': 0.029373032972216606, 'learning_rate': 4.67433814009554e-05, 'epoch': 1.04}\n",
      "{'loss': 0.0195, 'grad_norm': 0.03554202616214752, 'learning_rate': 4.672105897584714e-05, 'epoch': 1.05}\n",
      "{'loss': 0.0194, 'grad_norm': 0.04682086408138275, 'learning_rate': 4.669873655073888e-05, 'epoch': 1.06}\n",
      "{'loss': 0.0199, 'grad_norm': 0.04648143798112869, 'learning_rate': 4.6676414125630616e-05, 'epoch': 1.06}\n",
      "{'loss': 0.0196, 'grad_norm': 0.02383849211037159, 'learning_rate': 4.665409170052234e-05, 'epoch': 1.07}\n",
      "{'loss': 0.0193, 'grad_norm': 0.023834697902202606, 'learning_rate': 4.663176927541408e-05, 'epoch': 1.08}\n",
      "{'loss': 0.0189, 'grad_norm': 0.045687705278396606, 'learning_rate': 4.660944685030582e-05, 'epoch': 1.09}\n",
      "{'loss': 0.0194, 'grad_norm': 0.029350630939006805, 'learning_rate': 4.6587124425197555e-05, 'epoch': 1.09}\n",
      "{'loss': 0.0193, 'grad_norm': 0.03021790273487568, 'learning_rate': 4.6564802000089295e-05, 'epoch': 1.1}\n",
      "{'loss': 0.0193, 'grad_norm': 0.02990206703543663, 'learning_rate': 4.654247957498103e-05, 'epoch': 1.11}\n",
      "{'loss': 0.0189, 'grad_norm': 0.03254776448011398, 'learning_rate': 4.652015714987276e-05, 'epoch': 1.11}\n",
      "{'loss': 0.0197, 'grad_norm': 0.02791288122534752, 'learning_rate': 4.64978347247645e-05, 'epoch': 1.12}\n",
      "{'loss': 0.0193, 'grad_norm': 0.039803847670555115, 'learning_rate': 4.647551229965624e-05, 'epoch': 1.13}\n",
      "{'loss': 0.019, 'grad_norm': 0.04083804041147232, 'learning_rate': 4.645318987454797e-05, 'epoch': 1.14}\n",
      "{'loss': 0.0192, 'grad_norm': 0.03570646792650223, 'learning_rate': 4.6430867449439706e-05, 'epoch': 1.14}\n",
      "{'loss': 0.0186, 'grad_norm': 0.022438054904341698, 'learning_rate': 4.6408545024331446e-05, 'epoch': 1.15}\n",
      "{'loss': 0.0191, 'grad_norm': 0.045136526226997375, 'learning_rate': 4.6386222599223186e-05, 'epoch': 1.16}\n",
      "{'loss': 0.0191, 'grad_norm': 0.02853778935968876, 'learning_rate': 4.636390017411492e-05, 'epoch': 1.16}\n",
      "{'loss': 0.0186, 'grad_norm': 0.0407513864338398, 'learning_rate': 4.634157774900665e-05, 'epoch': 1.17}\n",
      "{'loss': 0.0186, 'grad_norm': 0.02108011767268181, 'learning_rate': 4.631925532389839e-05, 'epoch': 1.18}\n",
      "{'loss': 0.0185, 'grad_norm': 0.027674375101923943, 'learning_rate': 4.6296932898790124e-05, 'epoch': 1.19}\n",
      "{'loss': 0.0191, 'grad_norm': 0.03996315971016884, 'learning_rate': 4.6274610473681864e-05, 'epoch': 1.19}\n",
      "{'loss': 0.0187, 'grad_norm': 0.01955433003604412, 'learning_rate': 4.62522880485736e-05, 'epoch': 1.2}\n",
      "{'loss': 0.0181, 'grad_norm': 0.030778901651501656, 'learning_rate': 4.622996562346534e-05, 'epoch': 1.21}\n",
      "{'loss': 0.0187, 'grad_norm': 0.03833434358239174, 'learning_rate': 4.620786642260815e-05, 'epoch': 1.21}\n",
      "{'loss': 0.0188, 'grad_norm': 0.028645159676671028, 'learning_rate': 4.618554399749989e-05, 'epoch': 1.22}\n",
      "{'loss': 0.0192, 'grad_norm': 0.03709527850151062, 'learning_rate': 4.616322157239163e-05, 'epoch': 1.23}\n",
      "{'loss': 0.0189, 'grad_norm': 0.03830958530306816, 'learning_rate': 4.6140899147283364e-05, 'epoch': 1.24}\n",
      "{'loss': 0.0188, 'grad_norm': 0.03486025333404541, 'learning_rate': 4.61185767221751e-05, 'epoch': 1.24}\n",
      "{'loss': 0.0185, 'grad_norm': 0.02024720050394535, 'learning_rate': 4.609625429706684e-05, 'epoch': 1.25}\n",
      "{'loss': 0.0182, 'grad_norm': 0.027007732540369034, 'learning_rate': 4.607393187195857e-05, 'epoch': 1.26}\n",
      "{'loss': 0.0188, 'grad_norm': 0.036638759076595306, 'learning_rate': 4.605160944685031e-05, 'epoch': 1.26}\n",
      "{'loss': 0.0188, 'grad_norm': 0.02529323846101761, 'learning_rate': 4.602928702174204e-05, 'epoch': 1.27}\n",
      "{'loss': 0.0183, 'grad_norm': 0.033379994332790375, 'learning_rate': 4.6006964596633775e-05, 'epoch': 1.28}\n",
      "{'loss': 0.0181, 'grad_norm': 0.0306431632488966, 'learning_rate': 4.5984642171525515e-05, 'epoch': 1.29}\n",
      "{'loss': 0.0183, 'grad_norm': 0.02725827693939209, 'learning_rate': 4.5962319746417255e-05, 'epoch': 1.29}\n",
      "{'loss': 0.0176, 'grad_norm': 0.033683955669403076, 'learning_rate': 4.5939997321308995e-05, 'epoch': 1.3}\n",
      "{'loss': 0.0179, 'grad_norm': 0.027274176478385925, 'learning_rate': 4.591767489620072e-05, 'epoch': 1.31}\n",
      "{'loss': 0.018, 'grad_norm': 0.06052585691213608, 'learning_rate': 4.589535247109246e-05, 'epoch': 1.31}\n",
      "{'loss': 0.0196, 'grad_norm': 0.03143398463726044, 'learning_rate': 4.58730300459842e-05, 'epoch': 1.32}\n",
      "{'loss': 0.0174, 'grad_norm': 0.023038357496261597, 'learning_rate': 4.5850707620875933e-05, 'epoch': 1.33}\n",
      "{'loss': 0.0175, 'grad_norm': 0.03130217269062996, 'learning_rate': 4.582838519576767e-05, 'epoch': 1.34}\n",
      "{'loss': 0.0177, 'grad_norm': 0.045274510979652405, 'learning_rate': 4.5806062770659406e-05, 'epoch': 1.34}\n",
      "{'loss': 0.0179, 'grad_norm': 0.04334189370274544, 'learning_rate': 4.578374034555114e-05, 'epoch': 1.35}\n",
      "{'loss': 0.0169, 'grad_norm': 0.04167957603931427, 'learning_rate': 4.576141792044288e-05, 'epoch': 1.36}\n",
      "{'loss': 0.0175, 'grad_norm': 0.030176851898431778, 'learning_rate': 4.573909549533462e-05, 'epoch': 1.36}\n",
      "{'loss': 0.0177, 'grad_norm': 0.026836255565285683, 'learning_rate': 4.571677307022635e-05, 'epoch': 1.37}\n",
      "{'loss': 0.0172, 'grad_norm': 0.03399652615189552, 'learning_rate': 4.5694450645118085e-05, 'epoch': 1.38}\n",
      "{'loss': 0.0175, 'grad_norm': 0.03490146994590759, 'learning_rate': 4.5672128220009824e-05, 'epoch': 1.39}\n",
      "{'loss': 0.0181, 'grad_norm': 0.06430427730083466, 'learning_rate': 4.5649805794901564e-05, 'epoch': 1.39}\n",
      "{'loss': 0.0164, 'grad_norm': 0.0429840162396431, 'learning_rate': 4.56274833697933e-05, 'epoch': 1.4}\n",
      "{'loss': 0.0166, 'grad_norm': 0.0327075757086277, 'learning_rate': 4.560516094468503e-05, 'epoch': 1.41}\n",
      "{'loss': 0.0168, 'grad_norm': 0.03928455337882042, 'learning_rate': 4.558306174382785e-05, 'epoch': 1.41}\n",
      "{'loss': 0.0176, 'grad_norm': 0.0331370048224926, 'learning_rate': 4.5560739318719585e-05, 'epoch': 1.42}\n",
      "{'loss': 0.0166, 'grad_norm': 0.039636652916669846, 'learning_rate': 4.5538416893611324e-05, 'epoch': 1.43}\n",
      "{'loss': 0.0166, 'grad_norm': 0.04604649916291237, 'learning_rate': 4.5516094468503064e-05, 'epoch': 1.44}\n",
      "{'loss': 0.017, 'grad_norm': 0.03722432255744934, 'learning_rate': 4.54937720433948e-05, 'epoch': 1.44}\n",
      "{'loss': 0.0177, 'grad_norm': 0.04113861918449402, 'learning_rate': 4.547144961828653e-05, 'epoch': 1.45}\n",
      "{'loss': 0.0166, 'grad_norm': 0.04381920024752617, 'learning_rate': 4.544912719317827e-05, 'epoch': 1.46}\n",
      "{'loss': 0.0165, 'grad_norm': 0.02883145771920681, 'learning_rate': 4.542680476807e-05, 'epoch': 1.46}\n",
      "{'loss': 0.0173, 'grad_norm': 0.05275774747133255, 'learning_rate': 4.540448234296174e-05, 'epoch': 1.47}\n",
      "{'loss': 0.0169, 'grad_norm': 0.03834118694067001, 'learning_rate': 4.5382159917853475e-05, 'epoch': 1.48}\n",
      "{'loss': 0.0174, 'grad_norm': 0.05125429853796959, 'learning_rate': 4.5359837492745215e-05, 'epoch': 1.49}\n",
      "{'loss': 0.0176, 'grad_norm': 0.05913223326206207, 'learning_rate': 4.533751506763695e-05, 'epoch': 1.49}\n",
      "{'loss': 0.0172, 'grad_norm': 0.03874148800969124, 'learning_rate': 4.531519264252869e-05, 'epoch': 1.5}\n",
      "{'loss': 0.0167, 'grad_norm': 0.026971684768795967, 'learning_rate': 4.529287021742043e-05, 'epoch': 1.51}\n",
      "{'loss': 0.0175, 'grad_norm': 0.021771080791950226, 'learning_rate': 4.5270547792312154e-05, 'epoch': 1.51}\n",
      "{'loss': 0.0172, 'grad_norm': 0.04420606419444084, 'learning_rate': 4.5248225367203894e-05, 'epoch': 1.52}\n",
      "{'loss': 0.0173, 'grad_norm': 0.026817278936505318, 'learning_rate': 4.5225902942095633e-05, 'epoch': 1.53}\n",
      "{'loss': 0.0165, 'grad_norm': 0.026948006823658943, 'learning_rate': 4.5203580516987366e-05, 'epoch': 1.54}\n",
      "{'loss': 0.017, 'grad_norm': 0.044285792857408524, 'learning_rate': 4.5181258091879106e-05, 'epoch': 1.54}\n",
      "{'loss': 0.0163, 'grad_norm': 0.03722170740365982, 'learning_rate': 4.515893566677084e-05, 'epoch': 1.55}\n",
      "{'loss': 0.0167, 'grad_norm': 0.047906700521707535, 'learning_rate': 4.513661324166258e-05, 'epoch': 1.56}\n",
      "{'loss': 0.0168, 'grad_norm': 0.04164455831050873, 'learning_rate': 4.511429081655431e-05, 'epoch': 1.56}\n",
      "{'loss': 0.0169, 'grad_norm': 0.05187218636274338, 'learning_rate': 4.509196839144605e-05, 'epoch': 1.57}\n",
      "{'loss': 0.017, 'grad_norm': 0.03727659210562706, 'learning_rate': 4.506986919058887e-05, 'epoch': 1.58}\n",
      "{'loss': 0.0165, 'grad_norm': 0.032156117260456085, 'learning_rate': 4.5047546765480606e-05, 'epoch': 1.59}\n",
      "{'loss': 0.0166, 'grad_norm': 0.06475818902254105, 'learning_rate': 4.502522434037234e-05, 'epoch': 1.59}\n",
      "{'loss': 0.0165, 'grad_norm': 0.047035038471221924, 'learning_rate': 4.500290191526408e-05, 'epoch': 1.6}\n",
      "{'loss': 0.0165, 'grad_norm': 0.03567754104733467, 'learning_rate': 4.498057949015581e-05, 'epoch': 1.61}\n",
      "{'loss': 0.0165, 'grad_norm': 0.031050030142068863, 'learning_rate': 4.495825706504755e-05, 'epoch': 1.61}\n",
      "{'loss': 0.0162, 'grad_norm': 0.03575721010565758, 'learning_rate': 4.4935934639939284e-05, 'epoch': 1.62}\n",
      "{'loss': 0.0168, 'grad_norm': 0.05309052765369415, 'learning_rate': 4.491361221483102e-05, 'epoch': 1.63}\n",
      "{'loss': 0.0168, 'grad_norm': 0.030468616634607315, 'learning_rate': 4.489151301397384e-05, 'epoch': 1.64}\n",
      "{'loss': 0.0172, 'grad_norm': 0.0228595994412899, 'learning_rate': 4.486919058886558e-05, 'epoch': 1.64}\n",
      "{'loss': 0.016, 'grad_norm': 0.028347069397568703, 'learning_rate': 4.484686816375731e-05, 'epoch': 1.65}\n",
      "{'loss': 0.0158, 'grad_norm': 0.02608613297343254, 'learning_rate': 4.482454573864905e-05, 'epoch': 1.66}\n",
      "{'loss': 0.017, 'grad_norm': 0.0481627881526947, 'learning_rate': 4.4802223313540784e-05, 'epoch': 1.66}\n",
      "{'loss': 0.0164, 'grad_norm': 0.03988777846097946, 'learning_rate': 4.477990088843252e-05, 'epoch': 1.67}\n",
      "{'loss': 0.0166, 'grad_norm': 0.04742971435189247, 'learning_rate': 4.475757846332426e-05, 'epoch': 1.68}\n",
      "{'loss': 0.0161, 'grad_norm': 0.0475957952439785, 'learning_rate': 4.4735256038216e-05, 'epoch': 1.69}\n",
      "{'loss': 0.0163, 'grad_norm': 0.029757192358374596, 'learning_rate': 4.471293361310773e-05, 'epoch': 1.69}\n",
      "{'loss': 0.0165, 'grad_norm': 0.02813771739602089, 'learning_rate': 4.469061118799946e-05, 'epoch': 1.7}\n",
      "{'loss': 0.0167, 'grad_norm': 0.08501143008470535, 'learning_rate': 4.46682887628912e-05, 'epoch': 1.71}\n",
      "{'loss': 0.0159, 'grad_norm': 0.02495412714779377, 'learning_rate': 4.464596633778294e-05, 'epoch': 1.71}\n",
      "{'loss': 0.0162, 'grad_norm': 0.030670221894979477, 'learning_rate': 4.4623643912674675e-05, 'epoch': 1.72}\n",
      "{'loss': 0.0161, 'grad_norm': 0.03769773989915848, 'learning_rate': 4.460132148756641e-05, 'epoch': 1.73}\n",
      "{'loss': 0.016, 'grad_norm': 0.02877606824040413, 'learning_rate': 4.457899906245815e-05, 'epoch': 1.74}\n",
      "{'loss': 0.0167, 'grad_norm': 0.046976182609796524, 'learning_rate': 4.455667663734988e-05, 'epoch': 1.74}\n",
      "{'loss': 0.0163, 'grad_norm': 0.04439917206764221, 'learning_rate': 4.453435421224162e-05, 'epoch': 1.75}\n",
      "{'loss': 0.0163, 'grad_norm': 0.039211299270391464, 'learning_rate': 4.4512031787133354e-05, 'epoch': 1.76}\n",
      "{'loss': 0.0164, 'grad_norm': 0.022129548713564873, 'learning_rate': 4.4489709362025094e-05, 'epoch': 1.76}\n",
      "{'loss': 0.0159, 'grad_norm': 0.043532248586416245, 'learning_rate': 4.4467386936916826e-05, 'epoch': 1.77}\n",
      "{'loss': 0.0159, 'grad_norm': 0.03288566693663597, 'learning_rate': 4.4445064511808566e-05, 'epoch': 1.78}\n",
      "{'loss': 0.0167, 'grad_norm': 0.04323802888393402, 'learning_rate': 4.4422742086700306e-05, 'epoch': 1.79}\n",
      "{'loss': 0.0158, 'grad_norm': 0.04653993621468544, 'learning_rate': 4.440041966159203e-05, 'epoch': 1.79}\n",
      "{'loss': 0.016, 'grad_norm': 0.05960218980908394, 'learning_rate': 4.437809723648377e-05, 'epoch': 1.8}\n",
      "{'loss': 0.0157, 'grad_norm': 0.03567834571003914, 'learning_rate': 4.435577481137551e-05, 'epoch': 1.81}\n",
      "{'loss': 0.0159, 'grad_norm': 0.02551470883190632, 'learning_rate': 4.4333452386267245e-05, 'epoch': 1.81}\n",
      "{'loss': 0.0156, 'grad_norm': 0.04722078889608383, 'learning_rate': 4.4311129961158984e-05, 'epoch': 1.82}\n",
      "{'loss': 0.0161, 'grad_norm': 0.060043469071388245, 'learning_rate': 4.428880753605072e-05, 'epoch': 1.83}\n",
      "{'loss': 0.0153, 'grad_norm': 0.034429751336574554, 'learning_rate': 4.426648511094246e-05, 'epoch': 1.84}\n",
      "{'loss': 0.0163, 'grad_norm': 0.053488172590732574, 'learning_rate': 4.424416268583419e-05, 'epoch': 1.84}\n",
      "{'loss': 0.0156, 'grad_norm': 0.04079731926321983, 'learning_rate': 4.422184026072593e-05, 'epoch': 1.85}\n",
      "{'loss': 0.0163, 'grad_norm': 0.03934703767299652, 'learning_rate': 4.419951783561766e-05, 'epoch': 1.86}\n",
      "{'loss': 0.0161, 'grad_norm': 0.022093411535024643, 'learning_rate': 4.4177195410509396e-05, 'epoch': 1.86}\n",
      "{'loss': 0.0156, 'grad_norm': 0.02388922870159149, 'learning_rate': 4.415509620965222e-05, 'epoch': 1.87}\n",
      "{'loss': 0.0162, 'grad_norm': 0.05389350652694702, 'learning_rate': 4.413277378454396e-05, 'epoch': 1.88}\n",
      "{'loss': 0.0155, 'grad_norm': 0.01795266382396221, 'learning_rate': 4.411045135943569e-05, 'epoch': 1.89}\n",
      "{'loss': 0.0159, 'grad_norm': 0.051332779228687286, 'learning_rate': 4.408812893432743e-05, 'epoch': 1.89}\n",
      "{'loss': 0.0156, 'grad_norm': 0.02785213105380535, 'learning_rate': 4.406580650921916e-05, 'epoch': 1.9}\n",
      "{'loss': 0.0155, 'grad_norm': 0.046127550303936005, 'learning_rate': 4.4043484084110896e-05, 'epoch': 1.91}\n",
      "{'loss': 0.0159, 'grad_norm': 0.03773438557982445, 'learning_rate': 4.4021161659002636e-05, 'epoch': 1.91}\n",
      "{'loss': 0.0156, 'grad_norm': 0.06653792411088943, 'learning_rate': 4.3998839233894375e-05, 'epoch': 1.92}\n",
      "{'loss': 0.0155, 'grad_norm': 0.03960467502474785, 'learning_rate': 4.397651680878611e-05, 'epoch': 1.93}\n",
      "{'loss': 0.0151, 'grad_norm': 0.054015517234802246, 'learning_rate': 4.395419438367784e-05, 'epoch': 1.94}\n",
      "{'loss': 0.016, 'grad_norm': 0.03914637118577957, 'learning_rate': 4.393187195856958e-05, 'epoch': 1.94}\n",
      "{'loss': 0.0156, 'grad_norm': 0.038562286645174026, 'learning_rate': 4.390954953346132e-05, 'epoch': 1.95}\n",
      "{'loss': 0.0163, 'grad_norm': 0.05449500307440758, 'learning_rate': 4.3887227108353054e-05, 'epoch': 1.96}\n",
      "{'loss': 0.0153, 'grad_norm': 0.03760354220867157, 'learning_rate': 4.386490468324479e-05, 'epoch': 1.96}\n",
      "{'loss': 0.0152, 'grad_norm': 0.04123988747596741, 'learning_rate': 4.3842582258136526e-05, 'epoch': 1.97}\n",
      "{'loss': 0.0148, 'grad_norm': 0.04255542531609535, 'learning_rate': 4.382025983302826e-05, 'epoch': 1.98}\n",
      "{'loss': 0.0154, 'grad_norm': 0.03539782017469406, 'learning_rate': 4.379793740792e-05, 'epoch': 1.99}\n",
      "{'loss': 0.0151, 'grad_norm': 0.04250387102365494, 'learning_rate': 4.377561498281174e-05, 'epoch': 1.99}\n",
      "{'loss': 0.0154, 'grad_norm': 0.03935936838388443, 'learning_rate': 4.375329255770347e-05, 'epoch': 2.0}\n"
     ]
    },
    {
     "data": {
      "application/vnd.jupyter.widget-view+json": {
       "model_id": "2183f1439abc413eb954af9734aecf1d",
       "version_major": 2,
       "version_minor": 0
      },
      "text/plain": [
       "  0%|          | 0/3479 [00:00<?, ?it/s]"
      ]
     },
     "metadata": {},
     "output_type": "display_data"
    },
    {
     "name": "stdout",
     "output_type": "stream",
     "text": [
      "{'eval_loss': 0.014405583031475544, 'eval_accuracy_micro_0.5': 0.9947404265403748, 'eval_accuracy_macro_0.5': 0.99474036693573, 'eval_accuracy_weighted_0.5': 0.9876335859298706, 'eval_f1_micro_0.5': 0.17791831493377686, 'eval_f1_macro_0.5': 0.040291689336299896, 'eval_f1_weighted_0.5': 0.13191719353199005, 'eval_f1_micro_0.6': 0.09646974503993988, 'eval_f1_macro_0.6': 0.020279645919799805, 'eval_f1_weighted_0.6': 0.0731695145368576, 'eval_f1_micro_0.7': 0.043015703558921814, 'eval_f1_macro_0.7': 0.008956175297498703, 'eval_f1_weighted_0.7': 0.03296487405896187, 'eval_f1_micro_0.8': 0.008201003074645996, 'eval_f1_macro_0.8': 0.00013517950719688088, 'eval_f1_weighted_0.8': 0.00018059872672893107, 'eval_f1_micro_0.9': 0.00018363546405453235, 'eval_aucroc_micro': 0.665296733379364, 'eval_aucroc_macro': 0.5781784653663635, 'eval_aucroc_weighted': 0.662520170211792, 'eval_runtime': 1121.9891, 'eval_samples_per_second': 49.608, 'eval_steps_per_second': 3.101, 'epoch': 2.0}\n",
      "{'loss': 0.0152, 'grad_norm': 0.039690565317869186, 'learning_rate': 4.3730970132595205e-05, 'epoch': 2.01}\n",
      "{'loss': 0.0157, 'grad_norm': 0.04411392658948898, 'learning_rate': 4.3708647707486945e-05, 'epoch': 2.01}\n",
      "{'loss': 0.0147, 'grad_norm': 0.0755084678530693, 'learning_rate': 4.3686325282378684e-05, 'epoch': 2.02}\n",
      "{'loss': 0.0151, 'grad_norm': 0.033820293843746185, 'learning_rate': 4.366400285727042e-05, 'epoch': 2.03}\n",
      "{'loss': 0.0155, 'grad_norm': 0.04078976437449455, 'learning_rate': 4.364190365641324e-05, 'epoch': 2.04}\n",
      "{'loss': 0.015, 'grad_norm': 0.041814036667346954, 'learning_rate': 4.361958123130497e-05, 'epoch': 2.04}\n",
      "{'loss': 0.0153, 'grad_norm': 0.05010516569018364, 'learning_rate': 4.3597258806196705e-05, 'epoch': 2.05}\n",
      "{'loss': 0.0151, 'grad_norm': 0.0576028898358345, 'learning_rate': 4.3574936381088445e-05, 'epoch': 2.06}\n",
      "{'loss': 0.0153, 'grad_norm': 0.05152872949838638, 'learning_rate': 4.3552837180231266e-05, 'epoch': 2.06}\n",
      "{'loss': 0.0152, 'grad_norm': 0.021348828449845314, 'learning_rate': 4.3530514755123e-05, 'epoch': 2.07}\n",
      "{'loss': 0.0152, 'grad_norm': 0.029370484873652458, 'learning_rate': 4.350819233001474e-05, 'epoch': 2.08}\n",
      "{'loss': 0.0147, 'grad_norm': 0.05190824717283249, 'learning_rate': 4.348586990490647e-05, 'epoch': 2.09}\n",
      "{'loss': 0.0152, 'grad_norm': 0.02790650725364685, 'learning_rate': 4.3463547479798205e-05, 'epoch': 2.09}\n",
      "{'loss': 0.0151, 'grad_norm': 0.04944820702075958, 'learning_rate': 4.3441225054689944e-05, 'epoch': 2.1}\n",
      "{'loss': 0.0147, 'grad_norm': 0.04076116159558296, 'learning_rate': 4.3418902629581684e-05, 'epoch': 2.11}\n",
      "{'loss': 0.015, 'grad_norm': 0.04727829992771149, 'learning_rate': 4.339658020447341e-05, 'epoch': 2.11}\n",
      "{'loss': 0.015, 'grad_norm': 0.03518953174352646, 'learning_rate': 4.337425777936515e-05, 'epoch': 2.12}\n",
      "{'loss': 0.0146, 'grad_norm': 0.04023304209113121, 'learning_rate': 4.335193535425689e-05, 'epoch': 2.13}\n",
      "{'loss': 0.0147, 'grad_norm': 0.08054026961326599, 'learning_rate': 4.332961292914863e-05, 'epoch': 2.14}\n",
      "{'loss': 0.0149, 'grad_norm': 0.06207241490483284, 'learning_rate': 4.330729050404036e-05, 'epoch': 2.14}\n",
      "{'loss': 0.0149, 'grad_norm': 0.030846955254673958, 'learning_rate': 4.3284968078932096e-05, 'epoch': 2.15}\n",
      "{'loss': 0.0154, 'grad_norm': 0.0399072989821434, 'learning_rate': 4.3262645653823835e-05, 'epoch': 2.16}\n",
      "{'loss': 0.0148, 'grad_norm': 0.039884068071842194, 'learning_rate': 4.324032322871557e-05, 'epoch': 2.16}\n",
      "{'loss': 0.0144, 'grad_norm': 0.024100961163640022, 'learning_rate': 4.321800080360731e-05, 'epoch': 2.17}\n",
      "{'loss': 0.0151, 'grad_norm': 0.024900496006011963, 'learning_rate': 4.319567837849904e-05, 'epoch': 2.18}\n",
      "{'loss': 0.0144, 'grad_norm': 0.021412143483757973, 'learning_rate': 4.3173355953390774e-05, 'epoch': 2.19}\n",
      "{'loss': 0.0149, 'grad_norm': 0.032190464437007904, 'learning_rate': 4.3151033528282514e-05, 'epoch': 2.19}\n",
      "{'loss': 0.015, 'grad_norm': 0.05375220626592636, 'learning_rate': 4.3128711103174254e-05, 'epoch': 2.2}\n",
      "{'loss': 0.0154, 'grad_norm': 0.05392954871058464, 'learning_rate': 4.3106388678065987e-05, 'epoch': 2.21}\n",
      "{'loss': 0.0146, 'grad_norm': 0.03429795801639557, 'learning_rate': 4.308406625295772e-05, 'epoch': 2.21}\n",
      "{'loss': 0.0147, 'grad_norm': 0.047614142298698425, 'learning_rate': 4.306174382784946e-05, 'epoch': 2.22}\n",
      "{'loss': 0.0151, 'grad_norm': 0.04995381087064743, 'learning_rate': 4.30394214027412e-05, 'epoch': 2.23}\n",
      "{'loss': 0.014, 'grad_norm': 0.05153076723217964, 'learning_rate': 4.301709897763293e-05, 'epoch': 2.24}\n",
      "{'loss': 0.0149, 'grad_norm': 0.03163749352097511, 'learning_rate': 4.2994776552524665e-05, 'epoch': 2.24}\n",
      "{'loss': 0.0141, 'grad_norm': 0.03475430980324745, 'learning_rate': 4.2972454127416405e-05, 'epoch': 2.25}\n",
      "{'loss': 0.015, 'grad_norm': 0.05764740705490112, 'learning_rate': 4.295013170230814e-05, 'epoch': 2.26}\n",
      "{'loss': 0.0146, 'grad_norm': 0.03432638943195343, 'learning_rate': 4.292780927719988e-05, 'epoch': 2.26}\n",
      "{'loss': 0.0153, 'grad_norm': 0.03464532271027565, 'learning_rate': 4.290548685209162e-05, 'epoch': 2.27}\n",
      "{'loss': 0.0145, 'grad_norm': 0.05214696377515793, 'learning_rate': 4.288316442698335e-05, 'epoch': 2.28}\n",
      "{'loss': 0.0144, 'grad_norm': 0.04222268611192703, 'learning_rate': 4.286084200187508e-05, 'epoch': 2.29}\n",
      "{'loss': 0.0148, 'grad_norm': 0.033819153904914856, 'learning_rate': 4.283851957676682e-05, 'epoch': 2.29}\n",
      "{'loss': 0.0141, 'grad_norm': 0.026691578328609467, 'learning_rate': 4.281619715165856e-05, 'epoch': 2.3}\n",
      "{'loss': 0.014, 'grad_norm': 0.0290925782173872, 'learning_rate': 4.2793874726550296e-05, 'epoch': 2.31}\n",
      "{'loss': 0.0152, 'grad_norm': 0.029637161642313004, 'learning_rate': 4.277155230144203e-05, 'epoch': 2.31}\n",
      "{'loss': 0.0148, 'grad_norm': 0.03949674963951111, 'learning_rate': 4.274922987633377e-05, 'epoch': 2.32}\n",
      "{'loss': 0.0149, 'grad_norm': 0.05870037153363228, 'learning_rate': 4.27269074512255e-05, 'epoch': 2.33}\n",
      "{'loss': 0.0141, 'grad_norm': 0.055410731583833694, 'learning_rate': 4.270458502611724e-05, 'epoch': 2.34}\n",
      "{'loss': 0.0143, 'grad_norm': 0.03860722482204437, 'learning_rate': 4.2682262601008974e-05, 'epoch': 2.34}\n",
      "{'loss': 0.0149, 'grad_norm': 0.02722226083278656, 'learning_rate': 4.2659940175900714e-05, 'epoch': 2.35}\n",
      "{'loss': 0.0146, 'grad_norm': 0.019716069102287292, 'learning_rate': 4.263761775079245e-05, 'epoch': 2.36}\n",
      "{'loss': 0.0143, 'grad_norm': 0.05098045989871025, 'learning_rate': 4.2615295325684187e-05, 'epoch': 2.36}\n",
      "{'loss': 0.0142, 'grad_norm': 0.05201835185289383, 'learning_rate': 4.259297290057592e-05, 'epoch': 2.37}\n",
      "{'loss': 0.0149, 'grad_norm': 0.04568302258849144, 'learning_rate': 4.257065047546765e-05, 'epoch': 2.38}\n",
      "{'loss': 0.0142, 'grad_norm': 0.03759656846523285, 'learning_rate': 4.254832805035939e-05, 'epoch': 2.39}\n",
      "{'loss': 0.0144, 'grad_norm': 0.028227673843503, 'learning_rate': 4.252600562525113e-05, 'epoch': 2.39}\n",
      "{'loss': 0.0142, 'grad_norm': 0.05416497588157654, 'learning_rate': 4.2503683200142865e-05, 'epoch': 2.4}\n",
      "{'loss': 0.0138, 'grad_norm': 0.03024769201874733, 'learning_rate': 4.24813607750346e-05, 'epoch': 2.41}\n",
      "{'loss': 0.0139, 'grad_norm': 0.03750491514801979, 'learning_rate': 4.245903834992634e-05, 'epoch': 2.41}\n",
      "{'loss': 0.0139, 'grad_norm': 0.04892353713512421, 'learning_rate': 4.243671592481808e-05, 'epoch': 2.42}\n",
      "{'loss': 0.0144, 'grad_norm': 0.04201994836330414, 'learning_rate': 4.241439349970981e-05, 'epoch': 2.43}\n",
      "{'loss': 0.0142, 'grad_norm': 0.04308382421731949, 'learning_rate': 4.239207107460155e-05, 'epoch': 2.44}\n",
      "{'loss': 0.0143, 'grad_norm': 0.02872117981314659, 'learning_rate': 4.236974864949328e-05, 'epoch': 2.44}\n",
      "{'loss': 0.0138, 'grad_norm': 0.06124724820256233, 'learning_rate': 4.2347426224385016e-05, 'epoch': 2.45}\n",
      "{'loss': 0.0146, 'grad_norm': 0.026827877387404442, 'learning_rate': 4.2325103799276756e-05, 'epoch': 2.46}\n",
      "{'loss': 0.0149, 'grad_norm': 0.043375901877880096, 'learning_rate': 4.2302781374168496e-05, 'epoch': 2.46}\n",
      "{'loss': 0.0135, 'grad_norm': 0.05081229284405708, 'learning_rate': 4.228045894906023e-05, 'epoch': 2.47}\n",
      "{'loss': 0.0136, 'grad_norm': 0.061593081802129745, 'learning_rate': 4.225813652395196e-05, 'epoch': 2.48}\n",
      "{'loss': 0.0139, 'grad_norm': 0.031633052974939346, 'learning_rate': 4.22358140988437e-05, 'epoch': 2.49}\n",
      "{'loss': 0.0145, 'grad_norm': 0.036050181835889816, 'learning_rate': 4.2213714897986516e-05, 'epoch': 2.49}\n",
      "{'loss': 0.0142, 'grad_norm': 0.04727581515908241, 'learning_rate': 4.2191392472878256e-05, 'epoch': 2.5}\n",
      "{'loss': 0.0137, 'grad_norm': 0.05146230012178421, 'learning_rate': 4.2169070047769996e-05, 'epoch': 2.51}\n",
      "{'loss': 0.0141, 'grad_norm': 0.025003522634506226, 'learning_rate': 4.214674762266173e-05, 'epoch': 2.51}\n",
      "{'loss': 0.014, 'grad_norm': 0.04022742807865143, 'learning_rate': 4.212442519755346e-05, 'epoch': 2.52}\n",
      "{'loss': 0.0141, 'grad_norm': 0.04345707967877388, 'learning_rate': 4.21021027724452e-05, 'epoch': 2.53}\n",
      "{'loss': 0.0135, 'grad_norm': 0.07344506680965424, 'learning_rate': 4.207978034733694e-05, 'epoch': 2.54}\n",
      "{'loss': 0.013, 'grad_norm': 0.030000384896993637, 'learning_rate': 4.2057457922228674e-05, 'epoch': 2.54}\n",
      "{'loss': 0.0141, 'grad_norm': 0.03489425405859947, 'learning_rate': 4.203513549712041e-05, 'epoch': 2.55}\n",
      "{'loss': 0.0134, 'grad_norm': 0.03221480920910835, 'learning_rate': 4.201281307201215e-05, 'epoch': 2.56}\n",
      "{'loss': 0.0133, 'grad_norm': 0.029717009514570236, 'learning_rate': 4.199049064690388e-05, 'epoch': 2.56}\n",
      "{'loss': 0.0139, 'grad_norm': 0.06540761888027191, 'learning_rate': 4.196816822179562e-05, 'epoch': 2.57}\n",
      "{'loss': 0.014, 'grad_norm': 0.027170205488801003, 'learning_rate': 4.194584579668735e-05, 'epoch': 2.58}\n",
      "{'loss': 0.0137, 'grad_norm': 0.036068983376026154, 'learning_rate': 4.1923523371579085e-05, 'epoch': 2.59}\n",
      "{'loss': 0.0142, 'grad_norm': 0.05155971646308899, 'learning_rate': 4.1901200946470825e-05, 'epoch': 2.59}\n",
      "{'loss': 0.014, 'grad_norm': 0.03835510089993477, 'learning_rate': 4.1878878521362565e-05, 'epoch': 2.6}\n",
      "{'loss': 0.014, 'grad_norm': 0.03653512895107269, 'learning_rate': 4.18565560962543e-05, 'epoch': 2.61}\n",
      "{'loss': 0.0138, 'grad_norm': 0.030487630516290665, 'learning_rate': 4.183423367114603e-05, 'epoch': 2.61}\n",
      "{'loss': 0.0142, 'grad_norm': 0.03478378430008888, 'learning_rate': 4.181191124603777e-05, 'epoch': 2.62}\n",
      "{'loss': 0.0137, 'grad_norm': 0.04942040517926216, 'learning_rate': 4.178958882092951e-05, 'epoch': 2.63}\n",
      "{'loss': 0.0136, 'grad_norm': 0.029193270951509476, 'learning_rate': 4.1767489620072325e-05, 'epoch': 2.64}\n",
      "{'loss': 0.0141, 'grad_norm': 0.038528356701135635, 'learning_rate': 4.1745167194964065e-05, 'epoch': 2.64}\n",
      "{'loss': 0.0146, 'grad_norm': 0.04627469554543495, 'learning_rate': 4.17228447698558e-05, 'epoch': 2.65}\n",
      "{'loss': 0.014, 'grad_norm': 0.04186122491955757, 'learning_rate': 4.170052234474753e-05, 'epoch': 2.66}\n",
      "{'loss': 0.0136, 'grad_norm': 0.052479568868875504, 'learning_rate': 4.167819991963927e-05, 'epoch': 2.66}\n",
      "{'loss': 0.0135, 'grad_norm': 0.07665054500102997, 'learning_rate': 4.165587749453101e-05, 'epoch': 2.67}\n",
      "{'loss': 0.0138, 'grad_norm': 0.03300550952553749, 'learning_rate': 4.163355506942274e-05, 'epoch': 2.68}\n",
      "{'loss': 0.0142, 'grad_norm': 0.03058873862028122, 'learning_rate': 4.1611232644314476e-05, 'epoch': 2.69}\n",
      "{'loss': 0.0142, 'grad_norm': 0.043767817318439484, 'learning_rate': 4.1588910219206216e-05, 'epoch': 2.69}\n",
      "{'loss': 0.0137, 'grad_norm': 0.023965954780578613, 'learning_rate': 4.1566587794097956e-05, 'epoch': 2.7}\n",
      "{'loss': 0.0134, 'grad_norm': 0.043711669743061066, 'learning_rate': 4.154426536898969e-05, 'epoch': 2.71}\n",
      "{'loss': 0.0143, 'grad_norm': 0.06087435036897659, 'learning_rate': 4.152194294388143e-05, 'epoch': 2.71}\n",
      "{'loss': 0.0145, 'grad_norm': 0.05002887174487114, 'learning_rate': 4.149962051877316e-05, 'epoch': 2.72}\n",
      "{'loss': 0.014, 'grad_norm': 0.052767783403396606, 'learning_rate': 4.1477298093664894e-05, 'epoch': 2.73}\n",
      "{'loss': 0.0135, 'grad_norm': 0.03903902322053909, 'learning_rate': 4.1454975668556634e-05, 'epoch': 2.74}\n",
      "{'loss': 0.014, 'grad_norm': 0.05960960313677788, 'learning_rate': 4.1432653243448374e-05, 'epoch': 2.74}\n",
      "{'loss': 0.0137, 'grad_norm': 0.06801178306341171, 'learning_rate': 4.141033081834011e-05, 'epoch': 2.75}\n",
      "{'loss': 0.0135, 'grad_norm': 0.04596883803606033, 'learning_rate': 4.138800839323184e-05, 'epoch': 2.76}\n",
      "{'loss': 0.0139, 'grad_norm': 0.06264857947826385, 'learning_rate': 4.136568596812358e-05, 'epoch': 2.76}\n",
      "{'loss': 0.0136, 'grad_norm': 0.03653455525636673, 'learning_rate': 4.134336354301532e-05, 'epoch': 2.77}\n",
      "{'loss': 0.0138, 'grad_norm': 0.051082585006952286, 'learning_rate': 4.1321264342158134e-05, 'epoch': 2.78}\n",
      "{'loss': 0.0132, 'grad_norm': 0.04472467675805092, 'learning_rate': 4.1298941917049874e-05, 'epoch': 2.79}\n",
      "{'loss': 0.0128, 'grad_norm': 0.04118606820702553, 'learning_rate': 4.127661949194161e-05, 'epoch': 2.79}\n",
      "{'loss': 0.0143, 'grad_norm': 0.031716711819171906, 'learning_rate': 4.125429706683334e-05, 'epoch': 2.8}\n",
      "{'loss': 0.0135, 'grad_norm': 0.05793028697371483, 'learning_rate': 4.123197464172508e-05, 'epoch': 2.81}\n",
      "{'loss': 0.0138, 'grad_norm': 0.05285964533686638, 'learning_rate': 4.120965221661682e-05, 'epoch': 2.81}\n",
      "{'loss': 0.014, 'grad_norm': 0.031184494495391846, 'learning_rate': 4.118732979150855e-05, 'epoch': 2.82}\n",
      "{'loss': 0.0135, 'grad_norm': 0.04436878114938736, 'learning_rate': 4.1165007366400285e-05, 'epoch': 2.83}\n",
      "{'loss': 0.0131, 'grad_norm': 0.053369782865047455, 'learning_rate': 4.114290816554311e-05, 'epoch': 2.84}\n",
      "{'loss': 0.0133, 'grad_norm': 0.0347609668970108, 'learning_rate': 4.112058574043484e-05, 'epoch': 2.84}\n",
      "{'loss': 0.0133, 'grad_norm': 0.07497909665107727, 'learning_rate': 4.109826331532658e-05, 'epoch': 2.85}\n",
      "{'loss': 0.0138, 'grad_norm': 0.05385100468993187, 'learning_rate': 4.107594089021832e-05, 'epoch': 2.86}\n",
      "{'loss': 0.0138, 'grad_norm': 0.052726421505212784, 'learning_rate': 4.105361846511005e-05, 'epoch': 2.86}\n",
      "{'loss': 0.0138, 'grad_norm': 0.05779241770505905, 'learning_rate': 4.1031296040001785e-05, 'epoch': 2.87}\n",
      "{'loss': 0.0138, 'grad_norm': 0.03639700263738632, 'learning_rate': 4.1008973614893525e-05, 'epoch': 2.88}\n",
      "{'loss': 0.0135, 'grad_norm': 0.03493081033229828, 'learning_rate': 4.098665118978526e-05, 'epoch': 2.89}\n",
      "{'loss': 0.0136, 'grad_norm': 0.04502181336283684, 'learning_rate': 4.0964328764677e-05, 'epoch': 2.89}\n",
      "{'loss': 0.0138, 'grad_norm': 0.0628785789012909, 'learning_rate': 4.094200633956873e-05, 'epoch': 2.9}\n",
      "{'loss': 0.0141, 'grad_norm': 0.037634238600730896, 'learning_rate': 4.091968391446047e-05, 'epoch': 2.91}\n",
      "{'loss': 0.013, 'grad_norm': 0.0507592037320137, 'learning_rate': 4.0897361489352203e-05, 'epoch': 2.91}\n",
      "{'loss': 0.0137, 'grad_norm': 0.029346756637096405, 'learning_rate': 4.087503906424394e-05, 'epoch': 2.92}\n",
      "{'loss': 0.0137, 'grad_norm': 0.031795550137758255, 'learning_rate': 4.085271663913568e-05, 'epoch': 2.93}\n",
      "{'loss': 0.0128, 'grad_norm': 0.034419946372509, 'learning_rate': 4.083039421402741e-05, 'epoch': 2.94}\n",
      "{'loss': 0.0127, 'grad_norm': 0.03902334347367287, 'learning_rate': 4.080807178891915e-05, 'epoch': 2.94}\n",
      "{'loss': 0.0135, 'grad_norm': 0.04134967550635338, 'learning_rate': 4.078574936381089e-05, 'epoch': 2.95}\n",
      "{'loss': 0.0137, 'grad_norm': 0.03147464618086815, 'learning_rate': 4.076342693870262e-05, 'epoch': 2.96}\n",
      "{'loss': 0.0131, 'grad_norm': 0.045825790613889694, 'learning_rate': 4.074110451359436e-05, 'epoch': 2.96}\n",
      "{'loss': 0.0129, 'grad_norm': 0.053334709256887436, 'learning_rate': 4.0718782088486094e-05, 'epoch': 2.97}\n",
      "{'loss': 0.0132, 'grad_norm': 0.05083148181438446, 'learning_rate': 4.0696459663377834e-05, 'epoch': 2.98}\n",
      "{'loss': 0.0132, 'grad_norm': 0.037807874381542206, 'learning_rate': 4.067413723826957e-05, 'epoch': 2.99}\n",
      "{'loss': 0.0136, 'grad_norm': 0.044587742537260056, 'learning_rate': 4.065181481316131e-05, 'epoch': 2.99}\n",
      "{'loss': 0.0132, 'grad_norm': 0.03184977173805237, 'learning_rate': 4.062949238805304e-05, 'epoch': 3.0}\n"
     ]
    },
    {
     "data": {
      "application/vnd.jupyter.widget-view+json": {
       "model_id": "8f3add9b567048c6a78d02e93c5de20d",
       "version_major": 2,
       "version_minor": 0
      },
      "text/plain": [
       "  0%|          | 0/3479 [00:00<?, ?it/s]"
      ]
     },
     "metadata": {},
     "output_type": "display_data"
    },
    {
     "name": "stdout",
     "output_type": "stream",
     "text": [
      "{'eval_loss': 0.01236058957874775, 'eval_accuracy_micro_0.5': 0.9952186346054077, 'eval_accuracy_macro_0.5': 0.9952186346054077, 'eval_accuracy_weighted_0.5': 0.9893274307250977, 'eval_f1_micro_0.5': 0.33838629722595215, 'eval_f1_macro_0.5': 0.13423705101013184, 'eval_f1_weighted_0.5': 0.2715573012828827, 'eval_f1_micro_0.6': 0.24228869378566742, 'eval_f1_macro_0.6': 0.08335359394550323, 'eval_f1_weighted_0.6': 0.19169878959655762, 'eval_f1_micro_0.7': 0.14775030314922333, 'eval_f1_macro_0.7': 0.04395066201686859, 'eval_f1_weighted_0.7': 0.1137770414352417, 'eval_f1_micro_0.8': 0.07378782331943512, 'eval_f1_macro_0.8': 0.004006538074463606, 'eval_f1_weighted_0.8': 0.009659980423748493, 'eval_f1_micro_0.9': 0.01087892334908247, 'eval_aucroc_micro': 0.7406877279281616, 'eval_aucroc_macro': 0.6562350988388062, 'eval_aucroc_weighted': 0.7385455369949341, 'eval_runtime': 1647.7959, 'eval_samples_per_second': 33.778, 'eval_steps_per_second': 2.111, 'epoch': 3.0}\n",
      "{'loss': 0.0135, 'grad_norm': 0.03116948902606964, 'learning_rate': 4.060716996294477e-05, 'epoch': 3.01}\n",
      "{'loss': 0.0131, 'grad_norm': 0.045181769877672195, 'learning_rate': 4.058484753783651e-05, 'epoch': 3.01}\n",
      "{'loss': 0.0137, 'grad_norm': 0.036392003297805786, 'learning_rate': 4.056252511272825e-05, 'epoch': 3.02}\n",
      "{'loss': 0.0128, 'grad_norm': 0.04251347482204437, 'learning_rate': 4.0540202687619985e-05, 'epoch': 3.03}\n",
      "{'loss': 0.0133, 'grad_norm': 0.055246733129024506, 'learning_rate': 4.051788026251172e-05, 'epoch': 3.04}\n",
      "{'loss': 0.0127, 'grad_norm': 0.04407167807221413, 'learning_rate': 4.049555783740346e-05, 'epoch': 3.04}\n",
      "{'loss': 0.013, 'grad_norm': 0.043944910168647766, 'learning_rate': 4.04732354122952e-05, 'epoch': 3.05}\n",
      "{'loss': 0.0127, 'grad_norm': 0.03983543440699577, 'learning_rate': 4.045091298718693e-05, 'epoch': 3.06}\n",
      "{'loss': 0.0129, 'grad_norm': 0.04058734327554703, 'learning_rate': 4.0428590562078664e-05, 'epoch': 3.06}\n",
      "{'loss': 0.0129, 'grad_norm': 0.048655733466148376, 'learning_rate': 4.0406491361221485e-05, 'epoch': 3.07}\n",
      "{'loss': 0.0132, 'grad_norm': 0.021943693980574608, 'learning_rate': 4.038416893611322e-05, 'epoch': 3.08}\n",
      "{'loss': 0.0132, 'grad_norm': 0.0525190494954586, 'learning_rate': 4.036184651100496e-05, 'epoch': 3.09}\n",
      "{'loss': 0.013, 'grad_norm': 0.03668621554970741, 'learning_rate': 4.03395240858967e-05, 'epoch': 3.09}\n",
      "{'loss': 0.0127, 'grad_norm': 0.038383178412914276, 'learning_rate': 4.031720166078843e-05, 'epoch': 3.1}\n",
      "{'loss': 0.0132, 'grad_norm': 0.048794880509376526, 'learning_rate': 4.0294879235680164e-05, 'epoch': 3.11}\n",
      "{'loss': 0.0132, 'grad_norm': 0.042071521282196045, 'learning_rate': 4.02725568105719e-05, 'epoch': 3.11}\n",
      "{'loss': 0.0131, 'grad_norm': 0.038321562111377716, 'learning_rate': 4.0250234385463636e-05, 'epoch': 3.12}\n",
      "{'loss': 0.0132, 'grad_norm': 0.017768509685993195, 'learning_rate': 4.0227911960355376e-05, 'epoch': 3.13}\n",
      "{'loss': 0.0129, 'grad_norm': 0.049584683030843735, 'learning_rate': 4.020558953524711e-05, 'epoch': 3.14}\n",
      "{'loss': 0.0137, 'grad_norm': 0.046228066086769104, 'learning_rate': 4.018326711013884e-05, 'epoch': 3.14}\n",
      "{'loss': 0.0134, 'grad_norm': 0.048091646283864975, 'learning_rate': 4.016094468503058e-05, 'epoch': 3.15}\n",
      "{'loss': 0.0128, 'grad_norm': 0.050198569893836975, 'learning_rate': 4.013862225992232e-05, 'epoch': 3.16}\n",
      "{'loss': 0.0129, 'grad_norm': 0.04926435649394989, 'learning_rate': 4.011629983481406e-05, 'epoch': 3.16}\n",
      "{'loss': 0.0132, 'grad_norm': 0.036901701241731644, 'learning_rate': 4.009397740970579e-05, 'epoch': 3.17}\n",
      "{'loss': 0.0129, 'grad_norm': 0.03931121155619621, 'learning_rate': 4.007165498459753e-05, 'epoch': 3.18}\n",
      "{'loss': 0.013, 'grad_norm': 0.035367075353860855, 'learning_rate': 4.004933255948927e-05, 'epoch': 3.19}\n",
      "{'loss': 0.0137, 'grad_norm': 0.06174905598163605, 'learning_rate': 4.0027010134381e-05, 'epoch': 3.19}\n",
      "{'loss': 0.0136, 'grad_norm': 0.05514338240027428, 'learning_rate': 4.000468770927274e-05, 'epoch': 3.2}\n",
      "{'loss': 0.0135, 'grad_norm': 0.042616162449121475, 'learning_rate': 3.998236528416447e-05, 'epoch': 3.21}\n",
      "{'loss': 0.0136, 'grad_norm': 0.03946598619222641, 'learning_rate': 3.9960042859056206e-05, 'epoch': 3.21}\n",
      "{'loss': 0.0128, 'grad_norm': 0.0425809770822525, 'learning_rate': 3.9937720433947945e-05, 'epoch': 3.22}\n",
      "{'loss': 0.0129, 'grad_norm': 0.04404092952609062, 'learning_rate': 3.9915398008839685e-05, 'epoch': 3.23}\n",
      "{'loss': 0.0123, 'grad_norm': 0.04431992396712303, 'learning_rate': 3.989307558373142e-05, 'epoch': 3.24}\n",
      "{'loss': 0.0125, 'grad_norm': 0.0509476512670517, 'learning_rate': 3.987075315862315e-05, 'epoch': 3.24}\n",
      "{'loss': 0.0124, 'grad_norm': 0.04192586615681648, 'learning_rate': 3.984865395776597e-05, 'epoch': 3.25}\n",
      "{'loss': 0.0128, 'grad_norm': 0.05729369446635246, 'learning_rate': 3.982633153265771e-05, 'epoch': 3.26}\n",
      "{'loss': 0.0126, 'grad_norm': 0.05971501022577286, 'learning_rate': 3.9804009107549445e-05, 'epoch': 3.26}\n",
      "{'loss': 0.013, 'grad_norm': 0.07843057811260223, 'learning_rate': 3.9781686682441185e-05, 'epoch': 3.27}\n",
      "{'loss': 0.013, 'grad_norm': 0.054014939814805984, 'learning_rate': 3.975936425733292e-05, 'epoch': 3.28}\n",
      "{'loss': 0.0127, 'grad_norm': 0.04057487100362778, 'learning_rate': 3.973704183222465e-05, 'epoch': 3.29}\n",
      "{'loss': 0.0122, 'grad_norm': 0.037408120930194855, 'learning_rate': 3.971471940711639e-05, 'epoch': 3.29}\n",
      "{'loss': 0.0129, 'grad_norm': 0.05404903367161751, 'learning_rate': 3.969239698200813e-05, 'epoch': 3.3}\n",
      "{'loss': 0.0128, 'grad_norm': 0.07340243458747864, 'learning_rate': 3.9670074556899864e-05, 'epoch': 3.31}\n",
      "{'loss': 0.0128, 'grad_norm': 0.06096037104725838, 'learning_rate': 3.9647752131791597e-05, 'epoch': 3.31}\n",
      "{'loss': 0.0127, 'grad_norm': 0.04837079718708992, 'learning_rate': 3.9625429706683336e-05, 'epoch': 3.32}\n",
      "{'loss': 0.0126, 'grad_norm': 0.030417948961257935, 'learning_rate': 3.9603107281575076e-05, 'epoch': 3.33}\n",
      "{'loss': 0.0129, 'grad_norm': 0.05209924653172493, 'learning_rate': 3.958078485646681e-05, 'epoch': 3.34}\n",
      "{'loss': 0.0129, 'grad_norm': 0.048015620559453964, 'learning_rate': 3.955846243135854e-05, 'epoch': 3.34}\n",
      "{'loss': 0.0138, 'grad_norm': 0.05453793704509735, 'learning_rate': 3.953614000625028e-05, 'epoch': 3.35}\n",
      "{'loss': 0.012, 'grad_norm': 0.05094333738088608, 'learning_rate': 3.9513817581142015e-05, 'epoch': 3.36}\n",
      "{'loss': 0.0128, 'grad_norm': 0.04566989839076996, 'learning_rate': 3.9491495156033754e-05, 'epoch': 3.36}\n",
      "{'loss': 0.0132, 'grad_norm': 0.03532234951853752, 'learning_rate': 3.9469172730925494e-05, 'epoch': 3.37}\n",
      "{'loss': 0.0127, 'grad_norm': 0.027660205960273743, 'learning_rate': 3.944685030581722e-05, 'epoch': 3.38}\n",
      "{'loss': 0.0127, 'grad_norm': 0.052339620888233185, 'learning_rate': 3.942452788070896e-05, 'epoch': 3.39}\n",
      "{'loss': 0.0126, 'grad_norm': 0.04084014147520065, 'learning_rate': 3.94022054556007e-05, 'epoch': 3.39}\n",
      "{'loss': 0.0124, 'grad_norm': 0.038975995033979416, 'learning_rate': 3.937988303049244e-05, 'epoch': 3.4}\n",
      "{'loss': 0.0129, 'grad_norm': 0.0454743467271328, 'learning_rate': 3.935756060538417e-05, 'epoch': 3.41}\n",
      "{'loss': 0.0121, 'grad_norm': 0.0530623160302639, 'learning_rate': 3.9335238180275906e-05, 'epoch': 3.41}\n",
      "{'loss': 0.013, 'grad_norm': 0.04620453715324402, 'learning_rate': 3.9312915755167645e-05, 'epoch': 3.42}\n",
      "{'loss': 0.0127, 'grad_norm': 0.03271793574094772, 'learning_rate': 3.929059333005938e-05, 'epoch': 3.43}\n",
      "{'loss': 0.0128, 'grad_norm': 0.04168904572725296, 'learning_rate': 3.926827090495112e-05, 'epoch': 3.44}\n",
      "{'loss': 0.0124, 'grad_norm': 0.053685180842876434, 'learning_rate': 3.924594847984285e-05, 'epoch': 3.44}\n",
      "{'loss': 0.013, 'grad_norm': 0.050666600465774536, 'learning_rate': 3.9223626054734584e-05, 'epoch': 3.45}\n",
      "{'loss': 0.0129, 'grad_norm': 0.05148162692785263, 'learning_rate': 3.9201303629626324e-05, 'epoch': 3.46}\n",
      "{'loss': 0.0122, 'grad_norm': 0.031008156016469002, 'learning_rate': 3.9178981204518064e-05, 'epoch': 3.46}\n",
      "{'loss': 0.0127, 'grad_norm': 0.03391909599304199, 'learning_rate': 3.9156658779409797e-05, 'epoch': 3.47}\n",
      "{'loss': 0.0124, 'grad_norm': 0.058893706649541855, 'learning_rate': 3.913433635430153e-05, 'epoch': 3.48}\n",
      "{'loss': 0.0122, 'grad_norm': 0.031615450978279114, 'learning_rate': 3.911201392919327e-05, 'epoch': 3.49}\n",
      "{'loss': 0.0119, 'grad_norm': 0.03980396315455437, 'learning_rate': 3.908969150408501e-05, 'epoch': 3.49}\n",
      "{'loss': 0.0124, 'grad_norm': 0.056669626384973526, 'learning_rate': 3.906736907897674e-05, 'epoch': 3.5}\n",
      "{'loss': 0.013, 'grad_norm': 0.05658785626292229, 'learning_rate': 3.9045046653868475e-05, 'epoch': 3.51}\n",
      "{'loss': 0.0122, 'grad_norm': 0.03249996900558472, 'learning_rate': 3.9022724228760215e-05, 'epoch': 3.51}\n",
      "{'loss': 0.0128, 'grad_norm': 0.0324394628405571, 'learning_rate': 3.900040180365195e-05, 'epoch': 3.52}\n",
      "{'loss': 0.0126, 'grad_norm': 0.040309470146894455, 'learning_rate': 3.897807937854369e-05, 'epoch': 3.53}\n",
      "{'loss': 0.0116, 'grad_norm': 0.09049564599990845, 'learning_rate': 3.895598017768651e-05, 'epoch': 3.54}\n",
      "{'loss': 0.0125, 'grad_norm': 0.03825521469116211, 'learning_rate': 3.893365775257824e-05, 'epoch': 3.54}\n",
      "{'loss': 0.0125, 'grad_norm': 0.0828198492527008, 'learning_rate': 3.8911335327469975e-05, 'epoch': 3.55}\n",
      "{'loss': 0.0124, 'grad_norm': 0.036092668771743774, 'learning_rate': 3.8889012902361715e-05, 'epoch': 3.56}\n",
      "{'loss': 0.0119, 'grad_norm': 0.034949615597724915, 'learning_rate': 3.886669047725345e-05, 'epoch': 3.56}\n",
      "{'loss': 0.0125, 'grad_norm': 0.03551908954977989, 'learning_rate': 3.884436805214519e-05, 'epoch': 3.57}\n",
      "{'loss': 0.012, 'grad_norm': 0.040558040142059326, 'learning_rate': 3.882204562703692e-05, 'epoch': 3.58}\n",
      "{'loss': 0.0131, 'grad_norm': 0.03228328377008438, 'learning_rate': 3.879972320192866e-05, 'epoch': 3.59}\n",
      "{'loss': 0.0127, 'grad_norm': 0.029816659167408943, 'learning_rate': 3.877740077682039e-05, 'epoch': 3.59}\n",
      "{'loss': 0.0125, 'grad_norm': 0.035961173474788666, 'learning_rate': 3.875507835171213e-05, 'epoch': 3.6}\n",
      "{'loss': 0.012, 'grad_norm': 0.06427427381277084, 'learning_rate': 3.873275592660387e-05, 'epoch': 3.61}\n",
      "{'loss': 0.0121, 'grad_norm': 0.054897014051675797, 'learning_rate': 3.87104335014956e-05, 'epoch': 3.61}\n",
      "{'loss': 0.0127, 'grad_norm': 0.06883427500724792, 'learning_rate': 3.868811107638734e-05, 'epoch': 3.62}\n",
      "{'loss': 0.0122, 'grad_norm': 0.06665045768022537, 'learning_rate': 3.866578865127908e-05, 'epoch': 3.63}\n",
      "{'loss': 0.013, 'grad_norm': 0.03398952633142471, 'learning_rate': 3.864346622617082e-05, 'epoch': 3.64}\n",
      "{'loss': 0.0129, 'grad_norm': 0.04203537479043007, 'learning_rate': 3.862114380106255e-05, 'epoch': 3.64}\n",
      "{'loss': 0.0119, 'grad_norm': 0.02925052121281624, 'learning_rate': 3.8598821375954284e-05, 'epoch': 3.65}\n",
      "{'loss': 0.0124, 'grad_norm': 0.039166539907455444, 'learning_rate': 3.8576498950846024e-05, 'epoch': 3.66}\n",
      "{'loss': 0.0121, 'grad_norm': 0.04463856294751167, 'learning_rate': 3.855417652573776e-05, 'epoch': 3.66}\n",
      "{'loss': 0.0123, 'grad_norm': 0.021148698404431343, 'learning_rate': 3.8531854100629497e-05, 'epoch': 3.67}\n",
      "{'loss': 0.012, 'grad_norm': 0.09267394244670868, 'learning_rate': 3.850975489977232e-05, 'epoch': 3.68}\n",
      "{'loss': 0.0127, 'grad_norm': 0.03399099037051201, 'learning_rate': 3.848743247466405e-05, 'epoch': 3.69}\n",
      "{'loss': 0.0124, 'grad_norm': 0.05986173823475838, 'learning_rate': 3.8465110049555784e-05, 'epoch': 3.69}\n",
      "{'loss': 0.0123, 'grad_norm': 0.049838460981845856, 'learning_rate': 3.8442787624447524e-05, 'epoch': 3.7}\n",
      "{'loss': 0.0116, 'grad_norm': 0.05013678967952728, 'learning_rate': 3.842046519933926e-05, 'epoch': 3.71}\n",
      "{'loss': 0.0125, 'grad_norm': 0.04494638741016388, 'learning_rate': 3.8398142774230996e-05, 'epoch': 3.71}\n",
      "{'loss': 0.012, 'grad_norm': 0.03142007440328598, 'learning_rate': 3.837582034912273e-05, 'epoch': 3.72}\n",
      "{'loss': 0.0123, 'grad_norm': 0.047559671103954315, 'learning_rate': 3.835349792401446e-05, 'epoch': 3.73}\n",
      "{'loss': 0.0119, 'grad_norm': 0.04470302537083626, 'learning_rate': 3.83311754989062e-05, 'epoch': 3.74}\n",
      "{'loss': 0.0125, 'grad_norm': 0.08027881383895874, 'learning_rate': 3.830885307379794e-05, 'epoch': 3.74}\n",
      "{'loss': 0.0122, 'grad_norm': 0.023855283856391907, 'learning_rate': 3.8286530648689675e-05, 'epoch': 3.75}\n",
      "{'loss': 0.0124, 'grad_norm': 0.04178599640727043, 'learning_rate': 3.826420822358141e-05, 'epoch': 3.76}\n",
      "{'loss': 0.0119, 'grad_norm': 0.03683983162045479, 'learning_rate': 3.824188579847315e-05, 'epoch': 3.76}\n",
      "{'loss': 0.012, 'grad_norm': 0.06130661442875862, 'learning_rate': 3.821956337336489e-05, 'epoch': 3.77}\n",
      "{'loss': 0.0122, 'grad_norm': 0.03966732323169708, 'learning_rate': 3.819724094825662e-05, 'epoch': 3.78}\n",
      "{'loss': 0.0129, 'grad_norm': 0.048925548791885376, 'learning_rate': 3.817491852314835e-05, 'epoch': 3.79}\n",
      "{'loss': 0.0125, 'grad_norm': 0.0437883697450161, 'learning_rate': 3.815259609804009e-05, 'epoch': 3.79}\n",
      "{'loss': 0.0122, 'grad_norm': 0.07023651897907257, 'learning_rate': 3.8130273672931826e-05, 'epoch': 3.8}\n",
      "{'loss': 0.0117, 'grad_norm': 0.02825665846467018, 'learning_rate': 3.8107951247823566e-05, 'epoch': 3.81}\n",
      "{'loss': 0.0127, 'grad_norm': 0.037104297429323196, 'learning_rate': 3.8085628822715306e-05, 'epoch': 3.81}\n",
      "{'loss': 0.0123, 'grad_norm': 0.06772515177726746, 'learning_rate': 3.806352962185812e-05, 'epoch': 3.82}\n",
      "{'loss': 0.0122, 'grad_norm': 0.08811335265636444, 'learning_rate': 3.804120719674985e-05, 'epoch': 3.83}\n",
      "{'loss': 0.0127, 'grad_norm': 0.051722828298807144, 'learning_rate': 3.801888477164159e-05, 'epoch': 3.84}\n",
      "{'loss': 0.0119, 'grad_norm': 0.057347092777490616, 'learning_rate': 3.7996562346533326e-05, 'epoch': 3.84}\n",
      "{'loss': 0.0123, 'grad_norm': 0.03283574804663658, 'learning_rate': 3.7974239921425066e-05, 'epoch': 3.85}\n",
      "{'loss': 0.0124, 'grad_norm': 0.04890413209795952, 'learning_rate': 3.7951917496316805e-05, 'epoch': 3.86}\n",
      "{'loss': 0.013, 'grad_norm': 0.0462152436375618, 'learning_rate': 3.792959507120854e-05, 'epoch': 3.86}\n",
      "{'loss': 0.012, 'grad_norm': 0.025935670360922813, 'learning_rate': 3.790727264610027e-05, 'epoch': 3.87}\n",
      "{'loss': 0.0126, 'grad_norm': 0.062262944877147675, 'learning_rate': 3.788495022099201e-05, 'epoch': 3.88}\n",
      "{'loss': 0.0117, 'grad_norm': 0.04353143274784088, 'learning_rate': 3.786262779588375e-05, 'epoch': 3.89}\n",
      "{'loss': 0.0123, 'grad_norm': 0.032536860555410385, 'learning_rate': 3.7840305370775484e-05, 'epoch': 3.89}\n",
      "{'loss': 0.0119, 'grad_norm': 0.06087467446923256, 'learning_rate': 3.781798294566722e-05, 'epoch': 3.9}\n",
      "{'loss': 0.012, 'grad_norm': 0.05659438297152519, 'learning_rate': 3.779566052055896e-05, 'epoch': 3.91}\n",
      "{'loss': 0.0119, 'grad_norm': 0.04962944984436035, 'learning_rate': 3.777333809545069e-05, 'epoch': 3.91}\n",
      "{'loss': 0.0118, 'grad_norm': 0.03242959827184677, 'learning_rate': 3.775101567034243e-05, 'epoch': 3.92}\n",
      "{'loss': 0.0125, 'grad_norm': 0.03820885717868805, 'learning_rate': 3.772869324523416e-05, 'epoch': 3.93}\n",
      "{'loss': 0.0124, 'grad_norm': 0.034125957638025284, 'learning_rate': 3.77063708201259e-05, 'epoch': 3.94}\n",
      "{'loss': 0.0122, 'grad_norm': 0.04728316888213158, 'learning_rate': 3.7684048395017635e-05, 'epoch': 3.94}\n",
      "{'loss': 0.0116, 'grad_norm': 0.036077678203582764, 'learning_rate': 3.7661725969909375e-05, 'epoch': 3.95}\n",
      "{'loss': 0.0132, 'grad_norm': 0.10166990756988525, 'learning_rate': 3.763940354480111e-05, 'epoch': 3.96}\n",
      "{'loss': 0.012, 'grad_norm': 0.05210423097014427, 'learning_rate': 3.761730434394393e-05, 'epoch': 3.96}\n",
      "{'loss': 0.0117, 'grad_norm': 0.04346543923020363, 'learning_rate': 3.759498191883566e-05, 'epoch': 3.97}\n",
      "{'loss': 0.0122, 'grad_norm': 0.04804451763629913, 'learning_rate': 3.7572882717978484e-05, 'epoch': 3.98}\n",
      "{'loss': 0.0117, 'grad_norm': 0.04739231616258621, 'learning_rate': 3.755056029287022e-05, 'epoch': 3.99}\n",
      "{'loss': 0.0125, 'grad_norm': 0.04636789485812187, 'learning_rate': 3.7528237867761956e-05, 'epoch': 3.99}\n",
      "{'loss': 0.0119, 'grad_norm': 0.05375364422798157, 'learning_rate': 3.7505915442653696e-05, 'epoch': 4.0}\n"
     ]
    },
    {
     "data": {
      "application/vnd.jupyter.widget-view+json": {
       "model_id": "fcc647531cab47fcac3bd4ef6ffd9497",
       "version_major": 2,
       "version_minor": 0
      },
      "text/plain": [
       "  0%|          | 0/3479 [00:00<?, ?it/s]"
      ]
     },
     "metadata": {},
     "output_type": "display_data"
    },
    {
     "name": "stdout",
     "output_type": "stream",
     "text": [
      "{'eval_loss': 0.011114534921944141, 'eval_accuracy_micro_0.5': 0.9956125617027283, 'eval_accuracy_macro_0.5': 0.995612621307373, 'eval_accuracy_weighted_0.5': 0.9902154803276062, 'eval_f1_micro_0.5': 0.44703608751296997, 'eval_f1_macro_0.5': 0.26110801100730896, 'eval_f1_weighted_0.5': 0.379418283700943, 'eval_f1_micro_0.6': 0.3622482120990753, 'eval_f1_macro_0.6': 0.1929141879081726, 'eval_f1_weighted_0.6': 0.29815781116485596, 'eval_f1_micro_0.7': 0.25908321142196655, 'eval_f1_macro_0.7': 0.12648768723011017, 'eval_f1_weighted_0.7': 0.20687967538833618, 'eval_f1_micro_0.8': 0.1562241017818451, 'eval_f1_macro_0.8': 0.02194124646484852, 'eval_f1_weighted_0.8': 0.04421104118227959, 'eval_f1_micro_0.9': 0.05463840067386627, 'eval_aucroc_micro': 0.7816949486732483, 'eval_aucroc_macro': 0.7193641066551208, 'eval_aucroc_weighted': 0.7799115777015686, 'eval_runtime': 1864.876, 'eval_samples_per_second': 29.846, 'eval_steps_per_second': 1.866, 'epoch': 4.0}\n",
      "{'loss': 0.0119, 'grad_norm': 0.03410392999649048, 'learning_rate': 3.748359301754543e-05, 'epoch': 4.01}\n",
      "{'loss': 0.0119, 'grad_norm': 0.032413363456726074, 'learning_rate': 3.746127059243716e-05, 'epoch': 4.01}\n",
      "{'loss': 0.0116, 'grad_norm': 0.051638808101415634, 'learning_rate': 3.74389481673289e-05, 'epoch': 4.02}\n",
      "{'loss': 0.0115, 'grad_norm': 0.057608090341091156, 'learning_rate': 3.7416625742220635e-05, 'epoch': 4.03}\n",
      "{'loss': 0.0122, 'grad_norm': 0.05530380830168724, 'learning_rate': 3.7394303317112375e-05, 'epoch': 4.04}\n",
      "{'loss': 0.0119, 'grad_norm': 0.039757370948791504, 'learning_rate': 3.737198089200411e-05, 'epoch': 4.04}\n",
      "{'loss': 0.0119, 'grad_norm': 0.07494469732046127, 'learning_rate': 3.734965846689584e-05, 'epoch': 4.05}\n",
      "{'loss': 0.0118, 'grad_norm': 0.05360442399978638, 'learning_rate': 3.732733604178758e-05, 'epoch': 4.06}\n",
      "{'loss': 0.012, 'grad_norm': 0.06454887986183167, 'learning_rate': 3.730501361667932e-05, 'epoch': 4.06}\n",
      "{'loss': 0.0121, 'grad_norm': 0.05544206127524376, 'learning_rate': 3.728269119157105e-05, 'epoch': 4.07}\n",
      "{'loss': 0.0123, 'grad_norm': 0.06091650202870369, 'learning_rate': 3.7260368766462786e-05, 'epoch': 4.08}\n",
      "{'loss': 0.0117, 'grad_norm': 0.03941287845373154, 'learning_rate': 3.7238046341354526e-05, 'epoch': 4.09}\n",
      "{'loss': 0.0119, 'grad_norm': 0.029432062059640884, 'learning_rate': 3.7215723916246266e-05, 'epoch': 4.09}\n",
      "{'loss': 0.0119, 'grad_norm': 0.07115992158651352, 'learning_rate': 3.7193401491138e-05, 'epoch': 4.1}\n",
      "{'loss': 0.0118, 'grad_norm': 0.08705279976129532, 'learning_rate': 3.717107906602973e-05, 'epoch': 4.11}\n",
      "{'loss': 0.012, 'grad_norm': 0.04221370443701744, 'learning_rate': 3.714875664092147e-05, 'epoch': 4.11}\n",
      "{'loss': 0.0116, 'grad_norm': 0.05017828941345215, 'learning_rate': 3.7126434215813204e-05, 'epoch': 4.12}\n",
      "{'loss': 0.0119, 'grad_norm': 0.03349156677722931, 'learning_rate': 3.7104111790704944e-05, 'epoch': 4.13}\n",
      "{'loss': 0.0119, 'grad_norm': 0.024365250021219254, 'learning_rate': 3.7081789365596684e-05, 'epoch': 4.14}\n",
      "{'loss': 0.0119, 'grad_norm': 0.047651324421167374, 'learning_rate': 3.705946694048842e-05, 'epoch': 4.14}\n",
      "{'loss': 0.0124, 'grad_norm': 0.035836197435855865, 'learning_rate': 3.703714451538015e-05, 'epoch': 4.15}\n",
      "{'loss': 0.0126, 'grad_norm': 0.03843621909618378, 'learning_rate': 3.701482209027189e-05, 'epoch': 4.16}\n",
      "{'loss': 0.0123, 'grad_norm': 0.0656171515583992, 'learning_rate': 3.699249966516363e-05, 'epoch': 4.16}\n",
      "{'loss': 0.0117, 'grad_norm': 0.04642119258642197, 'learning_rate': 3.697017724005536e-05, 'epoch': 4.17}\n",
      "{'loss': 0.0119, 'grad_norm': 0.06620050966739655, 'learning_rate': 3.6947854814947095e-05, 'epoch': 4.18}\n",
      "{'loss': 0.0119, 'grad_norm': 0.04979383945465088, 'learning_rate': 3.6925532389838835e-05, 'epoch': 4.19}\n",
      "{'loss': 0.0116, 'grad_norm': 0.04132973775267601, 'learning_rate': 3.690320996473057e-05, 'epoch': 4.19}\n",
      "{'loss': 0.0118, 'grad_norm': 0.046920206397771835, 'learning_rate': 3.688088753962231e-05, 'epoch': 4.2}\n",
      "{'loss': 0.0119, 'grad_norm': 0.03970286250114441, 'learning_rate': 3.685856511451404e-05, 'epoch': 4.21}\n",
      "{'loss': 0.0111, 'grad_norm': 0.055132608860731125, 'learning_rate': 3.683624268940578e-05, 'epoch': 4.21}\n",
      "{'loss': 0.0115, 'grad_norm': 0.05387029051780701, 'learning_rate': 3.681392026429751e-05, 'epoch': 4.22}\n",
      "{'loss': 0.0121, 'grad_norm': 0.03836764022707939, 'learning_rate': 3.679159783918925e-05, 'epoch': 4.23}\n",
      "{'loss': 0.012, 'grad_norm': 0.03711949288845062, 'learning_rate': 3.6769275414080986e-05, 'epoch': 4.24}\n",
      "{'loss': 0.0118, 'grad_norm': 0.031369708478450775, 'learning_rate': 3.674695298897272e-05, 'epoch': 4.24}\n",
      "{'loss': 0.0115, 'grad_norm': 0.05001702159643173, 'learning_rate': 3.672463056386446e-05, 'epoch': 4.25}\n",
      "{'loss': 0.0121, 'grad_norm': 0.048397183418273926, 'learning_rate': 3.67023081387562e-05, 'epoch': 4.26}\n",
      "{'loss': 0.0119, 'grad_norm': 0.08394806832075119, 'learning_rate': 3.668020893789901e-05, 'epoch': 4.26}\n",
      "{'loss': 0.0114, 'grad_norm': 0.042568232864141464, 'learning_rate': 3.665788651279075e-05, 'epoch': 4.27}\n",
      "{'loss': 0.0117, 'grad_norm': 0.04828547313809395, 'learning_rate': 3.6635564087682486e-05, 'epoch': 4.28}\n",
      "{'loss': 0.0118, 'grad_norm': 0.044156722724437714, 'learning_rate': 3.661324166257422e-05, 'epoch': 4.29}\n",
      "{'loss': 0.0118, 'grad_norm': 0.041595954447984695, 'learning_rate': 3.659091923746596e-05, 'epoch': 4.29}\n",
      "{'loss': 0.0114, 'grad_norm': 0.03652910515666008, 'learning_rate': 3.65685968123577e-05, 'epoch': 4.3}\n",
      "{'loss': 0.012, 'grad_norm': 0.03471082076430321, 'learning_rate': 3.654627438724944e-05, 'epoch': 4.31}\n",
      "{'loss': 0.012, 'grad_norm': 0.044602781534194946, 'learning_rate': 3.6523951962141164e-05, 'epoch': 4.31}\n",
      "{'loss': 0.0121, 'grad_norm': 0.04835313558578491, 'learning_rate': 3.6501852761283986e-05, 'epoch': 4.32}\n",
      "{'loss': 0.0117, 'grad_norm': 0.04654260724782944, 'learning_rate': 3.647953033617572e-05, 'epoch': 4.33}\n",
      "{'loss': 0.0122, 'grad_norm': 0.049838922917842865, 'learning_rate': 3.645720791106746e-05, 'epoch': 4.34}\n",
      "{'loss': 0.0118, 'grad_norm': 0.03310535103082657, 'learning_rate': 3.64348854859592e-05, 'epoch': 4.34}\n",
      "{'loss': 0.0116, 'grad_norm': 0.02963094413280487, 'learning_rate': 3.641256306085094e-05, 'epoch': 4.35}\n",
      "{'loss': 0.0113, 'grad_norm': 0.05609913542866707, 'learning_rate': 3.6390240635742664e-05, 'epoch': 4.36}\n",
      "{'loss': 0.0114, 'grad_norm': 0.08945229649543762, 'learning_rate': 3.6367918210634404e-05, 'epoch': 4.36}\n",
      "{'loss': 0.0125, 'grad_norm': 0.02404012344777584, 'learning_rate': 3.6345595785526144e-05, 'epoch': 4.37}\n",
      "{'loss': 0.0112, 'grad_norm': 0.04619096219539642, 'learning_rate': 3.632327336041788e-05, 'epoch': 4.38}\n",
      "{'loss': 0.0118, 'grad_norm': 0.051708903163671494, 'learning_rate': 3.6300950935309617e-05, 'epoch': 4.39}\n",
      "{'loss': 0.012, 'grad_norm': 0.03531700000166893, 'learning_rate': 3.627862851020135e-05, 'epoch': 4.39}\n",
      "{'loss': 0.012, 'grad_norm': 0.048785075545310974, 'learning_rate': 3.625630608509308e-05, 'epoch': 4.4}\n",
      "{'loss': 0.012, 'grad_norm': 0.025751518085598946, 'learning_rate': 3.623398365998482e-05, 'epoch': 4.41}\n",
      "{'loss': 0.012, 'grad_norm': 0.07859904319047928, 'learning_rate': 3.621166123487656e-05, 'epoch': 4.41}\n",
      "{'loss': 0.0124, 'grad_norm': 0.025358105078339577, 'learning_rate': 3.6189338809768295e-05, 'epoch': 4.42}\n",
      "{'loss': 0.0119, 'grad_norm': 0.04590635374188423, 'learning_rate': 3.616701638466003e-05, 'epoch': 4.43}\n",
      "{'loss': 0.0112, 'grad_norm': 0.03789518401026726, 'learning_rate': 3.614469395955177e-05, 'epoch': 4.44}\n",
      "{'loss': 0.0121, 'grad_norm': 0.030902892351150513, 'learning_rate': 3.612237153444351e-05, 'epoch': 4.44}\n",
      "{'loss': 0.0113, 'grad_norm': 0.03443274274468422, 'learning_rate': 3.610004910933524e-05, 'epoch': 4.45}\n",
      "{'loss': 0.0114, 'grad_norm': 0.07356078922748566, 'learning_rate': 3.6077726684226973e-05, 'epoch': 4.46}\n",
      "{'loss': 0.0115, 'grad_norm': 0.037778664380311966, 'learning_rate': 3.605540425911871e-05, 'epoch': 4.46}\n",
      "{'loss': 0.0108, 'grad_norm': 0.051959868520498276, 'learning_rate': 3.6033081834010446e-05, 'epoch': 4.47}\n",
      "{'loss': 0.0114, 'grad_norm': 0.03431321680545807, 'learning_rate': 3.6010759408902186e-05, 'epoch': 4.48}\n",
      "{'loss': 0.0111, 'grad_norm': 0.10059697926044464, 'learning_rate': 3.598843698379392e-05, 'epoch': 4.49}\n",
      "{'loss': 0.0121, 'grad_norm': 0.0916951522231102, 'learning_rate': 3.596611455868566e-05, 'epoch': 4.49}\n",
      "{'loss': 0.0113, 'grad_norm': 0.039936333894729614, 'learning_rate': 3.594379213357739e-05, 'epoch': 4.5}\n",
      "{'loss': 0.0118, 'grad_norm': 0.041583940386772156, 'learning_rate': 3.592146970846913e-05, 'epoch': 4.51}\n",
      "{'loss': 0.0116, 'grad_norm': 0.07017004489898682, 'learning_rate': 3.5899147283360864e-05, 'epoch': 4.51}\n",
      "{'loss': 0.0117, 'grad_norm': 0.03350961580872536, 'learning_rate': 3.58768248582526e-05, 'epoch': 4.52}\n",
      "{'loss': 0.0115, 'grad_norm': 0.05738217756152153, 'learning_rate': 3.585450243314434e-05, 'epoch': 4.53}\n",
      "{'loss': 0.0107, 'grad_norm': 0.049629416316747665, 'learning_rate': 3.583218000803608e-05, 'epoch': 4.54}\n",
      "{'loss': 0.0106, 'grad_norm': 0.0572625957429409, 'learning_rate': 3.580985758292781e-05, 'epoch': 4.54}\n",
      "{'loss': 0.0119, 'grad_norm': 0.057237785309553146, 'learning_rate': 3.578753515781954e-05, 'epoch': 4.55}\n",
      "{'loss': 0.0117, 'grad_norm': 0.030632592737674713, 'learning_rate': 3.5765435956962364e-05, 'epoch': 4.56}\n",
      "{'loss': 0.0118, 'grad_norm': 0.04275965318083763, 'learning_rate': 3.57431135318541e-05, 'epoch': 4.56}\n",
      "{'loss': 0.0113, 'grad_norm': 0.05932396650314331, 'learning_rate': 3.572079110674584e-05, 'epoch': 4.57}\n",
      "{'loss': 0.0111, 'grad_norm': 0.03991654887795448, 'learning_rate': 3.569846868163758e-05, 'epoch': 4.58}\n",
      "{'loss': 0.0108, 'grad_norm': 0.05187814310193062, 'learning_rate': 3.5676146256529317e-05, 'epoch': 4.59}\n",
      "{'loss': 0.0121, 'grad_norm': 0.04392488673329353, 'learning_rate': 3.565382383142104e-05, 'epoch': 4.59}\n",
      "{'loss': 0.0118, 'grad_norm': 0.034076690673828125, 'learning_rate': 3.563150140631278e-05, 'epoch': 4.6}\n",
      "{'loss': 0.0109, 'grad_norm': 0.03367173671722412, 'learning_rate': 3.560917898120452e-05, 'epoch': 4.61}\n",
      "{'loss': 0.0118, 'grad_norm': 0.07735395431518555, 'learning_rate': 3.5586856556096255e-05, 'epoch': 4.61}\n",
      "{'loss': 0.0109, 'grad_norm': 0.07029862701892853, 'learning_rate': 3.5564534130987995e-05, 'epoch': 4.62}\n",
      "{'loss': 0.0114, 'grad_norm': 0.042413704097270966, 'learning_rate': 3.554221170587973e-05, 'epoch': 4.63}\n",
      "{'loss': 0.0109, 'grad_norm': 0.03992454335093498, 'learning_rate': 3.551988928077146e-05, 'epoch': 4.64}\n",
      "{'loss': 0.0114, 'grad_norm': 0.038929861038923264, 'learning_rate': 3.54975668556632e-05, 'epoch': 4.64}\n",
      "{'loss': 0.0108, 'grad_norm': 0.03356865420937538, 'learning_rate': 3.547524443055494e-05, 'epoch': 4.65}\n",
      "{'loss': 0.012, 'grad_norm': 0.06279634684324265, 'learning_rate': 3.5452922005446673e-05, 'epoch': 4.66}\n",
      "{'loss': 0.0115, 'grad_norm': 0.05248627811670303, 'learning_rate': 3.5430599580338406e-05, 'epoch': 4.66}\n",
      "{'loss': 0.0114, 'grad_norm': 0.03827205300331116, 'learning_rate': 3.5408277155230146e-05, 'epoch': 4.67}\n",
      "{'loss': 0.0117, 'grad_norm': 0.0472131185233593, 'learning_rate': 3.5385954730121886e-05, 'epoch': 4.68}\n",
      "{'loss': 0.0114, 'grad_norm': 0.053030744194984436, 'learning_rate': 3.536363230501362e-05, 'epoch': 4.69}\n",
      "{'loss': 0.0112, 'grad_norm': 0.06772314757108688, 'learning_rate': 3.534130987990535e-05, 'epoch': 4.69}\n",
      "{'loss': 0.0116, 'grad_norm': 0.06261076033115387, 'learning_rate': 3.531898745479709e-05, 'epoch': 4.7}\n",
      "{'loss': 0.0112, 'grad_norm': 0.05111115053296089, 'learning_rate': 3.5296665029688825e-05, 'epoch': 4.71}\n",
      "{'loss': 0.0113, 'grad_norm': 0.03430120646953583, 'learning_rate': 3.5274342604580564e-05, 'epoch': 4.71}\n",
      "{'loss': 0.0114, 'grad_norm': 0.042039867490530014, 'learning_rate': 3.52520201794723e-05, 'epoch': 4.72}\n",
      "{'loss': 0.0111, 'grad_norm': 0.027273844927549362, 'learning_rate': 3.522969775436404e-05, 'epoch': 4.73}\n",
      "{'loss': 0.0113, 'grad_norm': 0.03829004988074303, 'learning_rate': 3.520737532925577e-05, 'epoch': 4.74}\n",
      "{'loss': 0.011, 'grad_norm': 0.0337296798825264, 'learning_rate': 3.518505290414751e-05, 'epoch': 4.74}\n",
      "{'loss': 0.0115, 'grad_norm': 0.04234420880675316, 'learning_rate': 3.516273047903925e-05, 'epoch': 4.75}\n",
      "{'loss': 0.0112, 'grad_norm': 0.03954616189002991, 'learning_rate': 3.5140408053930976e-05, 'epoch': 4.76}\n",
      "{'loss': 0.0112, 'grad_norm': 0.054740093648433685, 'learning_rate': 3.5118085628822716e-05, 'epoch': 4.76}\n",
      "{'loss': 0.0125, 'grad_norm': 0.03412850946187973, 'learning_rate': 3.5095763203714455e-05, 'epoch': 4.77}\n",
      "{'loss': 0.0114, 'grad_norm': 0.10241182148456573, 'learning_rate': 3.507344077860619e-05, 'epoch': 4.78}\n",
      "{'loss': 0.0114, 'grad_norm': 0.059445831924676895, 'learning_rate': 3.505111835349793e-05, 'epoch': 4.79}\n",
      "{'loss': 0.0115, 'grad_norm': 0.048170462250709534, 'learning_rate': 3.502879592838966e-05, 'epoch': 4.79}\n",
      "{'loss': 0.0122, 'grad_norm': 0.052296772599220276, 'learning_rate': 3.50064735032814e-05, 'epoch': 4.8}\n",
      "{'loss': 0.0118, 'grad_norm': 0.03314449265599251, 'learning_rate': 3.4984151078173134e-05, 'epoch': 4.81}\n",
      "{'loss': 0.0108, 'grad_norm': 0.05384755879640579, 'learning_rate': 3.4961828653064873e-05, 'epoch': 4.81}\n",
      "{'loss': 0.0118, 'grad_norm': 0.06966188549995422, 'learning_rate': 3.4939506227956606e-05, 'epoch': 4.82}\n",
      "{'loss': 0.0107, 'grad_norm': 0.04296906664967537, 'learning_rate': 3.491718380284834e-05, 'epoch': 4.83}\n",
      "{'loss': 0.0115, 'grad_norm': 0.06372740864753723, 'learning_rate': 3.489486137774008e-05, 'epoch': 4.84}\n",
      "{'loss': 0.0115, 'grad_norm': 0.03786846250295639, 'learning_rate': 3.48727621768829e-05, 'epoch': 4.84}\n",
      "{'loss': 0.0121, 'grad_norm': 0.05206182599067688, 'learning_rate': 3.4850439751774634e-05, 'epoch': 4.85}\n",
      "{'loss': 0.012, 'grad_norm': 0.05349934846162796, 'learning_rate': 3.482811732666637e-05, 'epoch': 4.86}\n",
      "{'loss': 0.011, 'grad_norm': 0.022287830710411072, 'learning_rate': 3.4805794901558106e-05, 'epoch': 4.86}\n",
      "{'loss': 0.0116, 'grad_norm': 0.04667169228196144, 'learning_rate': 3.478347247644984e-05, 'epoch': 4.87}\n",
      "{'loss': 0.0114, 'grad_norm': 0.05080335959792137, 'learning_rate': 3.476115005134158e-05, 'epoch': 4.88}\n",
      "{'loss': 0.0107, 'grad_norm': 0.04904884099960327, 'learning_rate': 3.473882762623332e-05, 'epoch': 4.89}\n",
      "{'loss': 0.011, 'grad_norm': 0.08157534152269363, 'learning_rate': 3.471650520112505e-05, 'epoch': 4.89}\n",
      "{'loss': 0.011, 'grad_norm': 0.053616397082805634, 'learning_rate': 3.4694182776016785e-05, 'epoch': 4.9}\n",
      "{'loss': 0.0109, 'grad_norm': 0.038779303431510925, 'learning_rate': 3.4671860350908525e-05, 'epoch': 4.91}\n",
      "{'loss': 0.0111, 'grad_norm': 0.0564461275935173, 'learning_rate': 3.4649537925800264e-05, 'epoch': 4.91}\n",
      "{'loss': 0.0107, 'grad_norm': 0.04812326282262802, 'learning_rate': 3.462743872494308e-05, 'epoch': 4.92}\n",
      "{'loss': 0.0114, 'grad_norm': 0.048706334084272385, 'learning_rate': 3.460511629983482e-05, 'epoch': 4.93}\n",
      "{'loss': 0.0113, 'grad_norm': 0.03709198534488678, 'learning_rate': 3.458279387472655e-05, 'epoch': 4.94}\n",
      "{'loss': 0.0113, 'grad_norm': 0.03460901975631714, 'learning_rate': 3.4560471449618285e-05, 'epoch': 4.94}\n",
      "{'loss': 0.0112, 'grad_norm': 0.05236165598034859, 'learning_rate': 3.4538149024510024e-05, 'epoch': 4.95}\n",
      "{'loss': 0.0115, 'grad_norm': 0.051412228494882584, 'learning_rate': 3.4515826599401764e-05, 'epoch': 4.96}\n",
      "{'loss': 0.0114, 'grad_norm': 0.025132592767477036, 'learning_rate': 3.44935041742935e-05, 'epoch': 4.96}\n",
      "{'loss': 0.0114, 'grad_norm': 0.04576738551259041, 'learning_rate': 3.447118174918523e-05, 'epoch': 4.97}\n",
      "{'loss': 0.0104, 'grad_norm': 0.04563496261835098, 'learning_rate': 3.444885932407697e-05, 'epoch': 4.98}\n",
      "{'loss': 0.0115, 'grad_norm': 0.03295818343758583, 'learning_rate': 3.44265368989687e-05, 'epoch': 4.99}\n",
      "{'loss': 0.0116, 'grad_norm': 0.09924986213445663, 'learning_rate': 3.440421447386044e-05, 'epoch': 4.99}\n",
      "{'loss': 0.0111, 'grad_norm': 0.05277970805764198, 'learning_rate': 3.4381892048752176e-05, 'epoch': 5.0}\n"
     ]
    },
    {
     "data": {
      "application/vnd.jupyter.widget-view+json": {
       "model_id": "2625f27f896640369a9ba55e77c97687",
       "version_major": 2,
       "version_minor": 0
      },
      "text/plain": [
       "  0%|          | 0/3479 [00:00<?, ?it/s]"
      ]
     },
     "metadata": {},
     "output_type": "display_data"
    },
    {
     "name": "stdout",
     "output_type": "stream",
     "text": [
      "{'eval_loss': 0.010290933772921562, 'eval_accuracy_micro_0.5': 0.9959118962287903, 'eval_accuracy_macro_0.5': 0.9959118366241455, 'eval_accuracy_weighted_0.5': 0.9908862113952637, 'eval_f1_micro_0.5': 0.5135229229927063, 'eval_f1_macro_0.5': 0.3518314063549042, 'eval_f1_weighted_0.5': 0.4579779803752899, 'eval_f1_micro_0.6': 0.43522128462791443, 'eval_f1_macro_0.6': 0.27299606800079346, 'eval_f1_weighted_0.6': 0.3735829293727875, 'eval_f1_micro_0.7': 0.340376079082489, 'eval_f1_macro_0.7': 0.1978195458650589, 'eval_f1_weighted_0.7': 0.28025904297828674, 'eval_f1_micro_0.8': 0.22654056549072266, 'eval_f1_macro_0.8': 0.03726741299033165, 'eval_f1_weighted_0.8': 0.08250077813863754, 'eval_f1_micro_0.9': 0.10713754594326019, 'eval_aucroc_micro': 0.8119909167289734, 'eval_aucroc_macro': 0.7626816034317017, 'eval_aucroc_weighted': 0.8103503584861755, 'eval_runtime': 1887.5059, 'eval_samples_per_second': 29.489, 'eval_steps_per_second': 1.843, 'epoch': 5.0}\n",
      "{'loss': 0.0109, 'grad_norm': 0.03736501187086105, 'learning_rate': 3.4359569623643915e-05, 'epoch': 5.01}\n",
      "{'loss': 0.0108, 'grad_norm': 0.07920626550912857, 'learning_rate': 3.433724719853565e-05, 'epoch': 5.01}\n",
      "{'loss': 0.0118, 'grad_norm': 0.04676010459661484, 'learning_rate': 3.431492477342739e-05, 'epoch': 5.02}\n",
      "{'loss': 0.0117, 'grad_norm': 0.03716772049665451, 'learning_rate': 3.429260234831913e-05, 'epoch': 5.03}\n",
      "{'loss': 0.0115, 'grad_norm': 0.022595204412937164, 'learning_rate': 3.4270279923210854e-05, 'epoch': 5.04}\n",
      "{'loss': 0.0105, 'grad_norm': 0.02844042330980301, 'learning_rate': 3.4247957498102594e-05, 'epoch': 5.04}\n",
      "{'loss': 0.0108, 'grad_norm': 0.05421106517314911, 'learning_rate': 3.4225635072994334e-05, 'epoch': 5.05}\n",
      "{'loss': 0.0112, 'grad_norm': 0.028232775628566742, 'learning_rate': 3.4203312647886067e-05, 'epoch': 5.06}\n",
      "{'loss': 0.0113, 'grad_norm': 0.07201240956783295, 'learning_rate': 3.4180990222777806e-05, 'epoch': 5.06}\n",
      "{'loss': 0.0111, 'grad_norm': 0.08413462340831757, 'learning_rate': 3.415866779766954e-05, 'epoch': 5.07}\n",
      "{'loss': 0.0109, 'grad_norm': 0.055855441838502884, 'learning_rate': 3.413634537256128e-05, 'epoch': 5.08}\n",
      "{'loss': 0.011, 'grad_norm': 0.04184671491384506, 'learning_rate': 3.411402294745301e-05, 'epoch': 5.09}\n",
      "{'loss': 0.0114, 'grad_norm': 0.03260769322514534, 'learning_rate': 3.409170052234475e-05, 'epoch': 5.09}\n",
      "{'loss': 0.0112, 'grad_norm': 0.08437619358301163, 'learning_rate': 3.4069378097236485e-05, 'epoch': 5.1}\n",
      "{'loss': 0.0114, 'grad_norm': 0.04138067364692688, 'learning_rate': 3.404705567212822e-05, 'epoch': 5.11}\n",
      "{'loss': 0.0113, 'grad_norm': 0.056464217603206635, 'learning_rate': 3.402473324701996e-05, 'epoch': 5.11}\n",
      "{'loss': 0.0109, 'grad_norm': 0.05119999870657921, 'learning_rate': 3.40024108219117e-05, 'epoch': 5.12}\n",
      "{'loss': 0.0113, 'grad_norm': 0.0366407111287117, 'learning_rate': 3.398008839680343e-05, 'epoch': 5.13}\n",
      "{'loss': 0.0113, 'grad_norm': 0.03945929929614067, 'learning_rate': 3.395776597169516e-05, 'epoch': 5.14}\n",
      "{'loss': 0.011, 'grad_norm': 0.039855118840932846, 'learning_rate': 3.39354435465869e-05, 'epoch': 5.14}\n",
      "{'loss': 0.0105, 'grad_norm': 0.030060183256864548, 'learning_rate': 3.391312112147864e-05, 'epoch': 5.15}\n",
      "{'loss': 0.0112, 'grad_norm': 0.045841969549655914, 'learning_rate': 3.3890798696370376e-05, 'epoch': 5.16}\n",
      "{'loss': 0.0116, 'grad_norm': 0.02855844981968403, 'learning_rate': 3.386847627126211e-05, 'epoch': 5.16}\n",
      "{'loss': 0.0107, 'grad_norm': 0.051073189824819565, 'learning_rate': 3.384615384615385e-05, 'epoch': 5.17}\n",
      "{'loss': 0.0109, 'grad_norm': 0.08829878270626068, 'learning_rate': 3.382383142104558e-05, 'epoch': 5.18}\n",
      "{'loss': 0.0108, 'grad_norm': 0.04151923954486847, 'learning_rate': 3.380150899593732e-05, 'epoch': 5.19}\n",
      "{'loss': 0.0113, 'grad_norm': 0.05909215658903122, 'learning_rate': 3.377918657082906e-05, 'epoch': 5.19}\n",
      "{'loss': 0.0108, 'grad_norm': 0.03828756883740425, 'learning_rate': 3.375686414572079e-05, 'epoch': 5.2}\n",
      "{'loss': 0.0108, 'grad_norm': 0.034805696457624435, 'learning_rate': 3.373476494486361e-05, 'epoch': 5.21}\n",
      "{'loss': 0.0109, 'grad_norm': 0.06498470157384872, 'learning_rate': 3.371244251975535e-05, 'epoch': 5.21}\n",
      "{'loss': 0.0112, 'grad_norm': 0.0945385992527008, 'learning_rate': 3.369012009464708e-05, 'epoch': 5.22}\n",
      "{'loss': 0.011, 'grad_norm': 0.028738152235746384, 'learning_rate': 3.366779766953882e-05, 'epoch': 5.23}\n",
      "{'loss': 0.0107, 'grad_norm': 0.05583999305963516, 'learning_rate': 3.364547524443056e-05, 'epoch': 5.24}\n",
      "{'loss': 0.0113, 'grad_norm': 0.029540427029132843, 'learning_rate': 3.3623152819322294e-05, 'epoch': 5.24}\n",
      "{'loss': 0.011, 'grad_norm': 0.03712217137217522, 'learning_rate': 3.360083039421403e-05, 'epoch': 5.25}\n",
      "{'loss': 0.0108, 'grad_norm': 0.033932656049728394, 'learning_rate': 3.3578507969105767e-05, 'epoch': 5.26}\n",
      "{'loss': 0.0106, 'grad_norm': 0.029427070170640945, 'learning_rate': 3.3556185543997506e-05, 'epoch': 5.26}\n",
      "{'loss': 0.0111, 'grad_norm': 0.04139522835612297, 'learning_rate': 3.353386311888924e-05, 'epoch': 5.27}\n",
      "{'loss': 0.0114, 'grad_norm': 0.051195353269577026, 'learning_rate': 3.351154069378097e-05, 'epoch': 5.28}\n",
      "{'loss': 0.0106, 'grad_norm': 0.05099354311823845, 'learning_rate': 3.348921826867271e-05, 'epoch': 5.29}\n",
      "{'loss': 0.0114, 'grad_norm': 0.0434579961001873, 'learning_rate': 3.3466895843564445e-05, 'epoch': 5.29}\n",
      "{'loss': 0.0107, 'grad_norm': 0.06134379655122757, 'learning_rate': 3.3444573418456185e-05, 'epoch': 5.3}\n",
      "{'loss': 0.011, 'grad_norm': 0.034950461238622665, 'learning_rate': 3.342225099334792e-05, 'epoch': 5.31}\n",
      "{'loss': 0.0106, 'grad_norm': 0.03595759719610214, 'learning_rate': 3.339992856823966e-05, 'epoch': 5.31}\n",
      "{'loss': 0.0108, 'grad_norm': 0.04336360841989517, 'learning_rate': 3.337760614313139e-05, 'epoch': 5.32}\n",
      "{'loss': 0.011, 'grad_norm': 0.03169737756252289, 'learning_rate': 3.335528371802313e-05, 'epoch': 5.33}\n",
      "{'loss': 0.0102, 'grad_norm': 0.05377738177776337, 'learning_rate': 3.333296129291486e-05, 'epoch': 5.34}\n",
      "{'loss': 0.0106, 'grad_norm': 0.07482122629880905, 'learning_rate': 3.3310638867806596e-05, 'epoch': 5.34}\n",
      "{'loss': 0.0113, 'grad_norm': 0.04229429364204407, 'learning_rate': 3.328853966694942e-05, 'epoch': 5.35}\n",
      "{'loss': 0.0109, 'grad_norm': 0.06558258086442947, 'learning_rate': 3.326621724184116e-05, 'epoch': 5.36}\n",
      "{'loss': 0.0106, 'grad_norm': 0.033691857010126114, 'learning_rate': 3.324389481673289e-05, 'epoch': 5.36}\n",
      "{'loss': 0.0115, 'grad_norm': 0.046387623995542526, 'learning_rate': 3.322157239162463e-05, 'epoch': 5.37}\n",
      "{'loss': 0.0111, 'grad_norm': 0.09385903179645538, 'learning_rate': 3.319924996651636e-05, 'epoch': 5.38}\n",
      "{'loss': 0.0109, 'grad_norm': 0.05719434469938278, 'learning_rate': 3.3176927541408096e-05, 'epoch': 5.39}\n",
      "{'loss': 0.0108, 'grad_norm': 0.0723109319806099, 'learning_rate': 3.3154605116299836e-05, 'epoch': 5.39}\n",
      "{'loss': 0.0104, 'grad_norm': 0.030306821689009666, 'learning_rate': 3.3132282691191576e-05, 'epoch': 5.4}\n",
      "{'loss': 0.0114, 'grad_norm': 0.03982473537325859, 'learning_rate': 3.310996026608331e-05, 'epoch': 5.41}\n",
      "{'loss': 0.0111, 'grad_norm': 0.04750509560108185, 'learning_rate': 3.308763784097504e-05, 'epoch': 5.41}\n",
      "{'loss': 0.011, 'grad_norm': 0.06051568686962128, 'learning_rate': 3.306531541586678e-05, 'epoch': 5.42}\n",
      "{'loss': 0.0109, 'grad_norm': 0.06175858527421951, 'learning_rate': 3.304299299075852e-05, 'epoch': 5.43}\n",
      "{'loss': 0.011, 'grad_norm': 0.06470638513565063, 'learning_rate': 3.3020670565650254e-05, 'epoch': 5.44}\n",
      "{'loss': 0.0107, 'grad_norm': 0.022049618884921074, 'learning_rate': 3.299834814054199e-05, 'epoch': 5.44}\n",
      "{'loss': 0.0104, 'grad_norm': 0.052389100193977356, 'learning_rate': 3.297602571543373e-05, 'epoch': 5.45}\n",
      "{'loss': 0.0106, 'grad_norm': 0.05493643879890442, 'learning_rate': 3.295370329032546e-05, 'epoch': 5.46}\n",
      "{'loss': 0.0108, 'grad_norm': 0.035629838705062866, 'learning_rate': 3.29313808652172e-05, 'epoch': 5.46}\n",
      "{'loss': 0.0104, 'grad_norm': 0.034770820289850235, 'learning_rate': 3.290928166436002e-05, 'epoch': 5.47}\n",
      "{'loss': 0.0112, 'grad_norm': 0.06379137188196182, 'learning_rate': 3.2886959239251754e-05, 'epoch': 5.48}\n",
      "{'loss': 0.0106, 'grad_norm': 0.05238036811351776, 'learning_rate': 3.286463681414349e-05, 'epoch': 5.49}\n",
      "{'loss': 0.0109, 'grad_norm': 0.08631332218647003, 'learning_rate': 3.284231438903523e-05, 'epoch': 5.49}\n",
      "{'loss': 0.0104, 'grad_norm': 0.04267791286110878, 'learning_rate': 3.281999196392696e-05, 'epoch': 5.5}\n",
      "{'loss': 0.0108, 'grad_norm': 0.0644257515668869, 'learning_rate': 3.27976695388187e-05, 'epoch': 5.51}\n",
      "{'loss': 0.0106, 'grad_norm': 0.03405129164457321, 'learning_rate': 3.277534711371044e-05, 'epoch': 5.51}\n",
      "{'loss': 0.0104, 'grad_norm': 0.05536002293229103, 'learning_rate': 3.2753024688602165e-05, 'epoch': 5.52}\n",
      "{'loss': 0.011, 'grad_norm': 0.0469825342297554, 'learning_rate': 3.2730702263493905e-05, 'epoch': 5.53}\n",
      "{'loss': 0.0109, 'grad_norm': 0.030132751911878586, 'learning_rate': 3.2708379838385645e-05, 'epoch': 5.54}\n",
      "{'loss': 0.0105, 'grad_norm': 0.055774908512830734, 'learning_rate': 3.2686057413277385e-05, 'epoch': 5.54}\n",
      "{'loss': 0.0112, 'grad_norm': 0.0336751788854599, 'learning_rate': 3.266373498816912e-05, 'epoch': 5.55}\n",
      "{'loss': 0.0109, 'grad_norm': 0.04544680193066597, 'learning_rate': 3.264141256306085e-05, 'epoch': 5.56}\n",
      "{'loss': 0.0105, 'grad_norm': 0.05493124574422836, 'learning_rate': 3.261909013795259e-05, 'epoch': 5.56}\n",
      "{'loss': 0.0105, 'grad_norm': 0.055787280201911926, 'learning_rate': 3.259676771284432e-05, 'epoch': 5.57}\n",
      "{'loss': 0.0105, 'grad_norm': 0.07457074522972107, 'learning_rate': 3.257444528773606e-05, 'epoch': 5.58}\n",
      "{'loss': 0.0108, 'grad_norm': 0.052950769662857056, 'learning_rate': 3.2552122862627796e-05, 'epoch': 5.59}\n",
      "{'loss': 0.0107, 'grad_norm': 0.031726766377687454, 'learning_rate': 3.2529800437519536e-05, 'epoch': 5.59}\n",
      "{'loss': 0.0106, 'grad_norm': 0.06013306975364685, 'learning_rate': 3.250747801241127e-05, 'epoch': 5.6}\n",
      "{'loss': 0.0104, 'grad_norm': 0.04789150878787041, 'learning_rate': 3.248515558730301e-05, 'epoch': 5.61}\n",
      "{'loss': 0.0107, 'grad_norm': 0.037232547998428345, 'learning_rate': 3.246283316219474e-05, 'epoch': 5.61}\n",
      "{'loss': 0.0107, 'grad_norm': 0.03147851675748825, 'learning_rate': 3.2440510737086474e-05, 'epoch': 5.62}\n",
      "{'loss': 0.0112, 'grad_norm': 0.04674254357814789, 'learning_rate': 3.2418188311978214e-05, 'epoch': 5.63}\n",
      "{'loss': 0.0106, 'grad_norm': 0.04215463250875473, 'learning_rate': 3.2395865886869954e-05, 'epoch': 5.64}\n",
      "{'loss': 0.0105, 'grad_norm': 0.04432549700140953, 'learning_rate': 3.237354346176169e-05, 'epoch': 5.64}\n",
      "{'loss': 0.0107, 'grad_norm': 0.04599427431821823, 'learning_rate': 3.235122103665342e-05, 'epoch': 5.65}\n",
      "{'loss': 0.0105, 'grad_norm': 0.07955434918403625, 'learning_rate': 3.232889861154516e-05, 'epoch': 5.66}\n",
      "{'loss': 0.0113, 'grad_norm': 0.12125726044178009, 'learning_rate': 3.2306799410687974e-05, 'epoch': 5.66}\n",
      "{'loss': 0.0107, 'grad_norm': 0.04785391315817833, 'learning_rate': 3.2284476985579714e-05, 'epoch': 5.67}\n",
      "{'loss': 0.0105, 'grad_norm': 0.0467095822095871, 'learning_rate': 3.2262154560471454e-05, 'epoch': 5.68}\n",
      "{'loss': 0.0117, 'grad_norm': 0.04967617616057396, 'learning_rate': 3.223983213536319e-05, 'epoch': 5.69}\n",
      "{'loss': 0.0107, 'grad_norm': 0.037032365798950195, 'learning_rate': 3.221750971025492e-05, 'epoch': 5.69}\n",
      "{'loss': 0.0107, 'grad_norm': 0.07454308867454529, 'learning_rate': 3.219518728514666e-05, 'epoch': 5.7}\n",
      "{'loss': 0.0106, 'grad_norm': 0.07438359409570694, 'learning_rate': 3.21728648600384e-05, 'epoch': 5.71}\n",
      "{'loss': 0.0112, 'grad_norm': 0.04992757737636566, 'learning_rate': 3.215054243493013e-05, 'epoch': 5.71}\n",
      "{'loss': 0.011, 'grad_norm': 0.050915997475385666, 'learning_rate': 3.212822000982187e-05, 'epoch': 5.72}\n",
      "{'loss': 0.0106, 'grad_norm': 0.05668769031763077, 'learning_rate': 3.2105897584713605e-05, 'epoch': 5.73}\n",
      "{'loss': 0.0106, 'grad_norm': 0.02512119524180889, 'learning_rate': 3.208357515960534e-05, 'epoch': 5.74}\n",
      "{'loss': 0.0108, 'grad_norm': 0.03370869904756546, 'learning_rate': 3.206125273449708e-05, 'epoch': 5.74}\n",
      "{'loss': 0.0106, 'grad_norm': 0.03672564774751663, 'learning_rate': 3.203893030938882e-05, 'epoch': 5.75}\n",
      "{'loss': 0.0109, 'grad_norm': 0.058716386556625366, 'learning_rate': 3.201660788428055e-05, 'epoch': 5.76}\n",
      "{'loss': 0.0109, 'grad_norm': 0.047343987971544266, 'learning_rate': 3.1994285459172283e-05, 'epoch': 5.76}\n",
      "{'loss': 0.0107, 'grad_norm': 0.05367864668369293, 'learning_rate': 3.197196303406402e-05, 'epoch': 5.77}\n",
      "{'loss': 0.0106, 'grad_norm': 0.04091760143637657, 'learning_rate': 3.194964060895576e-05, 'epoch': 5.78}\n",
      "{'loss': 0.0108, 'grad_norm': 0.062053829431533813, 'learning_rate': 3.1927318183847496e-05, 'epoch': 5.79}\n",
      "{'loss': 0.0103, 'grad_norm': 0.051913365721702576, 'learning_rate': 3.190499575873923e-05, 'epoch': 5.79}\n",
      "{'loss': 0.0102, 'grad_norm': 0.03157529979944229, 'learning_rate': 3.188267333363097e-05, 'epoch': 5.8}\n",
      "{'loss': 0.0109, 'grad_norm': 0.06260325759649277, 'learning_rate': 3.18603509085227e-05, 'epoch': 5.81}\n",
      "{'loss': 0.0114, 'grad_norm': 0.05260160565376282, 'learning_rate': 3.183802848341444e-05, 'epoch': 5.81}\n",
      "{'loss': 0.0104, 'grad_norm': 0.06539508700370789, 'learning_rate': 3.1815706058306174e-05, 'epoch': 5.82}\n",
      "{'loss': 0.0108, 'grad_norm': 0.05193116143345833, 'learning_rate': 3.179338363319791e-05, 'epoch': 5.83}\n",
      "{'loss': 0.0109, 'grad_norm': 0.04630338400602341, 'learning_rate': 3.177106120808965e-05, 'epoch': 5.84}\n",
      "{'loss': 0.0105, 'grad_norm': 0.03217977285385132, 'learning_rate': 3.174873878298139e-05, 'epoch': 5.84}\n",
      "{'loss': 0.0107, 'grad_norm': 0.05827393755316734, 'learning_rate': 3.1726416357873127e-05, 'epoch': 5.85}\n",
      "{'loss': 0.0107, 'grad_norm': 0.07790088653564453, 'learning_rate': 3.170409393276485e-05, 'epoch': 5.86}\n",
      "{'loss': 0.0111, 'grad_norm': 0.05950186029076576, 'learning_rate': 3.168177150765659e-05, 'epoch': 5.86}\n",
      "{'loss': 0.0107, 'grad_norm': 0.03102158010005951, 'learning_rate': 3.165944908254833e-05, 'epoch': 5.87}\n",
      "{'loss': 0.0108, 'grad_norm': 0.04388852044939995, 'learning_rate': 3.1637126657440065e-05, 'epoch': 5.88}\n",
      "{'loss': 0.0107, 'grad_norm': 0.04307103902101517, 'learning_rate': 3.1614804232331805e-05, 'epoch': 5.89}\n",
      "{'loss': 0.0107, 'grad_norm': 0.08036518096923828, 'learning_rate': 3.159248180722354e-05, 'epoch': 5.89}\n",
      "{'loss': 0.0112, 'grad_norm': 0.04029160737991333, 'learning_rate': 3.157015938211527e-05, 'epoch': 5.9}\n",
      "{'loss': 0.01, 'grad_norm': 0.054672982543706894, 'learning_rate': 3.154783695700701e-05, 'epoch': 5.91}\n",
      "{'loss': 0.0105, 'grad_norm': 0.07273798435926437, 'learning_rate': 3.152551453189875e-05, 'epoch': 5.91}\n",
      "{'loss': 0.0109, 'grad_norm': 0.07631850987672806, 'learning_rate': 3.1503192106790483e-05, 'epoch': 5.92}\n",
      "{'loss': 0.0104, 'grad_norm': 0.037395037710666656, 'learning_rate': 3.1480869681682216e-05, 'epoch': 5.93}\n",
      "{'loss': 0.0108, 'grad_norm': 0.04512113332748413, 'learning_rate': 3.1458547256573956e-05, 'epoch': 5.94}\n",
      "{'loss': 0.0109, 'grad_norm': 0.09373541176319122, 'learning_rate': 3.1436224831465696e-05, 'epoch': 5.94}\n",
      "{'loss': 0.0109, 'grad_norm': 0.061719860881567, 'learning_rate': 3.141390240635743e-05, 'epoch': 5.95}\n",
      "{'loss': 0.0108, 'grad_norm': 0.02564994804561138, 'learning_rate': 3.139180320550025e-05, 'epoch': 5.96}\n",
      "{'loss': 0.0103, 'grad_norm': 0.0507427342236042, 'learning_rate': 3.1369480780391983e-05, 'epoch': 5.96}\n",
      "{'loss': 0.0104, 'grad_norm': 0.056009452790021896, 'learning_rate': 3.1347158355283716e-05, 'epoch': 5.97}\n",
      "{'loss': 0.0105, 'grad_norm': 0.03199863061308861, 'learning_rate': 3.1324835930175456e-05, 'epoch': 5.98}\n",
      "{'loss': 0.01, 'grad_norm': 0.04121272265911102, 'learning_rate': 3.130273672931828e-05, 'epoch': 5.99}\n",
      "{'loss': 0.0112, 'grad_norm': 0.05574503913521767, 'learning_rate': 3.128041430421001e-05, 'epoch': 5.99}\n",
      "{'loss': 0.0101, 'grad_norm': 0.04311694949865341, 'learning_rate': 3.125809187910175e-05, 'epoch': 6.0}\n"
     ]
    },
    {
     "data": {
      "application/vnd.jupyter.widget-view+json": {
       "model_id": "ddaaef0497784cca97b22aec47d6b891",
       "version_major": 2,
       "version_minor": 0
      },
      "text/plain": [
       "  0%|          | 0/3479 [00:00<?, ?it/s]"
      ]
     },
     "metadata": {},
     "output_type": "display_data"
    },
    {
     "name": "stdout",
     "output_type": "stream",
     "text": [
      "{'eval_loss': 0.009675271809101105, 'eval_accuracy_micro_0.5': 0.9961012601852417, 'eval_accuracy_macro_0.5': 0.9961012601852417, 'eval_accuracy_weighted_0.5': 0.9912676811218262, 'eval_f1_micro_0.5': 0.5527676343917847, 'eval_f1_macro_0.5': 0.40519794821739197, 'eval_f1_weighted_0.5': 0.5021510124206543, 'eval_f1_micro_0.6': 0.48534151911735535, 'eval_f1_macro_0.6': 0.33267706632614136, 'eval_f1_weighted_0.6': 0.4284431040287018, 'eval_f1_micro_0.7': 0.39294788241386414, 'eval_f1_macro_0.7': 0.25062432885169983, 'eval_f1_weighted_0.7': 0.3352731466293335, 'eval_f1_micro_0.8': 0.27544909715652466, 'eval_f1_macro_0.8': 0.059989769011735916, 'eval_f1_weighted_0.8': 0.10631575435400009, 'eval_f1_micro_0.9': 0.13604016602039337, 'eval_aucroc_micro': 0.8236612677574158, 'eval_aucroc_macro': 0.7753607034683228, 'eval_aucroc_weighted': 0.8220946192741394, 'eval_runtime': 1627.4186, 'eval_samples_per_second': 34.201, 'eval_steps_per_second': 2.138, 'epoch': 6.0}\n",
      "{'loss': 0.0101, 'grad_norm': 0.044607486575841904, 'learning_rate': 3.123576945399348e-05, 'epoch': 6.01}\n",
      "{'loss': 0.0104, 'grad_norm': 0.04156630113720894, 'learning_rate': 3.1213447028885216e-05, 'epoch': 6.01}\n",
      "{'loss': 0.0111, 'grad_norm': 0.03623087704181671, 'learning_rate': 3.1191124603776956e-05, 'epoch': 6.02}\n",
      "{'loss': 0.0106, 'grad_norm': 0.04959164932370186, 'learning_rate': 3.1168802178668696e-05, 'epoch': 6.03}\n",
      "{'loss': 0.0103, 'grad_norm': 0.04464898630976677, 'learning_rate': 3.114647975356043e-05, 'epoch': 6.04}\n",
      "{'loss': 0.0104, 'grad_norm': 0.05887700244784355, 'learning_rate': 3.112415732845216e-05, 'epoch': 6.04}\n",
      "{'loss': 0.0099, 'grad_norm': 0.03667836636304855, 'learning_rate': 3.11018349033439e-05, 'epoch': 6.05}\n",
      "{'loss': 0.0106, 'grad_norm': 0.06316783279180527, 'learning_rate': 3.107951247823564e-05, 'epoch': 6.06}\n",
      "{'loss': 0.0107, 'grad_norm': 0.04238947853446007, 'learning_rate': 3.1057190053127374e-05, 'epoch': 6.06}\n",
      "{'loss': 0.0104, 'grad_norm': 0.05079245567321777, 'learning_rate': 3.103486762801911e-05, 'epoch': 6.07}\n",
      "{'loss': 0.0107, 'grad_norm': 0.03595966473221779, 'learning_rate': 3.101254520291085e-05, 'epoch': 6.08}\n",
      "{'loss': 0.0103, 'grad_norm': 0.026179272681474686, 'learning_rate': 3.099022277780258e-05, 'epoch': 6.09}\n",
      "{'loss': 0.0107, 'grad_norm': 0.07065530121326447, 'learning_rate': 3.096790035269432e-05, 'epoch': 6.09}\n",
      "{'loss': 0.0103, 'grad_norm': 0.030025245621800423, 'learning_rate': 3.094557792758605e-05, 'epoch': 6.1}\n",
      "{'loss': 0.0105, 'grad_norm': 0.053800612688064575, 'learning_rate': 3.0923255502477786e-05, 'epoch': 6.11}\n",
      "{'loss': 0.0108, 'grad_norm': 0.05374806374311447, 'learning_rate': 3.0900933077369525e-05, 'epoch': 6.11}\n",
      "{'loss': 0.0106, 'grad_norm': 0.0756462886929512, 'learning_rate': 3.0878610652261265e-05, 'epoch': 6.12}\n",
      "{'loss': 0.0107, 'grad_norm': 0.04162828251719475, 'learning_rate': 3.0856288227153005e-05, 'epoch': 6.13}\n",
      "{'loss': 0.0103, 'grad_norm': 0.047017358243465424, 'learning_rate': 3.083396580204473e-05, 'epoch': 6.14}\n",
      "{'loss': 0.0107, 'grad_norm': 0.038576770573854446, 'learning_rate': 3.081164337693647e-05, 'epoch': 6.14}\n",
      "{'loss': 0.0107, 'grad_norm': 0.04345443472266197, 'learning_rate': 3.078932095182821e-05, 'epoch': 6.15}\n",
      "{'loss': 0.0108, 'grad_norm': 0.02188120409846306, 'learning_rate': 3.0766998526719944e-05, 'epoch': 6.16}\n",
      "{'loss': 0.0104, 'grad_norm': 0.05701582133769989, 'learning_rate': 3.074467610161168e-05, 'epoch': 6.16}\n",
      "{'loss': 0.0102, 'grad_norm': 0.033913012593984604, 'learning_rate': 3.0722353676503416e-05, 'epoch': 6.17}\n",
      "{'loss': 0.0104, 'grad_norm': 0.043626707047224045, 'learning_rate': 3.070003125139515e-05, 'epoch': 6.18}\n",
      "{'loss': 0.0106, 'grad_norm': 0.035729240626096725, 'learning_rate': 3.067793205053797e-05, 'epoch': 6.19}\n",
      "{'loss': 0.0101, 'grad_norm': 0.03534451127052307, 'learning_rate': 3.065560962542971e-05, 'epoch': 6.19}\n",
      "{'loss': 0.0105, 'grad_norm': 0.0577484667301178, 'learning_rate': 3.0633287200321443e-05, 'epoch': 6.2}\n",
      "{'loss': 0.01, 'grad_norm': 0.039149973541498184, 'learning_rate': 3.061096477521318e-05, 'epoch': 6.21}\n",
      "{'loss': 0.0104, 'grad_norm': 0.08147820830345154, 'learning_rate': 3.0588642350104916e-05, 'epoch': 6.21}\n",
      "{'loss': 0.0107, 'grad_norm': 0.04645935818552971, 'learning_rate': 3.0566319924996656e-05, 'epoch': 6.22}\n",
      "{'loss': 0.0105, 'grad_norm': 0.05745861306786537, 'learning_rate': 3.054399749988839e-05, 'epoch': 6.23}\n",
      "{'loss': 0.0103, 'grad_norm': 0.04198875278234482, 'learning_rate': 3.052167507478013e-05, 'epoch': 6.24}\n",
      "{'loss': 0.0108, 'grad_norm': 0.08244156092405319, 'learning_rate': 3.0499352649671865e-05, 'epoch': 6.24}\n",
      "{'loss': 0.0106, 'grad_norm': 0.047767139971256256, 'learning_rate': 3.0477030224563595e-05, 'epoch': 6.25}\n",
      "{'loss': 0.0108, 'grad_norm': 0.07891302555799484, 'learning_rate': 3.0454707799455334e-05, 'epoch': 6.26}\n",
      "{'loss': 0.0104, 'grad_norm': 0.04058072343468666, 'learning_rate': 3.043238537434707e-05, 'epoch': 6.26}\n",
      "{'loss': 0.0106, 'grad_norm': 0.05974344536662102, 'learning_rate': 3.0410062949238804e-05, 'epoch': 6.27}\n",
      "{'loss': 0.0103, 'grad_norm': 0.044398557394742966, 'learning_rate': 3.0387740524130544e-05, 'epoch': 6.28}\n",
      "{'loss': 0.0103, 'grad_norm': 0.046859972178936005, 'learning_rate': 3.036541809902228e-05, 'epoch': 6.29}\n",
      "{'loss': 0.0105, 'grad_norm': 0.032786332070827484, 'learning_rate': 3.034309567391402e-05, 'epoch': 6.29}\n",
      "{'loss': 0.0099, 'grad_norm': 0.040504660457372665, 'learning_rate': 3.032077324880575e-05, 'epoch': 6.3}\n",
      "{'loss': 0.0107, 'grad_norm': 0.03812146186828613, 'learning_rate': 3.029845082369749e-05, 'epoch': 6.31}\n",
      "{'loss': 0.0103, 'grad_norm': 0.041370149701833725, 'learning_rate': 3.0276128398589225e-05, 'epoch': 6.31}\n",
      "{'loss': 0.0105, 'grad_norm': 0.043288785964250565, 'learning_rate': 3.025380597348096e-05, 'epoch': 6.32}\n",
      "{'loss': 0.0102, 'grad_norm': 0.04069041088223457, 'learning_rate': 3.0231483548372698e-05, 'epoch': 6.33}\n",
      "{'loss': 0.0107, 'grad_norm': 0.06135612353682518, 'learning_rate': 3.0209161123264434e-05, 'epoch': 6.34}\n",
      "{'loss': 0.0102, 'grad_norm': 0.055783264338970184, 'learning_rate': 3.0186838698156167e-05, 'epoch': 6.34}\n",
      "{'loss': 0.0098, 'grad_norm': 0.03552275523543358, 'learning_rate': 3.0164516273047904e-05, 'epoch': 6.35}\n",
      "{'loss': 0.0106, 'grad_norm': 0.03600853681564331, 'learning_rate': 3.0142193847939644e-05, 'epoch': 6.36}\n",
      "{'loss': 0.0105, 'grad_norm': 0.09016186743974686, 'learning_rate': 3.011987142283138e-05, 'epoch': 6.36}\n",
      "{'loss': 0.0101, 'grad_norm': 0.03378179669380188, 'learning_rate': 3.0097772221974198e-05, 'epoch': 6.37}\n",
      "{'loss': 0.0104, 'grad_norm': 0.038656771183013916, 'learning_rate': 3.0075449796865934e-05, 'epoch': 6.38}\n",
      "{'loss': 0.0095, 'grad_norm': 0.05106213688850403, 'learning_rate': 3.0053127371757667e-05, 'epoch': 6.39}\n",
      "{'loss': 0.0101, 'grad_norm': 0.06234672665596008, 'learning_rate': 3.0030804946649404e-05, 'epoch': 6.39}\n",
      "{'loss': 0.0107, 'grad_norm': 0.038316760212183, 'learning_rate': 3.0008482521541143e-05, 'epoch': 6.4}\n",
      "{'loss': 0.0104, 'grad_norm': 0.03225371986627579, 'learning_rate': 2.998616009643288e-05, 'epoch': 6.41}\n",
      "{'loss': 0.0097, 'grad_norm': 0.05733928829431534, 'learning_rate': 2.9963837671324613e-05, 'epoch': 6.41}\n",
      "{'loss': 0.0108, 'grad_norm': 0.049664661288261414, 'learning_rate': 2.994151524621635e-05, 'epoch': 6.42}\n",
      "{'loss': 0.0101, 'grad_norm': 0.06553678959608078, 'learning_rate': 2.991919282110809e-05, 'epoch': 6.43}\n",
      "{'loss': 0.0105, 'grad_norm': 0.017941385507583618, 'learning_rate': 2.9896870395999822e-05, 'epoch': 6.44}\n",
      "{'loss': 0.0105, 'grad_norm': 0.02784314751625061, 'learning_rate': 2.9874547970891558e-05, 'epoch': 6.44}\n",
      "{'loss': 0.0105, 'grad_norm': 0.04419712722301483, 'learning_rate': 2.9852225545783298e-05, 'epoch': 6.45}\n",
      "{'loss': 0.0108, 'grad_norm': 0.03539881110191345, 'learning_rate': 2.9829903120675028e-05, 'epoch': 6.46}\n",
      "{'loss': 0.0103, 'grad_norm': 0.05846159905195236, 'learning_rate': 2.9807580695566767e-05, 'epoch': 6.46}\n",
      "{'loss': 0.0102, 'grad_norm': 0.06604450196027756, 'learning_rate': 2.9785258270458504e-05, 'epoch': 6.47}\n",
      "{'loss': 0.01, 'grad_norm': 0.024665340781211853, 'learning_rate': 2.9762935845350243e-05, 'epoch': 6.48}\n",
      "{'loss': 0.01, 'grad_norm': 0.0510408990085125, 'learning_rate': 2.9740613420241976e-05, 'epoch': 6.49}\n",
      "{'loss': 0.0101, 'grad_norm': 0.03526854142546654, 'learning_rate': 2.9718290995133713e-05, 'epoch': 6.49}\n",
      "{'loss': 0.0103, 'grad_norm': 0.054376937448978424, 'learning_rate': 2.969596857002545e-05, 'epoch': 6.5}\n",
      "{'loss': 0.0102, 'grad_norm': 0.036042772233486176, 'learning_rate': 2.9673646144917182e-05, 'epoch': 6.51}\n",
      "{'loss': 0.01, 'grad_norm': 0.06395672261714935, 'learning_rate': 2.9651323719808922e-05, 'epoch': 6.51}\n",
      "{'loss': 0.0106, 'grad_norm': 0.07137909531593323, 'learning_rate': 2.9629001294700658e-05, 'epoch': 6.52}\n",
      "{'loss': 0.0101, 'grad_norm': 0.05709072947502136, 'learning_rate': 2.960667886959239e-05, 'epoch': 6.53}\n",
      "{'loss': 0.0105, 'grad_norm': 0.04974386468529701, 'learning_rate': 2.9584356444484128e-05, 'epoch': 6.54}\n",
      "{'loss': 0.0103, 'grad_norm': 0.054282937198877335, 'learning_rate': 2.9562034019375867e-05, 'epoch': 6.54}\n",
      "{'loss': 0.0098, 'grad_norm': 0.03187192231416702, 'learning_rate': 2.9539711594267604e-05, 'epoch': 6.55}\n",
      "{'loss': 0.0102, 'grad_norm': 0.0374097004532814, 'learning_rate': 2.9517389169159337e-05, 'epoch': 6.56}\n",
      "{'loss': 0.0104, 'grad_norm': 0.04202191159129143, 'learning_rate': 2.9495066744051076e-05, 'epoch': 6.56}\n",
      "{'loss': 0.0104, 'grad_norm': 0.04468194767832756, 'learning_rate': 2.9472744318942813e-05, 'epoch': 6.57}\n",
      "{'loss': 0.0107, 'grad_norm': 0.04116503894329071, 'learning_rate': 2.9450645118085628e-05, 'epoch': 6.58}\n",
      "{'loss': 0.0105, 'grad_norm': 0.027212640270590782, 'learning_rate': 2.9428322692977367e-05, 'epoch': 6.59}\n",
      "{'loss': 0.0099, 'grad_norm': 0.06454599648714066, 'learning_rate': 2.9406000267869104e-05, 'epoch': 6.59}\n",
      "{'loss': 0.0102, 'grad_norm': 0.05368105694651604, 'learning_rate': 2.9383677842760837e-05, 'epoch': 6.6}\n",
      "{'loss': 0.01, 'grad_norm': 0.03601578250527382, 'learning_rate': 2.9361355417652576e-05, 'epoch': 6.61}\n",
      "{'loss': 0.0104, 'grad_norm': 0.09171617776155472, 'learning_rate': 2.9339032992544313e-05, 'epoch': 6.61}\n",
      "{'loss': 0.0103, 'grad_norm': 0.06778499484062195, 'learning_rate': 2.9316710567436046e-05, 'epoch': 6.62}\n",
      "{'loss': 0.0106, 'grad_norm': 0.06226971000432968, 'learning_rate': 2.9294388142327782e-05, 'epoch': 6.63}\n",
      "{'loss': 0.0103, 'grad_norm': 0.06897234171628952, 'learning_rate': 2.9272065717219522e-05, 'epoch': 6.64}\n",
      "{'loss': 0.0107, 'grad_norm': 0.057494137436151505, 'learning_rate': 2.9249743292111258e-05, 'epoch': 6.64}\n",
      "{'loss': 0.011, 'grad_norm': 0.0577281154692173, 'learning_rate': 2.922742086700299e-05, 'epoch': 6.65}\n",
      "{'loss': 0.01, 'grad_norm': 0.050567980855703354, 'learning_rate': 2.920509844189473e-05, 'epoch': 6.66}\n",
      "{'loss': 0.0104, 'grad_norm': 0.04739324003458023, 'learning_rate': 2.9182776016786467e-05, 'epoch': 6.66}\n",
      "{'loss': 0.0102, 'grad_norm': 0.07192448526620865, 'learning_rate': 2.91604535916782e-05, 'epoch': 6.67}\n",
      "{'loss': 0.0097, 'grad_norm': 0.0808679610490799, 'learning_rate': 2.9138131166569937e-05, 'epoch': 6.68}\n",
      "{'loss': 0.0102, 'grad_norm': 0.06095394864678383, 'learning_rate': 2.9115808741461676e-05, 'epoch': 6.69}\n",
      "{'loss': 0.01, 'grad_norm': 0.03511928766965866, 'learning_rate': 2.909348631635341e-05, 'epoch': 6.69}\n",
      "{'loss': 0.0099, 'grad_norm': 0.048882897943258286, 'learning_rate': 2.9071163891245146e-05, 'epoch': 6.7}\n",
      "{'loss': 0.0097, 'grad_norm': 0.06434668600559235, 'learning_rate': 2.9048841466136882e-05, 'epoch': 6.71}\n",
      "{'loss': 0.0104, 'grad_norm': 0.038645341992378235, 'learning_rate': 2.9026519041028622e-05, 'epoch': 6.71}\n",
      "{'loss': 0.0099, 'grad_norm': 0.06730165332555771, 'learning_rate': 2.9004196615920355e-05, 'epoch': 6.72}\n",
      "{'loss': 0.0105, 'grad_norm': 0.05967482924461365, 'learning_rate': 2.898187419081209e-05, 'epoch': 6.73}\n",
      "{'loss': 0.0098, 'grad_norm': 0.02978331781923771, 'learning_rate': 2.895955176570383e-05, 'epoch': 6.74}\n",
      "{'loss': 0.01, 'grad_norm': 0.04530561342835426, 'learning_rate': 2.893722934059556e-05, 'epoch': 6.74}\n",
      "{'loss': 0.0101, 'grad_norm': 0.041766367852687836, 'learning_rate': 2.89149069154873e-05, 'epoch': 6.75}\n",
      "{'loss': 0.0104, 'grad_norm': 0.02638489566743374, 'learning_rate': 2.8892584490379037e-05, 'epoch': 6.76}\n",
      "{'loss': 0.0099, 'grad_norm': 0.07109726965427399, 'learning_rate': 2.887026206527077e-05, 'epoch': 6.76}\n",
      "{'loss': 0.01, 'grad_norm': 0.036445725709199905, 'learning_rate': 2.884793964016251e-05, 'epoch': 6.77}\n",
      "{'loss': 0.0101, 'grad_norm': 0.03957290202379227, 'learning_rate': 2.8825617215054246e-05, 'epoch': 6.78}\n",
      "{'loss': 0.0102, 'grad_norm': 0.044550854712724686, 'learning_rate': 2.8803294789945982e-05, 'epoch': 6.79}\n",
      "{'loss': 0.0102, 'grad_norm': 0.029195399954915047, 'learning_rate': 2.8780972364837715e-05, 'epoch': 6.79}\n",
      "{'loss': 0.0107, 'grad_norm': 0.03317345678806305, 'learning_rate': 2.8758649939729455e-05, 'epoch': 6.8}\n",
      "{'loss': 0.01, 'grad_norm': 0.056748904287815094, 'learning_rate': 2.873632751462119e-05, 'epoch': 6.81}\n",
      "{'loss': 0.0101, 'grad_norm': 0.04246136173605919, 'learning_rate': 2.8714005089512924e-05, 'epoch': 6.81}\n",
      "{'loss': 0.01, 'grad_norm': 0.0417293980717659, 'learning_rate': 2.869168266440466e-05, 'epoch': 6.82}\n",
      "{'loss': 0.0098, 'grad_norm': 0.03977559879422188, 'learning_rate': 2.86693602392964e-05, 'epoch': 6.83}\n",
      "{'loss': 0.0096, 'grad_norm': 0.09088850766420364, 'learning_rate': 2.8647037814188133e-05, 'epoch': 6.84}\n",
      "{'loss': 0.0104, 'grad_norm': 0.059634409844875336, 'learning_rate': 2.862471538907987e-05, 'epoch': 6.84}\n",
      "{'loss': 0.01, 'grad_norm': 0.027708817273378372, 'learning_rate': 2.860239296397161e-05, 'epoch': 6.85}\n",
      "{'loss': 0.0103, 'grad_norm': 0.049118101596832275, 'learning_rate': 2.8580070538863346e-05, 'epoch': 6.86}\n",
      "{'loss': 0.0099, 'grad_norm': 0.04420573264360428, 'learning_rate': 2.855797133800616e-05, 'epoch': 6.86}\n",
      "{'loss': 0.0101, 'grad_norm': 0.06306945532560349, 'learning_rate': 2.85356489128979e-05, 'epoch': 6.87}\n",
      "{'loss': 0.0102, 'grad_norm': 0.019658010452985764, 'learning_rate': 2.8513326487789633e-05, 'epoch': 6.88}\n",
      "{'loss': 0.0105, 'grad_norm': 0.08184615522623062, 'learning_rate': 2.849100406268137e-05, 'epoch': 6.89}\n",
      "{'loss': 0.0101, 'grad_norm': 0.04346334934234619, 'learning_rate': 2.846868163757311e-05, 'epoch': 6.89}\n",
      "{'loss': 0.0103, 'grad_norm': 0.040434904396533966, 'learning_rate': 2.8446359212464846e-05, 'epoch': 6.9}\n",
      "{'loss': 0.01, 'grad_norm': 0.033901363611221313, 'learning_rate': 2.842426001160766e-05, 'epoch': 6.91}\n",
      "{'loss': 0.0103, 'grad_norm': 0.07693078368902206, 'learning_rate': 2.84019375864994e-05, 'epoch': 6.91}\n",
      "{'loss': 0.0103, 'grad_norm': 0.044090982526540756, 'learning_rate': 2.8379615161391137e-05, 'epoch': 6.92}\n",
      "{'loss': 0.0103, 'grad_norm': 0.036781296133995056, 'learning_rate': 2.835729273628287e-05, 'epoch': 6.93}\n",
      "{'loss': 0.0096, 'grad_norm': 0.055507052689790726, 'learning_rate': 2.833497031117461e-05, 'epoch': 6.94}\n",
      "{'loss': 0.0099, 'grad_norm': 0.058691203594207764, 'learning_rate': 2.8312647886066346e-05, 'epoch': 6.94}\n",
      "{'loss': 0.0102, 'grad_norm': 0.06644632667303085, 'learning_rate': 2.829032546095808e-05, 'epoch': 6.95}\n",
      "{'loss': 0.0102, 'grad_norm': 0.052184879779815674, 'learning_rate': 2.8268003035849815e-05, 'epoch': 6.96}\n",
      "{'loss': 0.0107, 'grad_norm': 0.08611404895782471, 'learning_rate': 2.8245680610741555e-05, 'epoch': 6.96}\n",
      "{'loss': 0.0103, 'grad_norm': 0.044731736183166504, 'learning_rate': 2.8223358185633288e-05, 'epoch': 6.97}\n",
      "{'loss': 0.0097, 'grad_norm': 0.044575706124305725, 'learning_rate': 2.8201035760525024e-05, 'epoch': 6.98}\n",
      "{'loss': 0.0104, 'grad_norm': 0.03519298508763313, 'learning_rate': 2.817871333541676e-05, 'epoch': 6.99}\n",
      "{'loss': 0.0101, 'grad_norm': 0.051859207451343536, 'learning_rate': 2.81563909103085e-05, 'epoch': 6.99}\n",
      "{'loss': 0.0096, 'grad_norm': 0.05063558369874954, 'learning_rate': 2.8134068485200233e-05, 'epoch': 7.0}\n"
     ]
    },
    {
     "data": {
      "application/vnd.jupyter.widget-view+json": {
       "model_id": "547f5a65eb4d496d85bac861669f3f8d",
       "version_major": 2,
       "version_minor": 0
      },
      "text/plain": [
       "  0%|          | 0/3479 [00:00<?, ?it/s]"
      ]
     },
     "metadata": {},
     "output_type": "display_data"
    },
    {
     "name": "stdout",
     "output_type": "stream",
     "text": [
      "{'eval_loss': 0.009313187561929226, 'eval_accuracy_micro_0.5': 0.9962736368179321, 'eval_accuracy_macro_0.5': 0.9962736368179321, 'eval_accuracy_weighted_0.5': 0.9916695356369019, 'eval_f1_micro_0.5': 0.5903576612472534, 'eval_f1_macro_0.5': 0.4632417559623718, 'eval_f1_weighted_0.5': 0.5474647879600525, 'eval_f1_micro_0.6': 0.5362193584442139, 'eval_f1_macro_0.6': 0.3994079828262329, 'eval_f1_weighted_0.6': 0.4846704602241516, 'eval_f1_micro_0.7': 0.45278191566467285, 'eval_f1_macro_0.7': 0.31739675998687744, 'eval_f1_weighted_0.7': 0.39522114396095276, 'eval_f1_micro_0.8': 0.34051811695098877, 'eval_f1_macro_0.8': 0.10436981171369553, 'eval_f1_weighted_0.8': 0.14875856041908264, 'eval_f1_micro_0.9': 0.18875545263290405, 'eval_aucroc_micro': 0.8424264788627625, 'eval_aucroc_macro': 0.8034046292304993, 'eval_aucroc_weighted': 0.8409590721130371, 'eval_runtime': 1077.569, 'eval_samples_per_second': 51.653, 'eval_steps_per_second': 3.229, 'epoch': 7.0}\n",
      "{'loss': 0.0095, 'grad_norm': 0.08558765053749084, 'learning_rate': 2.811174606009197e-05, 'epoch': 7.01}\n",
      "{'loss': 0.0108, 'grad_norm': 0.04707075282931328, 'learning_rate': 2.808942363498371e-05, 'epoch': 7.01}\n",
      "{'loss': 0.01, 'grad_norm': 0.07426667213439941, 'learning_rate': 2.806710120987544e-05, 'epoch': 7.02}\n",
      "{'loss': 0.0097, 'grad_norm': 0.04678228497505188, 'learning_rate': 2.804477878476718e-05, 'epoch': 7.03}\n",
      "{'loss': 0.0094, 'grad_norm': 0.0667833760380745, 'learning_rate': 2.8022456359658915e-05, 'epoch': 7.04}\n",
      "{'loss': 0.01, 'grad_norm': 0.04739324003458023, 'learning_rate': 2.8000133934550648e-05, 'epoch': 7.04}\n",
      "{'loss': 0.0103, 'grad_norm': 0.053415410220623016, 'learning_rate': 2.7977811509442388e-05, 'epoch': 7.05}\n",
      "{'loss': 0.0102, 'grad_norm': 0.03766453266143799, 'learning_rate': 2.7955489084334124e-05, 'epoch': 7.06}\n",
      "{'loss': 0.0098, 'grad_norm': 0.05105753242969513, 'learning_rate': 2.7933166659225864e-05, 'epoch': 7.06}\n",
      "{'loss': 0.0095, 'grad_norm': 0.035369664430618286, 'learning_rate': 2.7910844234117593e-05, 'epoch': 7.07}\n",
      "{'loss': 0.01, 'grad_norm': 0.10167360305786133, 'learning_rate': 2.7888521809009333e-05, 'epoch': 7.08}\n",
      "{'loss': 0.0098, 'grad_norm': 0.025747762992978096, 'learning_rate': 2.786619938390107e-05, 'epoch': 7.09}\n",
      "{'loss': 0.0104, 'grad_norm': 0.061132486909627914, 'learning_rate': 2.7843876958792802e-05, 'epoch': 7.09}\n",
      "{'loss': 0.0094, 'grad_norm': 0.034567732363939285, 'learning_rate': 2.7821554533684542e-05, 'epoch': 7.1}\n",
      "{'loss': 0.0105, 'grad_norm': 0.03971732407808304, 'learning_rate': 2.779923210857628e-05, 'epoch': 7.11}\n",
      "{'loss': 0.0106, 'grad_norm': 0.034850917756557465, 'learning_rate': 2.777690968346801e-05, 'epoch': 7.11}\n",
      "{'loss': 0.0104, 'grad_norm': 0.06179754436016083, 'learning_rate': 2.7754587258359748e-05, 'epoch': 7.12}\n",
      "{'loss': 0.0099, 'grad_norm': 0.04950118064880371, 'learning_rate': 2.7732264833251488e-05, 'epoch': 7.13}\n",
      "{'loss': 0.0099, 'grad_norm': 0.038017746061086655, 'learning_rate': 2.7709942408143224e-05, 'epoch': 7.14}\n",
      "{'loss': 0.0104, 'grad_norm': 0.03620541840791702, 'learning_rate': 2.7687843207286042e-05, 'epoch': 7.14}\n",
      "{'loss': 0.0098, 'grad_norm': 0.028549784794449806, 'learning_rate': 2.766552078217778e-05, 'epoch': 7.15}\n",
      "{'loss': 0.0097, 'grad_norm': 0.05350948125123978, 'learning_rate': 2.764319835706951e-05, 'epoch': 7.16}\n",
      "{'loss': 0.0095, 'grad_norm': 0.05313858017325401, 'learning_rate': 2.7620875931961248e-05, 'epoch': 7.16}\n",
      "{'loss': 0.01, 'grad_norm': 0.05689987912774086, 'learning_rate': 2.7598553506852988e-05, 'epoch': 7.17}\n",
      "{'loss': 0.0098, 'grad_norm': 0.0360390804708004, 'learning_rate': 2.7576231081744724e-05, 'epoch': 7.18}\n",
      "{'loss': 0.0102, 'grad_norm': 0.04602515324950218, 'learning_rate': 2.7553908656636457e-05, 'epoch': 7.19}\n",
      "{'loss': 0.0094, 'grad_norm': 0.08717450499534607, 'learning_rate': 2.7531586231528193e-05, 'epoch': 7.19}\n",
      "{'loss': 0.01, 'grad_norm': 0.05213870853185654, 'learning_rate': 2.7509263806419933e-05, 'epoch': 7.2}\n",
      "{'loss': 0.0093, 'grad_norm': 0.06602460891008377, 'learning_rate': 2.7486941381311666e-05, 'epoch': 7.21}\n",
      "{'loss': 0.0104, 'grad_norm': 0.05095793679356575, 'learning_rate': 2.7464618956203402e-05, 'epoch': 7.21}\n",
      "{'loss': 0.0092, 'grad_norm': 0.08389279246330261, 'learning_rate': 2.7442296531095142e-05, 'epoch': 7.22}\n",
      "{'loss': 0.0098, 'grad_norm': 0.03496389463543892, 'learning_rate': 2.7419974105986872e-05, 'epoch': 7.23}\n",
      "{'loss': 0.0103, 'grad_norm': 0.08788058161735535, 'learning_rate': 2.739765168087861e-05, 'epoch': 7.24}\n",
      "{'loss': 0.01, 'grad_norm': 0.053223442286252975, 'learning_rate': 2.7375329255770348e-05, 'epoch': 7.24}\n",
      "{'loss': 0.0096, 'grad_norm': 0.08705534040927887, 'learning_rate': 2.7353006830662088e-05, 'epoch': 7.25}\n",
      "{'loss': 0.0099, 'grad_norm': 0.02968555875122547, 'learning_rate': 2.733068440555382e-05, 'epoch': 7.26}\n",
      "{'loss': 0.0101, 'grad_norm': 0.058211613446474075, 'learning_rate': 2.7308361980445557e-05, 'epoch': 7.26}\n",
      "{'loss': 0.0095, 'grad_norm': 0.04179249331355095, 'learning_rate': 2.7286039555337293e-05, 'epoch': 7.27}\n",
      "{'loss': 0.0099, 'grad_norm': 0.04279083013534546, 'learning_rate': 2.7263717130229026e-05, 'epoch': 7.28}\n",
      "{'loss': 0.01, 'grad_norm': 0.05255124717950821, 'learning_rate': 2.7241394705120766e-05, 'epoch': 7.29}\n",
      "{'loss': 0.0102, 'grad_norm': 0.08819930255413055, 'learning_rate': 2.7219072280012502e-05, 'epoch': 7.29}\n",
      "{'loss': 0.01, 'grad_norm': 0.05871821939945221, 'learning_rate': 2.7196749854904235e-05, 'epoch': 7.3}\n",
      "{'loss': 0.0094, 'grad_norm': 0.048047903925180435, 'learning_rate': 2.7174650654047057e-05, 'epoch': 7.31}\n",
      "{'loss': 0.0103, 'grad_norm': 0.08744535595178604, 'learning_rate': 2.7152328228938793e-05, 'epoch': 7.31}\n",
      "{'loss': 0.0102, 'grad_norm': 0.06559671461582184, 'learning_rate': 2.7130005803830526e-05, 'epoch': 7.32}\n",
      "{'loss': 0.0096, 'grad_norm': 0.048618387430906296, 'learning_rate': 2.7107683378722266e-05, 'epoch': 7.33}\n",
      "{'loss': 0.0103, 'grad_norm': 0.06752469390630722, 'learning_rate': 2.7085360953614002e-05, 'epoch': 7.34}\n",
      "{'loss': 0.0094, 'grad_norm': 0.05175724998116493, 'learning_rate': 2.7063038528505742e-05, 'epoch': 7.34}\n",
      "{'loss': 0.0103, 'grad_norm': 0.03171849995851517, 'learning_rate': 2.7040716103397472e-05, 'epoch': 7.35}\n",
      "{'loss': 0.0102, 'grad_norm': 0.03203835338354111, 'learning_rate': 2.701839367828921e-05, 'epoch': 7.36}\n",
      "{'loss': 0.0106, 'grad_norm': 0.0474022775888443, 'learning_rate': 2.6996071253180948e-05, 'epoch': 7.36}\n",
      "{'loss': 0.0095, 'grad_norm': 0.0440511628985405, 'learning_rate': 2.697374882807268e-05, 'epoch': 7.37}\n",
      "{'loss': 0.0098, 'grad_norm': 0.053547054529190063, 'learning_rate': 2.695142640296442e-05, 'epoch': 7.38}\n",
      "{'loss': 0.0102, 'grad_norm': 0.0342867448925972, 'learning_rate': 2.6929103977856157e-05, 'epoch': 7.39}\n",
      "{'loss': 0.0098, 'grad_norm': 0.048195961862802505, 'learning_rate': 2.690678155274789e-05, 'epoch': 7.39}\n",
      "{'loss': 0.0099, 'grad_norm': 0.04488610103726387, 'learning_rate': 2.6884459127639626e-05, 'epoch': 7.4}\n",
      "{'loss': 0.0098, 'grad_norm': 0.057572200894355774, 'learning_rate': 2.6862136702531366e-05, 'epoch': 7.41}\n",
      "{'loss': 0.0097, 'grad_norm': 0.07327359169721603, 'learning_rate': 2.6839814277423102e-05, 'epoch': 7.41}\n",
      "{'loss': 0.0102, 'grad_norm': 0.026784174144268036, 'learning_rate': 2.6817491852314835e-05, 'epoch': 7.42}\n",
      "{'loss': 0.0105, 'grad_norm': 0.05617741867899895, 'learning_rate': 2.6795169427206575e-05, 'epoch': 7.43}\n",
      "{'loss': 0.0101, 'grad_norm': 0.04725775495171547, 'learning_rate': 2.677284700209831e-05, 'epoch': 7.44}\n",
      "{'loss': 0.0098, 'grad_norm': 0.08205925673246384, 'learning_rate': 2.6750524576990044e-05, 'epoch': 7.44}\n",
      "{'loss': 0.0095, 'grad_norm': 0.07046172022819519, 'learning_rate': 2.672820215188178e-05, 'epoch': 7.45}\n",
      "{'loss': 0.0094, 'grad_norm': 0.038299817591905594, 'learning_rate': 2.670587972677352e-05, 'epoch': 7.46}\n",
      "{'loss': 0.0098, 'grad_norm': 0.03731660917401314, 'learning_rate': 2.668355730166525e-05, 'epoch': 7.46}\n",
      "{'loss': 0.01, 'grad_norm': 0.044893331825733185, 'learning_rate': 2.666123487655699e-05, 'epoch': 7.47}\n",
      "{'loss': 0.0095, 'grad_norm': 0.06933242082595825, 'learning_rate': 2.6638912451448726e-05, 'epoch': 7.48}\n",
      "{'loss': 0.0091, 'grad_norm': 0.033537670969963074, 'learning_rate': 2.6616590026340466e-05, 'epoch': 7.49}\n",
      "{'loss': 0.0098, 'grad_norm': 0.05934668332338333, 'learning_rate': 2.65942676012322e-05, 'epoch': 7.49}\n",
      "{'loss': 0.0103, 'grad_norm': 0.04075486585497856, 'learning_rate': 2.6571945176123935e-05, 'epoch': 7.5}\n",
      "{'loss': 0.0093, 'grad_norm': 0.09353061020374298, 'learning_rate': 2.6549622751015675e-05, 'epoch': 7.51}\n",
      "{'loss': 0.0091, 'grad_norm': 0.03065115213394165, 'learning_rate': 2.652752355015849e-05, 'epoch': 7.51}\n",
      "{'loss': 0.0095, 'grad_norm': 0.07241536676883698, 'learning_rate': 2.6505201125050226e-05, 'epoch': 7.52}\n",
      "{'loss': 0.0102, 'grad_norm': 0.03777114674448967, 'learning_rate': 2.6482878699941966e-05, 'epoch': 7.53}\n",
      "{'loss': 0.0091, 'grad_norm': 0.03663629665970802, 'learning_rate': 2.64605562748337e-05, 'epoch': 7.54}\n",
      "{'loss': 0.01, 'grad_norm': 0.02817365527153015, 'learning_rate': 2.6438233849725435e-05, 'epoch': 7.54}\n",
      "{'loss': 0.01, 'grad_norm': 0.061109237372875214, 'learning_rate': 2.6415911424617175e-05, 'epoch': 7.55}\n",
      "{'loss': 0.0099, 'grad_norm': 0.060469500720500946, 'learning_rate': 2.6393588999508905e-05, 'epoch': 7.56}\n",
      "{'loss': 0.0099, 'grad_norm': 0.04872536659240723, 'learning_rate': 2.6371266574400644e-05, 'epoch': 7.56}\n",
      "{'loss': 0.0103, 'grad_norm': 0.03191370889544487, 'learning_rate': 2.634894414929238e-05, 'epoch': 7.57}\n",
      "{'loss': 0.0099, 'grad_norm': 0.05533914640545845, 'learning_rate': 2.6326621724184114e-05, 'epoch': 7.58}\n",
      "{'loss': 0.0094, 'grad_norm': 0.01634569838643074, 'learning_rate': 2.6304299299075853e-05, 'epoch': 7.59}\n",
      "{'loss': 0.0097, 'grad_norm': 0.043937087059020996, 'learning_rate': 2.628197687396759e-05, 'epoch': 7.59}\n",
      "{'loss': 0.0099, 'grad_norm': 0.036123208701610565, 'learning_rate': 2.6259654448859326e-05, 'epoch': 7.6}\n",
      "{'loss': 0.0095, 'grad_norm': 0.08418403565883636, 'learning_rate': 2.623733202375106e-05, 'epoch': 7.61}\n",
      "{'loss': 0.0092, 'grad_norm': 0.019609898328781128, 'learning_rate': 2.62150095986428e-05, 'epoch': 7.61}\n",
      "{'loss': 0.0102, 'grad_norm': 0.03874322399497032, 'learning_rate': 2.6192687173534535e-05, 'epoch': 7.62}\n",
      "{'loss': 0.0098, 'grad_norm': 0.058212760835886, 'learning_rate': 2.6170364748426268e-05, 'epoch': 7.63}\n",
      "{'loss': 0.0099, 'grad_norm': 0.058968435972929, 'learning_rate': 2.6148042323318005e-05, 'epoch': 7.64}\n",
      "{'loss': 0.0094, 'grad_norm': 0.04435268044471741, 'learning_rate': 2.6125719898209744e-05, 'epoch': 7.64}\n",
      "{'loss': 0.0102, 'grad_norm': 0.06273773312568665, 'learning_rate': 2.6103397473101477e-05, 'epoch': 7.65}\n",
      "{'loss': 0.01, 'grad_norm': 0.06492350250482559, 'learning_rate': 2.6081075047993214e-05, 'epoch': 7.66}\n",
      "{'loss': 0.0099, 'grad_norm': 0.03804286569356918, 'learning_rate': 2.6058752622884953e-05, 'epoch': 7.66}\n",
      "{'loss': 0.0099, 'grad_norm': 0.04308684915304184, 'learning_rate': 2.603643019777669e-05, 'epoch': 7.67}\n",
      "{'loss': 0.0099, 'grad_norm': 0.037376657128334045, 'learning_rate': 2.6014107772668423e-05, 'epoch': 7.68}\n",
      "{'loss': 0.0095, 'grad_norm': 0.04370943456888199, 'learning_rate': 2.599178534756016e-05, 'epoch': 7.69}\n",
      "{'loss': 0.0097, 'grad_norm': 0.0751788541674614, 'learning_rate': 2.59694629224519e-05, 'epoch': 7.69}\n",
      "{'loss': 0.0101, 'grad_norm': 0.05778137221932411, 'learning_rate': 2.5947140497343632e-05, 'epoch': 7.7}\n",
      "{'loss': 0.0097, 'grad_norm': 0.03143978863954544, 'learning_rate': 2.5924818072235368e-05, 'epoch': 7.71}\n",
      "{'loss': 0.0098, 'grad_norm': 0.06140397861599922, 'learning_rate': 2.5902495647127105e-05, 'epoch': 7.71}\n",
      "{'loss': 0.01, 'grad_norm': 0.05731787532567978, 'learning_rate': 2.5880173222018838e-05, 'epoch': 7.72}\n",
      "{'loss': 0.0099, 'grad_norm': 0.0671079233288765, 'learning_rate': 2.5857850796910577e-05, 'epoch': 7.73}\n",
      "{'loss': 0.0102, 'grad_norm': 0.04621756076812744, 'learning_rate': 2.5835528371802314e-05, 'epoch': 7.74}\n",
      "{'loss': 0.0098, 'grad_norm': 0.08133746683597565, 'learning_rate': 2.5813205946694054e-05, 'epoch': 7.74}\n",
      "{'loss': 0.0098, 'grad_norm': 0.05202288553118706, 'learning_rate': 2.5790883521585783e-05, 'epoch': 7.75}\n",
      "{'loss': 0.0099, 'grad_norm': 0.062476787716150284, 'learning_rate': 2.5768561096477523e-05, 'epoch': 7.76}\n",
      "{'loss': 0.01, 'grad_norm': 0.051455508917570114, 'learning_rate': 2.574623867136926e-05, 'epoch': 7.76}\n",
      "{'loss': 0.0103, 'grad_norm': 0.058626145124435425, 'learning_rate': 2.5723916246260992e-05, 'epoch': 7.77}\n",
      "{'loss': 0.0095, 'grad_norm': 0.03988068923354149, 'learning_rate': 2.5701593821152732e-05, 'epoch': 7.78}\n",
      "{'loss': 0.0091, 'grad_norm': 0.058056242763996124, 'learning_rate': 2.567927139604447e-05, 'epoch': 7.79}\n",
      "{'loss': 0.0101, 'grad_norm': 0.032542433589696884, 'learning_rate': 2.56569489709362e-05, 'epoch': 7.79}\n",
      "{'loss': 0.0098, 'grad_norm': 0.06564254313707352, 'learning_rate': 2.5634849770079023e-05, 'epoch': 7.8}\n",
      "{'loss': 0.01, 'grad_norm': 0.05456871911883354, 'learning_rate': 2.561252734497076e-05, 'epoch': 7.81}\n",
      "{'loss': 0.0098, 'grad_norm': 0.050590164959430695, 'learning_rate': 2.5590204919862492e-05, 'epoch': 7.81}\n",
      "{'loss': 0.0094, 'grad_norm': 0.05886235460639, 'learning_rate': 2.5567882494754232e-05, 'epoch': 7.82}\n",
      "{'loss': 0.0096, 'grad_norm': 0.04317810386419296, 'learning_rate': 2.5545560069645968e-05, 'epoch': 7.83}\n",
      "{'loss': 0.0096, 'grad_norm': 0.03374262526631355, 'learning_rate': 2.5523237644537708e-05, 'epoch': 7.84}\n",
      "{'loss': 0.0106, 'grad_norm': 0.0439474955201149, 'learning_rate': 2.5500915219429438e-05, 'epoch': 7.84}\n",
      "{'loss': 0.0098, 'grad_norm': 0.05300607904791832, 'learning_rate': 2.5478592794321177e-05, 'epoch': 7.85}\n",
      "{'loss': 0.0101, 'grad_norm': 0.051838140934705734, 'learning_rate': 2.5456270369212914e-05, 'epoch': 7.86}\n",
      "{'loss': 0.0093, 'grad_norm': 0.032253019511699677, 'learning_rate': 2.5433947944104647e-05, 'epoch': 7.86}\n",
      "{'loss': 0.0096, 'grad_norm': 0.056975219398736954, 'learning_rate': 2.5411625518996386e-05, 'epoch': 7.87}\n",
      "{'loss': 0.0097, 'grad_norm': 0.05825331434607506, 'learning_rate': 2.5389303093888123e-05, 'epoch': 7.88}\n",
      "{'loss': 0.0099, 'grad_norm': 0.0485205315053463, 'learning_rate': 2.5366980668779856e-05, 'epoch': 7.89}\n",
      "{'loss': 0.0099, 'grad_norm': 0.04795287922024727, 'learning_rate': 2.5344658243671592e-05, 'epoch': 7.89}\n",
      "{'loss': 0.0101, 'grad_norm': 0.06420881301164627, 'learning_rate': 2.5322335818563332e-05, 'epoch': 7.9}\n",
      "{'loss': 0.0096, 'grad_norm': 0.0383213572204113, 'learning_rate': 2.5300013393455068e-05, 'epoch': 7.91}\n",
      "{'loss': 0.0105, 'grad_norm': 0.0359020009636879, 'learning_rate': 2.52776909683468e-05, 'epoch': 7.91}\n",
      "{'loss': 0.0098, 'grad_norm': 0.03990061581134796, 'learning_rate': 2.5255368543238538e-05, 'epoch': 7.92}\n",
      "{'loss': 0.0094, 'grad_norm': 0.08542459458112717, 'learning_rate': 2.5233046118130277e-05, 'epoch': 7.93}\n",
      "{'loss': 0.0102, 'grad_norm': 0.04047967493534088, 'learning_rate': 2.521072369302201e-05, 'epoch': 7.94}\n",
      "{'loss': 0.0105, 'grad_norm': 0.057170044630765915, 'learning_rate': 2.5188624492164832e-05, 'epoch': 7.94}\n",
      "{'loss': 0.0098, 'grad_norm': 0.05343734100461006, 'learning_rate': 2.5166302067056568e-05, 'epoch': 7.95}\n",
      "{'loss': 0.0098, 'grad_norm': 0.050510384142398834, 'learning_rate': 2.51439796419483e-05, 'epoch': 7.96}\n",
      "{'loss': 0.0096, 'grad_norm': 0.04025964438915253, 'learning_rate': 2.5121880441091123e-05, 'epoch': 7.96}\n",
      "{'loss': 0.0103, 'grad_norm': 0.060489047318696976, 'learning_rate': 2.509955801598286e-05, 'epoch': 7.97}\n",
      "{'loss': 0.0097, 'grad_norm': 0.040885671973228455, 'learning_rate': 2.5077235590874592e-05, 'epoch': 7.98}\n",
      "{'loss': 0.0103, 'grad_norm': 0.03929651901125908, 'learning_rate': 2.5054913165766332e-05, 'epoch': 7.99}\n",
      "{'loss': 0.0099, 'grad_norm': 0.03196730092167854, 'learning_rate': 2.5032590740658068e-05, 'epoch': 7.99}\n",
      "{'loss': 0.0099, 'grad_norm': 0.07019899040460587, 'learning_rate': 2.50102683155498e-05, 'epoch': 8.0}\n"
     ]
    },
    {
     "data": {
      "application/vnd.jupyter.widget-view+json": {
       "model_id": "a186def47a2c4e6f87b042e04c7d72a2",
       "version_major": 2,
       "version_minor": 0
      },
      "text/plain": [
       "  0%|          | 0/3479 [00:00<?, ?it/s]"
      ]
     },
     "metadata": {},
     "output_type": "display_data"
    },
    {
     "name": "stdout",
     "output_type": "stream",
     "text": [
      "{'eval_loss': 0.008971371687948704, 'eval_accuracy_micro_0.5': 0.9963579773902893, 'eval_accuracy_macro_0.5': 0.9963579177856445, 'eval_accuracy_weighted_0.5': 0.9918036460876465, 'eval_f1_micro_0.5': 0.605137288570404, 'eval_f1_macro_0.5': 0.48546725511550903, 'eval_f1_weighted_0.5': 0.56472247838974, 'eval_f1_micro_0.6': 0.5530071258544922, 'eval_f1_macro_0.6': 0.421345591545105, 'eval_f1_weighted_0.6': 0.5034002661705017, 'eval_f1_micro_0.7': 0.47528859972953796, 'eval_f1_macro_0.7': 0.3420727849006653, 'eval_f1_weighted_0.7': 0.41895484924316406, 'eval_f1_micro_0.8': 0.3627331554889679, 'eval_f1_macro_0.8': 0.1275106817483902, 'eval_f1_weighted_0.8': 0.16890177130699158, 'eval_f1_micro_0.9': 0.21341001987457275, 'eval_aucroc_micro': 0.8482233881950378, 'eval_aucroc_macro': 0.812275767326355, 'eval_aucroc_weighted': 0.8467906713485718, 'eval_runtime': 1605.6726, 'eval_samples_per_second': 34.665, 'eval_steps_per_second': 2.167, 'epoch': 8.0}\n",
      "{'loss': 0.0095, 'grad_norm': 0.04471851512789726, 'learning_rate': 2.4987945890441537e-05, 'epoch': 8.01}\n",
      "{'loss': 0.0096, 'grad_norm': 0.042255181819200516, 'learning_rate': 2.4965623465333274e-05, 'epoch': 8.01}\n",
      "{'loss': 0.0101, 'grad_norm': 0.033744633197784424, 'learning_rate': 2.494330104022501e-05, 'epoch': 8.02}\n",
      "{'loss': 0.0097, 'grad_norm': 0.03876546770334244, 'learning_rate': 2.4920978615116747e-05, 'epoch': 8.03}\n",
      "{'loss': 0.0096, 'grad_norm': 0.055725160986185074, 'learning_rate': 2.4898656190008486e-05, 'epoch': 8.04}\n",
      "{'loss': 0.0093, 'grad_norm': 0.05440991371870041, 'learning_rate': 2.487633376490022e-05, 'epoch': 8.04}\n",
      "{'loss': 0.0096, 'grad_norm': 0.0332217775285244, 'learning_rate': 2.4854011339791956e-05, 'epoch': 8.05}\n",
      "{'loss': 0.0097, 'grad_norm': 0.024704640731215477, 'learning_rate': 2.4831688914683692e-05, 'epoch': 8.06}\n",
      "{'loss': 0.0092, 'grad_norm': 0.035239577293395996, 'learning_rate': 2.480936648957543e-05, 'epoch': 8.06}\n",
      "{'loss': 0.0091, 'grad_norm': 0.0716656967997551, 'learning_rate': 2.4787044064467165e-05, 'epoch': 8.07}\n",
      "{'loss': 0.0097, 'grad_norm': 0.03709694743156433, 'learning_rate': 2.47647216393589e-05, 'epoch': 8.08}\n",
      "{'loss': 0.0098, 'grad_norm': 0.055581264197826385, 'learning_rate': 2.4742399214250637e-05, 'epoch': 8.09}\n",
      "{'loss': 0.0098, 'grad_norm': 0.13576997816562653, 'learning_rate': 2.4720076789142374e-05, 'epoch': 8.09}\n",
      "{'loss': 0.0098, 'grad_norm': 0.03077353723347187, 'learning_rate': 2.469775436403411e-05, 'epoch': 8.1}\n",
      "{'loss': 0.01, 'grad_norm': 0.055879782885313034, 'learning_rate': 2.4675431938925847e-05, 'epoch': 8.11}\n",
      "{'loss': 0.0101, 'grad_norm': 0.020704887807369232, 'learning_rate': 2.4653109513817583e-05, 'epoch': 8.11}\n",
      "{'loss': 0.0098, 'grad_norm': 0.07763080298900604, 'learning_rate': 2.4630787088709316e-05, 'epoch': 8.12}\n",
      "{'loss': 0.0098, 'grad_norm': 0.04885292053222656, 'learning_rate': 2.4608464663601056e-05, 'epoch': 8.13}\n",
      "{'loss': 0.0093, 'grad_norm': 0.08096051961183548, 'learning_rate': 2.4586142238492792e-05, 'epoch': 8.14}\n",
      "{'loss': 0.0101, 'grad_norm': 0.022112198173999786, 'learning_rate': 2.456381981338453e-05, 'epoch': 8.14}\n",
      "{'loss': 0.0103, 'grad_norm': 0.04620129615068436, 'learning_rate': 2.4541497388276265e-05, 'epoch': 8.15}\n",
      "{'loss': 0.0098, 'grad_norm': 0.053612206131219864, 'learning_rate': 2.4519174963167998e-05, 'epoch': 8.16}\n",
      "{'loss': 0.0098, 'grad_norm': 0.039429713040590286, 'learning_rate': 2.4496852538059737e-05, 'epoch': 8.16}\n",
      "{'loss': 0.0092, 'grad_norm': 0.08421586453914642, 'learning_rate': 2.447453011295147e-05, 'epoch': 8.17}\n",
      "{'loss': 0.0097, 'grad_norm': 0.02760048396885395, 'learning_rate': 2.445220768784321e-05, 'epoch': 8.18}\n",
      "{'loss': 0.0094, 'grad_norm': 0.0740702897310257, 'learning_rate': 2.4429885262734943e-05, 'epoch': 8.19}\n",
      "{'loss': 0.0096, 'grad_norm': 0.04386688396334648, 'learning_rate': 2.440756283762668e-05, 'epoch': 8.19}\n",
      "{'loss': 0.0097, 'grad_norm': 0.05407228320837021, 'learning_rate': 2.4385240412518416e-05, 'epoch': 8.2}\n",
      "{'loss': 0.0094, 'grad_norm': 0.07559746503829956, 'learning_rate': 2.4362917987410152e-05, 'epoch': 8.21}\n",
      "{'loss': 0.0099, 'grad_norm': 0.02734001725912094, 'learning_rate': 2.4340595562301892e-05, 'epoch': 8.21}\n",
      "{'loss': 0.0097, 'grad_norm': 0.05687757208943367, 'learning_rate': 2.4318273137193625e-05, 'epoch': 8.22}\n",
      "{'loss': 0.0098, 'grad_norm': 0.07658285647630692, 'learning_rate': 2.429595071208536e-05, 'epoch': 8.23}\n",
      "{'loss': 0.0096, 'grad_norm': 0.03989588841795921, 'learning_rate': 2.4273851511228183e-05, 'epoch': 8.24}\n",
      "{'loss': 0.0091, 'grad_norm': 0.04157762974500656, 'learning_rate': 2.4251529086119916e-05, 'epoch': 8.24}\n",
      "{'loss': 0.0099, 'grad_norm': 0.08687402307987213, 'learning_rate': 2.4229206661011652e-05, 'epoch': 8.25}\n",
      "{'loss': 0.0094, 'grad_norm': 0.05386432632803917, 'learning_rate': 2.4206884235903392e-05, 'epoch': 8.26}\n",
      "{'loss': 0.0094, 'grad_norm': 0.05060739442706108, 'learning_rate': 2.4184561810795125e-05, 'epoch': 8.26}\n",
      "{'loss': 0.0094, 'grad_norm': 0.06269726902246475, 'learning_rate': 2.4162239385686865e-05, 'epoch': 8.27}\n",
      "{'loss': 0.0093, 'grad_norm': 0.03700012341141701, 'learning_rate': 2.4139916960578598e-05, 'epoch': 8.28}\n",
      "{'loss': 0.0094, 'grad_norm': 0.04409162327647209, 'learning_rate': 2.4117594535470334e-05, 'epoch': 8.29}\n",
      "{'loss': 0.0096, 'grad_norm': 0.033205777406692505, 'learning_rate': 2.409527211036207e-05, 'epoch': 8.29}\n",
      "{'loss': 0.0099, 'grad_norm': 0.08428924530744553, 'learning_rate': 2.4072949685253807e-05, 'epoch': 8.3}\n",
      "{'loss': 0.0098, 'grad_norm': 0.04052048176527023, 'learning_rate': 2.4050627260145543e-05, 'epoch': 8.31}\n",
      "{'loss': 0.0095, 'grad_norm': 0.04237205162644386, 'learning_rate': 2.402830483503728e-05, 'epoch': 8.31}\n",
      "{'loss': 0.0094, 'grad_norm': 0.03810563310980797, 'learning_rate': 2.4005982409929016e-05, 'epoch': 8.32}\n",
      "{'loss': 0.0092, 'grad_norm': 0.07246918976306915, 'learning_rate': 2.3983659984820752e-05, 'epoch': 8.33}\n",
      "{'loss': 0.0095, 'grad_norm': 0.0930129885673523, 'learning_rate': 2.396133755971249e-05, 'epoch': 8.34}\n",
      "{'loss': 0.0096, 'grad_norm': 0.03806955739855766, 'learning_rate': 2.3939015134604225e-05, 'epoch': 8.34}\n",
      "{'loss': 0.0094, 'grad_norm': 0.034104589372873306, 'learning_rate': 2.391669270949596e-05, 'epoch': 8.35}\n",
      "{'loss': 0.0091, 'grad_norm': 0.07448597252368927, 'learning_rate': 2.3894370284387698e-05, 'epoch': 8.36}\n",
      "{'loss': 0.01, 'grad_norm': 0.0644662007689476, 'learning_rate': 2.3872047859279434e-05, 'epoch': 8.36}\n",
      "{'loss': 0.01, 'grad_norm': 0.04606498032808304, 'learning_rate': 2.384972543417117e-05, 'epoch': 8.37}\n",
      "{'loss': 0.01, 'grad_norm': 0.09040603786706924, 'learning_rate': 2.3827403009062907e-05, 'epoch': 8.38}\n",
      "{'loss': 0.0095, 'grad_norm': 0.07049179077148438, 'learning_rate': 2.3805080583954643e-05, 'epoch': 8.39}\n",
      "{'loss': 0.0093, 'grad_norm': 0.03347828984260559, 'learning_rate': 2.3782758158846376e-05, 'epoch': 8.39}\n",
      "{'loss': 0.0093, 'grad_norm': 0.0590190626680851, 'learning_rate': 2.3760435733738116e-05, 'epoch': 8.4}\n",
      "{'loss': 0.0097, 'grad_norm': 0.061340782791376114, 'learning_rate': 2.373811330862985e-05, 'epoch': 8.41}\n",
      "{'loss': 0.0096, 'grad_norm': 0.05170333385467529, 'learning_rate': 2.371579088352159e-05, 'epoch': 8.41}\n",
      "{'loss': 0.0097, 'grad_norm': 0.03319478780031204, 'learning_rate': 2.369346845841332e-05, 'epoch': 8.42}\n",
      "{'loss': 0.0089, 'grad_norm': 0.03469572216272354, 'learning_rate': 2.3671146033305058e-05, 'epoch': 8.43}\n",
      "{'loss': 0.0098, 'grad_norm': 0.05838629603385925, 'learning_rate': 2.3648823608196798e-05, 'epoch': 8.44}\n",
      "{'loss': 0.0098, 'grad_norm': 0.03683073818683624, 'learning_rate': 2.362650118308853e-05, 'epoch': 8.44}\n",
      "{'loss': 0.0095, 'grad_norm': 0.05528851971030235, 'learning_rate': 2.360417875798027e-05, 'epoch': 8.45}\n",
      "{'loss': 0.0098, 'grad_norm': 0.05392886698246002, 'learning_rate': 2.3581856332872003e-05, 'epoch': 8.46}\n",
      "{'loss': 0.0093, 'grad_norm': 0.02987504005432129, 'learning_rate': 2.355953390776374e-05, 'epoch': 8.46}\n",
      "{'loss': 0.0097, 'grad_norm': 0.05571545287966728, 'learning_rate': 2.3537211482655476e-05, 'epoch': 8.47}\n",
      "{'loss': 0.0092, 'grad_norm': 0.02860024757683277, 'learning_rate': 2.3514889057547212e-05, 'epoch': 8.48}\n",
      "{'loss': 0.0096, 'grad_norm': 0.03907632827758789, 'learning_rate': 2.349256663243895e-05, 'epoch': 8.49}\n",
      "{'loss': 0.0093, 'grad_norm': 0.05487588420510292, 'learning_rate': 2.347046743158177e-05, 'epoch': 8.49}\n",
      "{'loss': 0.0097, 'grad_norm': 0.040502920746803284, 'learning_rate': 2.3448145006473503e-05, 'epoch': 8.5}\n",
      "{'loss': 0.0094, 'grad_norm': 0.04543723911046982, 'learning_rate': 2.342582258136524e-05, 'epoch': 8.51}\n",
      "{'loss': 0.0091, 'grad_norm': 0.06017050892114639, 'learning_rate': 2.3403500156256976e-05, 'epoch': 8.51}\n",
      "{'loss': 0.0096, 'grad_norm': 0.05246886983513832, 'learning_rate': 2.3381177731148712e-05, 'epoch': 8.52}\n",
      "{'loss': 0.0097, 'grad_norm': 0.0738266110420227, 'learning_rate': 2.335885530604045e-05, 'epoch': 8.53}\n",
      "{'loss': 0.0093, 'grad_norm': 0.02749919518828392, 'learning_rate': 2.3336532880932185e-05, 'epoch': 8.54}\n",
      "{'loss': 0.0096, 'grad_norm': 0.02455735206604004, 'learning_rate': 2.331421045582392e-05, 'epoch': 8.54}\n",
      "{'loss': 0.0094, 'grad_norm': 0.05174196511507034, 'learning_rate': 2.3291888030715658e-05, 'epoch': 8.55}\n",
      "{'loss': 0.01, 'grad_norm': 0.04900113865733147, 'learning_rate': 2.3269565605607394e-05, 'epoch': 8.56}\n",
      "{'loss': 0.0092, 'grad_norm': 0.05687611922621727, 'learning_rate': 2.324724318049913e-05, 'epoch': 8.56}\n",
      "{'loss': 0.0095, 'grad_norm': 0.05694984272122383, 'learning_rate': 2.3224920755390867e-05, 'epoch': 8.57}\n",
      "{'loss': 0.0093, 'grad_norm': 0.019070113077759743, 'learning_rate': 2.3202598330282603e-05, 'epoch': 8.58}\n",
      "{'loss': 0.0092, 'grad_norm': 0.05704332888126373, 'learning_rate': 2.318027590517434e-05, 'epoch': 8.59}\n",
      "{'loss': 0.0098, 'grad_norm': 0.03569851070642471, 'learning_rate': 2.3157953480066076e-05, 'epoch': 8.59}\n",
      "{'loss': 0.0101, 'grad_norm': 0.03721731901168823, 'learning_rate': 2.3135631054957812e-05, 'epoch': 8.6}\n",
      "{'loss': 0.0096, 'grad_norm': 0.0582948699593544, 'learning_rate': 2.311330862984955e-05, 'epoch': 8.61}\n",
      "{'loss': 0.0094, 'grad_norm': 0.06228099763393402, 'learning_rate': 2.3090986204741282e-05, 'epoch': 8.61}\n",
      "{'loss': 0.0089, 'grad_norm': 0.03562179207801819, 'learning_rate': 2.306866377963302e-05, 'epoch': 8.62}\n",
      "{'loss': 0.0096, 'grad_norm': 0.06272798031568527, 'learning_rate': 2.3046341354524754e-05, 'epoch': 8.63}\n",
      "{'loss': 0.0098, 'grad_norm': 0.027382180094718933, 'learning_rate': 2.3024018929416494e-05, 'epoch': 8.64}\n",
      "{'loss': 0.0093, 'grad_norm': 0.028178149834275246, 'learning_rate': 2.3001696504308227e-05, 'epoch': 8.64}\n",
      "{'loss': 0.0095, 'grad_norm': 0.05554930865764618, 'learning_rate': 2.2979374079199967e-05, 'epoch': 8.65}\n",
      "{'loss': 0.0103, 'grad_norm': 0.058843083679676056, 'learning_rate': 2.2957051654091703e-05, 'epoch': 8.66}\n",
      "{'loss': 0.0097, 'grad_norm': 0.05194470286369324, 'learning_rate': 2.2934729228983436e-05, 'epoch': 8.66}\n",
      "{'loss': 0.0094, 'grad_norm': 0.07688352465629578, 'learning_rate': 2.2912406803875176e-05, 'epoch': 8.67}\n",
      "{'loss': 0.0099, 'grad_norm': 0.05131269991397858, 'learning_rate': 2.289008437876691e-05, 'epoch': 8.68}\n",
      "{'loss': 0.01, 'grad_norm': 0.053628940135240555, 'learning_rate': 2.286776195365865e-05, 'epoch': 8.69}\n",
      "{'loss': 0.0096, 'grad_norm': 0.051121458411216736, 'learning_rate': 2.2845439528550382e-05, 'epoch': 8.69}\n",
      "{'loss': 0.0099, 'grad_norm': 0.05639075115323067, 'learning_rate': 2.2823117103442118e-05, 'epoch': 8.7}\n",
      "{'loss': 0.0095, 'grad_norm': 0.05391213297843933, 'learning_rate': 2.2800794678333854e-05, 'epoch': 8.71}\n",
      "{'loss': 0.0091, 'grad_norm': 0.034481778740882874, 'learning_rate': 2.277847225322559e-05, 'epoch': 8.71}\n",
      "{'loss': 0.0093, 'grad_norm': 0.04434110224246979, 'learning_rate': 2.275614982811733e-05, 'epoch': 8.72}\n",
      "{'loss': 0.0089, 'grad_norm': 0.04705223813652992, 'learning_rate': 2.2733827403009064e-05, 'epoch': 8.73}\n",
      "{'loss': 0.0096, 'grad_norm': 0.10160117596387863, 'learning_rate': 2.27115049779008e-05, 'epoch': 8.74}\n",
      "{'loss': 0.0093, 'grad_norm': 0.04394281283020973, 'learning_rate': 2.2689182552792536e-05, 'epoch': 8.74}\n",
      "{'loss': 0.0096, 'grad_norm': 0.06364542990922928, 'learning_rate': 2.2666860127684273e-05, 'epoch': 8.75}\n",
      "{'loss': 0.0092, 'grad_norm': 0.0507875420153141, 'learning_rate': 2.264453770257601e-05, 'epoch': 8.76}\n",
      "{'loss': 0.0097, 'grad_norm': 0.06407974660396576, 'learning_rate': 2.2622215277467745e-05, 'epoch': 8.76}\n",
      "{'loss': 0.0094, 'grad_norm': 0.042482297867536545, 'learning_rate': 2.2599892852359482e-05, 'epoch': 8.77}\n",
      "{'loss': 0.0094, 'grad_norm': 0.03833208605647087, 'learning_rate': 2.25777936515023e-05, 'epoch': 8.78}\n",
      "{'loss': 0.0093, 'grad_norm': 0.02715342305600643, 'learning_rate': 2.2555471226394036e-05, 'epoch': 8.79}\n",
      "{'loss': 0.0096, 'grad_norm': 0.028091253712773323, 'learning_rate': 2.2533148801285773e-05, 'epoch': 8.79}\n",
      "{'loss': 0.0094, 'grad_norm': 0.0439983531832695, 'learning_rate': 2.251082637617751e-05, 'epoch': 8.8}\n",
      "{'loss': 0.0096, 'grad_norm': 0.06204115226864815, 'learning_rate': 2.2488503951069245e-05, 'epoch': 8.81}\n",
      "{'loss': 0.0093, 'grad_norm': 0.06330662965774536, 'learning_rate': 2.246618152596098e-05, 'epoch': 8.81}\n",
      "{'loss': 0.0092, 'grad_norm': 0.05378333479166031, 'learning_rate': 2.2443859100852718e-05, 'epoch': 8.82}\n",
      "{'loss': 0.0095, 'grad_norm': 0.0355706512928009, 'learning_rate': 2.2421536675744454e-05, 'epoch': 8.83}\n",
      "{'loss': 0.0096, 'grad_norm': 0.054081302136182785, 'learning_rate': 2.239921425063619e-05, 'epoch': 8.84}\n",
      "{'loss': 0.0098, 'grad_norm': 0.033641669899225235, 'learning_rate': 2.2376891825527927e-05, 'epoch': 8.84}\n",
      "{'loss': 0.0093, 'grad_norm': 0.047614384442567825, 'learning_rate': 2.235456940041966e-05, 'epoch': 8.85}\n",
      "{'loss': 0.0099, 'grad_norm': 0.0706881582736969, 'learning_rate': 2.23322469753114e-05, 'epoch': 8.86}\n",
      "{'loss': 0.0093, 'grad_norm': 0.048784639686346054, 'learning_rate': 2.2309924550203133e-05, 'epoch': 8.86}\n",
      "{'loss': 0.0094, 'grad_norm': 0.04561319202184677, 'learning_rate': 2.2287602125094873e-05, 'epoch': 8.87}\n",
      "{'loss': 0.0095, 'grad_norm': 0.030425267294049263, 'learning_rate': 2.226527969998661e-05, 'epoch': 8.88}\n",
      "{'loss': 0.0089, 'grad_norm': 0.03756824508309364, 'learning_rate': 2.2242957274878342e-05, 'epoch': 8.89}\n",
      "{'loss': 0.0092, 'grad_norm': 0.03167308121919632, 'learning_rate': 2.2220634849770082e-05, 'epoch': 8.89}\n",
      "{'loss': 0.0096, 'grad_norm': 0.05888570100069046, 'learning_rate': 2.2198312424661815e-05, 'epoch': 8.9}\n"
     ]
    },
    {
     "ename": "KeyboardInterrupt",
     "evalue": "",
     "output_type": "error",
     "traceback": [
      "\u001b[1;31m---------------------------------------------------------------------------\u001b[0m",
      "\u001b[1;31mKeyboardInterrupt\u001b[0m                         Traceback (most recent call last)",
      "Cell \u001b[1;32mIn[18], line 1\u001b[0m\n\u001b[1;32m----> 1\u001b[0m \u001b[43mtrainer_v3\u001b[49m\u001b[38;5;241;43m.\u001b[39;49m\u001b[43mtrain\u001b[49m\u001b[43m(\u001b[49m\u001b[43m)\u001b[49m\n",
      "File \u001b[1;32mc:\\Users\\victo\\git_Work_VINITI_2024\\my_venv_cuda\\lib\\site-packages\\transformers\\trainer.py:1932\u001b[0m, in \u001b[0;36mTrainer.train\u001b[1;34m(self, resume_from_checkpoint, trial, ignore_keys_for_eval, **kwargs)\u001b[0m\n\u001b[0;32m   1930\u001b[0m         hf_hub_utils\u001b[38;5;241m.\u001b[39menable_progress_bars()\n\u001b[0;32m   1931\u001b[0m \u001b[38;5;28;01melse\u001b[39;00m:\n\u001b[1;32m-> 1932\u001b[0m     \u001b[38;5;28;01mreturn\u001b[39;00m \u001b[43minner_training_loop\u001b[49m\u001b[43m(\u001b[49m\n\u001b[0;32m   1933\u001b[0m \u001b[43m        \u001b[49m\u001b[43margs\u001b[49m\u001b[38;5;241;43m=\u001b[39;49m\u001b[43margs\u001b[49m\u001b[43m,\u001b[49m\n\u001b[0;32m   1934\u001b[0m \u001b[43m        \u001b[49m\u001b[43mresume_from_checkpoint\u001b[49m\u001b[38;5;241;43m=\u001b[39;49m\u001b[43mresume_from_checkpoint\u001b[49m\u001b[43m,\u001b[49m\n\u001b[0;32m   1935\u001b[0m \u001b[43m        \u001b[49m\u001b[43mtrial\u001b[49m\u001b[38;5;241;43m=\u001b[39;49m\u001b[43mtrial\u001b[49m\u001b[43m,\u001b[49m\n\u001b[0;32m   1936\u001b[0m \u001b[43m        \u001b[49m\u001b[43mignore_keys_for_eval\u001b[49m\u001b[38;5;241;43m=\u001b[39;49m\u001b[43mignore_keys_for_eval\u001b[49m\u001b[43m,\u001b[49m\n\u001b[0;32m   1937\u001b[0m \u001b[43m    \u001b[49m\u001b[43m)\u001b[49m\n",
      "File \u001b[1;32mc:\\Users\\victo\\git_Work_VINITI_2024\\my_venv_cuda\\lib\\site-packages\\transformers\\trainer.py:2270\u001b[0m, in \u001b[0;36mTrainer._inner_training_loop\u001b[1;34m(self, batch_size, args, resume_from_checkpoint, trial, ignore_keys_for_eval)\u001b[0m\n\u001b[0;32m   2267\u001b[0m \u001b[38;5;28;01mwith\u001b[39;00m \u001b[38;5;28mself\u001b[39m\u001b[38;5;241m.\u001b[39maccelerator\u001b[38;5;241m.\u001b[39maccumulate(model):\n\u001b[0;32m   2268\u001b[0m     tr_loss_step \u001b[38;5;241m=\u001b[39m \u001b[38;5;28mself\u001b[39m\u001b[38;5;241m.\u001b[39mtraining_step(model, inputs)\n\u001b[1;32m-> 2270\u001b[0m \u001b[38;5;28;01mif\u001b[39;00m (\n\u001b[0;32m   2271\u001b[0m     args\u001b[38;5;241m.\u001b[39mlogging_nan_inf_filter\n\u001b[0;32m   2272\u001b[0m     \u001b[38;5;129;01mand\u001b[39;00m \u001b[38;5;129;01mnot\u001b[39;00m is_torch_xla_available()\n\u001b[0;32m   2273\u001b[0m     \u001b[38;5;129;01mand\u001b[39;00m (torch\u001b[38;5;241m.\u001b[39misnan(tr_loss_step) \u001b[38;5;129;01mor\u001b[39;00m torch\u001b[38;5;241m.\u001b[39misinf(tr_loss_step))\n\u001b[0;32m   2274\u001b[0m ):\n\u001b[0;32m   2275\u001b[0m     \u001b[38;5;66;03m# if loss is nan or inf simply add the average of previous logged losses\u001b[39;00m\n\u001b[0;32m   2276\u001b[0m     tr_loss \u001b[38;5;241m+\u001b[39m\u001b[38;5;241m=\u001b[39m tr_loss \u001b[38;5;241m/\u001b[39m (\u001b[38;5;241m1\u001b[39m \u001b[38;5;241m+\u001b[39m \u001b[38;5;28mself\u001b[39m\u001b[38;5;241m.\u001b[39mstate\u001b[38;5;241m.\u001b[39mglobal_step \u001b[38;5;241m-\u001b[39m \u001b[38;5;28mself\u001b[39m\u001b[38;5;241m.\u001b[39m_globalstep_last_logged)\n\u001b[0;32m   2277\u001b[0m \u001b[38;5;28;01melse\u001b[39;00m:\n",
      "\u001b[1;31mKeyboardInterrupt\u001b[0m: "
     ]
    }
   ],
   "source": [
    "trainer_v3.train()"
   ]
  },
  {
   "cell_type": "code",
   "execution_count": null,
   "metadata": {},
   "outputs": [],
   "source": [
    "trainer_v3.save_model(\"expriment_save_model3\")"
   ]
  },
  {
   "cell_type": "code",
   "execution_count": null,
   "metadata": {},
   "outputs": [],
   "source": []
  }
 ],
 "metadata": {
  "kernelspec": {
   "display_name": "my_venv_cuda",
   "language": "python",
   "name": "python3"
  },
  "language_info": {
   "codemirror_mode": {
    "name": "ipython",
    "version": 3
   },
   "file_extension": ".py",
   "mimetype": "text/x-python",
   "name": "python",
   "nbconvert_exporter": "python",
   "pygments_lexer": "ipython3",
   "version": "3.8.10"
  }
 },
 "nbformat": 4,
 "nbformat_minor": 4
}
